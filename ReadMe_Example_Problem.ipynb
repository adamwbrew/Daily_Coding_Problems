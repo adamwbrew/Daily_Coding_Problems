{
 "cells": [
  {
   "attachments": {},
   "cell_type": "markdown",
   "metadata": {},
   "source": [
    "# Problem Example\n",
    "There's a staircase with N steps, and you can climb 1 or 2 steps at a time. Given N, write a function that returns the number of unique ways you can climb the staircase. The order of the steps matters.\n",
    "\n",
    "For example, if N is 4, then there are 5 unique ways:\n",
    "\n",
    "- 1, 1, 1, 1\n",
    "- 2, 1, 1\n",
    "- 1, 2, 1\n",
    "- 1, 1, 2\n",
    "- 2, 2\n",
    "\n",
    "What if, instead of being able to climb 1 or 2 steps at a time, you could climb any number from a set of positive integers X? For example, if X = {1, 3, 5}, you could climb 1, 3, or 5 steps at a time. Generalize your function to take in X."
   ]
  },
  {
   "attachments": {},
   "cell_type": "markdown",
   "metadata": {},
   "source": [
    "---\n",
    "## Test Cases"
   ]
  },
  {
   "cell_type": "code",
   "execution_count": 69,
   "metadata": {},
   "outputs": [],
   "source": [
    "# test cases\n",
    "\n",
    "Steps_1 = 4\n",
    "Climb_list_1 = [1, 2]\n",
    "\n",
    "Steps_2 = 5\n",
    "Climb_list_2 = [1, 2, 3]\n",
    "\n",
    "Steps_3 = 6\n",
    "Climb_list_3 = [1, 2, 3, 4]\n",
    "\n",
    "# edge test\n",
    "Steps_4 = 11\n",
    "Climb_list_4 = [3, 6, 7]"
   ]
  },
  {
   "attachments": {},
   "cell_type": "markdown",
   "metadata": {},
   "source": [
    "---\n",
    "## Solution"
   ]
  },
  {
   "cell_type": "code",
   "execution_count": 70,
   "metadata": {},
   "outputs": [],
   "source": [
    "# solution code\n",
    "\n",
    "import itertools\n",
    "\n",
    "def staircase_climber(N_Steps, Climb_list):\n",
    "    unique_combonations = 0\n",
    "    combonation_storage = []\n",
    "    Climb_list_reduced = [step for step in Climb_list if step <= N_Steps]\n",
    "    required_steps = [num for num in range(1, N_Steps+1)]\n",
    "\n",
    "    # checks if staircase is possible to climb with Climb_list given\n",
    "    if(set(Climb_list_reduced) <= set(required_steps)):\n",
    "        Climb_list_reduced += [0]\n",
    "\n",
    "        # find all possible combonations of Climb_list_reduced\n",
    "        combos = list(map(list, itertools.product(Climb_list_reduced, repeat = N_Steps)))\n",
    "        for combo in combos:\n",
    "\n",
    "            # remove zeros from combonations\n",
    "            combo = [number for number in combo if number != 0]\n",
    "            if(sum(combo) == N_Steps and combo not in combonation_storage):\n",
    "                combonation_storage.append(combo)\n",
    "\n",
    "        combonation_storage.sort(key=len)\n",
    "        unique_combonations = len(combonation_storage)\n",
    "    else:\n",
    "        unique_combonations = 0\n",
    "    return N_Steps, Climb_list, unique_combonations, combonation_storage\n",
    "\n",
    "\n",
    "# printing function to make results more legable for user\n",
    "def pretty_print(result_tuple):\n",
    "    steps_str = ''\n",
    "    if(len(result_tuple[1]) == 1):\n",
    "        steps_str += f\" {result_tuple[1][step]}\"\n",
    "    else:\n",
    "        for step in range(len(result_tuple[1])):\n",
    "            if(step == len(result_tuple[1]) - 1):  \n",
    "                steps_str += f\" or {result_tuple[1][step]}\"\n",
    "            else:\n",
    "                steps_str += f\" {result_tuple[1][step]},\"\n",
    "    combo_str = ''\n",
    "    for combo in range(len(result_tuple[3])):\n",
    "        if(combo == len(result_tuple[3])):\n",
    "            combo_str += f\"{combo+1}: {result_tuple[3][combo]}\"\n",
    "        else:\n",
    "            combo_str += f\"\\n{combo+1}: {result_tuple[3][combo]}\"\n",
    "    print(\"-\"*40)\n",
    "    print(f\"There are {result_tuple[0]} steps on a staircase.\")\n",
    "    print(f\"The climber can only take{steps_str} number of steps at a time.\\n\")\n",
    "    print(f\"There are {result_tuple[2]} unique step combonations.\")\n",
    "    if(combo_str != ''):\n",
    "        print(f\"The step combonations are:{combo_str} \")\n",
    "    print(\"-\"*40)\n"
   ]
  },
  {
   "cell_type": "code",
   "execution_count": 71,
   "metadata": {},
   "outputs": [
    {
     "name": "stdout",
     "output_type": "stream",
     "text": [
      "----------------------------------------\n",
      "There are 4 steps on a staircase.\n",
      "The climber can only take 1, or 2 number of steps at a time.\n",
      "\n",
      "There are 5 unique step combonations.\n",
      "The step combonations are:\n",
      "1: [2, 2]\n",
      "2: [1, 1, 2]\n",
      "3: [1, 2, 1]\n",
      "4: [2, 1, 1]\n",
      "5: [1, 1, 1, 1] \n",
      "----------------------------------------\n"
     ]
    }
   ],
   "source": [
    "# solution testing test cases\n",
    "\n",
    "pretty_print(staircase_climber(Steps_1, Climb_list_1))"
   ]
  },
  {
   "cell_type": "code",
   "execution_count": null,
   "metadata": {},
   "outputs": [],
   "source": [
    "pretty_print(staircase_climber(Steps_2, Climb_list_2))"
   ]
  },
  {
   "cell_type": "code",
   "execution_count": null,
   "metadata": {},
   "outputs": [],
   "source": [
    "pretty_print(staircase_climber(Steps_3, Climb_list_3))"
   ]
  },
  {
   "cell_type": "code",
   "execution_count": null,
   "metadata": {},
   "outputs": [],
   "source": [
    "pretty_print(staircase_climber(Steps_4, Climb_list_4))"
   ]
  },
  {
   "attachments": {},
   "cell_type": "markdown",
   "metadata": {},
   "source": [
    "---\n",
    "## Solution Explained"
   ]
  },
  {
   "attachments": {},
   "cell_type": "markdown",
   "metadata": {},
   "source": [
    "### function solution\n",
    "function solution explained"
   ]
  }
 ],
 "metadata": {
  "kernelspec": {
   "display_name": "Python 3",
   "language": "python",
   "name": "python3"
  },
  "language_info": {
   "codemirror_mode": {
    "name": "ipython",
    "version": 3
   },
   "file_extension": ".py",
   "mimetype": "text/x-python",
   "name": "python",
   "nbconvert_exporter": "python",
   "pygments_lexer": "ipython3",
   "version": "3.9.12"
  },
  "orig_nbformat": 4,
  "vscode": {
   "interpreter": {
    "hash": "1616faeca1eb2b6217e80a7d062cec32587d2e1ba3999185fe005a5f436d1f1f"
   }
  }
 },
 "nbformat": 4,
 "nbformat_minor": 2
}
