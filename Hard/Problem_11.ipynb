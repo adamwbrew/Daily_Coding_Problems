{
 "cells": [
  {
   "attachments": {},
   "cell_type": "markdown",
   "metadata": {},
   "source": [
    "# Problem 11\n",
    "Given an integer `k` and a string `s`, find the length of the longest substring that contains at most `k` distinct characters.\n",
    "\n",
    "For example, given `s = \"abcba\"` and `k = 2`, the longest substring with `k` distinct characters is `\"bcb\"`."
   ]
  },
  {
   "attachments": {},
   "cell_type": "markdown",
   "metadata": {},
   "source": [
    "---\n",
    "## Test Cases"
   ]
  },
  {
   "cell_type": "code",
   "execution_count": 110,
   "metadata": {},
   "outputs": [],
   "source": [
    "# test cases\n",
    "\n",
    "k_1 = 2\n",
    "test_1 = \"abcba\"\n",
    "\n",
    "k_2 = 5\n",
    "test_2 = \"aaabbbbssssbbdbbdbdbeeefrgrtrrtdfdfasffdswsseffefefetdbfdhdthert\"\n",
    "\n",
    "# edge case\n",
    "k_3 = 2\n",
    "test_3 = \"\"\n",
    "\n",
    "# edge case\n",
    "k_4 = 0\n",
    "test_4 = \"abcba\"\n",
    "\n",
    "\n",
    "k_5 = 3\n",
    "test_5 = \"aabbccxxyyzzaabbcc\""
   ]
  },
  {
   "attachments": {},
   "cell_type": "markdown",
   "metadata": {},
   "source": [
    "---\n",
    "## Solution"
   ]
  },
  {
   "cell_type": "code",
   "execution_count": 111,
   "metadata": {},
   "outputs": [],
   "source": [
    "# solution code\n",
    "\n",
    "def longest_substring(string, k):\n",
    "    result = \"\"\n",
    "    if(string.strip() == \"\"): return \"String input was empty.\"\n",
    "    if(k < 1): return \"k input was less than 1 resulting in no substring(s) found.\"\n",
    "    capture_substrings = [string[s:s+l] for s in range(len(string)) for l in range(1,len(string)) if len(set(string[s:s+l])) == k] \n",
    "    max_length = len(max(capture_substrings, key = len))\n",
    "    result_substrings = [s for s in capture_substrings if len(s) == max_length]\n",
    "    if(len(result_substrings) != 1): result = f\"Longest substrings: {', '.join(list(set(result_substrings)))}\"\n",
    "    else: result = f\"Longest substring: {result_substrings[0]}\"\n",
    "    return result"
   ]
  },
  {
   "attachments": {},
   "cell_type": "markdown",
   "metadata": {},
   "source": [
    "---\n",
    "## Test Solution"
   ]
  },
  {
   "cell_type": "code",
   "execution_count": 112,
   "metadata": {},
   "outputs": [
    {
     "data": {
      "text/plain": [
       "'Longest substring: bcb'"
      ]
     },
     "execution_count": 112,
     "metadata": {},
     "output_type": "execute_result"
    }
   ],
   "source": [
    "# solution testing test cases\n",
    "k_1 = 2\n",
    "test_1 = \"abcba\"\n",
    "\n",
    "longest_substring(test_1, k_1)"
   ]
  },
  {
   "cell_type": "code",
   "execution_count": 113,
   "metadata": {},
   "outputs": [
    {
     "data": {
      "text/plain": [
       "'Longest substring: aaabbbbssssbbdbbdbdbeee'"
      ]
     },
     "execution_count": 113,
     "metadata": {},
     "output_type": "execute_result"
    }
   ],
   "source": [
    "k_2 = 5\n",
    "test_2 = \"aaabbbbssssbbdbbdbdbeeefrgrtrrtdfdfasffdswsseffefefetdbfdhdthert\"\n",
    "\n",
    "longest_substring(test_2, k_2)"
   ]
  },
  {
   "cell_type": "code",
   "execution_count": 114,
   "metadata": {},
   "outputs": [
    {
     "data": {
      "text/plain": [
       "'String input was empty.'"
      ]
     },
     "execution_count": 114,
     "metadata": {},
     "output_type": "execute_result"
    }
   ],
   "source": [
    "k_3 = 2\n",
    "test_3 = \"\"\n",
    "\n",
    "longest_substring(test_3, k_3)"
   ]
  },
  {
   "cell_type": "code",
   "execution_count": 115,
   "metadata": {},
   "outputs": [
    {
     "data": {
      "text/plain": [
       "'k input was less than 1 resulting in no substring(s) found.'"
      ]
     },
     "execution_count": 115,
     "metadata": {},
     "output_type": "execute_result"
    }
   ],
   "source": [
    "k_4 = 0\n",
    "test_4 = \"abcba\"\n",
    "\n",
    "longest_substring(test_4, k_4)"
   ]
  },
  {
   "cell_type": "code",
   "execution_count": 116,
   "metadata": {},
   "outputs": [
    {
     "data": {
      "text/plain": [
       "'Longest substrings: ccxxyy, zzaabb, bbccxx, yyzzaa, xxyyzz, aabbcc'"
      ]
     },
     "execution_count": 116,
     "metadata": {},
     "output_type": "execute_result"
    }
   ],
   "source": [
    "k_5 = 3\n",
    "test_5 = \"aabbccxxyyzzaabbcc\"\n",
    "\n",
    "longest_substring(test_5, k_5)"
   ]
  },
  {
   "attachments": {},
   "cell_type": "markdown",
   "metadata": {},
   "source": [
    "---\n",
    "## Solution Explained"
   ]
  },
  {
   "attachments": {},
   "cell_type": "markdown",
   "metadata": {},
   "source": [
    "### longest_substring(string, k) solution\n",
    "This function `longest_substring(string, k)` is used to find the longest substring(s) in a given string `string` with `k` unique characters. The function first checks if the input string is empty, and if so, returns the message \"String input was empty.\". If `k` is less than 1, the function returns the message \"k input was less than 1 resulting in no substring(s) found.\".\n",
    "\n",
    "The next step is to generate a list of all possible substrings of the input string `string`, stored in the list `capture_substrings`. This is done using a nested list comprehension that generates all possible substrings by iterating over the start index s of the substring and the length `l` of the substring, using the slice notation `string[s:s+l]`. The condition `len(set(string[s:s+l])) == k` is used to filter only the substrings that contain `k` unique characters.\n",
    "\n",
    "Next, the length of the longest substring is computed by finding the maximum length of the substrings in the `capture_substrings` list, using the `len` function and the `max` function with the `key` parameter set to `len`. The length of the longest substring is stored in the variable `max_length`.\n",
    "\n",
    "A new list `result_substrings` is then created by filtering only the substrings in `capture_substrings` that have a length equal to `max_length`. If the length of `result_substrings` is not equal to 1, the function creates a message \"Longest substrings: {substrings}\" where `substrings` is a comma-separated string of the longest substrings. If the length of `result_substrings` is equal to 1, the function creates a message \"Longest substring: {substring}\" where `substring` is the only element in the `result_substrings` list. The final message is stored in the `result` variable and returned by the function."
   ]
  }
 ],
 "metadata": {
  "kernelspec": {
   "display_name": "Python 3",
   "language": "python",
   "name": "python3"
  },
  "language_info": {
   "codemirror_mode": {
    "name": "ipython",
    "version": 3
   },
   "file_extension": ".py",
   "mimetype": "text/x-python",
   "name": "python",
   "nbconvert_exporter": "python",
   "pygments_lexer": "ipython3",
   "version": "3.9.12"
  },
  "orig_nbformat": 4,
  "vscode": {
   "interpreter": {
    "hash": "1616faeca1eb2b6217e80a7d062cec32587d2e1ba3999185fe005a5f436d1f1f"
   }
  }
 },
 "nbformat": 4,
 "nbformat_minor": 2
}
