{
 "cells": [
  {
   "attachments": {},
   "cell_type": "markdown",
   "metadata": {},
   "source": [
    "# Problem 65\n",
    "Given an array of numbers, find the length of the longest increasing subsequence in the array. The subsequence does not necessarily have to be contiguous.\n",
    "\n",
    "For example, given the array `[0, 8, 4, 12, 2, 10, 6, 14, 1, 9, 5, 13, 3, 11, 7, 15]`, the longest increasing subsequence has length `6`: it is `0, 2, 6, 9, 11, 15`."
   ]
  },
  {
   "attachments": {},
   "cell_type": "markdown",
   "metadata": {},
   "source": [
    "---\n",
    "## Solution"
   ]
  },
  {
   "cell_type": "code",
   "execution_count": 33,
   "metadata": {},
   "outputs": [],
   "source": [
    "# solution code\n",
    "\n",
    "def longest_increasing_subsequence(numbers):\n",
    "    if(numbers == []): return None\n",
    "    subsequences = []\n",
    "    for i in range(len(numbers)):\n",
    "        subsequences.append([numbers[i]])\n",
    "        for sub in subsequences:\n",
    "            if(sub[-1] < numbers[i]):\n",
    "                new_sub = sub + [numbers[i]]\n",
    "                subsequences.append(new_sub)\n",
    "    subsequences.sort(key = len)\n",
    "    return subsequences[-1]"
   ]
  },
  {
   "attachments": {},
   "cell_type": "markdown",
   "metadata": {},
   "source": [
    "---\n",
    "## Test Cases"
   ]
  },
  {
   "cell_type": "code",
   "execution_count": 34,
   "metadata": {},
   "outputs": [
    {
     "data": {
      "text/plain": [
       "[0, 1, 2, 3, 4, 5]"
      ]
     },
     "execution_count": 34,
     "metadata": {},
     "output_type": "execute_result"
    }
   ],
   "source": [
    "# solution testing test cases\n",
    "test_1 = [0,1,2,3,4,2,3,4,5]\n",
    "longest_increasing_subsequence(test_1)"
   ]
  },
  {
   "cell_type": "code",
   "execution_count": 35,
   "metadata": {},
   "outputs": [
    {
     "data": {
      "text/plain": [
       "[0, 2, 6, 9, 11, 15]"
      ]
     },
     "execution_count": 35,
     "metadata": {},
     "output_type": "execute_result"
    }
   ],
   "source": [
    "test_2 = [0, 8, 4, 12, 2, 10, 6, 14, 1, 9, 5, 13, 3, 11, 7, 15]\n",
    "longest_increasing_subsequence(test_2)"
   ]
  },
  {
   "cell_type": "code",
   "execution_count": 36,
   "metadata": {},
   "outputs": [],
   "source": [
    "test_3 = []\n",
    "longest_increasing_subsequence(test_3)"
   ]
  },
  {
   "cell_type": "code",
   "execution_count": 37,
   "metadata": {},
   "outputs": [
    {
     "data": {
      "text/plain": [
       "[-100, -46, -33, -22, -10, -7, -3, 1, 3, 7, 8, 13]"
      ]
     },
     "execution_count": 37,
     "metadata": {},
     "output_type": "execute_result"
    }
   ],
   "source": [
    "test_4 = [-100, -46, 3, -33, 30, -22, 13-20, 1, -10, 3, -7, 12, -3, 2, 1, 3, 7, 8, 13]\n",
    "longest_increasing_subsequence(test_4)"
   ]
  },
  {
   "attachments": {},
   "cell_type": "markdown",
   "metadata": {},
   "source": [
    "---\n",
    "## Solution Explained"
   ]
  },
  {
   "attachments": {},
   "cell_type": "markdown",
   "metadata": {},
   "source": [
    "### `longest_increasing_subsequence(numbers)` solution\n",
    "The function `longest_increasing_subsequence` takes an array of numbers as input and returns the length of the longest increasing subsequence in the array. An increasing subsequence is a subset of the given array in which the elements are in ascending order, but not necessarily contiguous.\n",
    "\n",
    "The function begins by checking if the input array is empty. If it is, the function returns `None`.\n",
    "\n",
    "If the input array is not empty, the function initializes an empty list called `subsequences`. It then iterates through the input array using a for loop, adding each element to `subsequences` as a single-item list. For each item added, the function iterates over all the current subsequences in `subsequences`, checking if the last element in the subsequence is less than the current element. If it is, the function creates a new subsequence by appending the current element to the end of the subsequence, and adds it to the list of subsequences.\n",
    "\n",
    "After all possible increasing subsequences have been generated, the function sorts the list `subsequences` in ascending order based on the length of the subsequence. The function then returns the last subsequence in the sorted list, which will be the longest increasing subsequence in the input array.\n",
    "\n",
    "Note that this function has a time complexity of O(2^n), where n is the length of the input array. This is because the function generates all possible subsequences of the input array, which can be up to 2^n in number. This can make the function very slow for large input arrays. "
   ]
  }
 ],
 "metadata": {
  "kernelspec": {
   "display_name": "Python 3",
   "language": "python",
   "name": "python3"
  },
  "language_info": {
   "codemirror_mode": {
    "name": "ipython",
    "version": 3
   },
   "file_extension": ".py",
   "mimetype": "text/x-python",
   "name": "python",
   "nbconvert_exporter": "python",
   "pygments_lexer": "ipython3",
   "version": "3.9.7"
  },
  "orig_nbformat": 4,
  "vscode": {
   "interpreter": {
    "hash": "1616faeca1eb2b6217e80a7d062cec32587d2e1ba3999185fe005a5f436d1f1f"
   }
  }
 },
 "nbformat": 4,
 "nbformat_minor": 2
}
