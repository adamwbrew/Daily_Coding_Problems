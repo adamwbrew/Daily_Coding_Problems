{
 "cells": [
  {
   "attachments": {},
   "cell_type": "markdown",
   "metadata": {},
   "source": [
    "# Problem 62\n",
    "In a directed graph, each node is assigned an uppercase letter. We define a path's value as the number of most frequently-occurring letter along that path. For example, if a path in the graph goes through `\"ABACA\"`, the value of the path is 3, since there are 3 occurrences of `'A'` on the path.\n",
    "\n",
    "Given a graph with `n` nodes and `m` directed edges, return the largest value path of the graph. If the largest value is infinite, then return null.\n",
    "\n",
    "The graph is represented with a string and an edge list. The `i`-th character represents the uppercase letter of the `i`-th node. Each tuple in the edge list `(i, j)` means there is a directed edge from the `i`-th node to the `j`-th node. Self-edges are possible, as well as multi-edges.\n",
    "\n",
    "For example, the following input graph:\n",
    "\n",
    "`ABACA`\n",
    "\n",
    "```\n",
    "[(0, 1),\n",
    " (0, 2),\n",
    " (2, 3),\n",
    " (3, 4)]\n",
    " ```\n",
    " \n",
    "Would have maximum value 3 using the path of vertices `[0, 2, 3, 4]`, `(A, A, C, A)`.\n",
    "\n",
    "The following input graph:\n",
    "\n",
    "`A`\n",
    "\n",
    "`[(0, 0)]`\n",
    "\n",
    "Should return null, since we have an infinite loop."
   ]
  },
  {
   "attachments": {},
   "cell_type": "markdown",
   "metadata": {},
   "source": [
    "---\n",
    "## Solution"
   ]
  },
  {
   "cell_type": "code",
   "execution_count": 207,
   "metadata": {},
   "outputs": [],
   "source": [
    "# solution code\n",
    "def longest_path(string, edges):\n",
    "    # sorts edges \n",
    "    edges.sort()\n",
    "\n",
    "    # creates refrence of nodes to edges\n",
    "    string_index_dict = {i: string[i] for i in range(len(string))}\n",
    "\n",
    "    # finds all directed verticies \n",
    "    paths = {}\n",
    "    for i in range(len(edges)):\n",
    "        paths[edges[i][0]] = []\n",
    "        for j in range(len(edges)):\n",
    "            if(edges[j][0] == edges[i][0]):\n",
    "                paths[edges[i][0]]+=[edges[j][1]]\n",
    "\n",
    "    # find potential paths based on node order\n",
    "    potential = []\n",
    "    for k, v in paths.items():\n",
    "        for val in v:\n",
    "            potential.append([k, val])\n",
    "            end_vals = [i[-1] for i in potential]\n",
    "            if(k in end_vals):\n",
    "                end_vals_index = [i for i in range(len(potential)) if potential[i][-1] == k]\n",
    "                for i in end_vals_index:\n",
    "                    p_copy = potential[i].copy()\n",
    "                    potential.append(p_copy + [val])\n",
    "\n",
    "    # deals with potential paths that aren't in node based order\n",
    "    for p in range(len(potential)):\n",
    "\n",
    "        # checks for circluar paths - inf\n",
    "        if(len(set(potential[p])) != len(potential[p])):\n",
    "            return None\n",
    "        \n",
    "        for o in range(p, len(potential)):\n",
    "            if(potential[p][-1] == potential[o][0]):\n",
    "                potential.append(potential[p] + potential[o][1:])\n",
    "\n",
    "    # find longest path\n",
    "    potential.sort(key = len)\n",
    "\n",
    "    # puts nodes in path order\n",
    "    longest_path = potential[-1]\n",
    "    node_path = []\n",
    "    for i in longest_path:\n",
    "        node_path.append(string_index_dict[i])\n",
    "\n",
    "    # formats node/edge path in a tidy way so the result is easier to visualize\n",
    "    print_loop = [(longest_path[i], node_path[i]) for i in range(len(longest_path))]\n",
    "    result = ' -> '.join([str(x) for x in print_loop])\n",
    "\n",
    "    return print(result)"
   ]
  },
  {
   "attachments": {},
   "cell_type": "markdown",
   "metadata": {},
   "source": [
    "---\n",
    "## Test Cases"
   ]
  },
  {
   "cell_type": "code",
   "execution_count": 208,
   "metadata": {},
   "outputs": [
    {
     "name": "stdout",
     "output_type": "stream",
     "text": [
      "(0, 'A') -> (2, 'A') -> (3, 'C') -> (4, 'A')\n"
     ]
    }
   ],
   "source": [
    "# solution testing test cases\n",
    "test_string_1 = 'ABACA'\n",
    "test_edges_1 = [(0, 1), (0, 2), (2, 3), (3, 4)]\n",
    "longest_path(test_string_1, test_edges_1)\n"
   ]
  },
  {
   "cell_type": "code",
   "execution_count": 209,
   "metadata": {},
   "outputs": [],
   "source": [
    "# inf test\n",
    "test_string_2 = 'A'\n",
    "test_edges_2 = [(0, 0)]\n",
    "longest_path(test_string_2, test_edges_2)"
   ]
  },
  {
   "cell_type": "code",
   "execution_count": 210,
   "metadata": {},
   "outputs": [
    {
     "name": "stdout",
     "output_type": "stream",
     "text": [
      "(0, 'A') -> (1, 'B') -> (3, 'D') -> (2, 'C') -> (4, 'A') -> (5, 'B') -> (7, 'D') -> (6, 'C')\n"
     ]
    }
   ],
   "source": [
    "test_string_3 = 'ABCDABCD'\n",
    "test_edges_3 = [(0,1), (0, 5), (1,3), (1, 4), (3, 2), (2, 4), (4, 5), (4, 7), (5, 7), (7, 6)]\n",
    "longest_path(test_string_3, test_edges_3)"
   ]
  },
  {
   "cell_type": "code",
   "execution_count": 211,
   "metadata": {},
   "outputs": [],
   "source": [
    "# inf test with many nodes \n",
    "test_string_4 = 'ABCDABCD'\n",
    "test_edges_4 = [(0,1), (0, 5), (1,3), (1, 4), (3, 2), (2, 4), (4, 5), (4, 7), (5, 7), (7, 6), (7, 0)]\n",
    "longest_path(test_string_4, test_edges_4)"
   ]
  },
  {
   "attachments": {},
   "cell_type": "markdown",
   "metadata": {},
   "source": [
    "---\n",
    "## Solution Explained"
   ]
  },
  {
   "attachments": {},
   "cell_type": "markdown",
   "metadata": {},
   "source": [
    "### `longest_path(string, edges)` solution\n",
    "The function `longest_path` that takes two arguments: `string` and `edges`. The purpose of the function is to find the longest path in a directed graph represented by the given edges, where each edge is a tuple of two nodes. The nodes are represented by a string, where each character corresponds to a node.\n",
    "\n",
    "The function first sorts the `edges` in ascending order. Then, it creates a dictionary that maps each node index to its corresponding character in the input `string`. Next, it creates another dictionary called `paths` that maps each node to a list of its directed vertices. This is done by iterating over the `edges` and adding each directed vertex to the corresponding node's list of vertices.\n",
    "\n",
    "The function then generates a list of `potential` paths based on node order. Starting with each directed vertex, the function appends each successive vertex in the directed path until it reaches the end of the path. If a vertex is already at the end of another path, the function creates a new path by concatenating the two paths. This process is done by iterating over each node's list of directed vertices and adding the vertices to the potential path. If the path loops back on itself (i.e., contains a cycle), the function returns `None` to indicate that the longest path is infinte.\n",
    "\n",
    "After generating all potential paths, the function sorts them by length and selects the longest path. Finally, it maps each node in the path to its corresponding character in the input `string` and formats the path as a string using the `->` separator. The function returns the formatted string."
   ]
  }
 ],
 "metadata": {
  "kernelspec": {
   "display_name": "Python 3",
   "language": "python",
   "name": "python3"
  },
  "language_info": {
   "codemirror_mode": {
    "name": "ipython",
    "version": 3
   },
   "file_extension": ".py",
   "mimetype": "text/x-python",
   "name": "python",
   "nbconvert_exporter": "python",
   "pygments_lexer": "ipython3",
   "version": "3.9.7"
  },
  "orig_nbformat": 4,
  "vscode": {
   "interpreter": {
    "hash": "1616faeca1eb2b6217e80a7d062cec32587d2e1ba3999185fe005a5f436d1f1f"
   }
  }
 },
 "nbformat": 4,
 "nbformat_minor": 2
}
