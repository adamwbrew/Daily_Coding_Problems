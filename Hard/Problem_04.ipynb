{
 "cells": [
  {
   "attachments": {},
   "cell_type": "markdown",
   "metadata": {},
   "source": [
    "# Problem 4\n",
    "Given an array of integers, find the first missing positive integer in linear time and constant space. In other words, find the lowest positive integer that does not exist in the array. The array can contain duplicates and negative numbers as well.\n",
    "\n",
    "For example, the input `[3, 4, -1, 1]` should give `2`. The input `[1, 2, 0]` should give `3`.\n",
    "\n",
    "You can modify the input array in-place."
   ]
  },
  {
   "attachments": {},
   "cell_type": "markdown",
   "metadata": {},
   "source": [
    "---\n",
    "## Test Cases"
   ]
  },
  {
   "cell_type": "code",
   "execution_count": 71,
   "metadata": {},
   "outputs": [],
   "source": [
    "# test cases\n",
    "\n",
    "test_1 = [3,-4,-1, 1]\n",
    "# answer = 2\n",
    "\n",
    "test_2 = [1, 2, 0]\n",
    "# answer = 3"
   ]
  },
  {
   "attachments": {},
   "cell_type": "markdown",
   "metadata": {},
   "source": [
    "---\n",
    "## Solution"
   ]
  },
  {
   "cell_type": "code",
   "execution_count": 72,
   "metadata": {},
   "outputs": [],
   "source": [
    "# solution code\n",
    "\n",
    "def LinearTime_Solution(numbers):\n",
    "    for i in range(1, max(numbers)+2):\n",
    "        if(i not in numbers):\n",
    "            return i\n",
    "\n",
    "def LinearTime_ConstantSpace_Solution(numbers, positives_modified = None):\n",
    "    mini = min(numbers)\n",
    "    # removes all negatives and removes zero\n",
    "    if(mini < 1):\n",
    "        numbers.remove(mini)\n",
    "        if(numbers == []):\n",
    "            return 1\n",
    "        return LinearTime_ConstantSpace_Solution(numbers)\n",
    "    # deals with only positive integers in a list\n",
    "    else:\n",
    "        if(1 not in numbers and positives_modified == None):\n",
    "            return 1\n",
    "        else:\n",
    "            mini = min(numbers)\n",
    "            if((mini + 1) not in numbers):\n",
    "                return mini + 1\n",
    "            else:\n",
    "                numbers.remove(mini)\n",
    "                if(len(numbers) == 1):\n",
    "                    return numbers[0]+1\n",
    "                return LinearTime_ConstantSpace_Solution(numbers, True)\n",
    "        "
   ]
  },
  {
   "cell_type": "code",
   "execution_count": 73,
   "metadata": {},
   "outputs": [
    {
     "name": "stdout",
     "output_type": "stream",
     "text": [
      "2\n",
      "3\n"
     ]
    }
   ],
   "source": [
    "# solution testing test cases\n",
    "print(LinearTime_Solution(test_1))\n",
    "print(LinearTime_Solution(test_2))"
   ]
  },
  {
   "cell_type": "code",
   "execution_count": 74,
   "metadata": {},
   "outputs": [
    {
     "name": "stdout",
     "output_type": "stream",
     "text": [
      "2\n",
      "3\n"
     ]
    }
   ],
   "source": [
    "print(LinearTime_ConstantSpace_Solution(test_1))\n",
    "print(LinearTime_ConstantSpace_Solution(test_2))"
   ]
  },
  {
   "attachments": {},
   "cell_type": "markdown",
   "metadata": {},
   "source": [
    "---\n",
    "## Solution Explained"
   ]
  },
  {
   "attachments": {},
   "cell_type": "markdown",
   "metadata": {},
   "source": [
    "### LinearTime_Solution(numbers) solution\n",
    "This solution was a simple first look at the problem. The function takes in a list of integers and uses a for loop to find and return the first non positive integer in the list. If the list has all sequential positive integers than the next highest integer after the max of the list of integers is returned. This solution however tidy uses non constant space thus the second solution came to be.\n",
    "\n",
    "### LinearTime_ConstantSpace_Solution(numbers, positives_modified = None) solution\n",
    "This solution uses a recursive approach by first taking in a list of numbers and removing all integers less than one. Then the function goes through the remaining positive integers in the list. First looking to see if 1 is present in the list and that the positive list has non been modified. If that condition is true then 1 is return. If is not true, then a new miniumum integer is found in the list. if the minimum number plus 1 is not in the list then the minimum plus 1 is return. If the minimum plus 1 is found in the list then the minimum is removed from the list. From here the function checks the length of the list. If the list has a length of 1, then the remaining integer in the list is returned. If this condition is not true, the function is returned with the editied list of positive integers and *positives_modified* set to True to bypass the first condition when dealing with positive integers (return 1), as this condition was already passed in the first recursion loop when dealing with positives.\n",
    "\n",
    "### Notes for usage\n",
    "Both of these solutions assume that *1* is the lowest positive integer that can be found in a list. For example, if a list `l = [2,3,4]` the solutions will return 1 as the missing lowest integer rather that 5 which would be the **next lowest integer** not foud in the list."
   ]
  }
 ],
 "metadata": {
  "kernelspec": {
   "display_name": "Python 3",
   "language": "python",
   "name": "python3"
  },
  "language_info": {
   "codemirror_mode": {
    "name": "ipython",
    "version": 3
   },
   "file_extension": ".py",
   "mimetype": "text/x-python",
   "name": "python",
   "nbconvert_exporter": "python",
   "pygments_lexer": "ipython3",
   "version": "3.9.12"
  },
  "orig_nbformat": 4,
  "vscode": {
   "interpreter": {
    "hash": "1616faeca1eb2b6217e80a7d062cec32587d2e1ba3999185fe005a5f436d1f1f"
   }
  }
 },
 "nbformat": 4,
 "nbformat_minor": 2
}
