{
 "cells": [
  {
   "attachments": {},
   "cell_type": "markdown",
   "metadata": {},
   "source": [
    "# Problem 10\n",
    "There's a staircase with N steps, and you can climb 1 or 2 steps at a time. Given N, write a function that returns the number of unique ways you can climb the staircase. The order of the steps matters.\n",
    "\n",
    "For example, if N is 4, then there are 5 unique ways:\n",
    "\n",
    "- 1, 1, 1, 1\n",
    "- 2, 1, 1\n",
    "- 1, 2, 1\n",
    "- 1, 1, 2\n",
    "- 2, 2\n",
    "\n",
    "What if, instead of being able to climb 1 or 2 steps at a time, you could climb any number from a set of positive integers X? For example, if X = {1, 3, 5}, you could climb 1, 3, or 5 steps at a time. Generalize your function to take in X."
   ]
  },
  {
   "attachments": {},
   "cell_type": "markdown",
   "metadata": {},
   "source": [
    "---\n",
    "## Test Cases"
   ]
  },
  {
   "cell_type": "code",
   "execution_count": 1,
   "metadata": {},
   "outputs": [],
   "source": [
    "# test cases\n",
    "\n",
    "Steps_1 = 4\n",
    "Climb_list_1 = [1, 2]\n",
    "\n",
    "Steps_2 = 5\n",
    "Climb_list_2 = [1, 2, 3]\n",
    "\n",
    "Steps_3 = 121\n",
    "Climb_list_3 = [5, 7, 9, 21, 34, 50, 100]\n",
    "\n",
    "# edge test\n",
    "Steps_4 = 11\n",
    "Climb_list_4 = [3, 6, 7]"
   ]
  },
  {
   "attachments": {},
   "cell_type": "markdown",
   "metadata": {},
   "source": [
    "---\n",
    "## Solution"
   ]
  },
  {
   "cell_type": "code",
   "execution_count": 2,
   "metadata": {},
   "outputs": [],
   "source": [
    "# solution code\n",
    "def staircase_climber(N_Steps, Climb_list):\n",
    "    dp = [0] * (N_Steps + 1)\n",
    "    dp[0] = 1\n",
    "    for i in range(1, N_Steps + 1):\n",
    "        for j in Climb_list:\n",
    "            if j <= i:\n",
    "                dp[i] += dp[i-j]\n",
    "    return dp[N_Steps]"
   ]
  },
  {
   "cell_type": "code",
   "execution_count": 3,
   "metadata": {},
   "outputs": [],
   "source": [
    "# printing function to make results more legable for user\n",
    "def pretty_print(N_steps, Climb_list, result):\n",
    "    steps_str = f\" {Climb_list[0]}\" if len(Climb_list) == 1 else \",\".join([f\" { step}\" for step in Climb_list[:-1]]) + f\" or {Climb_list[-1]}\"\n",
    "    print(\"-\"*40)\n",
    "    print(f\"There are {N_steps} steps on a staircase.\")\n",
    "    print(f\"The climber can only take{steps_str} number of steps at a time.\")\n",
    "    print(\"-\"*20)\n",
    "    print(f\"There are {result} unique step combinations.\")\n",
    "    print(\"-\"*40)\n"
   ]
  },
  {
   "attachments": {},
   "cell_type": "markdown",
   "metadata": {},
   "source": [
    "---\n",
    "## Test Solution"
   ]
  },
  {
   "cell_type": "code",
   "execution_count": 4,
   "metadata": {},
   "outputs": [
    {
     "name": "stdout",
     "output_type": "stream",
     "text": [
      "----------------------------------------\n",
      "There are 4 steps on a staircase.\n",
      "The climber can only take 1 or 2 number of steps at a time.\n",
      "--------------------\n",
      "There are 5 unique step combinations.\n",
      "----------------------------------------\n"
     ]
    }
   ],
   "source": [
    "# solution testing test cases\n",
    "Steps_1 = 4\n",
    "Climb_list_1 = [1, 2]\n",
    "\n",
    "pretty_print(Steps_1, Climb_list_1, staircase_climber(Steps_1, Climb_list_1))"
   ]
  },
  {
   "cell_type": "code",
   "execution_count": 5,
   "metadata": {},
   "outputs": [
    {
     "name": "stdout",
     "output_type": "stream",
     "text": [
      "----------------------------------------\n",
      "There are 5 steps on a staircase.\n",
      "The climber can only take 1, 2 or 3 number of steps at a time.\n",
      "--------------------\n",
      "There are 13 unique step combinations.\n",
      "----------------------------------------\n"
     ]
    }
   ],
   "source": [
    "Steps_2 = 5\n",
    "Climb_list_2 = [1, 2, 3]\n",
    "\n",
    "pretty_print(Steps_2, Climb_list_2, staircase_climber(Steps_2, Climb_list_2))"
   ]
  },
  {
   "cell_type": "code",
   "execution_count": 6,
   "metadata": {},
   "outputs": [
    {
     "name": "stdout",
     "output_type": "stream",
     "text": [
      "----------------------------------------\n",
      "There are 121 steps on a staircase.\n",
      "The climber can only take 5, 7, 9, 21, 34, 50 or 100 number of steps at a time.\n",
      "--------------------\n",
      "There are 84314558 unique step combinations.\n",
      "----------------------------------------\n"
     ]
    }
   ],
   "source": [
    "Steps_3 = 121\n",
    "Climb_list_3 = [5, 7, 9, 21, 34, 50, 100]\n",
    "\n",
    "pretty_print(Steps_3, Climb_list_3, staircase_climber(Steps_3, Climb_list_3))"
   ]
  },
  {
   "cell_type": "code",
   "execution_count": 7,
   "metadata": {},
   "outputs": [
    {
     "name": "stdout",
     "output_type": "stream",
     "text": [
      "----------------------------------------\n",
      "There are 11 steps on a staircase.\n",
      "The climber can only take 3, 6 or 7 number of steps at a time.\n",
      "--------------------\n",
      "There are 0 unique step combinations.\n",
      "----------------------------------------\n"
     ]
    }
   ],
   "source": [
    "Steps_4 = 11\n",
    "Climb_list_4 = [3, 6, 7]\n",
    "\n",
    "pretty_print(Steps_4, Climb_list_4, staircase_climber(Steps_4, Climb_list_4))"
   ]
  },
  {
   "attachments": {},
   "cell_type": "markdown",
   "metadata": {},
   "source": [
    "---\n",
    "## Solution Explained"
   ]
  },
  {
   "attachments": {},
   "cell_type": "markdown",
   "metadata": {},
   "source": [
    "### staircase_climber(N_Steps, Climb_list) solution\n",
    "The `staircase_climber` function is a classic example of dynamic programming. The problem statement is to find the number of unique ways to climb a staircase of `N_Steps` steps with a given set of steps, `Climb_list`, that can be taken at a time.\n",
    "\n",
    "The solution uses a dynamic programming approach to find the number of ways to climb the staircase. The key idea is to break down the problem into smaller sub-problems and build up the solution in a bottom-up manner.\n",
    "\n",
    "The code first initializes an array `dp` with `N_Steps + 1` elements, where each element is initialized to `0`. The first element in the array `dp[0]` is set to `1`, as there is only one way to climb 0 steps, which is not to take any steps at all.\n",
    "\n",
    "The `for` loop that starts from `1` to `N_Steps + 1` is the main loop where we build up the solution. In each iteration of the loop, we consider each step `j` in `Climb_list`. If `j` is less than or equal to the current step `i`, we add the number of ways to climb the previous `i-j` steps to the current step `i`. The final result is stored in the last element of the `dp` array, which is `dp[N_Steps]`.\n",
    "\n",
    "So, in conclusion, the code calculates the number of unique ways to climb a staircase of `N_Steps` steps with a given set of steps, `Climb_list`, by using dynamic programming. The solution runs in `O(N*M)` time complexity, where `N` is the number of steps and `M` is the number of elements in the `Climb_list`."
   ]
  }
 ],
 "metadata": {
  "kernelspec": {
   "display_name": "base",
   "language": "python",
   "name": "python3"
  },
  "language_info": {
   "codemirror_mode": {
    "name": "ipython",
    "version": 3
   },
   "file_extension": ".py",
   "mimetype": "text/x-python",
   "name": "python",
   "nbconvert_exporter": "python",
   "pygments_lexer": "ipython3",
   "version": "3.9.12"
  },
  "orig_nbformat": 4,
  "vscode": {
   "interpreter": {
    "hash": "909ca5f560bbebec5e281e7237658d79e6328c8c97dd9d57b9f7776842486ec7"
   }
  }
 },
 "nbformat": 4,
 "nbformat_minor": 2
}
