{
 "cells": [
  {
   "attachments": {},
   "cell_type": "markdown",
   "metadata": {},
   "source": [
    "# Problem 55\n",
    "A knight's tour is a sequence of moves by a knight on a chessboard such that all squares are visited once.\n",
    "\n",
    "Given `N`, write a function to return the number of knight's tours on an `N` by `N` chessboard."
   ]
  },
  {
   "attachments": {},
   "cell_type": "markdown",
   "metadata": {},
   "source": [
    "---\n",
    "## Solution"
   ]
  },
  {
   "cell_type": "code",
   "execution_count": 18,
   "metadata": {},
   "outputs": [],
   "source": [
    "def knights_tour(N):\n",
    "    board = [[-1] * N for _ in range(N)]\n",
    "    moves = [(2, 1), (1, 2), (-1, 2), (-2, 1), (-2, -1), (-1, -2), (1, -2), (2, -1)]\n",
    "    \n",
    "    def is_valid(x, y):\n",
    "        return x >= 0 and y >= 0 and x < N and y < N and board[x][y] == -1\n",
    "    \n",
    "    def solve(x, y, step):\n",
    "        if step == N*N:\n",
    "            return 1\n",
    "        count = 0\n",
    "        for dx, dy in moves:\n",
    "            nx, ny = x + dx, y + dy\n",
    "            if is_valid(nx, ny):\n",
    "                board[nx][ny] = step\n",
    "                count += solve(nx, ny, step+1)\n",
    "                board[nx][ny] = -1\n",
    "        return count\n",
    "    \n",
    "    count = 0\n",
    "    for i in range(N):\n",
    "        for j in range(N):\n",
    "            board[i][j] = 0\n",
    "            count += solve(i, j, 1)\n",
    "            board[i][j] = -1\n",
    "    return count"
   ]
  },
  {
   "attachments": {},
   "cell_type": "markdown",
   "metadata": {},
   "source": [
    "---\n",
    "## Test Cases"
   ]
  },
  {
   "cell_type": "code",
   "execution_count": 19,
   "metadata": {},
   "outputs": [
    {
     "data": {
      "text/plain": [
       "0"
      ]
     },
     "execution_count": 19,
     "metadata": {},
     "output_type": "execute_result"
    }
   ],
   "source": [
    "# solution testing test cases\n",
    "knights_tour(4)"
   ]
  },
  {
   "cell_type": "code",
   "execution_count": 20,
   "metadata": {},
   "outputs": [
    {
     "data": {
      "text/plain": [
       "1728"
      ]
     },
     "execution_count": 20,
     "metadata": {},
     "output_type": "execute_result"
    }
   ],
   "source": [
    "knights_tour(5)"
   ]
  },
  {
   "attachments": {},
   "cell_type": "markdown",
   "metadata": {},
   "source": [
    "---\n",
    "## Solution Explained"
   ]
  },
  {
   "attachments": {},
   "cell_type": "markdown",
   "metadata": {},
   "source": [
    "### `knights_tour(N)` solution\n",
    "The `knights_tour` function takes an integer `N` as input, and attempts to find the number of possible ways to place a knight on an `N` x `N` chessboard such that the knight visits every square on the board exactly once.\n",
    "\n",
    "The implementation uses a recursive approach to solve the problem. The chessboard is represented as a 2D list `board` with initial values of -1. The variable `moves` holds a list of possible moves that the knight can make on the board. The function `is_valid` takes in a position `(x,y)` and returns `True` if the position is within the board boundaries and hasn't already been visited.\n",
    "\n",
    "The function solve takes in three arguments - the current position `(x, y)`, the current step number `step`, and returns the number of possible ways to complete the tour from the current position. It tries all possible moves from the current position, and recursively calls itself with the next position and incremented step number. The number of ways to complete the tour is the sum of the number of ways to complete the tour from each valid next position.\n",
    "\n",
    "Finally, the `knights_tour` function loops through all the starting positions on the board, calls `solve` for each of them, and sums the number of solutions. The final count is returned as the output.\n",
    "\n",
    "The time complexity of the implementation is O(N^2 * (8^N)), as there are N^2 possible starting positions, and for each starting position, the `solve` function tries at most 8 possible moves for each of the N^2 squares on the board.\n",
    "\n",
    "The memory space required is O(N^2), as it requires an `N` x `N` board to keep track of visited squares.\n",
    "\n",
    "This implementation is significantly faster than the previous implementation that used backtracking and iteration to solve the problem, as it avoids trying out invalid moves and pruning the search tree by returning early when a solution has already been found."
   ]
  }
 ],
 "metadata": {
  "kernelspec": {
   "display_name": "base",
   "language": "python",
   "name": "python3"
  },
  "language_info": {
   "codemirror_mode": {
    "name": "ipython",
    "version": 3
   },
   "file_extension": ".py",
   "mimetype": "text/x-python",
   "name": "python",
   "nbconvert_exporter": "python",
   "pygments_lexer": "ipython3",
   "version": "3.9.7 (default, Sep 16 2021, 08:50:36) \n[Clang 10.0.0 ]"
  },
  "orig_nbformat": 4,
  "vscode": {
   "interpreter": {
    "hash": "40d3a090f54c6569ab1632332b64b2c03c39dcf918b08424e98f38b5ae0af88f"
   }
  }
 },
 "nbformat": 4,
 "nbformat_minor": 2
}
