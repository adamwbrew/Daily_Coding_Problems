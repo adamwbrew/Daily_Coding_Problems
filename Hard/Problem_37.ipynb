{
 "cells": [
  {
   "attachments": {},
   "cell_type": "markdown",
   "metadata": {},
   "source": [
    "# Problem 37\n",
    "Given a list of integers `S` and a target number `k`, write a function that returns a subset of `S` that adds up to `k`. If such a subset cannot be made, then return null.\n",
    "\n",
    "Integers can appear more than once in the list. You may assume all numbers in the list are positive.\n",
    "\n",
    "For example, given `S = [12, 1, 61, 5, 9, 2]` and `k = 24`, return `[12, 9, 2, 1]` since it sums up to `24`."
   ]
  },
  {
   "attachments": {},
   "cell_type": "markdown",
   "metadata": {},
   "source": [
    "---\n",
    "## Solution"
   ]
  },
  {
   "cell_type": "code",
   "execution_count": 66,
   "metadata": {},
   "outputs": [],
   "source": [
    "# solution code\n",
    "\n",
    "from itertools import combinations\n",
    "\n",
    "\n",
    "def pretty_print(S, k, subsets):\n",
    "    print(f\"Given the list of integers S = {S} and the target value k = {k},\\n\\\n",
    "{len(subsets)} subsets of integers were found that sum to k. (as seen below)\\n\")\n",
    "    for i in range(0, len(subsets)):\n",
    "        print(f\"Subset {i+1}: {subsets[i]}\")\n",
    "\n",
    "\n",
    "def subset_sum(S, k):\n",
    "    result = []\n",
    "    for i in range(1, len(S)+1):\n",
    "        subsets = list(map(list, combinations(S, i)))\n",
    "        for set in subsets:\n",
    "            if(sum(set) == k and set not in result):\n",
    "                result.append(set)\n",
    "    if(result == []):\n",
    "        return None\n",
    "    if(len(result) == 1):\n",
    "        return result[0]\n",
    "    return pretty_print(S, k, result)\n",
    "    "
   ]
  },
  {
   "attachments": {},
   "cell_type": "markdown",
   "metadata": {},
   "source": [
    "---\n",
    "## Test Cases"
   ]
  },
  {
   "cell_type": "code",
   "execution_count": 67,
   "metadata": {},
   "outputs": [
    {
     "data": {
      "text/plain": [
       "[12, 1, 9, 2]"
      ]
     },
     "execution_count": 67,
     "metadata": {},
     "output_type": "execute_result"
    }
   ],
   "source": [
    "# solution testing test cases\n",
    "\n",
    "S_test_1 = [12, 1, 61, 5, 9, 2]\n",
    "k_test_1 = 24\n",
    "subset_sum(S_test_1, k_test_1)"
   ]
  },
  {
   "cell_type": "code",
   "execution_count": 68,
   "metadata": {},
   "outputs": [
    {
     "name": "stdout",
     "output_type": "stream",
     "text": [
      "Given the list of integers S = [1, 2, 3, 4, 5, 6, 7, 8, 9, 10, 11] and the target value k = 11,\n",
      "12 subsets of integers were found that sum to k. (as seen below)\n",
      "\n",
      "Subset 1: [11]\n",
      "Subset 2: [1, 10]\n",
      "Subset 3: [2, 9]\n",
      "Subset 4: [3, 8]\n",
      "Subset 5: [4, 7]\n",
      "Subset 6: [5, 6]\n",
      "Subset 7: [1, 2, 8]\n",
      "Subset 8: [1, 3, 7]\n",
      "Subset 9: [1, 4, 6]\n",
      "Subset 10: [2, 3, 6]\n",
      "Subset 11: [2, 4, 5]\n",
      "Subset 12: [1, 2, 3, 5]\n"
     ]
    }
   ],
   "source": [
    "S_test_2 = [1,2,3,4,5,6,7,8,9,10,11]\n",
    "k_test_2 = 11\n",
    "subset_sum(S_test_2, k_test_2)"
   ]
  },
  {
   "cell_type": "code",
   "execution_count": 69,
   "metadata": {},
   "outputs": [],
   "source": [
    "S_test_3 = [24, 54, 63, 101]\n",
    "k_test_3 = 91\n",
    "subset_sum(S_test_3, k_test_3)"
   ]
  },
  {
   "attachments": {},
   "cell_type": "markdown",
   "metadata": {},
   "source": [
    "---\n",
    "## Solution Explained"
   ]
  },
  {
   "attachments": {},
   "cell_type": "markdown",
   "metadata": {},
   "source": [
    "### subset_sum(S, k) solution\n",
    "The given code is implementing a brute-force approach to solve the subset sum problem. The objective of the subset sum problem is to find all subsets of a given set of integers that sum up to a target value `k`. The code uses the `itertools` module's `combinations` function to generate all possible combinations of subsets of the given set `S`. Then, it iterates through all the subsets and checks if the sum of the subset is equal to the target value `k`. If it is equal, then the subset is added to the result list. Finally, if the result list is empty, it returns `None`, if it has one subset, it returns that subset, and if it has more than one subset, it calls the `pretty_print` function to print all the subsets.\n",
    "\n",
    "The `pretty_print` function is a utility function that takes the set of integers `S`, target value `k`, and the list of subsets as input parameters. It prints the list of subsets that sum up to `k`.\n",
    "\n",
    "The time complexity of the `subset_sum` function is O(2^n * n), where n is the length of the input set `S`. This is because the combinations function generates 2^n possible subsets of `S`, and then the sum of each subset is calculated in O(n) time. The memory space complexity of the `subset_sum` function is O(2^n * n), as we need to store all possible subsets and their sum."
   ]
  }
 ],
 "metadata": {
  "kernelspec": {
   "display_name": "Python 3",
   "language": "python",
   "name": "python3"
  },
  "language_info": {
   "codemirror_mode": {
    "name": "ipython",
    "version": 3
   },
   "file_extension": ".py",
   "mimetype": "text/x-python",
   "name": "python",
   "nbconvert_exporter": "python",
   "pygments_lexer": "ipython3",
   "version": "3.9.12"
  },
  "orig_nbformat": 4,
  "vscode": {
   "interpreter": {
    "hash": "1616faeca1eb2b6217e80a7d062cec32587d2e1ba3999185fe005a5f436d1f1f"
   }
  }
 },
 "nbformat": 4,
 "nbformat_minor": 2
}
