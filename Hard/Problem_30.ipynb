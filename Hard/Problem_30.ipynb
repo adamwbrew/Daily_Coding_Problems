{
 "cells": [
  {
   "attachments": {},
   "cell_type": "markdown",
   "metadata": {},
   "source": [
    "# Problem 30\n",
    "Given an array of strictly the characters `'R'`, `'G'`, and `'B'`, segregate the values of the array so that all the Rs come first, the Gs come second, and the Bs come last. You can only swap elements of the array.\n",
    "\n",
    "Do this in linear time and in-place.\n",
    "\n",
    "For example, given the array `['G', 'B', 'R', 'R', 'B', 'R', 'G']`, it should become `['R', 'R', 'R', 'G', 'G', 'B', 'B']`."
   ]
  },
  {
   "attachments": {},
   "cell_type": "markdown",
   "metadata": {},
   "source": [
    "---\n",
    "## Solution"
   ]
  },
  {
   "cell_type": "code",
   "execution_count": 106,
   "metadata": {},
   "outputs": [],
   "source": [
    "# solution code\n",
    "def sort_by_swap(RGB_list):\n",
    "    n = len(RGB_list)\n",
    "    r, g, b = 0, 0, n - 1\n",
    "\n",
    "    while g <= b:\n",
    "        if RGB_list[g] == 'R':\n",
    "            RGB_list[g], RGB_list[r] = RGB_list[r], RGB_list[g]\n",
    "            r += 1\n",
    "            g += 1\n",
    "        elif RGB_list[g] == 'B':\n",
    "            RGB_list[g], RGB_list[b] = RGB_list[b], RGB_list[g]\n",
    "            b -= 1\n",
    "        else:\n",
    "            g += 1\n",
    "\n",
    "    return RGB_list"
   ]
  },
  {
   "attachments": {},
   "cell_type": "markdown",
   "metadata": {},
   "source": [
    "---\n",
    "## Test Cases"
   ]
  },
  {
   "cell_type": "code",
   "execution_count": 107,
   "metadata": {},
   "outputs": [
    {
     "data": {
      "text/plain": [
       "['R', 'R', 'R', 'G', 'G', 'B', 'B']"
      ]
     },
     "execution_count": 107,
     "metadata": {},
     "output_type": "execute_result"
    }
   ],
   "source": [
    "# solution testing test cases\n",
    "sort_by_swap(['G', 'B', 'R', 'R', 'B', 'R', 'G'])"
   ]
  },
  {
   "cell_type": "code",
   "execution_count": 108,
   "metadata": {},
   "outputs": [
    {
     "data": {
      "text/plain": [
       "['R', 'G', 'G', 'G', 'B', 'B', 'B']"
      ]
     },
     "execution_count": 108,
     "metadata": {},
     "output_type": "execute_result"
    }
   ],
   "source": [
    "sort_by_swap(['G', 'B', 'G', 'B', 'B', 'R', 'G'])"
   ]
  },
  {
   "cell_type": "code",
   "execution_count": 109,
   "metadata": {},
   "outputs": [
    {
     "name": "stdout",
     "output_type": "stream",
     "text": [
      "Test Case:\n",
      "['R', 'G', 'B', 'G', 'G', 'B', 'B', 'B', 'B', 'B', 'R', 'B', 'R', 'B', 'B']\n",
      "\n",
      "Sorted by swaps solution:\n",
      "['R', 'R', 'R', 'G', 'G', 'G', 'B', 'B', 'B', 'B', 'B', 'B', 'B', 'B', 'B']\n"
     ]
    }
   ],
   "source": [
    "import random\n",
    "test_case = [random.choice([\"R\", \"G\", \"B\"]) for i in range(15)]\n",
    "print(f\"Test Case:\\n{test_case}\\n\")\n",
    "print(f\"Sorted by swaps solution:\\n{sort_by_swap(test_case)}\")"
   ]
  },
  {
   "attachments": {},
   "cell_type": "markdown",
   "metadata": {},
   "source": [
    "---\n",
    "## Solution Explained"
   ]
  },
  {
   "attachments": {},
   "cell_type": "markdown",
   "metadata": {},
   "source": [
    "### sort_by_swap(RGB_list) solution\n",
    "This is an implementation of the Dutch National Flag problem, also known as the 3-way partitioning problem. The function takes in a list of characters representing colors, where `'R'` stands for red, `'G'` stands for green, and `'B'` stands for blue. The task is to sort the list such that all the `'R'`s appear before all the `'G'`s, and all the `'G'`s appear before all the `'B'`s.\n",
    "\n",
    "The function starts by initializing three pointers: `r`, `g`, and `b`. The `r` pointer points to the first element of the list, the `g` pointer starts from the beginning, and the `b` pointer points to the last element of the list.\n",
    "\n",
    "The function then enters a while loop that continues until the `g` pointer crosses the `b` pointer. Inside the while loop, the function checks the value of the element pointed to by the `g` pointer. If it is `'R'`, the element is swapped with the element pointed to by the `r` pointer, and both `r` and `g` pointers are incremented. If it is `'B'`, the element is swapped with the element pointed to by the `b` pointer, and the `b` pointer is decremented. If it is `'G'`, the `g` pointer is simply incremented.\n",
    "\n",
    "After the while loop, the function returns the sorted list.\n",
    "\n",
    "The time complexity of this algorithm is O(n), where n is the length of the input list. The space complexity is O(1), as the algorithm sorts the input list in place without creating any additional data structures."
   ]
  }
 ],
 "metadata": {
  "kernelspec": {
   "display_name": "Python 3",
   "language": "python",
   "name": "python3"
  },
  "language_info": {
   "codemirror_mode": {
    "name": "ipython",
    "version": 3
   },
   "file_extension": ".py",
   "mimetype": "text/x-python",
   "name": "python",
   "nbconvert_exporter": "python",
   "pygments_lexer": "ipython3",
   "version": "3.9.12"
  },
  "orig_nbformat": 4,
  "vscode": {
   "interpreter": {
    "hash": "1616faeca1eb2b6217e80a7d062cec32587d2e1ba3999185fe005a5f436d1f1f"
   }
  }
 },
 "nbformat": 4,
 "nbformat_minor": 2
}
