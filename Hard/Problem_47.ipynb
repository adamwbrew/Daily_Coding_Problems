{
 "cells": [
  {
   "attachments": {},
   "cell_type": "markdown",
   "metadata": {},
   "source": [
    "# Problem 47\n",
    "Implement an LRU (Least Recently Used) cache. It should be able to be initialized with a cache size `n`, and contain the following methods:\n",
    "\n",
    "- `set(key, value)`: sets `key` to `value`. If there are already `n` items in the cache and we are adding a new item, then it should also remove the least recently used item.\n",
    "- `get(key)`: gets the value at `key`. If no such key exists, return null.\n",
    "\n",
    "Each operation should run in O(1) time."
   ]
  },
  {
   "attachments": {},
   "cell_type": "markdown",
   "metadata": {},
   "source": [
    "---\n",
    "## Solution"
   ]
  },
  {
   "cell_type": "code",
   "execution_count": 58,
   "metadata": {},
   "outputs": [],
   "source": [
    "# solution code\n",
    "\n",
    "class LRU:\n",
    "    def __init__(self, n):\n",
    "        self.cache = {}\n",
    "        self.n = n\n",
    "        self.recents = []\n",
    "\n",
    "\n",
    "    def set(self, key, value):\n",
    "        self.cache[key] = value\n",
    "        self.recents.append(key)\n",
    "        if(len(self.recents) > self.n):\n",
    "            remove_item = self.recents[0]\n",
    "            self.recents.pop(0)\n",
    "            del self.cache[remove_item]\n",
    "\n",
    "\n",
    "    def used(self, key):\n",
    "        try:\n",
    "            self.recents.remove(key)\n",
    "        except ValueError:\n",
    "            pass\n",
    "        self.recents.append(key)\n",
    "            \n",
    "\n",
    "    def get(self, key):\n",
    "        try:\n",
    "            value = self.cache[key]\n",
    "        except KeyError:\n",
    "            value = None\n",
    "        if(value is not None):\n",
    "            self.used(key)\n",
    "        return value"
   ]
  },
  {
   "cell_type": "code",
   "execution_count": 59,
   "metadata": {},
   "outputs": [
    {
     "data": {
      "text/plain": [
       "2"
      ]
     },
     "execution_count": 59,
     "metadata": {},
     "output_type": "execute_result"
    }
   ],
   "source": [
    "l = [1,2,3]\n",
    "l[1]"
   ]
  },
  {
   "attachments": {},
   "cell_type": "markdown",
   "metadata": {},
   "source": [
    "---\n",
    "## Test Cases"
   ]
  },
  {
   "cell_type": "code",
   "execution_count": 60,
   "metadata": {},
   "outputs": [],
   "source": [
    "# solution testing test cases\n",
    "LRU_1 = LRU(3)\n",
    "LRU_1.set(\"1\", \"A\")\n",
    "LRU_1.get(\"1\")\n",
    "LRU_1.set(\"2\", \"B\")\n",
    "LRU_1.get(\"1\")\n",
    "LRU_1.set(\"3\", \"C\")\n",
    "LRU_1.set(\"4\", \"D\")\n",
    "assert LRU_1.cache == {'1': 'A', '3': 'C', '4': 'D'}"
   ]
  },
  {
   "cell_type": "code",
   "execution_count": 61,
   "metadata": {},
   "outputs": [
    {
     "name": "stdout",
     "output_type": "stream",
     "text": [
      "{'1': 'A', '4': 'D'}\n"
     ]
    }
   ],
   "source": [
    "LRU_2 = LRU(2)\n",
    "LRU_2.set(\"1\", \"A\")\n",
    "LRU_2.get(\"1\")\n",
    "LRU_2.set(\"2\", \"B\")\n",
    "LRU_2.get(\"1\")\n",
    "LRU_2.set(\"3\", \"C\")\n",
    "LRU_2.get(\"1\")\n",
    "LRU_2.set(\"4\", \"D\")\n",
    "LRU_2.get(\"1\")\n",
    "print(LRU_2.cache)\n",
    "assert LRU_2.cache == {'1': 'A', '4': 'D'}"
   ]
  },
  {
   "attachments": {},
   "cell_type": "markdown",
   "metadata": {},
   "source": [
    "---\n",
    "## Solution Explained"
   ]
  },
  {
   "attachments": {},
   "cell_type": "markdown",
   "metadata": {},
   "source": [
    "### function solution\n",
    "This code implements an LRU (Least Recently Used) cache with a constant time complexity of O(1) for each operation. The LRU cache has a maximum size of `n`, which is set during initialization of the cache object. The cache is implemented using a Python dictionary to store key-value pairs and a list to keep track of the most recently accessed items.\n",
    "\n",
    "- The `set(key, value)` method adds or updates an item in the cache with the given key-value pair. If the cache is already at its maximum size `n`, the least recently used item is removed from the cache before the new item is added. The least recently used item is identified by the first element in the list of recently accessed items. The time complexity of the `set` method is O(1) because it performs constant-time operations such as adding a key-value pair to a dictionary and appending a key to a list.\n",
    "\n",
    "- The `get(key)` method returns the `value` of the item with the given `key`, or `None` if the `key` does not exist in the cache. If the `key` exists, the item is considered \"used\" and is moved to the end of the list of recently accessed items. The time complexity of the `get` method is O(1) on average because it performs a constant-time dictionary lookup to retrieve the value associated with the `key`. The used method is called if the key is found, but its time complexity is already accounted for separately.\n",
    "\n",
    "- The `used(key)` method is called when an existing item is accessed. It moves the item to the end of the list of recently accessed items, making it the most recently accessed item. The time complexity of the `used` method is O(n) in the worst case because it performs a linear search for the `key` in the `recents` list, which could potentially have n elements. However, in practice, the number of elements in the recents list is unlikely to be very large, so the time complexity would be closer to O(1).\n",
    "\n",
    "Overall, the time complexity of this code is O(1) for the `set` and `get` methods and O(n) for the `used` method in the worst case."
   ]
  }
 ],
 "metadata": {
  "kernelspec": {
   "display_name": "Python 3",
   "language": "python",
   "name": "python3"
  },
  "language_info": {
   "codemirror_mode": {
    "name": "ipython",
    "version": 3
   },
   "file_extension": ".py",
   "mimetype": "text/x-python",
   "name": "python",
   "nbconvert_exporter": "python",
   "pygments_lexer": "ipython3",
   "version": "3.9.12"
  },
  "orig_nbformat": 4,
  "vscode": {
   "interpreter": {
    "hash": "1616faeca1eb2b6217e80a7d062cec32587d2e1ba3999185fe005a5f436d1f1f"
   }
  }
 },
 "nbformat": 4,
 "nbformat_minor": 2
}
