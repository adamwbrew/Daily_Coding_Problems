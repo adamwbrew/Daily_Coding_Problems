{
 "cells": [
  {
   "attachments": {},
   "cell_type": "markdown",
   "metadata": {},
   "source": [
    "# Problem 7\n",
    "Given a list of integers, write a function that returns the largest sum of non-adjacent numbers. Numbers can be `0` or negative.\n",
    "\n",
    "For example, `[2, 4, 6, 2, 5]` should return `13`, since we pick `2`, `6`, and `5`. `[5, 1, 1, 5]` should return `10`, since we pick `5` and `5`.\n",
    "\n",
    "Follow-up: Can you do this in O(N) time and constant space?"
   ]
  },
  {
   "attachments": {},
   "cell_type": "markdown",
   "metadata": {},
   "source": [
    "---\n",
    "## Test Cases"
   ]
  },
  {
   "cell_type": "code",
   "execution_count": 327,
   "metadata": {},
   "outputs": [],
   "source": [
    "# test cases\n",
    "test_1 = [2, 4, 6, 2, 5]\n",
    "# answer = 13 ~ 2 + 6 + 5\n",
    "\n",
    "test_2 = [5, 1, 1, 5]\n",
    "# answer = 10 ~ 5 + 5\n",
    "\n",
    "test_3 = [-1, 2, -3, -4, 4, 5]\n",
    "# answer = 7 ~ 2 + 5\n",
    "\n",
    "test_4 = [-5, -1, -1, -1]\n",
    "# answer = -1\n",
    "\n",
    "test_5 = [1]\n",
    "# answer = 1\n",
    "\n",
    "test_6 = []\n",
    "# answer = Empty list"
   ]
  },
  {
   "attachments": {},
   "cell_type": "markdown",
   "metadata": {},
   "source": [
    "---\n",
    "## Solution"
   ]
  },
  {
   "cell_type": "code",
   "execution_count": 328,
   "metadata": {},
   "outputs": [],
   "source": [
    "# solution code\n",
    "def Non_Adjacent_Sum(numbers):\n",
    "    # edge cases\n",
    "    if(len(numbers) == 0): return \"List input was empty.\"\n",
    "    if(len(numbers) == 1): return numbers[0]\n",
    "\n",
    "    # initiating needed variables\n",
    "    added_max = 0\n",
    "    nonadded_max = 0\n",
    "    neg_check = max(numbers)\n",
    "\n",
    "    for num in numbers:\n",
    "        # condition for list with all negative integers\n",
    "        if(neg_check < 0 and numbers.index(num) == 0):\n",
    "            added_max = numbers[0]\n",
    "            nonadded_max = numbers[1]\n",
    "        else:\n",
    "            # logic to find max nonadjacent sum\n",
    "            new_nonadded_max = max(added_max, nonadded_max)\n",
    "            added_max = nonadded_max + num\n",
    "            nonadded_max = new_nonadded_max\n",
    "            \n",
    "    # determine final max sum based on two states found\n",
    "    max_sum = max(added_max, nonadded_max)\n",
    "    return max_sum\n",
    "        "
   ]
  },
  {
   "cell_type": "code",
   "execution_count": 329,
   "metadata": {},
   "outputs": [
    {
     "data": {
      "text/plain": [
       "13"
      ]
     },
     "execution_count": 329,
     "metadata": {},
     "output_type": "execute_result"
    }
   ],
   "source": [
    "# solution testing test cases\n",
    "test_1 = [2, 4, 6, 2, 5]\n",
    "Non_Adjacent_Sum(test_1)"
   ]
  },
  {
   "cell_type": "code",
   "execution_count": 330,
   "metadata": {},
   "outputs": [
    {
     "data": {
      "text/plain": [
       "10"
      ]
     },
     "execution_count": 330,
     "metadata": {},
     "output_type": "execute_result"
    }
   ],
   "source": [
    "test_2 = [5, 1, 1, 5]\n",
    "Non_Adjacent_Sum(test_2)"
   ]
  },
  {
   "cell_type": "code",
   "execution_count": 331,
   "metadata": {},
   "outputs": [
    {
     "data": {
      "text/plain": [
       "7"
      ]
     },
     "execution_count": 331,
     "metadata": {},
     "output_type": "execute_result"
    }
   ],
   "source": [
    "test_3 = [-1, 2, -3, -4, 4, 5]\n",
    "Non_Adjacent_Sum(test_3)"
   ]
  },
  {
   "cell_type": "code",
   "execution_count": 332,
   "metadata": {},
   "outputs": [
    {
     "data": {
      "text/plain": [
       "-1"
      ]
     },
     "execution_count": 332,
     "metadata": {},
     "output_type": "execute_result"
    }
   ],
   "source": [
    "test_4 = [-5, -1, -1, -1]\n",
    "Non_Adjacent_Sum(test_4)"
   ]
  },
  {
   "cell_type": "code",
   "execution_count": 333,
   "metadata": {},
   "outputs": [
    {
     "data": {
      "text/plain": [
       "1"
      ]
     },
     "execution_count": 333,
     "metadata": {},
     "output_type": "execute_result"
    }
   ],
   "source": [
    "test_5 = [1]\n",
    "Non_Adjacent_Sum(test_5)"
   ]
  },
  {
   "cell_type": "code",
   "execution_count": 334,
   "metadata": {},
   "outputs": [
    {
     "data": {
      "text/plain": [
       "'List input was empty.'"
      ]
     },
     "execution_count": 334,
     "metadata": {},
     "output_type": "execute_result"
    }
   ],
   "source": [
    "test_6 = []\n",
    "Non_Adjacent_Sum(test_6)"
   ]
  },
  {
   "attachments": {},
   "cell_type": "markdown",
   "metadata": {},
   "source": [
    "---\n",
    "## Solution Explained"
   ]
  },
  {
   "attachments": {},
   "cell_type": "markdown",
   "metadata": {},
   "source": [
    "### Non_Adjacent_Sum(numbers) solution\n",
    "This solution solves the problem in linear time and constant space. The function starts by taking in a list of integers and defines three important variables; *added_max*, *nonadded_max*, and *neg_check*. First I'll explain how the solution would work using only positive integers in the input to break down whats happening. If only positive integers were in the inpuut we could redeifne this function as such :\n",
    "```\n",
    "def Non_Adjacent_Sum(numbers):\n",
    "    added_max = 0\n",
    "    nonadded_max = 0\n",
    "    for num in numbers:\n",
    "        new_nonadded_max = max(added_max, nonadded_max)\n",
    "        added_max = nonadded_max + num\n",
    "        nonadded_max = new_nonadded_max\n",
    "\n",
    "    max_sum = max(added_max, nonadded_max)\n",
    "    return max_sum\n",
    "```\n",
    "In this case, we can define *added_max* as the largest sum derivied from adding a number from numbers and also define *non_added_max* as the largest sum derivied by not adding a number from numbers. These variables allow the the function to store the two states of the previous element. Thus when the function starts by setting both variables to zero, running a for loop throught the numbers list, and taking the max of the two to find *new_nonadded_max* the function can find the two new states for *added_max* and *nonadded_max*. This process is repeated through the entire list of numbers until the fina l max is taken between *added_max* and *nonadded_max* returning the max sum of nonadjacent numbers.\n",
    "\n",
    "However, what happens when negative integers are added to the list of numbers? If at least one nonnegative integer is in the list of numbers, no change is needed due to the max being taken for each iteration and since both *added_max* and *nonadded_max* are initated to 0. Yet, if a list of numbers were all negative integers, the current solution would result in a max sum of zero due to *added_max* and *nonadded_max* initial states. Thus we need to update our solution as seen below:\n",
    "```\n",
    "def Non_Adjacent_Sum(numbers):\n",
    "    if(len(numbers) == 0): return \"List input was empty.\"\n",
    "    if(len(numbers) == 1): return 1\n",
    "\n",
    "    added_max = 0\n",
    "    nonadded_max = 0\n",
    "    neg_check = max(numbers)\n",
    "\n",
    "    for num in numbers:\n",
    "        if(neg_check < 0 and numbers.index(num) == 0):\n",
    "            added_max = numbers[0]\n",
    "            nonadded_max = numbers[1]\n",
    "        else:\n",
    "            new_nonadded_max = max(added_max, nonadded_max)\n",
    "            added_max = nonadded_max + num\n",
    "            nonadded_max = new_nonadded_max\n",
    "        \n",
    "    max_sum = max(added_max, nonadded_max)\n",
    "    return max_sum\n",
    "```\n",
    "This function takes the same logic previously used and adds the conditon: if the max of all numbers in the numbers list is negative and the for loop is on the first iteration, then *added_max* is set equal to the first element in the list and *nonadded_max* is set to the second element in the list. This makes sure the the first state of both *added_max* and *nonadded_max* are set equal to negative integers after the first iteration of the for loop runs. From there the function works the same as it did in the previously described logic. The function here also has some added in conditions at the beginnind to deal with edge case based on the length of the list inputted. It is also good to note that if a list of all negative integers is inputed then the solution will output the maximum integer as no addition can be done to make it larger, this logic also carry through is the list contains all negative integers and one positive integer. "
   ]
  }
 ],
 "metadata": {
  "kernelspec": {
   "display_name": "Python 3",
   "language": "python",
   "name": "python3"
  },
  "language_info": {
   "codemirror_mode": {
    "name": "ipython",
    "version": 3
   },
   "file_extension": ".py",
   "mimetype": "text/x-python",
   "name": "python",
   "nbconvert_exporter": "python",
   "pygments_lexer": "ipython3",
   "version": "3.9.12"
  },
  "orig_nbformat": 4,
  "vscode": {
   "interpreter": {
    "hash": "1616faeca1eb2b6217e80a7d062cec32587d2e1ba3999185fe005a5f436d1f1f"
   }
  }
 },
 "nbformat": 4,
 "nbformat_minor": 2
}
