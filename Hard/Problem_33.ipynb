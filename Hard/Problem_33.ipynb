{
 "cells": [
  {
   "attachments": {},
   "cell_type": "markdown",
   "metadata": {},
   "source": [
    "# Problem 33\n",
    "You have an `N` by `N` board. Write a function that, given `N`, returns the number of possible arrangements of the board where `N` queens can be placed on the board without threatening each other, i.e. no two queens share the same row, column, or diagonal."
   ]
  },
  {
   "attachments": {},
   "cell_type": "markdown",
   "metadata": {},
   "source": [
    "---\n",
    "## Solution"
   ]
  },
  {
   "cell_type": "code",
   "execution_count": 2,
   "metadata": {},
   "outputs": [],
   "source": [
    "# solution code\n",
    "import copy\n",
    "\n",
    "def diagnols(N, tile):\n",
    "    diagnols_list = []\n",
    "    for i in range(1,N+1):\n",
    "        tile_change_1 = tile.copy()\n",
    "        tile_change_1[0] += i\n",
    "        tile_change_1[1] += i\n",
    "        tile_change_2 = tile.copy()\n",
    "        tile_change_2[0] -= i\n",
    "        tile_change_2[1] -= i\n",
    "        tile_change_3 = tile.copy()\n",
    "        tile_change_3[0] += i\n",
    "        tile_change_3[1] -= i\n",
    "        tile_change_4 = tile.copy()\n",
    "        tile_change_4[0] -= i\n",
    "        tile_change_4[1] += i\n",
    "\n",
    "        if(tile_change_1[0] > 0 and tile_change_1[0] <= N):\n",
    "            if(tile_change_1[1] > 0 and tile_change_1[1] <= N):\n",
    "                if(tile_change_1 not in diagnols_list):\n",
    "                    diagnols_list.append(tile_change_1)\n",
    "\n",
    "        if(tile_change_2[0] > 0 and tile_change_2[0] <= N):\n",
    "            if(tile_change_2[1] > 0 and tile_change_2[1] <= N):\n",
    "                if(tile_change_2 not in diagnols_list):\n",
    "                    diagnols_list.append(tile_change_2)\n",
    "\n",
    "        if(tile_change_3[0] > 0 and tile_change_3[0] <= N):\n",
    "            if(tile_change_3[1] > 0 and tile_change_3[1] <= N):\n",
    "                if(tile_change_3 not in diagnols_list):\n",
    "                    diagnols_list.append(tile_change_3)\n",
    "\n",
    "        if(tile_change_4[0] > 0 and tile_change_4[0] <= N):\n",
    "            if(tile_change_4[1] > 0 and tile_change_4[1] <= N):\n",
    "                if(tile_change_4 not in diagnols_list):\n",
    "                    diagnols_list.append(tile_change_4)\n",
    "\n",
    "    return diagnols_list\n",
    "\n",
    "\n",
    "def checkmate_tiles(N, tile_input, board):\n",
    "    checkmate_tiles_list = []\n",
    "    queen_column = tile_input[1]\n",
    "    queen_row = tile_input[0]\n",
    "    checkmate_tiles_list += diagnols(N, tile_input)\n",
    "    for tile in board:\n",
    "        if(tile[0] == queen_row or tile[1] == queen_column):\n",
    "            if(tile not in checkmate_tiles_list and tile != tile_input):\n",
    "                checkmate_tiles_list.append(tile)\n",
    "    return checkmate_tiles_list\n",
    "\n",
    "\n",
    "def board_check(N, board):\n",
    "    queens_placement = [tile for tile in board if tile[2] == \"Q\"]\n",
    "    checkmate_tile_list = []\n",
    "    for q in queens_placement:\n",
    "        checkmate_tile_list += checkmate_tiles(N, q, board)\n",
    "        if(q in checkmate_tile_list):\n",
    "            return False\n",
    "    return True\n",
    "    \n",
    "\n",
    "def board_combonations(N, board):\n",
    "    queen_board_arrangements = []\n",
    "    # create all board combonations\n",
    "    queens_used = 0\n",
    "    while(queens_used != N):\n",
    "        if(queens_used == 0):\n",
    "            test_board = copy.deepcopy(board)\n",
    "            # set up initial arrangments\n",
    "            for tile in range(len(test_board)):\n",
    "                test_board[tile][2] = \"Q\"\n",
    "                test_board_changed = copy.deepcopy(test_board)\n",
    "                queen_board_arrangements.append(test_board_changed)\n",
    "                test_board[tile][2] = None\n",
    "        else:\n",
    "            for i_board in range(len(queen_board_arrangements)):\n",
    "                for i_tile in range(len(queen_board_arrangements[i_board])):\n",
    "                    if(queen_board_arrangements[i_board][i_tile][2] != \"Q\"):\n",
    "                        queen_board_arrangements[i_board][i_tile][2] = \"Q\"\n",
    "                        test_board_changed = copy.deepcopy(queen_board_arrangements[i_board])\n",
    "                        queen_board_arrangements.append(test_board_changed)\n",
    "                        queen_board_arrangements[i_board][i_tile][2] = None\n",
    "        remove_boards = []\n",
    "        for i_board in range(len(queen_board_arrangements)): \n",
    "            if(board_check(queens_used+1, queen_board_arrangements[i_board]) == False):\n",
    "                remove_boards.append(i_board) \n",
    "                continue\n",
    "            if(queen_board_arrangements[i_board] in queen_board_arrangements[i_board+1:]):\n",
    "                remove_boards.append(i_board) \n",
    "                continue\n",
    "            queens = 0\n",
    "            for i_tile in range(len(queen_board_arrangements[i_board])):\n",
    "                if(queen_board_arrangements[i_board][i_tile][2] == \"Q\"):\n",
    "                    queens += 1\n",
    "            if(queens <= queens_used):\n",
    "                remove_boards.append(i_board)     \n",
    "        if(remove_boards != []):\n",
    "            queen_board_arrangements = [queen_board_arrangements[b] for b in range(len(queen_board_arrangements)) if b not in remove_boards]\n",
    "        queens_used += 1\n",
    "    \n",
    "    return queen_board_arrangements\n",
    "\n",
    "\n",
    "def queen_arrangements(N):\n",
    "    if(N == 1): return 1\n",
    "    if(N < 4): return 0\n",
    "    board = [[i, j, None]for i in range(1, N+1) for j in range(1, N+1)]\n",
    "    arrangements = 0\n",
    "    board_combonations_list = []\n",
    "    # add queens\n",
    "    test_board = board.copy()\n",
    "    board_combonations_list = board_combonations(N, test_board)\n",
    "    # check board combonations\n",
    "    for b in board_combonations_list:\n",
    "        check = board_check(N, b)\n",
    "        if(check):\n",
    "            # uncomment the code below to see all valid variations of board\n",
    "            # board_print(N, b)\n",
    "            arrangements += 1\n",
    "    return arrangements\n",
    "\n",
    "\n",
    "def board_print(N, board):\n",
    "    index = 0\n",
    "    for i in range(N):\n",
    "        print(\"|\", end = '')\n",
    "        for j in range(N):\n",
    "            if(board[index][2] == \"Q\"):\n",
    "                print(board[index][2], end='|')\n",
    "            else:\n",
    "                print(\"0\", end = '|')\n",
    "            index += 1\n",
    "        print()\n",
    "    print()\n",
    "\n",
    "        "
   ]
  },
  {
   "attachments": {},
   "cell_type": "markdown",
   "metadata": {},
   "source": [
    "---\n",
    "## Test Cases"
   ]
  },
  {
   "cell_type": "code",
   "execution_count": 3,
   "metadata": {},
   "outputs": [
    {
     "name": "stdout",
     "output_type": "stream",
     "text": [
      "0\n"
     ]
    }
   ],
   "source": [
    "# solution testing test cases\n",
    "N = 3\n",
    "solutions = queen_arrangements(N)\n",
    "print(solutions)"
   ]
  },
  {
   "cell_type": "code",
   "execution_count": 4,
   "metadata": {},
   "outputs": [
    {
     "name": "stdout",
     "output_type": "stream",
     "text": [
      "2\n"
     ]
    }
   ],
   "source": [
    "N = 4\n",
    "solutions = queen_arrangements(N)\n",
    "print(solutions)"
   ]
  },
  {
   "cell_type": "code",
   "execution_count": 5,
   "metadata": {},
   "outputs": [
    {
     "name": "stdout",
     "output_type": "stream",
     "text": [
      "10\n"
     ]
    }
   ],
   "source": [
    "N = 5\n",
    "solutions = queen_arrangements(N)\n",
    "print(solutions)"
   ]
  },
  {
   "cell_type": "code",
   "execution_count": 7,
   "metadata": {},
   "outputs": [
    {
     "name": "stdout",
     "output_type": "stream",
     "text": [
      "Board: 1x1 | # of Queens: 1 | # of Arrangments: 1\n",
      "Board: 2x2 | # of Queens: 2 | # of Arrangments: 0\n",
      "Board: 3x3 | # of Queens: 3 | # of Arrangments: 0\n",
      "Board: 4x4 | # of Queens: 4 | # of Arrangments: 2\n",
      "Board: 5x5 | # of Queens: 5 | # of Arrangments: 10\n",
      "Board: 6x6 | # of Queens: 6 | # of Arrangments: 4\n",
      "Board: 7x7 | # of Queens: 7 | # of Arrangments: 40\n"
     ]
    }
   ],
   "source": [
    "# this test uses a basic 8x8 chess board\n",
    "N = 7\n",
    "for i in range(1, N + 1):\n",
    "    print(f\"Board: {i}x{i} | # of Queens: {i} | # of Arrangments: {queen_arrangements(i)}\")"
   ]
  },
  {
   "attachments": {},
   "cell_type": "markdown",
   "metadata": {},
   "source": [
    "---\n",
    "## Solution Explained"
   ]
  },
  {
   "attachments": {},
   "cell_type": "markdown",
   "metadata": {},
   "source": [
    "### queen_arrangements(N) solution\n",
    "This code appears to solve the N-Queens problem, which is a classic problem in computer science that involves placing `N` queens on an NxN chessboard such that no two queens threaten each other.\n",
    "\n",
    "The code starts by defining a function `diagnols(N, tile)` that takes a tile (i.e., a chessboard square) and returns a list of all tiles that are diagonal to the given tile on an NxN chessboard. It does this by iterating over a range of numbers and adding or subtracting them to the row and column values of the input tile to compute the positions of the diagonal tiles. These positions are then checked to make sure they lie within the bounds of the chessboard before adding them to the output list. The time complexity of this function is O(N), since it iterates over a range of size N, and the space complexity is O(1), since it only stores a fixed-size list of diagonal tiles.\n",
    "\n",
    "The `checkmate_tiles(N, tile_input, board)` function takes a tile and a board and returns a list of all tiles that would be threatened by a queen placed on the given tile on the given board. It does this by calling the diagnols function to get the diagonal tiles, and then iterating over all tiles on the board to check for tiles in the same row or column as the given tile. The time complexity of this function is O(N^2), since it iterates over all tiles on the board, and the space complexity is O(N), since it stores a list of diagonal tiles that could be up to N in size.\n",
    "\n",
    "The `board_check(N, board)` function takes a board and checks whether any queens on the board threaten each other. It does this by calling `checkmate_tiles` for each queen on the board and then checking whether any of the returned tiles are occupied by another queen. The time complexity of this function is O(N^3), since it iterates over all tiles on the board and calls `checkmate_tiles` for each queen, and the space complexity is O(N), since it stores a list of threatened tiles that could be up to N in size.\n",
    "\n",
    "The `board_combinations(N, board)` function takes a board and generates all possible arrangements of N queens on the board. It does this by iterating over the tiles on the board and recursively placing queens on each tile until N queens have been placed. At each iteration, it checks whether the resulting board configuration is valid using `board_check` and whether it is distinct from any previously generated board configurations. If either of these conditions is not met, the board configuration is discarded. The time complexity of this function is O(N^N), since there are N choices at each of the N iterations, and the space complexity is O(N^2), since it stores a list of all valid board configurations that could be up to N^2 in size.\n",
    "\n",
    "Finally, the `queen_arrangements(N)` function generates all possible valid board configurations for `N` queens and returns the number of such configurations. It does this by first generating all possible board configurations using board_combinations and then filtering out any configurations that are not valid using board_check. The time complexity of this function is O(N^(2N)), since it calls `board_combinations` and `board_check` for each of the N^(N^2) possible board configurations, and the space complexity is O(N^(2N)), since it stores a list of all possible board configurations that could be up to N^(2N) in size.\n",
    "\n",
    "Overall, the time complexity of this algorithm is quite high, making it impractical for large values of `N`. However, it should work reasonably well for small values of `N`. "
   ]
  }
 ],
 "metadata": {
  "kernelspec": {
   "display_name": "Python 3",
   "language": "python",
   "name": "python3"
  },
  "language_info": {
   "codemirror_mode": {
    "name": "ipython",
    "version": 3
   },
   "file_extension": ".py",
   "mimetype": "text/x-python",
   "name": "python",
   "nbconvert_exporter": "python",
   "pygments_lexer": "ipython3",
   "version": "3.9.12"
  },
  "orig_nbformat": 4,
  "vscode": {
   "interpreter": {
    "hash": "1616faeca1eb2b6217e80a7d062cec32587d2e1ba3999185fe005a5f436d1f1f"
   }
  }
 },
 "nbformat": 4,
 "nbformat_minor": 2
}
