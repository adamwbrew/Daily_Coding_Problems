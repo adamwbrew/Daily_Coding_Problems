{
 "cells": [
  {
   "attachments": {},
   "cell_type": "markdown",
   "metadata": {},
   "source": [
    "# Problem 41\n",
    "Given a string, find the longest palindromic contiguous substring. If there are more than one with the maximum length, return any one.\n",
    "\n",
    "For example, the longest palindromic substring of `\"aabcdcb\"` is `\"bcdcb\"`. The longest palindromic substring of `\"bananas\"` is `\"anana\"`."
   ]
  },
  {
   "attachments": {},
   "cell_type": "markdown",
   "metadata": {},
   "source": [
    "---\n",
    "## Solution"
   ]
  },
  {
   "cell_type": "code",
   "execution_count": 52,
   "metadata": {},
   "outputs": [],
   "source": [
    "# solution code\n",
    "\n",
    "def substring_palindromes(string):\n",
    "    palindromes = set()\n",
    "    for s in range(len(string)):\n",
    "        for k in range(s, len(string)+1):\n",
    "            # check if substring is a palindrome\n",
    "            if(string[s:k] == string[s:k][::-1]):\n",
    "                palindromes.add(string[s:k])\n",
    "    # sort palindromes by length\n",
    "    palindromes = sorted(palindromes, key = len)\n",
    "    return palindromes[-1]"
   ]
  },
  {
   "attachments": {},
   "cell_type": "markdown",
   "metadata": {},
   "source": [
    "---\n",
    "## Test Cases"
   ]
  },
  {
   "cell_type": "code",
   "execution_count": 53,
   "metadata": {},
   "outputs": [
    {
     "data": {
      "text/plain": [
       "'anana'"
      ]
     },
     "execution_count": 53,
     "metadata": {},
     "output_type": "execute_result"
    }
   ],
   "source": [
    "# solution testing test cases\n",
    "substring_palindromes(\"banana\")"
   ]
  },
  {
   "cell_type": "code",
   "execution_count": 54,
   "metadata": {},
   "outputs": [
    {
     "data": {
      "text/plain": [
       "'bcdcb'"
      ]
     },
     "execution_count": 54,
     "metadata": {},
     "output_type": "execute_result"
    }
   ],
   "source": [
    "substring_palindromes(\"aabcdcb\")"
   ]
  },
  {
   "cell_type": "code",
   "execution_count": 55,
   "metadata": {},
   "outputs": [
    {
     "data": {
      "text/plain": [
       "'omo'"
      ]
     },
     "execution_count": 55,
     "metadata": {},
     "output_type": "execute_result"
    }
   ],
   "source": [
    "substring_palindromes(\"Hippopotomonstrosesquippedaliophobia\")"
   ]
  },
  {
   "cell_type": "code",
   "execution_count": 56,
   "metadata": {},
   "outputs": [
    {
     "data": {
      "text/plain": [
       "'ili'"
      ]
     },
     "execution_count": 56,
     "metadata": {},
     "output_type": "execute_result"
    }
   ],
   "source": [
    "substring_palindromes(\"Supercalifragilisticexpialidocious\")"
   ]
  },
  {
   "attachments": {},
   "cell_type": "markdown",
   "metadata": {},
   "source": [
    "---\n",
    "## Solution Explained"
   ]
  },
  {
   "attachments": {},
   "cell_type": "markdown",
   "metadata": {},
   "source": [
    "### substring_palindromes(string) solution\n",
    "This code takes a `string` as input and finds the longest palindrome substring in the `string`. It generates all possible substrings of the `string` using two nested loops and checks if each substring is a palindrome. The palindrome substrings are stored in a `set` and `sorted` by length to return the longest one.\n",
    "\n",
    "The time complexity of this code is O(n^3), where n is the length of the input `string`. The nested loops generate O(n^2) substrings, and the palindrome check takes O(n) time in the worst case. The sorting step takes O(n log n) time, but it can be ignored because the number of palindromes is much smaller than n^2 for most strings.\n",
    "\n",
    "The space complexity of this code is O(n^2) because it stores all possible substrings in a `set`. However, the actual space usage is much less than this because the number of palindrome substrings is much smaller than n^2 for most strings."
   ]
  }
 ],
 "metadata": {
  "kernelspec": {
   "display_name": "Python 3",
   "language": "python",
   "name": "python3"
  },
  "language_info": {
   "codemirror_mode": {
    "name": "ipython",
    "version": 3
   },
   "file_extension": ".py",
   "mimetype": "text/x-python",
   "name": "python",
   "nbconvert_exporter": "python",
   "pygments_lexer": "ipython3",
   "version": "3.9.12"
  },
  "orig_nbformat": 4,
  "vscode": {
   "interpreter": {
    "hash": "1616faeca1eb2b6217e80a7d062cec32587d2e1ba3999185fe005a5f436d1f1f"
   }
  }
 },
 "nbformat": 4,
 "nbformat_minor": 2
}
