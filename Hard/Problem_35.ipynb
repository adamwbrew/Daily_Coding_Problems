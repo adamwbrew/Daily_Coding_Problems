{
 "cells": [
  {
   "attachments": {},
   "cell_type": "markdown",
   "metadata": {},
   "source": [
    "# Problem 35\n",
    "Given an array of integers where every integer occurs three times except for one integer, which only occurs once, find and return the non-duplicated integer.\n",
    "\n",
    "For example, given `[6, 1, 3, 3, 3, 6, 6]`, return `1`. Given `[13, 19, 13, 13]`, return `19`.\n",
    "\n",
    "Do this in O(N) time and O(1) space."
   ]
  },
  {
   "attachments": {},
   "cell_type": "markdown",
   "metadata": {},
   "source": [
    "---\n",
    "## Solution"
   ]
  },
  {
   "cell_type": "code",
   "execution_count": 111,
   "metadata": {},
   "outputs": [],
   "source": [
    "# solution code\n",
    "def non_duplicated_integer(numbers):\n",
    "    sum = 1\n",
    "    zeros = 0\n",
    "    neg_ones = 0\n",
    "    ones = 0\n",
    "    for n in numbers:\n",
    "        if(n != 0): sum *= n\n",
    "        if(n == -1): neg_ones += 1\n",
    "        if(n == 1): ones += 1\n",
    "        if(n == 0): zeros += 1\n",
    "    if(zeros == 1): return 0\n",
    "    if(ones == 1): return 1\n",
    "    if(neg_ones == 1): return -1\n",
    "\n",
    "    for n in numbers:\n",
    "        if(n == 0): continue\n",
    "        check = sum % (n ** 3)\n",
    "        if(check != 0):\n",
    "            return n"
   ]
  },
  {
   "attachments": {},
   "cell_type": "markdown",
   "metadata": {},
   "source": [
    "---\n",
    "## Test Cases"
   ]
  },
  {
   "cell_type": "code",
   "execution_count": 107,
   "metadata": {},
   "outputs": [
    {
     "data": {
      "text/plain": [
       "1"
      ]
     },
     "execution_count": 107,
     "metadata": {},
     "output_type": "execute_result"
    }
   ],
   "source": [
    "# solution testing test cases\n",
    "\n",
    "test_1 = [6, 1, 3, 3, 3, 6, 6]\n",
    "non_duplicated_integer(test_1)"
   ]
  },
  {
   "cell_type": "code",
   "execution_count": 108,
   "metadata": {},
   "outputs": [
    {
     "data": {
      "text/plain": [
       "19"
      ]
     },
     "execution_count": 108,
     "metadata": {},
     "output_type": "execute_result"
    }
   ],
   "source": [
    "test_2 = [13, 19, 13, 13]\n",
    "non_duplicated_integer(test_2)"
   ]
  },
  {
   "cell_type": "code",
   "execution_count": 112,
   "metadata": {},
   "outputs": [
    {
     "data": {
      "text/plain": [
       "-7"
      ]
     },
     "execution_count": 112,
     "metadata": {},
     "output_type": "execute_result"
    }
   ],
   "source": [
    "test_3 = [0, 0, -1, 1, -1, 2, -1, 0, 2, -7, 2, 1, 1]\n",
    "non_duplicated_integer(test_3)"
   ]
  },
  {
   "attachments": {},
   "cell_type": "markdown",
   "metadata": {},
   "source": [
    "---\n",
    "## Solution Explained"
   ]
  },
  {
   "attachments": {},
   "cell_type": "markdown",
   "metadata": {},
   "source": [
    "### non_duplicated_integer(numbers) solution\n",
    "The `non_duplicated_integer` function takes a list of integers as input and returns the non-duplicated integer in the list. It uses a couple of optimizations to achieve a time complexity of O(n) and a memory space of O(1).\n",
    "\n",
    "The function first initializes four variables to count the number of zeros, negative ones, positive ones, and non-zero elements in the input list. It then multiplies all the non-zero elements to compute the product `sum`.\n",
    "\n",
    "Next, the function checks whether there is exactly one zero, one, or negative one in the input list. If there is, it returns that number immediately, since it must be the non-duplicated integer.\n",
    "\n",
    "Finally, the function iterates through the input list again and checks whether the product `sum` is divisible by each non-zero element raised to the power of 3. If the remainder is not 0 for any element, it means that the element is not duplicated in the list, so the function returns it.\n",
    "\n",
    "The time complexity of the function is O(n), since it iterates through the input list twice, but the two iterations are independent of each other. The first iteration has a time complexity of O(n) since it just iterates through the `numbers` list once and performs constant-time operations for each element. The second iteration also has a time complexity of O(n) since it iterates through the `numbers` list once and performs constant-time operations for each element.\n",
    "\n",
    "The memory space of the function is O(1), since it only uses a constant amount of additional space to store the variables `sum`, `zeros`, `neg_ones`, `ones`, and `check`. These variables store single values, not lists or arrays, so the amount of memory used does not depend on the size of the input `numbers` list."
   ]
  }
 ],
 "metadata": {
  "kernelspec": {
   "display_name": "Python 3",
   "language": "python",
   "name": "python3"
  },
  "language_info": {
   "codemirror_mode": {
    "name": "ipython",
    "version": 3
   },
   "file_extension": ".py",
   "mimetype": "text/x-python",
   "name": "python",
   "nbconvert_exporter": "python",
   "pygments_lexer": "ipython3",
   "version": "3.9.12"
  },
  "orig_nbformat": 4,
  "vscode": {
   "interpreter": {
    "hash": "1616faeca1eb2b6217e80a7d062cec32587d2e1ba3999185fe005a5f436d1f1f"
   }
  }
 },
 "nbformat": 4,
 "nbformat_minor": 2
}
