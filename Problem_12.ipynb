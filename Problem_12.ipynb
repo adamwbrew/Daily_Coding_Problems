{
 "cells": [
  {
   "attachments": {},
   "cell_type": "markdown",
   "metadata": {},
   "source": [
    "# Problem 12\n",
    "The area of a circle is defined as πr^2. Estimate π to 3 decimal places using a Monte Carlo method.\n",
    "\n",
    "Hint: The basic equation of a circle is x2 + y2 = r2."
   ]
  },
  {
   "attachments": {},
   "cell_type": "markdown",
   "metadata": {},
   "source": [
    "---\n",
    "## Test Cases"
   ]
  },
  {
   "cell_type": "code",
   "execution_count": 78,
   "metadata": {},
   "outputs": [],
   "source": [
    "# test cases\n",
    "points_1 = 10\n",
    "\n",
    "points_2 = 100\n",
    "\n",
    "points_3 = 1000\n",
    "\n",
    "points_4 = 10**7\n",
    "\n",
    "points_5 = 0"
   ]
  },
  {
   "attachments": {},
   "cell_type": "markdown",
   "metadata": {},
   "source": [
    "---\n",
    "## Solution"
   ]
  },
  {
   "cell_type": "code",
   "execution_count": 79,
   "metadata": {},
   "outputs": [],
   "source": [
    "# solution code\n",
    "import random \n",
    "import math\n",
    "\n",
    "def Monte_Carlo_Pi(points):\n",
    "    in_circle = 0\n",
    "    if(points == 0): return 0\n",
    "    for i in range(points):\n",
    "        x = random.uniform(0,1)\n",
    "        y = random.uniform(0,1)\n",
    "        if(x**2 + y**2 <= 1):\n",
    "            in_circle += 1\n",
    "    return round(4 * (in_circle / points),3)\n",
    "\n",
    "def Percent_Error(estimate):\n",
    "    print(f\"The Monte Carlo method estimated pi at {estimate:.3f}\")\n",
    "    print(f\"The estimate of pi has a {round(abs(estimate  - math.pi)/math.pi * 100, 2)}% error.\")"
   ]
  },
  {
   "attachments": {},
   "cell_type": "markdown",
   "metadata": {},
   "source": [
    "---\n",
    "## Test Solution"
   ]
  },
  {
   "cell_type": "code",
   "execution_count": 80,
   "metadata": {},
   "outputs": [
    {
     "name": "stdout",
     "output_type": "stream",
     "text": [
      "The Monte Carlo method estimated pi at 4.000\n",
      "The estimate of pi has a 27.32% error.\n"
     ]
    }
   ],
   "source": [
    "# solution testing test cases\n",
    "Percent_Error(Monte_Carlo_Pi(points_1))"
   ]
  },
  {
   "cell_type": "code",
   "execution_count": 81,
   "metadata": {},
   "outputs": [
    {
     "name": "stdout",
     "output_type": "stream",
     "text": [
      "The Monte Carlo method estimated pi at 3.040\n",
      "The estimate of pi has a 3.23% error.\n"
     ]
    }
   ],
   "source": [
    "Percent_Error(Monte_Carlo_Pi(points_2))"
   ]
  },
  {
   "cell_type": "code",
   "execution_count": 82,
   "metadata": {},
   "outputs": [
    {
     "name": "stdout",
     "output_type": "stream",
     "text": [
      "The Monte Carlo method estimated pi at 3.116\n",
      "The estimate of pi has a 0.81% error.\n"
     ]
    }
   ],
   "source": [
    "Percent_Error(Monte_Carlo_Pi(points_3))"
   ]
  },
  {
   "cell_type": "code",
   "execution_count": 83,
   "metadata": {},
   "outputs": [
    {
     "name": "stdout",
     "output_type": "stream",
     "text": [
      "The Monte Carlo method estimated pi at 3.141\n",
      "The estimate of pi has a 0.02% error.\n"
     ]
    }
   ],
   "source": [
    "Percent_Error(Monte_Carlo_Pi(points_4))"
   ]
  },
  {
   "cell_type": "code",
   "execution_count": 84,
   "metadata": {},
   "outputs": [
    {
     "name": "stdout",
     "output_type": "stream",
     "text": [
      "The Monte Carlo method estimated pi at 0.000\n",
      "The estimate of pi has a 100.0% error.\n"
     ]
    }
   ],
   "source": [
    "Percent_Error(Monte_Carlo_Pi(points_5))"
   ]
  },
  {
   "attachments": {},
   "cell_type": "markdown",
   "metadata": {},
   "source": [
    "---\n",
    "## Solution Explained"
   ]
  },
  {
   "attachments": {},
   "cell_type": "markdown",
   "metadata": {},
   "source": [
    "### Monte_Carlo_Pi(points) solution\n",
    "This code implements the Monte Carlo method for approximating the value of π. The main function, `Monte_Carlo_Pi`, takes as an argument the number of random points to be generated, represented by `points`. If the number of points is equal to 0, the function returns 0.\n",
    "\n",
    "The function generates `points` number of random points `(x, y)` within the unit square with sides of length 1, by using `random.uniform(0,1)` to generate the x and y coordinates of the points. `random.uniform` returns a random floating point number between 0 and 1.\n",
    "\n",
    "For each point generated, the function checks whether the point falls within the unit circle inscribed within the square by using the equation `x**2 + y**2 <= 1`. If the point falls within the circle, the `in_circle` counter is incremented.\n",
    "\n",
    "The value of π is estimated by dividing the number of points that fall within the circle by the total number of points generated and multiplying by 4. The final estimate of π is returned rounded to 3 decimal places using `round(4 * (in_circle / points),3)`.\n",
    "\n",
    "The `Percent_Error` function takes the estimate of π as an argument, `estimate`, and calculates the percentage error of the estimate compared to the true value of π from the `math` module. The percentage error is calculated as `round(abs(estimate - math.pi)/math.pi * 100, 2)` and is rounded to 2 decimal places. The estimate and the percentage error are printed to the console."
   ]
  }
 ],
 "metadata": {
  "kernelspec": {
   "display_name": "Python 3",
   "language": "python",
   "name": "python3"
  },
  "language_info": {
   "codemirror_mode": {
    "name": "ipython",
    "version": 3
   },
   "file_extension": ".py",
   "mimetype": "text/x-python",
   "name": "python",
   "nbconvert_exporter": "python",
   "pygments_lexer": "ipython3",
   "version": "3.9.12"
  },
  "orig_nbformat": 4,
  "vscode": {
   "interpreter": {
    "hash": "1616faeca1eb2b6217e80a7d062cec32587d2e1ba3999185fe005a5f436d1f1f"
   }
  }
 },
 "nbformat": 4,
 "nbformat_minor": 2
}
