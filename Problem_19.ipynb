{
 "cells": [
  {
   "attachments": {},
   "cell_type": "markdown",
   "metadata": {},
   "source": [
    "# Problem 19\n",
    "Given a dictionary of words and a string made up of those words (no spaces), return the original sentence in a list. If there is more than one possible reconstruction, return any of them. If there is no possible reconstruction, then return null.\n",
    "\n",
    "For example, given the set of words 'quick', 'brown', 'the', 'fox', and the string `\"thequickbrownfox\"`, you should return `['the', 'quick', 'brown', 'fox']`.\n",
    "\n",
    "Given the set of words 'bed', 'bath', 'bedbath', 'and', 'beyond', and the string `\"bedbathandbeyond\"`, return either `['bed', 'bath', 'and', 'beyond]` or `['bedbath', 'and', 'beyond']`."
   ]
  },
  {
   "attachments": {},
   "cell_type": "markdown",
   "metadata": {},
   "source": [
    "---\n",
    "## Test Cases"
   ]
  },
  {
   "cell_type": "code",
   "execution_count": 160,
   "metadata": {},
   "outputs": [],
   "source": [
    "# test cases\n",
    "test_1 = \"thequickbrownfox\"\n",
    "\n",
    "\n",
    "test_2 = \"bedbathandbeyond\""
   ]
  },
  {
   "attachments": {},
   "cell_type": "markdown",
   "metadata": {},
   "source": [
    "---\n",
    "## Solution"
   ]
  },
  {
   "cell_type": "code",
   "execution_count": 161,
   "metadata": {},
   "outputs": [],
   "source": [
    "# solution code\n",
    "\n",
    "# python library 'english_words' as a gives a dictionary\n",
    "from english_words import get_english_words_set\n",
    "from itertools import combinations\n",
    "\n",
    "\n",
    "def String_Reconstruction(string):\n",
    "    string = string.lower()\n",
    "    # creates dictionary to check input against\n",
    "    dictionary = list(get_english_words_set(['web2'], lower=True))\n",
    "    # removes uncharacteristic words found in dictionary\n",
    "    dictionary = [word for word in dictionary if len(word) != 1 or word == \"a\"] \n",
    "    dictionary.sort()\n",
    "    capture_substrings = []\n",
    "    for s in range(len(string)):\n",
    "        for l in range(1,len(string)+1):\n",
    "            # remove empty strings\n",
    "            if(string[:s] in dictionary and string[:s] not in capture_substrings):\n",
    "                capture_substrings.append(string[:s])\n",
    "            if(string[s:s+l] in dictionary and string[s:s+l] not in capture_substrings):\n",
    "                capture_substrings.append(string[s:s+l])\n",
    "            if(string[s+l:] in dictionary and string[s+l:] not in capture_substrings):\n",
    "                capture_substrings.append(string[s+l:])\n",
    "\n",
    "    print(capture_substrings)\n",
    "\n",
    "    words = []\n",
    "    for i in range(len(capture_substrings)):\n",
    "\n",
    "        if(string.startswith(capture_substrings[i])):\n",
    "            temp = [capture_substrings[i]]\n",
    "            temp_string = string.replace(capture_substrings[i], \"\", 1)\n",
    "            \n",
    "            for j in range(i, len(capture_substrings)):\n",
    "\n",
    "                if(temp_string.startswith(capture_substrings[j])):\n",
    "                    print(\"Found str:\",capture_substrings[j])\n",
    "                    temp.append(capture_substrings[j])\n",
    "                    temp_string = temp_string.replace(capture_substrings[j], \"\", 1)\n",
    "                    print(temp_string)\n",
    "\n",
    "            print(\"words:\", temp)\n",
    "            if(''.join(temp) == string):\n",
    "                words.append(temp)\n",
    "\n",
    "    return words\n"
   ]
  },
  {
   "cell_type": "code",
   "execution_count": 162,
   "metadata": {},
   "outputs": [],
   "source": [
    "\n",
    "# dictionary = list(get_english_words_set(['web2'], lower=True))\n",
    "# dictionary.sort()\n",
    "\n",
    "# for word in dictionary:\n",
    "#     if(word == \"brown\"): print( True)"
   ]
  },
  {
   "attachments": {},
   "cell_type": "markdown",
   "metadata": {},
   "source": [
    "---\n",
    "## Test Solution"
   ]
  },
  {
   "cell_type": "code",
   "execution_count": 163,
   "metadata": {},
   "outputs": [
    {
     "name": "stdout",
     "output_type": "stream",
     "text": [
      "['th', 'the', 'fox', 'ox', 'he', 'quick', 'brow', 'brown', 'ro', 'row', 'ow', 'own', 'fo']\n",
      "words: ['th']\n",
      "Found str: quick\n",
      "brownfox\n",
      "Found str: brow\n",
      "nfox\n",
      "words: ['the', 'quick', 'brow']\n"
     ]
    },
    {
     "data": {
      "text/plain": [
       "[]"
      ]
     },
     "execution_count": 163,
     "metadata": {},
     "output_type": "execute_result"
    }
   ],
   "source": [
    "# solution testing test cases\n",
    "String_Reconstruction(test_1)"
   ]
  },
  {
   "attachments": {},
   "cell_type": "markdown",
   "metadata": {},
   "source": [
    "---\n",
    "## Solution Explained"
   ]
  },
  {
   "attachments": {},
   "cell_type": "markdown",
   "metadata": {},
   "source": [
    "### function solution\n",
    "function solution explained"
   ]
  }
 ],
 "metadata": {
  "kernelspec": {
   "display_name": "base",
   "language": "python",
   "name": "python3"
  },
  "language_info": {
   "codemirror_mode": {
    "name": "ipython",
    "version": 3
   },
   "file_extension": ".py",
   "mimetype": "text/x-python",
   "name": "python",
   "nbconvert_exporter": "python",
   "pygments_lexer": "ipython3",
   "version": "3.9.12"
  },
  "orig_nbformat": 4,
  "vscode": {
   "interpreter": {
    "hash": "909ca5f560bbebec5e281e7237658d79e6328c8c97dd9d57b9f7776842486ec7"
   }
  }
 },
 "nbformat": 4,
 "nbformat_minor": 2
}
