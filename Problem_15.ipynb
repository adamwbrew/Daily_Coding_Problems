{
 "cells": [
  {
   "attachments": {},
   "cell_type": "markdown",
   "metadata": {},
   "source": [
    "# Problem 15\n",
    "Suppose we represent our file system by a string in the following manner:\n",
    "\n",
    "The string `\"dir\\n\\tsubdir1\\n\\tsubdir2\\n\\t\\tfile.ext\"` represents:\n",
    "\n",
    "```\n",
    "dir\n",
    "    subdir1\n",
    "    subdir2\n",
    "        file.ext\n",
    "```\n",
    "\n",
    "The directory `dir` contains an empty sub-directory `subdir1` and a sub-directory `subdir2` containing a file `file.ext`.\n",
    "\n",
    "The string `\"dir\\n\\tsubdir1\\n\\t\\tfile1.ext\\n\\t\\tsubsubdir1\\n\\tsubdir2\\n\\t\\tsubsubdir2\\n\\t\\t\\tfile2.ext\"` represents:\n",
    "\n",
    "```\n",
    "dir\n",
    "    subdir1\n",
    "        file1.ext\n",
    "        subsubdir1\n",
    "    subdir2\n",
    "        subsubdir2\n",
    "            file2.ext\n",
    "```\n",
    "\n",
    "The directory `dir` contains two sub-directories `subdir1` and `subdir2`. `subdir1` contains a file `file1.ext` and an empty second-level sub-directory `subsubdir1`. `subdir2` contains a second-level sub-directory `subsubdir2` containing a file `file2.ext`.\n",
    "\n",
    "We are interested in finding the longest (number of characters) absolute path to a file within our file system. For example, in the second example above, the longest absolute path is \"dir/subdir2/subsubdir2/file2.ext\", and its length is 32 (not including the double quotes).\n",
    "\n",
    "Given a string representing the file system in the above format, return the length of the longest absolute path to a file in the abstracted file system. If there is no file in the system, return 0.\n",
    "\n",
    "Note:\n",
    "\n",
    "The name of a file contains at least a period and an extension.\n",
    "\n",
    "The name of a directory or sub-directory will not contain a period."
   ]
  },
  {
   "attachments": {},
   "cell_type": "markdown",
   "metadata": {},
   "source": [
    "---\n",
    "## Test Cases"
   ]
  },
  {
   "cell_type": "code",
   "execution_count": 151,
   "metadata": {},
   "outputs": [],
   "source": [
    "# test cases\n",
    "test_0 = \"dir\\n\\tsubdir1\\n\\t\\tsub2.t\"\n",
    "\n",
    "test_1 = \"dir\\n\\tsubdir1\\n\\tsubdir2\"\n",
    "\n",
    "test_2 = \"dir\\n\\tsubdir1\\n\\t\\tfile1.ext\\n\\t\\tsubsubdir1\\n\\tsubdir2\\n\\t\\tsubsubdir2\\n\\t\\t\\tfile2.ext\"\n",
    "\n",
    "test_3 = \"\""
   ]
  },
  {
   "attachments": {},
   "cell_type": "markdown",
   "metadata": {},
   "source": [
    "---\n",
    "## Solution"
   ]
  },
  {
   "cell_type": "code",
   "execution_count": 152,
   "metadata": {},
   "outputs": [],
   "source": [
    "def Length_Absolute_Longest_Path(input):\n",
    "    max_len = 0\n",
    "    path_len = {0: 0}\n",
    "    for line in input.split('\\n'):\n",
    "        name = line.lstrip('\\t')\n",
    "        depth = len(line) - len(name)\n",
    "        if '.' in name:\n",
    "            max_len = max(max_len, path_len[depth] + len(name))\n",
    "        else:\n",
    "            path_len[depth+1] = path_len[depth] + len(name) + 1\n",
    "    return max_len"
   ]
  },
  {
   "attachments": {},
   "cell_type": "markdown",
   "metadata": {},
   "source": [
    "---\n",
    "## Test Solution"
   ]
  },
  {
   "cell_type": "code",
   "execution_count": 153,
   "metadata": {},
   "outputs": [
    {
     "data": {
      "text/plain": [
       "18"
      ]
     },
     "execution_count": 153,
     "metadata": {},
     "output_type": "execute_result"
    }
   ],
   "source": [
    "# solution testing test cases\n",
    "Length_Absolute_Longest_Path(test_0)"
   ]
  },
  {
   "cell_type": "code",
   "execution_count": 154,
   "metadata": {},
   "outputs": [
    {
     "data": {
      "text/plain": [
       "0"
      ]
     },
     "execution_count": 154,
     "metadata": {},
     "output_type": "execute_result"
    }
   ],
   "source": [
    "Length_Absolute_Longest_Path(test_1)"
   ]
  },
  {
   "cell_type": "code",
   "execution_count": 155,
   "metadata": {},
   "outputs": [
    {
     "data": {
      "text/plain": [
       "32"
      ]
     },
     "execution_count": 155,
     "metadata": {},
     "output_type": "execute_result"
    }
   ],
   "source": [
    "Length_Absolute_Longest_Path(test_2)"
   ]
  },
  {
   "cell_type": "code",
   "execution_count": 156,
   "metadata": {},
   "outputs": [
    {
     "data": {
      "text/plain": [
       "0"
      ]
     },
     "execution_count": 156,
     "metadata": {},
     "output_type": "execute_result"
    }
   ],
   "source": [
    "Length_Absolute_Longest_Path(test_3)"
   ]
  },
  {
   "attachments": {},
   "cell_type": "markdown",
   "metadata": {},
   "source": [
    "---\n",
    "## Solution Explained"
   ]
  },
  {
   "attachments": {},
   "cell_type": "markdown",
   "metadata": {},
   "source": [
    "### Length_Absolute_Longest_Path(input) solution\n",
    "The function `Length_Absolute_Longest_Path` takes in a string `input` which represents a file system. The goal is to find the length of the longest absolute path to a file in the file system. The file system is represented in the format described in the previous question.\n",
    "\n",
    "The function starts by initializing two variables, `max_len` to 0 and `path_len` to a dictionary with the key 0 and value 0. `max_len` will keep track of the length of the longest absolute path to a file, and `path_len` will keep track of the length of the current path. The keys in the `path_len` dictionary represent the depth of a directory or file in the file system, and the values represent the length of the path from the root directory to that directory or file.\n",
    "\n",
    "The function then splits the input string on the newline character to obtain a list of strings representing each line in the file system. For each line, the function first removes the leading tab characters using the `lstrip` method and assigns the resulting string to `name`. The variable `depth` is then calculated as the difference in length between the original line and the line with the leading tabs removed.\n",
    "\n",
    "If the `name` string contains a period, it represents a file. In this case, the function updates `max_len` to be the maximum of `max_len` and the sum of `path_len[depth]` and the length of `name`. This calculation gives the length of the absolute path to the file.\n",
    "\n",
    "If the `name` string does not contain a period, it represents a directory. In this case, the function updates the value in `path_len` for the next depth level by adding the length of `name` and 1 (for the \"/\" character).\n",
    "\n",
    "Finally, the function returns `max_len`, which is the length of the longest absolute path to a file in the file system."
   ]
  }
 ],
 "metadata": {
  "kernelspec": {
   "display_name": "Python 3",
   "language": "python",
   "name": "python3"
  },
  "language_info": {
   "codemirror_mode": {
    "name": "ipython",
    "version": 3
   },
   "file_extension": ".py",
   "mimetype": "text/x-python",
   "name": "python",
   "nbconvert_exporter": "python",
   "pygments_lexer": "ipython3",
   "version": "3.9.12"
  },
  "orig_nbformat": 4,
  "vscode": {
   "interpreter": {
    "hash": "1616faeca1eb2b6217e80a7d062cec32587d2e1ba3999185fe005a5f436d1f1f"
   }
  }
 },
 "nbformat": 4,
 "nbformat_minor": 2
}
