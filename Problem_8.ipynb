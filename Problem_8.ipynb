{
 "cells": [
  {
   "attachments": {},
   "cell_type": "markdown",
   "metadata": {},
   "source": [
    "# Problem 8\n",
    "Implement a job scheduler which takes in a function `f` and an integer `n`, and calls `f` after `n` milliseconds."
   ]
  },
  {
   "attachments": {},
   "cell_type": "markdown",
   "metadata": {},
   "source": [
    "---\n",
    "## Test Cases"
   ]
  },
  {
   "cell_type": "code",
   "execution_count": 1,
   "metadata": {},
   "outputs": [],
   "source": [
    "# test cases\n",
    "\n",
    "# text = \"Hello World\"\n",
    "\n",
    "# time_1 = 1000\n",
    "# scheduler(shout(text), time_1)\n",
    "\n",
    "# time_2 = 2000\n",
    "# scheduler(standard(text), time_2)\n",
    "\n",
    "# time_3 = 3000\n",
    "# scheduler(whisper(text), time_3)\n"
   ]
  },
  {
   "attachments": {},
   "cell_type": "markdown",
   "metadata": {},
   "source": [
    "---\n",
    "## Solution"
   ]
  },
  {
   "cell_type": "code",
   "execution_count": 2,
   "metadata": {},
   "outputs": [],
   "source": [
    "# solution code\n",
    "import time\n",
    "from datetime import datetime\n",
    "\n",
    "def shout(text):\n",
    "    return text.upper()\n",
    "\n",
    "def whisper(text):\n",
    "    return text.lower()\n",
    "\n",
    "def standard(text):\n",
    "    return text.title()\n",
    "\n",
    "def scheduler(f, n):\n",
    "    wait = round(time.time()*1000) + n\n",
    "    while(True):\n",
    "        if(time.time()*1000 >= wait):\n",
    "            return f"
   ]
  },
  {
   "cell_type": "code",
   "execution_count": 3,
   "metadata": {},
   "outputs": [
    {
     "name": "stdout",
     "output_type": "stream",
     "text": [
      "HELLO WORLD\n",
      "Job 1 started at 2023-02-01 22:43:56.929377\n",
      "Job 1 ended at 2023-02-01 22:43:57.929422\n",
      "\n",
      "Hello World\n",
      "Job 2 started at 2023-02-01 22:43:57.929422\n",
      "Job 2 ended at 2023-02-01 22:43:59.929890\n",
      "\n",
      "hello world\n",
      "Job 3 started at 2023-02-01 22:43:59.929890\n",
      "Job 3 ended at 2023-02-01 22:44:02.930812\n",
      "\n"
     ]
    }
   ],
   "source": [
    "# solution testing test cases\n",
    "text = \"Hello World\"\n",
    "\n",
    "time_1 = 1000\n",
    "time_1_start = datetime.utcnow()\n",
    "print(scheduler(shout(text), time_1))\n",
    "time_1_end = datetime.utcnow()\n",
    "print(f\"Job 1 started at {time_1_start}\\nJob 1 ended at {time_1_end}\\n\")\n",
    "\n",
    "time_2 = 2000\n",
    "time_2_start = datetime.utcnow()\n",
    "print(scheduler(standard(text), time_2))\n",
    "time_2_end = datetime.utcnow()\n",
    "print(f\"Job 2 started at {time_2_start}\\nJob 2 ended at {time_2_end}\\n\")\n",
    "\n",
    "time_3 = 3000\n",
    "time_3_start = datetime.utcnow()\n",
    "print(scheduler(whisper(text), time_3))\n",
    "time_3_end = datetime.utcnow()\n",
    "print(f\"Job 3 started at {time_3_start}\\nJob 3 ended at {time_3_end}\\n\")"
   ]
  },
  {
   "attachments": {},
   "cell_type": "markdown",
   "metadata": {},
   "source": [
    "---\n",
    "## Solution Explained"
   ]
  },
  {
   "attachments": {},
   "cell_type": "markdown",
   "metadata": {},
   "source": [
    "### scheduler(f, n) solution\n",
    "This function uses the python time library as it's main source to find the solution. The function first finds the wait time needed in milliseconds by adding *n* to the current time in milliseconds. Then the function waits to act in a while loop until the current time in milliseconda is greater then the wait time required found previously. After that the function calls and returns the argument function provided to it. "
   ]
  }
 ],
 "metadata": {
  "kernelspec": {
   "display_name": "Python 3",
   "language": "python",
   "name": "python3"
  },
  "language_info": {
   "codemirror_mode": {
    "name": "ipython",
    "version": 3
   },
   "file_extension": ".py",
   "mimetype": "text/x-python",
   "name": "python",
   "nbconvert_exporter": "python",
   "pygments_lexer": "ipython3",
   "version": "3.9.12"
  },
  "orig_nbformat": 4,
  "vscode": {
   "interpreter": {
    "hash": "1616faeca1eb2b6217e80a7d062cec32587d2e1ba3999185fe005a5f436d1f1f"
   }
  }
 },
 "nbformat": 4,
 "nbformat_minor": 2
}
