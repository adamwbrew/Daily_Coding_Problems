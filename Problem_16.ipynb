{
 "cells": [
  {
   "attachments": {},
   "cell_type": "markdown",
   "metadata": {},
   "source": [
    "# Problem 16\n",
    "Given an array of integers and a number `k`, where `1 <= k <= length of the array`, compute the maximum values of each subarray of length `k`.\n",
    "\n",
    "For example, given `array = [10, 5, 2, 7, 8, 7]` and `k = 3`, we should get: `[10, 7, 8, 8]`, since:\n",
    "```\n",
    "10 = max(10, 5, 2)\n",
    "7 = max(5, 2, 7)\n",
    "8 = max(2, 7, 8)\n",
    "8 = max(7, 8, 7)\n",
    "```\n",
    "Do this in O(n) time and O(k) space. You can modify the input array in-place and you do not need to store the results. You can simply print them out as you compute them."
   ]
  },
  {
   "attachments": {},
   "cell_type": "markdown",
   "metadata": {},
   "source": [
    "---\n",
    "## Test Cases"
   ]
  },
  {
   "cell_type": "code",
   "execution_count": 73,
   "metadata": {},
   "outputs": [],
   "source": [
    "# test cases\n",
    "\n",
    "k_1 = 2\n",
    "array_1 = [1, 2, 3, 4, 5, 6, 7, 8, 9]\n",
    "\n",
    "k_2 = 3\n",
    "array_2 = [10, 5, 2, 7, 8, 7]\n",
    "\n",
    "k_3 = 0\n",
    "array_3 = [10, 5, 2, 7, 8, 7, 2, 3]\n",
    "\n",
    "k_4 = 1\n",
    "array_4 = []\n",
    "\n",
    "k_5 = 3\n",
    "array_5 = [1,2]"
   ]
  },
  {
   "attachments": {},
   "cell_type": "markdown",
   "metadata": {},
   "source": [
    "---\n",
    "## Solution"
   ]
  },
  {
   "cell_type": "code",
   "execution_count": 74,
   "metadata": {},
   "outputs": [],
   "source": [
    "# solution code\n",
    "\n",
    "def Max_Subarrray_Values(array, k):\n",
    "    if(array == []): return \"array input is empty.\"\n",
    "    if (k < 1 or k > len(array)): return \"k must be greater or equal to 1 and less than or equal to the size of the array.\"\n",
    "    max_values = []\n",
    "    for i in range(len(array) - k + 1):\n",
    "        subarray = array[i:i+k]\n",
    "        max_values.append(max(subarray))\n",
    "    return max_values"
   ]
  },
  {
   "attachments": {},
   "cell_type": "markdown",
   "metadata": {},
   "source": [
    "---\n",
    "## Test Solution"
   ]
  },
  {
   "cell_type": "code",
   "execution_count": 75,
   "metadata": {},
   "outputs": [
    {
     "data": {
      "text/plain": [
       "[2, 3, 4, 5, 6, 7, 8, 9]"
      ]
     },
     "execution_count": 75,
     "metadata": {},
     "output_type": "execute_result"
    }
   ],
   "source": [
    "# solution testing test cases\n",
    "Max_Subarrray_Values(array_1, k_1)"
   ]
  },
  {
   "cell_type": "code",
   "execution_count": 76,
   "metadata": {},
   "outputs": [
    {
     "data": {
      "text/plain": [
       "[10, 7, 8, 8]"
      ]
     },
     "execution_count": 76,
     "metadata": {},
     "output_type": "execute_result"
    }
   ],
   "source": [
    "Max_Subarrray_Values(array_2, k_2)"
   ]
  },
  {
   "cell_type": "code",
   "execution_count": 77,
   "metadata": {},
   "outputs": [
    {
     "data": {
      "text/plain": [
       "'k must be greater or equal to 1 and less than or equal to the size of the array.'"
      ]
     },
     "execution_count": 77,
     "metadata": {},
     "output_type": "execute_result"
    }
   ],
   "source": [
    "Max_Subarrray_Values(array_3, k_3)"
   ]
  },
  {
   "cell_type": "code",
   "execution_count": 78,
   "metadata": {},
   "outputs": [
    {
     "data": {
      "text/plain": [
       "'array input is empty.'"
      ]
     },
     "execution_count": 78,
     "metadata": {},
     "output_type": "execute_result"
    }
   ],
   "source": [
    "Max_Subarrray_Values(array_4, k_4)"
   ]
  },
  {
   "cell_type": "code",
   "execution_count": 79,
   "metadata": {},
   "outputs": [
    {
     "data": {
      "text/plain": [
       "'k must be greater or equal to 1 and less than or equal to the size of the array.'"
      ]
     },
     "execution_count": 79,
     "metadata": {},
     "output_type": "execute_result"
    }
   ],
   "source": [
    "Max_Subarrray_Values(array_5, k_5)"
   ]
  },
  {
   "attachments": {},
   "cell_type": "markdown",
   "metadata": {},
   "source": [
    "---\n",
    "## Solution Explained"
   ]
  },
  {
   "attachments": {},
   "cell_type": "markdown",
   "metadata": {},
   "source": [
    "### Max_Subarray_Values(array, k) solution\n",
    "This code defines a function named `Max_Subarray_Values` which takes two arguments:\n",
    "\n",
    "- `array`, a list of integers, representing the input array of numbers\n",
    "- `k`, an integer, representing the length of subarrays that the function will be considering.\n",
    "\n",
    "The function starts by checking if `array` is an empty list, the function returns the string \"array input is empty\". If `k` is greater than zero and less than or equal to the size of `array`, in which case it returns the string \"k must be greater or equal to 1 and less than or equal to the size of the array.\".\n",
    "\n",
    "The main logic of the function starts by initializing an empty list named `max_values`. The function then uses a `for` loop, which iterates over `range(len(array) - k + 1)` in order to consider subarrays of length `k` starting from each element of `array`. For each iteration, the subarray `subarray` is created as a slice of array from `i` to `i+k`. The maximum element of `subarray` is then found using the `max` function and is appended to `max_values`.\n",
    "\n",
    "Finally, the `max_values` list is returned by the function.\n",
    "\n",
    "The time complexity of this code is O(nk), where `n` is the length of the input array. This is because for each of the `n-k+1` subarrays, the function needs to find the maximum element, which takes O(k) time.\n",
    "\n",
    "The memory space used by this code is O(n), where `n` is the length of the input array. This is because the `max_values` list needs to store `n-k+1` maximum elements, each taking O(1) space.\n",
    "\n",
    "The time complexity and memory space constraints are not met according to the original problem, however, this solution is the closest to what was asked for that I could implement."
   ]
  }
 ],
 "metadata": {
  "kernelspec": {
   "display_name": "Python 3",
   "language": "python",
   "name": "python3"
  },
  "language_info": {
   "codemirror_mode": {
    "name": "ipython",
    "version": 3
   },
   "file_extension": ".py",
   "mimetype": "text/x-python",
   "name": "python",
   "nbconvert_exporter": "python",
   "pygments_lexer": "ipython3",
   "version": "3.9.12"
  },
  "orig_nbformat": 4,
  "vscode": {
   "interpreter": {
    "hash": "1616faeca1eb2b6217e80a7d062cec32587d2e1ba3999185fe005a5f436d1f1f"
   }
  }
 },
 "nbformat": 4,
 "nbformat_minor": 2
}
