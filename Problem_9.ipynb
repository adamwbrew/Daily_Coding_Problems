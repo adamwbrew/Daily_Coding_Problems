{
 "cells": [
  {
   "attachments": {},
   "cell_type": "markdown",
   "metadata": {},
   "source": [
    "# Problem 9\n",
    "Implement an autocomplete system. That is, given a query string s and a set of all possible query strings, return all strings in the set that have s as a prefix.\n",
    "\n",
    "For example, given the query string `de` and the set of strings `[dog, deer, deal]`, return `[deer, deal]`.\n",
    "\n",
    "Hint: Try preprocessing the dictionary into a more efficient data structure to speed up queries."
   ]
  },
  {
   "attachments": {},
   "cell_type": "markdown",
   "metadata": {},
   "source": [
    "---\n",
    "## Test Cases"
   ]
  },
  {
   "cell_type": "code",
   "execution_count": 7,
   "metadata": {},
   "outputs": [
    {
     "name": "stdout",
     "output_type": "stream",
     "text": [
      "Number of words in 'english_words' python library for test dictionary: 234450 words\n"
     ]
    }
   ],
   "source": [
    "# test cases\n",
    "\n",
    "# this test case is based on the python library 'english_words' as a test dictionary\n",
    "from english_words import get_english_words_set\n",
    "test_dict = list(get_english_words_set(['web2'], lower=True))\n",
    "test_dict.sort()\n",
    "print(\"Number of words in 'english_words' python library for test dictionary:\", len(test_dict), \"words\")"
   ]
  },
  {
   "attachments": {},
   "cell_type": "markdown",
   "metadata": {},
   "source": [
    "---\n",
    "## Solution"
   ]
  },
  {
   "cell_type": "code",
   "execution_count": 8,
   "metadata": {},
   "outputs": [],
   "source": [
    "# create column database for word list\n",
    "import pandas as pd\n",
    "import numpy as np\n",
    "import itertools\n",
    "from tqdm.notebook import tqdm\n",
    "\n",
    "# creates all headers needed for column database\n",
    "def headers(n = 3):\n",
    "    if(n < 1): n = 1\n",
    "    columns = []\n",
    "    letters = 'a,b,c,d,e,f,g,h,i,j,k,l,m,n,o,p,q,r,s,t,u,v,w,x,y,z,-'.split(',')\n",
    "    columns = list(map(list,itertools.product(letters, repeat=n)))\n",
    "    for col in range(len(columns)):\n",
    "        header = ''\n",
    "        for letter in columns[col]:\n",
    "            letter = letter.replace('-', '')\n",
    "            header += letter\n",
    "        columns[col] = header\n",
    "    columns = list(set(columns))\n",
    "    columns = [col for col in columns if col != '']\n",
    "    columns.sort(key = len)\n",
    "    return columns\n",
    "\n",
    "# creates column database based on word list given and headers created in headers function\n",
    "def column_df(word_list, header_list):\n",
    "    df = pd.DataFrame()\n",
    "    # used to fill columns assigned with small amount of words\n",
    "    null_filler = 80000\n",
    "    # tqdm is used to help indicate how long database takes to create\n",
    "    for header in tqdm(header_list):\n",
    "        temp_word_list = []\n",
    "        for word in word_list:\n",
    "            if(word[:len(header)] == header):\n",
    "                temp_word_list.append(word)\n",
    "        # removes any column that would be empty\n",
    "        if(len(temp_word_list) != 0):\n",
    "            temp_word_list = temp_word_list + ['' for i in range(0,null_filler-len(temp_word_list))]\n",
    "            df[f\"{header}\"] = temp_word_list\n",
    "    df = df.dropna(how = \"all\")\n",
    "    return df"
   ]
  },
  {
   "cell_type": "code",
   "execution_count": 9,
   "metadata": {},
   "outputs": [
    {
     "data": {
      "application/vnd.jupyter.widget-view+json": {
       "model_id": "531299da169b4011a13b6fb41c8dce1d",
       "version_major": 2,
       "version_minor": 0
      },
      "text/plain": [
       "  0%|          | 0/18278 [00:00<?, ?it/s]"
      ]
     },
     "metadata": {},
     "output_type": "display_data"
    }
   ],
   "source": [
    "# command to make column database based on 'max_autocomplete_word_length'\n",
    "# as max_autocomplete_word_length increases, speed of autocomplete speeds up, however process ot make database significantly increase\n",
    "max_autocomplete_word_length = 3\n",
    "column_database = column_df(test_dict,headers(max_autocomplete_word_length))"
   ]
  },
  {
   "cell_type": "code",
   "execution_count": 117,
   "metadata": {},
   "outputs": [],
   "source": [
    "import time\n",
    "\n",
    "# solution based on column database data structure\n",
    "def autocomplete(user_input, dataframe):\n",
    "    output = ''\n",
    "    columns = dataframe.columns\n",
    "    # condition is user_input in current database column headers\n",
    "    if(user_input in columns):\n",
    "        output = dataframe[f\"{user_input}\"].to_list()\n",
    "        if(user_input in output):\n",
    "            output.remove(user_input)\n",
    "        output = [result for result in output if result != '']\n",
    "    else:\n",
    "        # if user_input not in headers, find closest related column\n",
    "        for i in range(1, len(user_input)):\n",
    "            if(user_input[:len(user_input) - i] in columns):\n",
    "                output = dataframe[f\"{user_input[:len(user_input) - i]}\"].to_list()\n",
    "                output = [result for result in output if result != '']\n",
    "                output_remove = []\n",
    "                if(user_input[:len(user_input)] in output):\n",
    "                    output_remove.append(user_input[:len(user_input)])\n",
    "                # reduce closest related column if words in column does not start with user_input\n",
    "                for word in output:\n",
    "                    if(word[:len(user_input)] != user_input):\n",
    "                        output_remove.append(word)\n",
    "                output = [word for word in output if word not in output_remove]\n",
    "                break\n",
    "        if(output == ''):\n",
    "            output = \"No results found\"\n",
    "    return output\n",
    "\n",
    "def pretty_print(user_input, column_database):\n",
    "    # use time library to find time to query autocomplete list\n",
    "    start = time.time() * 1000\n",
    "    results = autocomplete(user_input, column_database)\n",
    "    end = time.time() * 1000\n",
    "    # print user friendly output\n",
    "    print(\"User inputed:\", user_input)\n",
    "    print(\"-\" * 25)\n",
    "    if(type(results) == list):\n",
    "        print(f\"{len(results)} autocomplete results found.\")\n",
    "        if(len(results) < 5):\n",
    "            print(f\"First {len(results)} autocomplete results are: {results[:5]}\")\n",
    "        else:\n",
    "            print(f\"First 5 autocomplete results are: {results[:5]}\")\n",
    "    else:\n",
    "        print(\"No autocomplete results found.\")\n",
    "    print(f\"This autocomplete took {round(end - start, 2)} milliseconds to query.\")"
   ]
  },
  {
   "attachments": {},
   "cell_type": "markdown",
   "metadata": {},
   "source": [
    "---\n",
    "## Test Solution"
   ]
  },
  {
   "cell_type": "code",
   "execution_count": 118,
   "metadata": {},
   "outputs": [
    {
     "name": "stdout",
     "output_type": "stream",
     "text": [
      "User inputed: dog\n",
      "-------------------------\n",
      "88 autocomplete results found.\n",
      "First 5 autocomplete results are: ['dogal', 'dogate', 'dogbane', 'dogberry', 'dogberrydom']\n",
      "This autocomplete took 2.03 milliseconds to query.\n"
     ]
    }
   ],
   "source": [
    "user_input = \"dog\"\n",
    "pretty_print(user_input, column_database)"
   ]
  },
  {
   "cell_type": "code",
   "execution_count": 114,
   "metadata": {},
   "outputs": [
    {
     "name": "stdout",
     "output_type": "stream",
     "text": [
      "User inputed: yello\n",
      "-------------------------\n",
      "37 autocomplete results found.\n",
      "First 5 autocomplete results are: ['yelloch', 'yellow', 'yellowammer', 'yellowback', 'yellowbelly']\n",
      "This autocomplete took 3.0 milliseconds to query.\n"
     ]
    }
   ],
   "source": [
    "user_input = \"yello\"\n",
    "pretty_print(user_input, column_database)"
   ]
  },
  {
   "cell_type": "code",
   "execution_count": 115,
   "metadata": {},
   "outputs": [
    {
     "name": "stdout",
     "output_type": "stream",
     "text": [
      "User inputed: s\n",
      "-------------------------\n",
      "24936 autocomplete results found.\n",
      "First 5 autocomplete results are: ['sa', 'saa', 'saad', 'saan', 'saarbrucken']\n",
      "This autocomplete took 8.12 milliseconds to query.\n"
     ]
    }
   ],
   "source": [
    "user_input = \"s\"\n",
    "pretty_print(user_input, column_database)"
   ]
  },
  {
   "cell_type": "code",
   "execution_count": 116,
   "metadata": {},
   "outputs": [
    {
     "name": "stdout",
     "output_type": "stream",
     "text": [
      "User inputed: wsq\n",
      "-------------------------\n",
      "0 autocomplete results found.\n",
      "First 0 autocomplete results are: []\n",
      "This autocomplete took 91.23 milliseconds to query.\n"
     ]
    }
   ],
   "source": [
    "user_input = \"wsq\"\n",
    "pretty_print(user_input, column_database)"
   ]
  },
  {
   "attachments": {},
   "cell_type": "markdown",
   "metadata": {},
   "source": [
    "---\n",
    "## Solution Explained"
   ]
  },
  {
   "attachments": {},
   "cell_type": "markdown",
   "metadata": {},
   "source": [
    "### autocomplete(user_input, dataframe) solution\n",
    "This solution is based on the creation of a colum database. The column database is created using the `column_df(word_list, header_list)` function which takes a list of word (in this case taken from the `english_words` python library to imitate all the word in the english dictionary) and a list of headers (created by the `headers(max_autocomplete_word_length)` function which create all combanations letters in the english language in the range of 1 to `max_autocomplete_word_length` letters per combonation: `a`, `aa`, `ab`, `aaa`, `aab`, ...). After the database is created, we can use the solution function `autocomplete(user_input, dataframe)`. This function uses the `column_df(word_list, header_list)` output as the `dataframe` and `user_input` as the word trying to be completed by the user. The function takes this `user_input` and looks to see if it can be found in the dataframe's columns. If so, the dataframe's column is turned into a list and removes all Nulls from the list, then returns the list. If the condition is not true, the functions searches the the column most similar to the `user_input`, and removes any word in the column that does not start with `user_input` then returns the list. If no words can be found similar to the `user_input`, the function prints out that no results were found.\n",
    "\n",
    "To make this output more user friendly and find how long it take to query the autocomplete information, a user can use the function `pretty_print(user_input, column_database)`. This function times the `autocomplete(user_input, dataframe)` function based on `user_input` for what's being autocompleted for the user, then prints out how many results were found, how long the autocomplete querying took, and the first few autocomplete results sorted alphabetically. "
   ]
  }
 ],
 "metadata": {
  "kernelspec": {
   "display_name": "base",
   "language": "python",
   "name": "python3"
  },
  "language_info": {
   "codemirror_mode": {
    "name": "ipython",
    "version": 3
   },
   "file_extension": ".py",
   "mimetype": "text/x-python",
   "name": "python",
   "nbconvert_exporter": "python",
   "pygments_lexer": "ipython3",
   "version": "3.9.12"
  },
  "orig_nbformat": 4,
  "vscode": {
   "interpreter": {
    "hash": "909ca5f560bbebec5e281e7237658d79e6328c8c97dd9d57b9f7776842486ec7"
   }
  }
 },
 "nbformat": 4,
 "nbformat_minor": 2
}
