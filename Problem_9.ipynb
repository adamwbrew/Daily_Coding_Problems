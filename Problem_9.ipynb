{
 "cells": [
  {
   "attachments": {},
   "cell_type": "markdown",
   "metadata": {},
   "source": [
    "# Prblem 9\n",
    "Implement an autocomplete system. That is, given a query string s and a set of all possible query strings, return all strings in the set that have s as a prefix.\n",
    "\n",
    "For example, given the query string `de` and the set of strings `[dog, deer, deal]`, return `[deer, deal]`.\n",
    "\n",
    "Hint: Try preprocessing the dictionary into a more efficient data structure to speed up queries."
   ]
  },
  {
   "attachments": {},
   "cell_type": "markdown",
   "metadata": {},
   "source": [
    "---\n",
    "## Test Cases"
   ]
  },
  {
   "cell_type": "code",
   "execution_count": 7,
   "metadata": {},
   "outputs": [
    {
     "name": "stdout",
     "output_type": "stream",
     "text": [
      "Number of words in 'english_words' python library for test dictionary: 234450 words\n"
     ]
    }
   ],
   "source": [
    "# test cases\n",
    "from english_words import get_english_words_set\n",
    "test_dict = list(get_english_words_set(['web2'], lower=True))\n",
    "test_dict.sort()\n",
    "print(\"Number of words in 'english_words' python library for test dictionary:\", len(test_dict), \"words\")"
   ]
  },
  {
   "attachments": {},
   "cell_type": "markdown",
   "metadata": {},
   "source": [
    "---\n",
    "## Solution"
   ]
  },
  {
   "cell_type": "code",
   "execution_count": 8,
   "metadata": {},
   "outputs": [],
   "source": [
    "# create column database for word list\n",
    "import pandas as pd\n",
    "import numpy as np\n",
    "import itertools\n",
    "from tqdm.notebook import tqdm\n",
    "\n",
    "\n",
    "def headers(n = 5):\n",
    "    columns = []\n",
    "    letters = 'a,b,c,d,e,f,g,h,i,j,k,l,m,n,o,p,q,r,s,t,u,v,w,x,y,z,-'.split(',')\n",
    "    columns = list(map(list,itertools.product(letters, repeat=n)))\n",
    "    for col in range(len(columns)):\n",
    "        header = ''\n",
    "        for letter in columns[col]:\n",
    "            letter = letter.replace('-', '')\n",
    "            header += letter\n",
    "        columns[col] = header\n",
    "    columns = list(set(columns))\n",
    "    columns = [col for col in columns if col != '']\n",
    "    columns.sort(key = len)\n",
    "    return columns\n",
    "\n",
    "def column_df(word_list, header_list):\n",
    "    df = pd.DataFrame()\n",
    "    null_filler = 80000\n",
    "    for header in tqdm(header_list):\n",
    "        temp_word_list = []\n",
    "        for word in word_list:\n",
    "            if(word[:len(header)] == header):\n",
    "                temp_word_list.append(word)\n",
    "        if(len(temp_word_list) != 0):\n",
    "            temp_word_list = temp_word_list + ['' for i in range(0,null_filler-len(temp_word_list))]\n",
    "            df[f\"{header}\"] = temp_word_list\n",
    "    df = df.dropna(how = \"all\")\n",
    "    return df"
   ]
  },
  {
   "cell_type": "code",
   "execution_count": 9,
   "metadata": {},
   "outputs": [
    {
     "data": {
      "application/vnd.jupyter.widget-view+json": {
       "model_id": "531299da169b4011a13b6fb41c8dce1d",
       "version_major": 2,
       "version_minor": 0
      },
      "text/plain": [
       "  0%|          | 0/18278 [00:00<?, ?it/s]"
      ]
     },
     "metadata": {},
     "output_type": "display_data"
    }
   ],
   "source": [
    "# command to make column database based on \n",
    "max_autocomplete_word_length = 3\n",
    "column_database = column_df(test_dict,headers(max_autocomplete_word_length))"
   ]
  },
  {
   "cell_type": "code",
   "execution_count": 58,
   "metadata": {},
   "outputs": [],
   "source": [
    "import time\n",
    "\n",
    "# solution based on data structure\n",
    "def autocomplete(user_input, dataframe):\n",
    "    output = ''\n",
    "    columns = dataframe.columns\n",
    "    if(user_input in columns):\n",
    "        output = dataframe[f\"{user_input}\"].to_list()\n",
    "        if(user_input in output):\n",
    "            output.remove(user_input)\n",
    "        output = [result for result in output if result != '']\n",
    "    else:\n",
    "        for i in range(1, len(user_input)):\n",
    "            if(user_input[:len(user_input) - i] in columns):\n",
    "                output = dataframe[f\"{user_input[:len(user_input) - i]}\"].to_list()\n",
    "                if(user_input[:len(user_input) - i] in output):\n",
    "                    output.remove(user_input[:len(user_input) - i])\n",
    "                output = [result for result in output if result != '']\n",
    "                output_remove = []\n",
    "                for word in output:\n",
    "                    if(word[:len(user_input)] != user_input):\n",
    "                        output_remove.append(word)\n",
    "                output = [word for word in output if word not in output_remove]\n",
    "                return output\n",
    "        if(output == ''):\n",
    "            output = \"No results found\"\n",
    "    return output\n",
    "\n",
    "def pretty_print(user_input, column_database):\n",
    "    start = time.time() * 1000\n",
    "    results = autocomplete(user_input, column_database)\n",
    "    end = time.time() * 1000\n",
    "    print(\"User inputed:\", user_input)\n",
    "    print(\"-\" * 20)\n",
    "    if(type(results) == list):\n",
    "        print(f\"{len(results)} autocomplete results found.\")\n",
    "        print(f\"First 5 autocomplete results are: {results[:5]}\")\n",
    "    else:\n",
    "        print(\"No autocomplete results found.\")\n",
    "    print(f\"This autocomplete took {round(end - start, 2)} milliseconds to query.\")"
   ]
  },
  {
   "cell_type": "code",
   "execution_count": 59,
   "metadata": {},
   "outputs": [
    {
     "name": "stdout",
     "output_type": "stream",
     "text": [
      "User inputed: dea\n",
      "--------------------\n",
      "158 autocomplete results found.\n",
      "First 5 autocomplete results are: ['deacetylate', 'deacetylation', 'deacidification', 'deacidify', 'deacon']\n",
      "This autocomplete took 4.64 milliseconds to query.\n"
     ]
    }
   ],
   "source": [
    "user_input = \"dea\"\n",
    "pretty_print(user_input, column_database)"
   ]
  },
  {
   "cell_type": "code",
   "execution_count": 64,
   "metadata": {},
   "outputs": [
    {
     "name": "stdout",
     "output_type": "stream",
     "text": [
      "User inputed: xyloc\n",
      "--------------------\n",
      "5 autocomplete results found.\n",
      "First 5 autocomplete results are: ['xylocarp', 'xylocarpous', 'xylocopa', 'xylocopid', 'xylocopidae']\n",
      "This autocomplete took 2.01 milliseconds to query.\n"
     ]
    }
   ],
   "source": [
    "user_input = \"xyloc\"\n",
    "pretty_print(user_input, column_database)"
   ]
  },
  {
   "cell_type": "code",
   "execution_count": 65,
   "metadata": {},
   "outputs": [
    {
     "name": "stdout",
     "output_type": "stream",
     "text": [
      "User inputed: z\n",
      "--------------------\n",
      "941 autocomplete results found.\n",
      "First 5 autocomplete results are: ['za', 'zabaean', 'zabaglione', 'zabaism', 'zaberma']\n",
      "This autocomplete took 3.0 milliseconds to query.\n"
     ]
    }
   ],
   "source": [
    "user_input = \"z\"\n",
    "pretty_print(user_input, column_database)"
   ]
  },
  {
   "cell_type": "code",
   "execution_count": 66,
   "metadata": {},
   "outputs": [
    {
     "name": "stdout",
     "output_type": "stream",
     "text": [
      "User inputed: wsq\n",
      "--------------------\n",
      "0 autocomplete results found.\n",
      "First 5 autocomplete results are: []\n",
      "This autocomplete took 94.08 milliseconds to query.\n"
     ]
    }
   ],
   "source": [
    "user_input = \"wsq\"\n",
    "pretty_print(user_input, column_database)"
   ]
  },
  {
   "attachments": {},
   "cell_type": "markdown",
   "metadata": {},
   "source": [
    "---\n",
    "## Solution Explained"
   ]
  },
  {
   "attachments": {},
   "cell_type": "markdown",
   "metadata": {},
   "source": [
    "### function solution\n",
    "function solution explained"
   ]
  }
 ],
 "metadata": {
  "kernelspec": {
   "display_name": "base",
   "language": "python",
   "name": "python3"
  },
  "language_info": {
   "codemirror_mode": {
    "name": "ipython",
    "version": 3
   },
   "file_extension": ".py",
   "mimetype": "text/x-python",
   "name": "python",
   "nbconvert_exporter": "python",
   "pygments_lexer": "ipython3",
   "version": "3.9.12"
  },
  "orig_nbformat": 4,
  "vscode": {
   "interpreter": {
    "hash": "909ca5f560bbebec5e281e7237658d79e6328c8c97dd9d57b9f7776842486ec7"
   }
  }
 },
 "nbformat": 4,
 "nbformat_minor": 2
}
