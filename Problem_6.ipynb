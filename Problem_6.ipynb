{
 "cells": [
  {
   "attachments": {},
   "cell_type": "markdown",
   "metadata": {},
   "source": [
    "# Problem 6\n",
    "Good morning! Here's your coding interview problem for today.\n",
    "\n",
    "This problem was asked by Google.\n",
    "\n",
    "A unival tree (which stands for \"universal value\") is a tree where all nodes under it have the same value.\n",
    "\n",
    "Given the root to a binary tree, count the number of unival subtrees.\n",
    "\n",
    "For example, the following tree has 5 unival subtrees:\n",
    "\n",
    "```\n",
    "   0\n",
    "  / \\\n",
    " 1   0\n",
    "    / \\\n",
    "   1   0\n",
    "  / \\\n",
    " 1   1\n",
    " ```"
   ]
  },
  {
   "attachments": {},
   "cell_type": "markdown",
   "metadata": {},
   "source": [
    "---\n",
    "## Test Cases"
   ]
  },
  {
   "cell_type": "code",
   "execution_count": 1,
   "metadata": {},
   "outputs": [],
   "source": [
    "# test cases\n",
    "\n",
    "# test_0 = Node(0, Node(1), Node(0, Node(1, Node(1), Node(1)), Node(0)))\n",
    "# test_1 = Node(1, Node(1, Node(1), Node(1)), None)\n",
    "# test_2 = Node(0, Node(1), Node(0, None,Node(0)))\n",
    "# test_3 = Node(0, Node(2, Node(2), Node(2, None, Node(2))), Node(0, None, Node(0, Node(1, Node(1), None), None)))\n",
    "# test_4 = Node(0)\n"
   ]
  },
  {
   "attachments": {},
   "cell_type": "markdown",
   "metadata": {},
   "source": [
    "---\n",
    "## Solution"
   ]
  },
  {
   "cell_type": "code",
   "execution_count": 2,
   "metadata": {},
   "outputs": [],
   "source": [
    "# solution code\n",
    "class Node:\n",
    "    def __init__(self, val, left = None, right = None):\n",
    "        self.val = val\n",
    "        self.right = right\n",
    "        self.left = left\n",
    "\n",
    "def Unival_Subtree_Finder(tree, count = None):\n",
    "    if(tree.left == None and tree.right == None):\n",
    "        count += 1\n",
    "\n",
    "    elif(tree.left != None and tree.right == None):\n",
    "        count =  Unival_Subtree_Finder(tree.left, count)\n",
    "\n",
    "    elif(tree.left == None and tree.right != None):\n",
    "        count =  Unival_Subtree_Finder(tree.right, count)\n",
    "\n",
    "    elif(tree.left.val == tree.val and tree.right.val == tree.val):\n",
    "        count += 1\n",
    "        count =  Unival_Subtree_Finder(tree.left, count)\n",
    "        count =  Unival_Subtree_Finder(tree.right, count)\n",
    "        \n",
    "    elif(tree.left.val != tree.right.val or tree.left.val == tree.right.val):\n",
    "        count =  Unival_Subtree_Finder(tree.left, count)\n",
    "        count =  Unival_Subtree_Finder(tree.right, count)\n",
    "\n",
    "    return count\n",
    "\n"
   ]
  },
  {
   "cell_type": "code",
   "execution_count": 3,
   "metadata": {},
   "outputs": [],
   "source": [
    "# print functions to help display results\n",
    "\n",
    "def pretty_print(results):\n",
    "    print(f\"{results} unival trees were found in this binary tree.\")\n",
    "\n",
    "# found on StackOverflow: https://stackoverflow.com/questions/34012886/print-binary-tree-level-by-level-in-python\n",
    "def PrintTree(root):\n",
    "    def height(root):\n",
    "        return 1 + max(height(root.left), height(root.right)) if root else -1  \n",
    "    nlevels = height(root)\n",
    "    width =  pow(2,nlevels+1)\n",
    "\n",
    "    q=[(root,0,width,'c')]\n",
    "    levels=[]\n",
    "\n",
    "    while(q):\n",
    "        node,level,x,align= q.pop(0)\n",
    "        if node:            \n",
    "            if len(levels)<=level:\n",
    "                levels.append([])\n",
    "        \n",
    "            levels[level].append([node,level,x,align])\n",
    "            seg= width//(pow(2,level+1))\n",
    "            q.append((node.left,level+1,x-seg,'l'))\n",
    "            q.append((node.right,level+1,x+seg,'r'))\n",
    "\n",
    "    for i,l in enumerate(levels):\n",
    "        pre=0\n",
    "        preline=0\n",
    "        linestr=''\n",
    "        pstr=''\n",
    "        seg= width//(pow(2,i+1))\n",
    "        for n in l:\n",
    "            valstr= str(n[0].val)\n",
    "            if n[3]=='r':\n",
    "                linestr+=' '*(n[2]-preline-1-seg-seg//2)+ '¯'*(seg +seg//2)+'\\\\'\n",
    "                preline = n[2] \n",
    "            if n[3]=='l':\n",
    "               linestr+=' '*(n[2]-preline-1)+'/' + '¯'*(seg+seg//2)  \n",
    "               preline = n[2] + seg + seg//2\n",
    "            pstr+=' '*(n[2]-pre-len(valstr))+valstr #correct the potition acording to the number size\n",
    "            pre = n[2]\n",
    "        print(linestr)\n",
    "        print(pstr)   "
   ]
  },
  {
   "cell_type": "code",
   "execution_count": 4,
   "metadata": {},
   "outputs": [
    {
     "name": "stdout",
     "output_type": "stream",
     "text": [
      "5 unival trees were found in this binary tree.\n",
      "\n",
      "               0\n",
      "       /¯¯¯¯¯¯   ¯¯¯¯¯¯\\\n",
      "       1               0\n",
      "                   /¯¯¯ ¯¯¯\\\n",
      "                   1       0\n",
      "                 /¯ ¯\\\n",
      "                 1   1\n"
     ]
    }
   ],
   "source": [
    "test_0 = Node(0, Node(1), Node(0, Node(1, Node(1), Node(1)), Node(0)))\n",
    "pretty_print(Unival_Subtree_Finder(test_0,0))\n",
    "PrintTree(test_0)"
   ]
  },
  {
   "cell_type": "code",
   "execution_count": 5,
   "metadata": {},
   "outputs": [
    {
     "name": "stdout",
     "output_type": "stream",
     "text": [
      "3 unival trees were found in this binary tree.\n",
      "\n",
      "       1\n",
      "   /¯¯¯\n",
      "   1\n",
      " /¯ ¯\\\n",
      " 1   1\n"
     ]
    }
   ],
   "source": [
    "# solution testing test cases\n",
    "test_1 = Node(1, Node(1, Node(1), Node(1)), None)\n",
    "pretty_print(Unival_Subtree_Finder(test_1,0))\n",
    "PrintTree(test_1)"
   ]
  },
  {
   "cell_type": "code",
   "execution_count": 6,
   "metadata": {},
   "outputs": [
    {
     "name": "stdout",
     "output_type": "stream",
     "text": [
      "2 unival trees were found in this binary tree.\n",
      "\n",
      "       0\n",
      "   /¯¯¯ ¯¯¯\\\n",
      "   1       0\n",
      "            ¯\\\n",
      "             0\n"
     ]
    }
   ],
   "source": [
    "test_2 = Node(0, Node(1), Node(0, None,Node(0)))\n",
    "pretty_print(Unival_Subtree_Finder(test_2, 0))\n",
    "PrintTree(test_2)"
   ]
  },
  {
   "cell_type": "code",
   "execution_count": 7,
   "metadata": {},
   "outputs": [
    {
     "name": "stdout",
     "output_type": "stream",
     "text": [
      "4 unival trees were found in this binary tree.\n",
      "\n",
      "                               0\n",
      "               /¯¯¯¯¯¯¯¯¯¯¯¯       ¯¯¯¯¯¯¯¯¯¯¯¯\\\n",
      "               2                               0\n",
      "       /¯¯¯¯¯¯   ¯¯¯¯¯¯\\                         ¯¯¯¯¯¯\\\n",
      "       2               2                               0\n",
      "                        ¯¯¯\\                       /¯¯¯\n",
      "                           2                       1\n",
      "                                                 /¯\n",
      "                                                 1\n"
     ]
    }
   ],
   "source": [
    "test_3 = Node(0, Node(2, Node(2), Node(2, None, Node(2))), Node(0, None, Node(0, Node(1, Node(1), None), None)))\n",
    "pretty_print(Unival_Subtree_Finder(test_3, 0))\n",
    "PrintTree(test_3)"
   ]
  },
  {
   "cell_type": "code",
   "execution_count": 8,
   "metadata": {},
   "outputs": [
    {
     "name": "stdout",
     "output_type": "stream",
     "text": [
      "1 unival trees were found in this binary tree.\n",
      "\n",
      " 0\n"
     ]
    }
   ],
   "source": [
    "test_4 = Node(0)\n",
    "pretty_print(Unival_Subtree_Finder(test_4, 0))\n",
    "PrintTree(test_4)"
   ]
  },
  {
   "attachments": {},
   "cell_type": "markdown",
   "metadata": {},
   "source": [
    "---\n",
    "## Solution Explained"
   ]
  },
  {
   "attachments": {},
   "cell_type": "markdown",
   "metadata": {},
   "source": [
    "### Unival_Subtree_Finder(tree, count) solution\n",
    "This solution uses recursion to search through a binary tree going from the root , then down the left branch, and finally the right looking for unival subtrees. The function starts by taking the input of a binary tree (created by nodes based on the Node class), and a count set to 0 to accumulate the number of unival subtrees found. The function first checks both right and left leaves for Null values. if this condition is true the count is increase by one. Otherwise the next condition is checked seeing if the left leaf is populated and the right leaf is Null. If so the function is called again on the left leaf in order to find the new count. This process if done similarly in the next condition, however, it checks if the left leaf in Null and the right leaf is populated. If so the function is called on the right leaf finding the new count. If none of the previous conditions are met, this means the right and left leaves must be populated, thus the function checks if the leaf values are equal to the parent value. If so the count is increased and the function is called on the left and right leaves again. If the leaf values are not equal to the parent the function checks if the leaf values are equal or nonequal. Either way the function is also called on the left and right leaves, however, the count does not increase since a unival tree was not found. Then after all the nodes of the tree have been searched through, the function returns the final count of unival trees."
   ]
  }
 ],
 "metadata": {
  "kernelspec": {
   "display_name": "Python 3",
   "language": "python",
   "name": "python3"
  },
  "language_info": {
   "codemirror_mode": {
    "name": "ipython",
    "version": 3
   },
   "file_extension": ".py",
   "mimetype": "text/x-python",
   "name": "python",
   "nbconvert_exporter": "python",
   "pygments_lexer": "ipython3",
   "version": "3.9.12"
  },
  "orig_nbformat": 4,
  "vscode": {
   "interpreter": {
    "hash": "1616faeca1eb2b6217e80a7d062cec32587d2e1ba3999185fe005a5f436d1f1f"
   }
  }
 },
 "nbformat": 4,
 "nbformat_minor": 2
}
