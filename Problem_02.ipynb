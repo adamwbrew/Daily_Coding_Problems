{
 "cells": [
  {
   "attachments": {},
   "cell_type": "markdown",
   "metadata": {},
   "source": [
    "# Problem 2\n",
    "Given an array of integers, return a new array such that each element at index *i* of the new array is the product of all the numbers in the original array except the one at *i*.\n",
    "\n",
    "For example, if our input was *[1, 2, 3, 4, 5]*, the expected output would be *[120, 60, 40, 30, 24]*. If our input was *[3, 2, 1]*, the expected output would be *[2, 3, 6]*.\n",
    "\n",
    "Follow-up: what if you can't use division?"
   ]
  },
  {
   "attachments": {},
   "cell_type": "markdown",
   "metadata": {},
   "source": [
    "---\n",
    "## Test Cases"
   ]
  },
  {
   "cell_type": "code",
   "execution_count": 43,
   "metadata": {},
   "outputs": [],
   "source": [
    "# test 1\n",
    "test_1 = [1, 2, 3, 4, 5]\n",
    "answer_1 = [120, 60, 40, 30, 24]\n",
    "\n",
    "# test 2\n",
    "test_2 = [3, 2, 1]\n",
    "answer_2 = [2, 3, 6]\n",
    "\n",
    "# test 3 ~ edge case\n",
    "test_3 = [3, '', 1]\n",
    "answer_3 = [1, 3, 3]"
   ]
  },
  {
   "attachments": {},
   "cell_type": "markdown",
   "metadata": {},
   "source": [
    "---\n",
    "## Solution"
   ]
  },
  {
   "cell_type": "code",
   "execution_count": 111,
   "metadata": {},
   "outputs": [],
   "source": [
    "import math\n",
    "\n",
    "def Problem_2(numbers_list):\n",
    "    result = []\n",
    "    for num in range(len(numbers_list)):\n",
    "        temp = numbers_list.copy()\n",
    "        del temp[num]\n",
    "        temp = [x for x in temp if type(x) != str]\n",
    "        product = math.prod(temp)\n",
    "        result.append(product)\n",
    "    return result"
   ]
  },
  {
   "cell_type": "code",
   "execution_count": 112,
   "metadata": {},
   "outputs": [
    {
     "name": "stdout",
     "output_type": "stream",
     "text": [
      "Solutions:\n",
      "[120, 60, 40, 30, 24]\n",
      "[2, 3, 6]\n",
      "[1, 3, 3]\n"
     ]
    }
   ],
   "source": [
    "print(\"Solutions:\")\n",
    "print(Problem_2(test_1))\n",
    "print(Problem_2(test_2))\n",
    "print(Problem_2(test_3))"
   ]
  },
  {
   "attachments": {},
   "cell_type": "markdown",
   "metadata": {},
   "source": [
    "---\n",
    "## Solution Explained"
   ]
  },
  {
   "attachments": {},
   "cell_type": "markdown",
   "metadata": {},
   "source": [
    "### Problem_2(numbers_list) solution\n",
    "This solution uses one for loop that goes through the indexes of the test list inputted. Then test list is copied so that no allocation errors occur. After, the copied list has the list removed based on the index in the for loop. This allows for the product to be proper found without division, however, first the copied list goes through an error check looping for non floats or integers, if found the non int or float is removed from the copied list. After, the remaining of the copied list's product is computed using the math library which is then appened to the result list which was originally empty. This solves the original problem and does not use any division while doing so."
   ]
  }
 ],
 "metadata": {
  "kernelspec": {
   "display_name": "Python 3",
   "language": "python",
   "name": "python3"
  },
  "language_info": {
   "codemirror_mode": {
    "name": "ipython",
    "version": 3
   },
   "file_extension": ".py",
   "mimetype": "text/x-python",
   "name": "python",
   "nbconvert_exporter": "python",
   "pygments_lexer": "ipython3",
   "version": "3.9.12 (main, Apr  4 2022, 05:22:27) [MSC v.1916 64 bit (AMD64)]"
  },
  "orig_nbformat": 4,
  "vscode": {
   "interpreter": {
    "hash": "1616faeca1eb2b6217e80a7d062cec32587d2e1ba3999185fe005a5f436d1f1f"
   }
  }
 },
 "nbformat": 4,
 "nbformat_minor": 2
}
