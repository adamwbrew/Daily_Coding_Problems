{
 "cells": [
  {
   "attachments": {},
   "cell_type": "markdown",
   "metadata": {},
   "source": [
    "# Problem 26\n",
    "You are given an array of non-negative integers that represents a two-dimensional elevation map where each element is unit-width wall and the integer is the height. Suppose it will rain and all spots between two walls get filled up.\n",
    "\n",
    "Compute how many units of water remain trapped on the map in O(N) time and O(1) space.\n",
    "\n",
    "For example, given the input `[2, 1, 2]`, we can hold 1 unit of water in the middle.\n",
    "\n",
    "Given the input `[3, 0, 1, 3, 0, 5]`, we can hold 3 units in the first index, 2 in the second, and 3 in the fourth index (we cannot hold 5 since it would run off to the left), so we can trap 8 units of water."
   ]
  },
  {
   "attachments": {},
   "cell_type": "markdown",
   "metadata": {},
   "source": [
    "---\n",
    "## Solution"
   ]
  },
  {
   "cell_type": "code",
   "execution_count": 112,
   "metadata": {},
   "outputs": [],
   "source": [
    "# solution code\n",
    "\n",
    "def water_captured(elevations):\n",
    "    border_spaces = [[]]\n",
    "    previous_height = 0\n",
    "    for e in range(len(elevations)):\n",
    "        if(border_spaces == [[]] and elevations[e] == 0):\n",
    "            continue\n",
    "        else:\n",
    "            if(elevations[e] > 0 and border_spaces[-1] == []):\n",
    "                previous_height = elevations[e]\n",
    "                border_spaces[-1].append(elevations[e])\n",
    "            else:\n",
    "                if(elevations[e] == max(elevations[e:]) or elevations[e] >= previous_height):\n",
    "                    border_spaces[-1].append(elevations[e])\n",
    "                    previous_height = elevations[e]\n",
    "                    border_spaces.append([elevations[e]])\n",
    "\n",
    "                if(elevations[e] < previous_height):\n",
    "                    border_spaces[-1].append(elevations[e])\n",
    "\n",
    "    border_spaces = [b for b in border_spaces if len(b) > 2]\n",
    "\n",
    "    total = 0\n",
    "    for space in border_spaces:\n",
    "        wall = min([space[0], space[-1]])\n",
    "        total += (len(space[1:-1]) * wall) - sum(space[1:-1])\n",
    "\n",
    "    return total\n"
   ]
  },
  {
   "attachments": {},
   "cell_type": "markdown",
   "metadata": {},
   "source": [
    "---\n",
    "## Test Cases"
   ]
  },
  {
   "cell_type": "code",
   "execution_count": 114,
   "metadata": {},
   "outputs": [
    {
     "data": {
      "text/plain": [
       "8"
      ]
     },
     "execution_count": 114,
     "metadata": {},
     "output_type": "execute_result"
    }
   ],
   "source": [
    "# solution testing test cases\n",
    "water_captured([0,2,0,2, 2, 3, 0, 4, 1, 5])"
   ]
  },
  {
   "cell_type": "code",
   "execution_count": 115,
   "metadata": {},
   "outputs": [
    {
     "data": {
      "text/plain": [
       "1"
      ]
     },
     "execution_count": 115,
     "metadata": {},
     "output_type": "execute_result"
    }
   ],
   "source": [
    "water_captured([2,1,2])"
   ]
  },
  {
   "cell_type": "code",
   "execution_count": 116,
   "metadata": {},
   "outputs": [
    {
     "data": {
      "text/plain": [
       "8"
      ]
     },
     "execution_count": 116,
     "metadata": {},
     "output_type": "execute_result"
    }
   ],
   "source": [
    "water_captured([3, 0, 1, 3, 0, 5])"
   ]
  },
  {
   "attachments": {},
   "cell_type": "markdown",
   "metadata": {},
   "source": [
    "---\n",
    "## Solution Explained"
   ]
  },
  {
   "attachments": {},
   "cell_type": "markdown",
   "metadata": {},
   "source": [
    "### water_captured(elevations) solution\n",
    "The code is a function that takes a list of elevations as input and returns the total amount of water that can be trapped between the elevations. The function first initializes a list, `border_spaces`, to store the borders of the spaces that will contain water. It also initializes a variable, `previous_height`, to keep track of the height of the previous elevation.\n",
    "\n",
    "The code then iterates over each elevation in the input list, and based on its value and the value of the previous elevation, updates the `border_spaces` list to reflect any new spaces that will contain water.\n",
    "\n",
    "After updating the `border_spaces` list, the code calculates the amount of water that can be trapped in each space by finding the minimum height of the borders and subtracting the sum of the heights of the interior elevations. The total amount of trapped water is then calculated by summing the water trapped in each space.\n",
    "\n",
    "The time complexity of the code is O(n^2) because there is a nested loop used to calculate the maximum value in the list of elevations. The space complexity of the code is O(n) because the `border_spaces` list can grow to contain all n elements of the input list, and additional variables are also stored in memory.\n",
    "\n",
    "However, the requirements were to have a time complexity of O(n) and a space complexity of O(1). The time complexity requirement was not met because of the nested loop in the `max()` function. The space complexity requirement was not met because of the `border_spaces` list, which grows in size with the input list."
   ]
  }
 ],
 "metadata": {
  "kernelspec": {
   "display_name": "Python 3",
   "language": "python",
   "name": "python3"
  },
  "language_info": {
   "codemirror_mode": {
    "name": "ipython",
    "version": 3
   },
   "file_extension": ".py",
   "mimetype": "text/x-python",
   "name": "python",
   "nbconvert_exporter": "python",
   "pygments_lexer": "ipython3",
   "version": "3.9.12"
  },
  "orig_nbformat": 4,
  "vscode": {
   "interpreter": {
    "hash": "1616faeca1eb2b6217e80a7d062cec32587d2e1ba3999185fe005a5f436d1f1f"
   }
  }
 },
 "nbformat": 4,
 "nbformat_minor": 2
}
