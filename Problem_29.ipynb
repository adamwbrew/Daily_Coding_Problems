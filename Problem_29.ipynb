{
 "cells": [
  {
   "attachments": {},
   "cell_type": "markdown",
   "metadata": {},
   "source": [
    "# Problem 29\n",
    "Given a string, find the palindrome that can be made by inserting the fewest number of characters as possible anywhere in the word. If there is more than one palindrome of minimum length that can be made, return the lexicographically earliest one (the first one alphabetically).\n",
    "\n",
    "For example, given the string `\"race\"`, you should return `\"ecarace\"`, since we can add three letters to it (which is the smallest amount to make a palindrome). There are seven other palindromes that can be made from \"race\" by adding three letters, but \"ecarace\" comes first alphabetically.\n",
    "\n",
    "As another example, given the string `\"google\"`, you should return `\"elgoogle\"`."
   ]
  },
  {
   "attachments": {},
   "cell_type": "markdown",
   "metadata": {},
   "source": [
    "---\n",
    "## Solution"
   ]
  },
  {
   "cell_type": "code",
   "execution_count": 58,
   "metadata": {},
   "outputs": [],
   "source": [
    "# solution code\n",
    "\n",
    "def palindrome_maker(word):\n",
    "    # find palindromes\n",
    "    palindromes = []\n",
    "    for s in range(0, len(word)):\n",
    "        word_a = word + word[::-1][s:]\n",
    "        word_b = word[s:][::-1] + word\n",
    "        if(word_a == word_a[::-1]):\n",
    "            palindromes.append(word_a)\n",
    "        if(word_b == word_b[::-1]):\n",
    "            palindromes.append(word_b)\n",
    "\n",
    "    return palindromes\n",
    "\n",
    "def palindrome_wanted(word):\n",
    "    palindromes = palindrome_maker(word)\n",
    "    palindromes.sort(key = len)\n",
    "    min_length = len(palindromes[0])\n",
    "    min_pals = []\n",
    "    for p in palindromes:\n",
    "        if(len(p) == min_length):\n",
    "            min_pals.append(p)\n",
    "    min_pals.sort()\n",
    "    return min_pals[0]\n",
    "    "
   ]
  },
  {
   "attachments": {},
   "cell_type": "markdown",
   "metadata": {},
   "source": [
    "---\n",
    "## Test Cases"
   ]
  },
  {
   "cell_type": "code",
   "execution_count": 59,
   "metadata": {},
   "outputs": [
    {
     "data": {
      "text/plain": [
       "'elgoogle'"
      ]
     },
     "execution_count": 59,
     "metadata": {},
     "output_type": "execute_result"
    }
   ],
   "source": [
    "# solution testing test cases\n",
    "\n",
    "test_1 = \"google\"\n",
    "palindrome_wanted(test_1)"
   ]
  },
  {
   "cell_type": "code",
   "execution_count": 60,
   "metadata": {},
   "outputs": [
    {
     "data": {
      "text/plain": [
       "'ecarace'"
      ]
     },
     "execution_count": 60,
     "metadata": {},
     "output_type": "execute_result"
    }
   ],
   "source": [
    "test_2 = \"race\"\n",
    "palindrome_wanted(test_2)"
   ]
  },
  {
   "cell_type": "code",
   "execution_count": 61,
   "metadata": {},
   "outputs": [
    {
     "data": {
      "text/plain": [
       "'gammag'"
      ]
     },
     "execution_count": 61,
     "metadata": {},
     "output_type": "execute_result"
    }
   ],
   "source": [
    "test_2 = \"gamma\"\n",
    "palindrome_wanted(test_2)"
   ]
  },
  {
   "attachments": {},
   "cell_type": "markdown",
   "metadata": {},
   "source": [
    "---\n",
    "## Solution Explained"
   ]
  },
  {
   "attachments": {},
   "cell_type": "markdown",
   "metadata": {},
   "source": [
    "### palindrome_wanted(word) solution\n",
    "The `palindrome_maker` function takes a word and creates all possible palindromes by appending the reverse of its substring to the end and beginning of the word. It then checks each generated word to see if it is a palindrome by comparing it to its reverse. The function returns a list of all palindromes that were found.\n",
    "\n",
    "The time complexity of `palindrome_maker` is O(n^2), where n is the length of the input word. This is because the function uses two nested loops to generate all possible substrings of the input word and then checks each one to see if it is a palindrome. The space complexity is also O(n^2), since the function stores all generated palindromes in a list.\n",
    "\n",
    "The `palindrome_wanted` function takes a word and uses `palindrome_maker` to find all possible palindromes of the word. It then sorts the list of palindromes by length and finds the minimum length of palindromes. It creates a list of all palindromes that have this minimum length, sorts this list, and returns the first element, which will be the lexicographically smallest palindrome of minimum length.\n",
    "\n",
    "The time complexity of `palindrome_wanted` is O(n^2 log n), where n is the length of the input word. This is because `palindrome_maker` has a time complexity of O(n^2) and the subsequent sorting of the list of palindromes has a time complexity of O(n log n). The space complexity of `palindrome_wanted` is O(n^2), since the function calls `palindrome_maker` and stores all generated palindromes in a list."
   ]
  }
 ],
 "metadata": {
  "kernelspec": {
   "display_name": "Python 3",
   "language": "python",
   "name": "python3"
  },
  "language_info": {
   "codemirror_mode": {
    "name": "ipython",
    "version": 3
   },
   "file_extension": ".py",
   "mimetype": "text/x-python",
   "name": "python",
   "nbconvert_exporter": "python",
   "pygments_lexer": "ipython3",
   "version": "3.9.12"
  },
  "orig_nbformat": 4,
  "vscode": {
   "interpreter": {
    "hash": "1616faeca1eb2b6217e80a7d062cec32587d2e1ba3999185fe005a5f436d1f1f"
   }
  }
 },
 "nbformat": 4,
 "nbformat_minor": 2
}
