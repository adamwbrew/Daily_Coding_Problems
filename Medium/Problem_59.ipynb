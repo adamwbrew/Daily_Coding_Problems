{
 "cells": [
  {
   "attachments": {},
   "cell_type": "markdown",
   "metadata": {},
   "source": [
    "# Problem 59\n",
    "On our special chessboard, two bishops attack each other if they share the same diagonal. This includes bishops that have another bishop located between them, i.e. bishops can attack through pieces.\n",
    "\n",
    "You are given `N` bishops, represented as (row, column) tuples on a `M` by `M` chessboard. Write a function to count the number of pairs of bishops that attack each other. The ordering of the pair doesn't matter: `(1, 2)` is considered the same as `(2, 1)`.\n",
    "\n",
    "For example, given `M = 5` and the list of bishops:\n",
    "```\n",
    "(0, 0)\n",
    "(1, 2)\n",
    "(2, 2)\n",
    "(4, 0)\n",
    "```\n",
    "The board would look like this:\n",
    "```\n",
    "[b 0 0 0 0]\n",
    "[0 0 b 0 0]\n",
    "[0 0 b 0 0]\n",
    "[0 0 0 0 0]\n",
    "[b 0 0 0 0]\n",
    "```\n",
    "You should return `2`, since bishops `1` and `3` attack each other, as well as bishops `3` and `4`."
   ]
  },
  {
   "attachments": {},
   "cell_type": "markdown",
   "metadata": {},
   "source": [
    "---\n",
    "## Solution"
   ]
  },
  {
   "cell_type": "code",
   "execution_count": 117,
   "metadata": {},
   "outputs": [],
   "source": [
    "# solution code\n",
    "\n",
    "import random\n",
    "import numpy as np\n",
    "\n",
    "def bishop_matrix(M, N):\n",
    "    matrix_points = []\n",
    "    if(N >= M**2):\n",
    "        matrix_points = [[i,j] for j in range(M) for i in range(M)]\n",
    "    else:\n",
    "        while(len(matrix_points) != N):\n",
    "            point = [random.randint(0,M-1),random.randint(0,M-1)]\n",
    "            if(point in matrix_points):continue\n",
    "            else: matrix_points.append(point)\n",
    "    max_point = max(max(i) for i in matrix_points)\n",
    "    matrix = [['b' if [j, i] in matrix_points else 0 for i in range(max_point+1)] for j in range(max_point+1)]\n",
    "    return matrix , matrix_points\n",
    "\n",
    "\n",
    "def print_matrix(matrix):\n",
    "    for i in range(len(matrix)):\n",
    "        for j in range(len(matrix)):\n",
    "            print(matrix[i][j], end = '  ')\n",
    "        print()\n",
    "\n",
    "\n",
    "def bishop_attack_pairs(M, N):\n",
    "    matrix, bishops = bishop_matrix(M, N)\n",
    "    attacks = {}\n",
    "    for x, y in bishops:\n",
    "        attacks[(x, y)] = set()\n",
    "        for i in range(1, M):\n",
    "            if x+i < M and y+i < M:\n",
    "                attacks[(x, y)].add((x+i, y+i))\n",
    "            if x+i < M and y-i >= 0:\n",
    "                attacks[(x, y)].add((x+i, y-i))\n",
    "            if x-i >= 0 and y+i < M:\n",
    "                attacks[(x, y)].add((x-i, y+i))\n",
    "            if x-i >= 0 and y-i >= 0:\n",
    "                attacks[(x, y)].add((x-i, y-i))\n",
    "    print_matrix(matrix)\n",
    "    pairs = 0\n",
    "    for b in range(len(bishops)):\n",
    "        diagnols = attacks[tuple(bishops[b])]\n",
    "        for b_1 in range(b, len(bishops)):\n",
    "            if(tuple(bishops[b_1]) in diagnols):\n",
    "                pairs += 1\n",
    "    \n",
    "    return pairs"
   ]
  },
  {
   "attachments": {},
   "cell_type": "markdown",
   "metadata": {},
   "source": [
    "---\n",
    "## Test Cases"
   ]
  },
  {
   "cell_type": "code",
   "execution_count": 118,
   "metadata": {},
   "outputs": [
    {
     "name": "stdout",
     "output_type": "stream",
     "text": [
      "0  b  \n",
      "b  0  \n"
     ]
    },
    {
     "data": {
      "text/plain": [
       "1"
      ]
     },
     "execution_count": 118,
     "metadata": {},
     "output_type": "execute_result"
    }
   ],
   "source": [
    "# solution testing test cases\n",
    "bishop_attack_pairs(2, 2)"
   ]
  },
  {
   "cell_type": "code",
   "execution_count": 126,
   "metadata": {},
   "outputs": [
    {
     "name": "stdout",
     "output_type": "stream",
     "text": [
      "0  0  0  0  0  0  b  b  \n",
      "0  0  0  0  0  0  0  0  \n",
      "0  0  0  0  b  0  0  0  \n",
      "0  0  0  0  0  0  0  0  \n",
      "b  0  0  0  b  0  0  0  \n",
      "b  0  0  0  0  0  0  0  \n",
      "b  0  0  0  0  0  0  0  \n",
      "0  0  0  0  0  b  0  0  \n"
     ]
    },
    {
     "data": {
      "text/plain": [
       "3"
      ]
     },
     "execution_count": 126,
     "metadata": {},
     "output_type": "execute_result"
    }
   ],
   "source": [
    "# size of standard chessboard\n",
    "bishop_attack_pairs(8, 8)"
   ]
  },
  {
   "cell_type": "code",
   "execution_count": 127,
   "metadata": {},
   "outputs": [
    {
     "name": "stdout",
     "output_type": "stream",
     "text": [
      "0  0  0  0  0  0  0  0  0  0  b  b  b  0  0  0  b  0  b  0  \n",
      "0  0  0  0  0  0  b  b  0  0  0  0  0  0  0  0  0  0  0  0  \n",
      "0  0  0  0  0  0  0  0  0  0  0  0  0  0  0  0  0  0  0  0  \n",
      "0  0  0  0  0  0  0  0  0  0  0  0  0  0  0  0  0  0  0  0  \n",
      "0  0  0  0  0  0  0  0  0  0  0  0  0  0  0  0  b  b  b  0  \n",
      "0  0  0  0  0  0  0  0  0  0  0  b  0  0  0  0  0  0  0  0  \n",
      "0  0  b  0  b  0  0  0  0  0  0  0  b  0  0  0  b  0  0  0  \n",
      "0  0  0  0  0  0  0  0  0  0  0  0  0  0  0  0  0  0  0  0  \n",
      "b  0  0  0  b  0  0  0  0  0  b  0  0  0  0  0  0  0  0  0  \n",
      "0  0  0  b  0  0  0  0  0  0  0  0  0  b  0  0  0  0  0  0  \n",
      "0  0  0  0  0  0  0  0  0  0  0  0  0  0  0  0  b  0  0  0  \n",
      "0  b  0  0  0  0  b  0  b  b  0  0  0  0  0  b  0  0  0  0  \n",
      "0  0  0  0  0  0  0  0  0  0  0  b  0  b  0  0  0  0  0  0  \n",
      "0  b  0  0  0  b  0  0  0  0  0  0  0  0  0  0  0  0  0  0  \n",
      "0  0  0  0  0  0  0  b  b  b  0  b  0  0  b  0  0  0  0  0  \n",
      "0  0  0  0  b  0  0  b  0  0  0  b  0  0  0  0  0  0  0  0  \n",
      "0  0  b  0  0  0  0  0  0  b  0  0  0  0  0  0  0  0  0  b  \n",
      "0  0  b  0  0  0  0  0  0  0  0  b  0  b  0  0  0  b  0  0  \n",
      "0  0  0  0  0  0  0  0  0  b  0  0  0  0  0  b  0  0  0  0  \n",
      "b  0  0  0  0  0  0  0  0  0  0  0  0  0  0  b  0  b  0  0  \n"
     ]
    },
    {
     "data": {
      "text/plain": [
       "82"
      ]
     },
     "execution_count": 127,
     "metadata": {},
     "output_type": "execute_result"
    }
   ],
   "source": [
    "bishop_attack_pairs(20, 50)"
   ]
  },
  {
   "attachments": {},
   "cell_type": "markdown",
   "metadata": {},
   "source": [
    "---\n",
    "## Solution Explained"
   ]
  },
  {
   "attachments": {},
   "cell_type": "markdown",
   "metadata": {},
   "source": [
    "### `bishop_attack_pairs(M, N)` solution\n",
    "This code is a solution to a problem that involves finding the number of pairs of bishops that can attack each other on a given chessboard of size M x M, where N bishops are randomly placed on the board.\n",
    "\n",
    "- `bishop_matrix` function generates a matrix of size M x M with N bishops randomly placed on it. If N is greater than or equal to M^2, then all possible squares on the board will be occupied by bishops. Otherwise, the function randomly places N bishops on the board.\n",
    "\n",
    "- `bishop_attack_pairs` function uses the `bishop_matrix` function to generate a matrix and a list of bishops. It then generates a dictionary that stores the attacks of each bishop. For each bishop, it checks all the squares on the four diagonals emanating from that bishop and adds them to its attack set. It then counts the number of pairs of bishops that can attack each other by iterating over all the bishops and for each bishop, iterating over all other bishops that are located in its attack set. If two bishops are in each other's attack sets, then they can attack each other, and the counter is incremented.\n",
    "\n",
    "- `print_matrix` function simply prints out the matrix in a visually appealing format.\n",
    "\n",
    "Overall, the code is relatively simple and uses basic Python constructs like lists, dictionaries, and loops to solve the problem efficiently. However, the time complexity of the solution is O(N^2), which may not be optimal for large values of N."
   ]
  },
  {
   "cell_type": "markdown",
   "metadata": {},
   "source": []
  }
 ],
 "metadata": {
  "kernelspec": {
   "display_name": "base",
   "language": "python",
   "name": "python3"
  },
  "language_info": {
   "codemirror_mode": {
    "name": "ipython",
    "version": 3
   },
   "file_extension": ".py",
   "mimetype": "text/x-python",
   "name": "python",
   "nbconvert_exporter": "python",
   "pygments_lexer": "ipython3",
   "version": "3.9.7"
  },
  "orig_nbformat": 4
 },
 "nbformat": 4,
 "nbformat_minor": 2
}
