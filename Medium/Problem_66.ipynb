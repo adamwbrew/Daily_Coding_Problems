{
 "cells": [
  {
   "attachments": {},
   "cell_type": "markdown",
   "metadata": {},
   "source": [
    "# Problem 66\n",
    "You are given an `N` by `M` 2D matrix of lowercase letters. Determine the minimum number of columns that can be removed to ensure that each row is ordered from top to bottom lexicographically. That is, the letter at each column is lexicographically later as you go down each row. It does not matter whether each row itself is ordered lexicographically.\n",
    "\n",
    "For example, given the following table:\n",
    "\n",
    "```\n",
    "cba\n",
    "daf\n",
    "ghi\n",
    "```\n",
    "\n",
    "This is not ordered because of the a in the center. We can remove the second column to make it ordered:\n",
    "```\n",
    "ca\n",
    "df\n",
    "gi\n",
    "```\n",
    "So your function should return 1, since we only needed to remove 1 column.\n",
    "\n",
    "As another example, given the following table:\n",
    "\n",
    "`abcdef`\n",
    "\n",
    "Your function should return 0, since the rows are already ordered (there's only one row).\n",
    "\n",
    "As another example, given the following table:\n",
    "\n",
    "```\n",
    "zyx\n",
    "wvu\n",
    "tsr\n",
    "```\n",
    "\n",
    "Your function should return 3, since we would need to remove all the columns to order it."
   ]
  },
  {
   "attachments": {},
   "cell_type": "markdown",
   "metadata": {},
   "source": [
    "---\n",
    "## Solution"
   ]
  },
  {
   "cell_type": "code",
   "execution_count": 25,
   "metadata": {},
   "outputs": [],
   "source": [
    "# solution code\n",
    "\n",
    "def nonlexicographical_column_checker(matrix):\n",
    "    count = 0\n",
    "    for i in range(len(matrix)):\n",
    "        column = []\n",
    "        if(len(matrix) == 1): continue \n",
    "        for j in range(len(matrix[i])):\n",
    "            column.append(matrix[j][i])\n",
    "        column_c = column.copy()\n",
    "        column_c.sort()\n",
    "        if(column_c != column):\n",
    "            count += 1\n",
    "    return count"
   ]
  },
  {
   "attachments": {},
   "cell_type": "markdown",
   "metadata": {},
   "source": [
    "---\n",
    "## Test Cases"
   ]
  },
  {
   "cell_type": "code",
   "execution_count": 26,
   "metadata": {},
   "outputs": [
    {
     "data": {
      "text/plain": [
       "1"
      ]
     },
     "execution_count": 26,
     "metadata": {},
     "output_type": "execute_result"
    }
   ],
   "source": [
    "# solution testing test cases\n",
    "test_1 = [['c','b','a'],\n",
    "          ['d','a','f'],\n",
    "          ['g','h','i']]\n",
    "nonlexicographical_column_checker(test_1)"
   ]
  },
  {
   "cell_type": "code",
   "execution_count": 27,
   "metadata": {},
   "outputs": [
    {
     "data": {
      "text/plain": [
       "3"
      ]
     },
     "execution_count": 27,
     "metadata": {},
     "output_type": "execute_result"
    }
   ],
   "source": [
    "test_2 = [['z','y','x'],\n",
    "          ['w','v','u'],\n",
    "          ['t','s','r']]\n",
    "nonlexicographical_column_checker(test_2)"
   ]
  },
  {
   "cell_type": "code",
   "execution_count": 28,
   "metadata": {},
   "outputs": [
    {
     "data": {
      "text/plain": [
       "0"
      ]
     },
     "execution_count": 28,
     "metadata": {},
     "output_type": "execute_result"
    }
   ],
   "source": [
    "test_3 = [['a','b','c','d','e','f']]\n",
    "nonlexicographical_column_checker(test_3)"
   ]
  },
  {
   "cell_type": "code",
   "execution_count": 29,
   "metadata": {},
   "outputs": [
    {
     "data": {
      "text/plain": [
       "0"
      ]
     },
     "execution_count": 29,
     "metadata": {},
     "output_type": "execute_result"
    }
   ],
   "source": [
    "test_4 = [[]]\n",
    "nonlexicographical_column_checker(test_4)"
   ]
  },
  {
   "attachments": {},
   "cell_type": "markdown",
   "metadata": {},
   "source": [
    "---\n",
    "## Solution Explained"
   ]
  },
  {
   "attachments": {},
   "cell_type": "markdown",
   "metadata": {},
   "source": [
    "### `nonlexicographical_column_checker(matrix)` solution\n",
    "This function `nonlexicographical_column_checker` takes in a 2D matrix of lowercase letters as input and returns the minimum number of columns that need to be removed to ensure that each row is ordered lexicographically from top to bottom.\n",
    "\n",
    "The function starts by initializing a `count` variable to `0`, which will be incremented for each column that needs to be removed. It then iterates through each row of the matrix using a for loop with the range of the length of the matrix. Inside the loop, it creates a new list called `column` to store the values of the current column being examined.\n",
    "\n",
    "If the matrix only has one row (i.e., `len(matrix) == 1`), the function skips to the next iteration of the loop using the `continue` keyword. Otherwise, the function iterates through the elements of the current column using another for loop, and appends each element to the `column` list.\n",
    "\n",
    "After the column values have been added to the list, the function creates a `copy` of the list called `column_c` and sorts it in lexicographic order. It then checks whether the original `column` list and the sorted `column_c` list are equal. If they are not equal, this means that the elements of the current column are not in lexicographic order, and the count variable is incremented by `1`.\n",
    "\n",
    "Finally, the function returns the value of the `count` variable as the minimum number of columns that need to be removed.\n",
    "\n",
    "Overall, this function is an efficient way to solve the problem of finding the minimum number of columns that need to be removed to ensure that a matrix is ordered lexicographically from top to bottom. The function iterates through each column only once, and does not modify the original matrix or create any new data structures, making it memory-efficient as well."
   ]
  }
 ],
 "metadata": {
  "kernelspec": {
   "display_name": "Python 3",
   "language": "python",
   "name": "python3"
  },
  "language_info": {
   "codemirror_mode": {
    "name": "ipython",
    "version": 3
   },
   "file_extension": ".py",
   "mimetype": "text/x-python",
   "name": "python",
   "nbconvert_exporter": "python",
   "pygments_lexer": "ipython3",
   "version": "3.9.7"
  },
  "orig_nbformat": 4,
  "vscode": {
   "interpreter": {
    "hash": "1616faeca1eb2b6217e80a7d062cec32587d2e1ba3999185fe005a5f436d1f1f"
   }
  }
 },
 "nbformat": 4,
 "nbformat_minor": 2
}
