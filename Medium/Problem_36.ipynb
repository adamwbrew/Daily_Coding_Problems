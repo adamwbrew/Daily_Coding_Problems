{
 "cells": [
  {
   "attachments": {},
   "cell_type": "markdown",
   "metadata": {},
   "source": [
    "# Problem 36\n",
    "Given an unordered list of flights taken by someone, each represented as (origin, destination) pairs, and a starting airport, compute the person's itinerary. If no such itinerary exists, return null. If there are multiple possible itineraries, return the lexicographically smallest one. All flights must be used in the itinerary.\n",
    "\n",
    "For example, given the list of flights `[('SFO', 'HKO'), ('YYZ', 'SFO'), ('YUL', 'YYZ'), ('HKO', 'ORD')]` and starting airport `'YUL'`, you should return the list `['YUL', 'YYZ', 'SFO', 'HKO', 'ORD']`.\n",
    "\n",
    "Given the list of flights `[('SFO', 'COM'), ('COM', 'YYZ')]` and starting airport `'COM'`, you should return `null`.\n",
    "\n",
    "Given the list of flights `[('A', 'B'), ('A', 'C'), ('B', 'C'), ('C', 'A')]` and starting airport `'A'`, you should return the list `['A', 'B', 'C', 'A', 'C']` even though `['A', 'C', 'A', 'B', 'C']` is also a valid itinerary. However, the first one is lexicographically smaller."
   ]
  },
  {
   "attachments": {},
   "cell_type": "markdown",
   "metadata": {},
   "source": [
    "---\n",
    "## Solution"
   ]
  },
  {
   "cell_type": "code",
   "execution_count": 30,
   "metadata": {},
   "outputs": [],
   "source": [
    "# solution code\n",
    "def Flight_Path(flights, origin):\n",
    "    flights.sort(key = lambda x : x[0])\n",
    "    flight_path = []\n",
    "    removed_flights = 0\n",
    "\n",
    "    while(flights != []):\n",
    "\n",
    "        # find first flight\n",
    "        if(removed_flights == 0):\n",
    "            # set first flight\n",
    "            for f in range(len(flights)):\n",
    "                if(flights[f][0] == origin):\n",
    "                    flight_path.append(flights[f])\n",
    "            # null if origin cannot be accessed via flights list\n",
    "            if(flight_path == []):\n",
    "                return None\n",
    "            flight_path.sort(key = lambda x : x[1])\n",
    "            flight_path = [flight_path[0]]\n",
    "            flights.pop(flights.index(flight_path[0]))\n",
    "\n",
    "        # find secondary flights\n",
    "        else:\n",
    "            # reset origin\n",
    "            current_origin = flight_path[-1][1]\n",
    "            possible_flights = []\n",
    "            for f in range(len(flights)):\n",
    "                if(flights[f][0] == current_origin):\n",
    "                    possible_flights.append(flights[f])\n",
    "            possible_flights.sort(key = lambda x : x[1])\n",
    "            # null if needed flight can not be found  \n",
    "            if(possible_flights == []):\n",
    "                return None\n",
    "            flight_path.append(possible_flights[0])\n",
    "            flights.pop(flights.index(flight_path[-1]))\n",
    "\n",
    "        removed_flights += 1\n",
    "    \n",
    "    # reformat flight path based on desired syntax\n",
    "    flight_path_refined = []\n",
    "    for f in range(len(flight_path)):\n",
    "        if(f == 0):\n",
    "            flight_path_refined.append(flight_path[f][0])\n",
    "        flight_path_refined.append(flight_path[f][1])\n",
    "\n",
    "    return flight_path_refined"
   ]
  },
  {
   "attachments": {},
   "cell_type": "markdown",
   "metadata": {},
   "source": [
    "---\n",
    "## Test Cases"
   ]
  },
  {
   "cell_type": "code",
   "execution_count": 31,
   "metadata": {},
   "outputs": [
    {
     "data": {
      "text/plain": [
       "['A', 'B', 'C', 'A', 'C']"
      ]
     },
     "execution_count": 31,
     "metadata": {},
     "output_type": "execute_result"
    }
   ],
   "source": [
    "# solution testing test cases\n",
    "flights_test_1 = [('A', 'B'), ('A', 'C'), ('B', 'C'), ('C', 'A')]\n",
    "origin_test_1 = \"A\"\n",
    "Flight_Path(flights_test_1, origin_test_1)"
   ]
  },
  {
   "cell_type": "code",
   "execution_count": 32,
   "metadata": {},
   "outputs": [],
   "source": [
    "flights_test_1 = [('A', 'B'), ('A', 'C'), ('B', 'C'), ('C', 'A')]\n",
    "origin_test_1 = \"D\"\n",
    "Flight_Path(flights_test_1, origin_test_1)"
   ]
  },
  {
   "cell_type": "code",
   "execution_count": 33,
   "metadata": {},
   "outputs": [],
   "source": [
    "flights_test_3 = [('SFO', 'COM'), ('COM', 'YYZ')]\n",
    "origin_test_3 = \"COM\"\n",
    "Flight_Path(flights_test_3, origin_test_3)"
   ]
  },
  {
   "cell_type": "code",
   "execution_count": 34,
   "metadata": {},
   "outputs": [
    {
     "data": {
      "text/plain": [
       "['YUL', 'YYZ', 'SFO', 'HKO', 'ORD']"
      ]
     },
     "execution_count": 34,
     "metadata": {},
     "output_type": "execute_result"
    }
   ],
   "source": [
    "flights_test_4 =  [('SFO', 'HKO'), ('YYZ', 'SFO'), ('YUL', 'YYZ'), ('HKO', 'ORD')]\n",
    "origin_test_4 = \"YUL\"\n",
    "Flight_Path(flights_test_4, origin_test_4)"
   ]
  },
  {
   "attachments": {},
   "cell_type": "markdown",
   "metadata": {},
   "source": [
    "---\n",
    "## Solution Explained"
   ]
  },
  {
   "attachments": {},
   "cell_type": "markdown",
   "metadata": {},
   "source": [
    "### Flight_Path(flights, origin) solution\n",
    "The given problem is to find the itinerary of a person's flight journey, given an unordered list of flights represented as (origin, destination) pairs and a starting airport. The itinerary should use all flights, and if there are multiple possible itineraries, return the lexicographically smallest one. If no such itinerary exists, return `null`.\n",
    "\n",
    "The solution code provided sorts the `flights` list based on the `origin` airport and initializes the `flight_path` list to an empty list. It then uses a while loop to iterate over the `flights` list and find the itinerary.\n",
    "\n",
    "Initially, it finds the first flight from the `flights` list, which has the starting airport as the `origin` airport. If there is no such flight, it returns `null`. It then sorts the possible flights based on the destination airport and adds the first flight to the `flight_path` list. The flight used is removed from the `flights` list.\n",
    "\n",
    "In the subsequent iterations, the code finds the possible flights that originate from the destination airport of the last flight in the `flight_path` list. If there are no such flights, it returns `null`. It sorts the possible flights based on their destination airport and adds the first flight to the `flight_path` list. The flight used is removed from the `flights` list.\n",
    "\n",
    "Finally, the `flight_path` list is reformatted to represent the itinerary in the desired syntax, where only the airports are listed in the order of the flight path.\n",
    "\n",
    "The time complexity of the code is O(n^2), where n is the number of flights, as it uses nested loops to search for flights. The space complexity of the code is O(n), as it uses lists to store the `flight_path`, `possible_flights`, and `flight_path_refined` lists."
   ]
  }
 ],
 "metadata": {
  "kernelspec": {
   "display_name": "Python 3",
   "language": "python",
   "name": "python3"
  },
  "language_info": {
   "codemirror_mode": {
    "name": "ipython",
    "version": 3
   },
   "file_extension": ".py",
   "mimetype": "text/x-python",
   "name": "python",
   "nbconvert_exporter": "python",
   "pygments_lexer": "ipython3",
   "version": "3.9.12"
  },
  "orig_nbformat": 4,
  "vscode": {
   "interpreter": {
    "hash": "1616faeca1eb2b6217e80a7d062cec32587d2e1ba3999185fe005a5f436d1f1f"
   }
  }
 },
 "nbformat": 4,
 "nbformat_minor": 2
}
