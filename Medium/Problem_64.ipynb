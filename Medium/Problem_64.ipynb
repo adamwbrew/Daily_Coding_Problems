{
 "cells": [
  {
   "attachments": {},
   "cell_type": "markdown",
   "metadata": {},
   "source": [
    "# Problem 64\n",
    "Suppose you have a multiplication table that is `N` by `N`. That is, a 2D array where the value at the `i`-th row and `j`-th column is `(i + 1) * (j + 1)` (if 0-indexed) or `i * j` (if 1-indexed).\n",
    "\n",
    "Given integers `N` and `X`, write a function that returns the number of times `X` appears as a value in an `N` by `N` multiplication table.\n",
    "\n",
    "For example, given `N = 6` and `X = 12`, you should return `4`, since the multiplication table looks like this:\n",
    "```\n",
    "| 1 | 2 | 3 | 4 | 5 | 6 |\n",
    "\n",
    "| 2 | 4 | 6 | 8 | 10 | 12 |\n",
    "\n",
    "| 3 | 6 | 9 | 12 | 15 | 18 |\n",
    "\n",
    "| 4 | 8 | 12 | 16 | 20 | 24 |\n",
    "\n",
    "| 5 | 10 | 15 | 20 | 25 | 30 |\n",
    "\n",
    "| 6 | 12 | 18 | 24 | 30 | 36 |\n",
    "```\n",
    "And there are `4` 12's in the table."
   ]
  },
  {
   "attachments": {},
   "cell_type": "markdown",
   "metadata": {},
   "source": [
    "---\n",
    "## Solution"
   ]
  },
  {
   "cell_type": "code",
   "execution_count": 70,
   "metadata": {},
   "outputs": [],
   "source": [
    "# solution code\n",
    "\n",
    "def print_matrix(matrix):\n",
    "    spacer = len(str(matrix[0][-1]**2)) + 1\n",
    "    for i in range(len(matrix)):\n",
    "        for j in range(len(matrix[i])):\n",
    "            print(matrix[i][j], end = (' ' * (spacer - len(str(matrix[i][j])))))\n",
    "        print()\n",
    "\n",
    "def multi_table_number_counter(N,X):\n",
    "    matrix = []\n",
    "    count = 0\n",
    "    for i in range(1, N+1):\n",
    "        row = []\n",
    "        for j in range(1, N+1):\n",
    "            if(i*j == X):\n",
    "                count += 1\n",
    "            row.append(i*j)\n",
    "        matrix.append(row)\n",
    "    print_matrix(matrix)\n",
    "    return print(f\"\\n{X} was found {count} times in this multiplication table.\")"
   ]
  },
  {
   "attachments": {},
   "cell_type": "markdown",
   "metadata": {},
   "source": [
    "---\n",
    "## Test Cases"
   ]
  },
  {
   "cell_type": "code",
   "execution_count": 71,
   "metadata": {},
   "outputs": [
    {
     "name": "stdout",
     "output_type": "stream",
     "text": [
      "1  2  3  4  5  6  \n",
      "2  4  6  8  10 12 \n",
      "3  6  9  12 15 18 \n",
      "4  8  12 16 20 24 \n",
      "5  10 15 20 25 30 \n",
      "6  12 18 24 30 36 \n",
      "\n",
      "12 was found 4 times in this multiplication table.\n"
     ]
    }
   ],
   "source": [
    "# solution testing test cases\n",
    "multi_table_number_counter(6,12)"
   ]
  },
  {
   "cell_type": "code",
   "execution_count": 72,
   "metadata": {},
   "outputs": [
    {
     "name": "stdout",
     "output_type": "stream",
     "text": [
      "1   2   3   4   5   6   7   8   9   10  11  12  \n",
      "2   4   6   8   10  12  14  16  18  20  22  24  \n",
      "3   6   9   12  15  18  21  24  27  30  33  36  \n",
      "4   8   12  16  20  24  28  32  36  40  44  48  \n",
      "5   10  15  20  25  30  35  40  45  50  55  60  \n",
      "6   12  18  24  30  36  42  48  54  60  66  72  \n",
      "7   14  21  28  35  42  49  56  63  70  77  84  \n",
      "8   16  24  32  40  48  56  64  72  80  88  96  \n",
      "9   18  27  36  45  54  63  72  81  90  99  108 \n",
      "10  20  30  40  50  60  70  80  90  100 110 120 \n",
      "11  22  33  44  55  66  77  88  99  110 121 132 \n",
      "12  24  36  48  60  72  84  96  108 120 132 144 \n",
      "\n",
      "36 was found 5 times in this multiplication table.\n"
     ]
    }
   ],
   "source": [
    "multi_table_number_counter(12,36)"
   ]
  },
  {
   "cell_type": "code",
   "execution_count": 73,
   "metadata": {},
   "outputs": [
    {
     "name": "stdout",
     "output_type": "stream",
     "text": [
      "1   2   3   4   5   6   7   8   9   10  11  12  13  14  15  16  17  18  19  20  21  22  23  24  25  \n",
      "2   4   6   8   10  12  14  16  18  20  22  24  26  28  30  32  34  36  38  40  42  44  46  48  50  \n",
      "3   6   9   12  15  18  21  24  27  30  33  36  39  42  45  48  51  54  57  60  63  66  69  72  75  \n",
      "4   8   12  16  20  24  28  32  36  40  44  48  52  56  60  64  68  72  76  80  84  88  92  96  100 \n",
      "5   10  15  20  25  30  35  40  45  50  55  60  65  70  75  80  85  90  95  100 105 110 115 120 125 \n",
      "6   12  18  24  30  36  42  48  54  60  66  72  78  84  90  96  102 108 114 120 126 132 138 144 150 \n",
      "7   14  21  28  35  42  49  56  63  70  77  84  91  98  105 112 119 126 133 140 147 154 161 168 175 \n",
      "8   16  24  32  40  48  56  64  72  80  88  96  104 112 120 128 136 144 152 160 168 176 184 192 200 \n",
      "9   18  27  36  45  54  63  72  81  90  99  108 117 126 135 144 153 162 171 180 189 198 207 216 225 \n",
      "10  20  30  40  50  60  70  80  90  100 110 120 130 140 150 160 170 180 190 200 210 220 230 240 250 \n",
      "11  22  33  44  55  66  77  88  99  110 121 132 143 154 165 176 187 198 209 220 231 242 253 264 275 \n",
      "12  24  36  48  60  72  84  96  108 120 132 144 156 168 180 192 204 216 228 240 252 264 276 288 300 \n",
      "13  26  39  52  65  78  91  104 117 130 143 156 169 182 195 208 221 234 247 260 273 286 299 312 325 \n",
      "14  28  42  56  70  84  98  112 126 140 154 168 182 196 210 224 238 252 266 280 294 308 322 336 350 \n",
      "15  30  45  60  75  90  105 120 135 150 165 180 195 210 225 240 255 270 285 300 315 330 345 360 375 \n",
      "16  32  48  64  80  96  112 128 144 160 176 192 208 224 240 256 272 288 304 320 336 352 368 384 400 \n",
      "17  34  51  68  85  102 119 136 153 170 187 204 221 238 255 272 289 306 323 340 357 374 391 408 425 \n",
      "18  36  54  72  90  108 126 144 162 180 198 216 234 252 270 288 306 324 342 360 378 396 414 432 450 \n",
      "19  38  57  76  95  114 133 152 171 190 209 228 247 266 285 304 323 342 361 380 399 418 437 456 475 \n",
      "20  40  60  80  100 120 140 160 180 200 220 240 260 280 300 320 340 360 380 400 420 440 460 480 500 \n",
      "21  42  63  84  105 126 147 168 189 210 231 252 273 294 315 336 357 378 399 420 441 462 483 504 525 \n",
      "22  44  66  88  110 132 154 176 198 220 242 264 286 308 330 352 374 396 418 440 462 484 506 528 550 \n",
      "23  46  69  92  115 138 161 184 207 230 253 276 299 322 345 368 391 414 437 460 483 506 529 552 575 \n",
      "24  48  72  96  120 144 168 192 216 240 264 288 312 336 360 384 408 432 456 480 504 528 552 576 600 \n",
      "25  50  75  100 125 150 175 200 225 250 275 300 325 350 375 400 425 450 475 500 525 550 575 600 625 \n",
      "\n",
      "144 was found 7 times in this multiplication table.\n"
     ]
    }
   ],
   "source": [
    "multi_table_number_counter(25,144)"
   ]
  },
  {
   "attachments": {},
   "cell_type": "markdown",
   "metadata": {},
   "source": [
    "---\n",
    "## Solution Explained"
   ]
  },
  {
   "attachments": {},
   "cell_type": "markdown",
   "metadata": {},
   "source": [
    "### `multi_table_number_counter(N,X)` solution\n",
    "The function called `multi_table_number_counter` that takes two arguments, `N` and `X`. The function first initializes an empty `matrix` and a `count` variable to zero.\n",
    "\n",
    "The function then iterates through each element in the multiplication table from `1` to `N`. For each element, it multiplies the row number by the column number to get the value of that element. If the value of that element is equal to `X`, then it increments the `count` variable by `1`.\n",
    "\n",
    "The function also stores each row of the multiplication table in the `matrix` list.\n",
    "\n",
    "After constructing the multiplication table, the function calls the `print_matrix` function to print out the multiplication table in a visually appealing format. The `print_matrix` function takes in the `matrix` list and calculates the appropriate spacing between the numbers to ensure that they are aligned correctly.\n",
    "\n",
    "Finally, the function returns a message stating how many times `X` was found in the multiplication table."
   ]
  }
 ],
 "metadata": {
  "kernelspec": {
   "display_name": "Python 3",
   "language": "python",
   "name": "python3"
  },
  "language_info": {
   "codemirror_mode": {
    "name": "ipython",
    "version": 3
   },
   "file_extension": ".py",
   "mimetype": "text/x-python",
   "name": "python",
   "nbconvert_exporter": "python",
   "pygments_lexer": "ipython3",
   "version": "3.9.7"
  },
  "orig_nbformat": 4,
  "vscode": {
   "interpreter": {
    "hash": "1616faeca1eb2b6217e80a7d062cec32587d2e1ba3999185fe005a5f436d1f1f"
   }
  }
 },
 "nbformat": 4,
 "nbformat_minor": 2
}
