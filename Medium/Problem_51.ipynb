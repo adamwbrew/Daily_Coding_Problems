{
 "cells": [
  {
   "attachments": {},
   "cell_type": "markdown",
   "metadata": {},
   "source": [
    "# Problem 51\n",
    "Given a string `s` and an integer `k`, break up the string into multiple lines such that each line has a length of `k` or less. You must break it up so that words don't break across lines. Each line has to have the maximum possible amount of words. If there's no way to break the text up, then return `null`.\n",
    "\n",
    "You can assume that there are no spaces at the ends of the string and that there is exactly one space between each word.\n",
    "\n",
    "For example, given the string `\"the quick brown fox jumps over the lazy dog\"` and `k = 10`, you should return: `[\"the quick\", \"brown fox\", \"jumps over\", \"the lazy\", \"dog\"]`. No string in the list has a length of more than 10."
   ]
  },
  {
   "attachments": {},
   "cell_type": "markdown",
   "metadata": {},
   "source": [
    "---\n",
    "## Solution"
   ]
  },
  {
   "cell_type": "code",
   "execution_count": 5,
   "metadata": {},
   "outputs": [],
   "source": [
    "# solution code\n",
    "def relaxed_justify(string, k):\n",
    "    words = string.split(\" \")\n",
    "    lines = [\"\"]\n",
    "    for word in words:\n",
    "        if(len(lines[-1]) + len(word) + 1 <= k):\n",
    "            if(len(lines[-1]) != 0):\n",
    "                lines[-1] += ' ' + word\n",
    "            else:\n",
    "                lines[-1] += word\n",
    "        else:\n",
    "            if(len(word) > k):\n",
    "                return None\n",
    "            else:\n",
    "                lines.append(word)\n",
    "    return lines\n"
   ]
  },
  {
   "attachments": {},
   "cell_type": "markdown",
   "metadata": {},
   "source": [
    "---\n",
    "## Test Cases"
   ]
  },
  {
   "cell_type": "code",
   "execution_count": 6,
   "metadata": {},
   "outputs": [
    {
     "data": {
      "text/plain": [
       "['the quick', 'brown fox', 'jumps over', 'the lazy', 'dog']"
      ]
     },
     "execution_count": 6,
     "metadata": {},
     "output_type": "execute_result"
    }
   ],
   "source": [
    "# solution testing test cases\n",
    "test_1 = \"the quick brown fox jumps over the lazy dog\"\n",
    "k_1 = 10\n",
    "relaxed_justify(test_1, k_1)"
   ]
  },
  {
   "cell_type": "code",
   "execution_count": 7,
   "metadata": {},
   "outputs": [],
   "source": [
    "test_2 = \"this sentence should cause a null return\"\n",
    "k_2 = 5\n",
    "relaxed_justify(test_2, k_2)"
   ]
  },
  {
   "cell_type": "code",
   "execution_count": 12,
   "metadata": {},
   "outputs": [
    {
     "data": {
      "text/plain": [
       "['While the men made bullets and the women lint, while a large saucepan of',\n",
       " 'melted brass and lead, destined to the bullet-mould smoked over a glowing',\n",
       " 'brazier, while the sentinels watched, weapon in hand, on the barricade,',\n",
       " 'while Enjolras, whom it was impossible to divert, kept an eye on the',\n",
       " 'sentinels, Combeferre, Courfeyrac, Jean Prouvaire, Feuilly, Bossuet, Joly,',\n",
       " 'Bahorel, and some others, sought each other out and united as in the most',\n",
       " 'peaceful of days of their conversations in their student life, and, in one',\n",
       " 'corner of this wine-shop which had been converted into a casement, a couple',\n",
       " 'of paces distant from the redoubt which they had built, with their carbines',\n",
       " 'loaded and primed resting against the backs of their chairs, these fine',\n",
       " 'young fellows, so close to a supreme hour, began to recite love verses.']"
      ]
     },
     "execution_count": 12,
     "metadata": {},
     "output_type": "execute_result"
    }
   ],
   "source": [
    "test_3 = \"While the men made bullets and the women lint, while a large saucepan of melted brass and lead, destined to the bullet-mould smoked over a glowing brazier, while the sentinels watched, weapon in hand, on the barricade, while Enjolras, whom it was impossible to divert, kept an eye on the sentinels, Combeferre, Courfeyrac, Jean Prouvaire, Feuilly, Bossuet, Joly, Bahorel, and some others, sought each other out and united as in the most peaceful of days of their conversations in their student life, and, in one corner of this wine-shop which had been converted into a casement, a couple of paces distant from the redoubt which they had built, with their carbines loaded and primed resting against the backs of their chairs, these fine young fellows, so close to a supreme hour, began to recite love verses.\"\n",
    "k_3 = 75\n",
    "relaxed_justify(test_3, k_3)"
   ]
  },
  {
   "attachments": {},
   "cell_type": "markdown",
   "metadata": {},
   "source": [
    "---\n",
    "## Solution Explained"
   ]
  },
  {
   "attachments": {},
   "cell_type": "markdown",
   "metadata": {},
   "source": [
    "### `relaxed_justify(string, k)` solution\n",
    "This code is implementing a relaxed version of text justification algorithm to split a given string into multiple lines such that each line has a length of at most `k` characters, without breaking words in the middle.\n",
    "\n",
    "The input parameters are a string `string` and an integer `k` indicating the maximum length allowed for each line. The code first splits the input `string` into individual words using the `split` function, and stores them in a list called `words`.\n",
    "\n",
    "It initializes a list called lines with an empty string element. The algorithm then iterates over each `word` in the `words` list, and checks whether adding it to the current `line` in `lines` will cause the `line` to exceed the maximum length `k`. If the `word` fits, it is added to the current `line`. If not, a new `line` is created and the current `word` is added to the new `line`.\n",
    "\n",
    "The code checks whether a `word` is longer than the maximum length `k`, and if it is, it returns `None` indicating that it is not possible to break up the string as required.\n",
    "\n",
    "Finally, the code returns the list of `lines` that were created, which contains the resulting broken up `string`.\n",
    "\n",
    "Overall, the algorithm is trying to break up the string into as many `lines` as possible, without breaking words in the middle, and ensuring that no line exceeds the maximum length allowed. The relaxed version allows for the last line to be shorter than `k`, if necessary."
   ]
  },
  {
   "cell_type": "markdown",
   "metadata": {},
   "source": []
  }
 ],
 "metadata": {
  "kernelspec": {
   "display_name": "base",
   "language": "python",
   "name": "python3"
  },
  "language_info": {
   "codemirror_mode": {
    "name": "ipython",
    "version": 3
   },
   "file_extension": ".py",
   "mimetype": "text/x-python",
   "name": "python",
   "nbconvert_exporter": "python",
   "pygments_lexer": "ipython3",
   "version": "3.9.7 (default, Sep 16 2021, 08:50:36) \n[Clang 10.0.0 ]"
  },
  "orig_nbformat": 4,
  "vscode": {
   "interpreter": {
    "hash": "40d3a090f54c6569ab1632332b64b2c03c39dcf918b08424e98f38b5ae0af88f"
   }
  }
 },
 "nbformat": 4,
 "nbformat_minor": 2
}
