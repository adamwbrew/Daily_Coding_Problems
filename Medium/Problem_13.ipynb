{
 "cells": [
  {
   "attachments": {},
   "cell_type": "markdown",
   "metadata": {},
   "source": [
    "# Problem 13\n",
    "Given a stream of elements too large to store in memory, pick a random element from the stream with uniform probability."
   ]
  },
  {
   "attachments": {},
   "cell_type": "markdown",
   "metadata": {},
   "source": [
    "---\n",
    "## Test Cases"
   ]
  },
  {
   "cell_type": "code",
   "execution_count": 300,
   "metadata": {},
   "outputs": [],
   "source": [
    "# test cases\n",
    "import random\n",
    "import numpy as np\n",
    "\n",
    "stream_1 = [1,2,3]\n",
    "\n",
    "# stream with exceeding large memory\n",
    "stream_2 = [i for i in range(100_000_000)]\n",
    "\n",
    "# edge case\n",
    "stream_3 = []\n",
    "\n",
    "# edge case\n",
    "stream_4 = \"1, 2, 3\""
   ]
  },
  {
   "attachments": {},
   "cell_type": "markdown",
   "metadata": {},
   "source": [
    "---\n",
    "## Solution"
   ]
  },
  {
   "cell_type": "code",
   "execution_count": 301,
   "metadata": {},
   "outputs": [],
   "source": [
    "# solution code\n",
    "\n",
    "# Based on Algorithm R created by Jeffery Vitter\n",
    "def Reservoir_Sample(stream):\n",
    "    if(stream == []): return \"Stream is empty.\"\n",
    "    if(type(stream) != list): return \"Stream is not a list.\"\n",
    "    for i, element in enumerate(stream):\n",
    "        if(i == 0): \n",
    "            reservoir = element\n",
    "        else:\n",
    "            j = random.randint(0,i)\n",
    "            if(j == 0):\n",
    "                reservoir = element\n",
    "    return reservoir"
   ]
  },
  {
   "attachments": {},
   "cell_type": "markdown",
   "metadata": {},
   "source": [
    "---\n",
    "## Test Solution"
   ]
  },
  {
   "cell_type": "code",
   "execution_count": 302,
   "metadata": {},
   "outputs": [
    {
     "data": {
      "text/plain": [
       "3"
      ]
     },
     "execution_count": 302,
     "metadata": {},
     "output_type": "execute_result"
    }
   ],
   "source": [
    "# solution testing test cases\n",
    "stream_1 = [1,2,3]\n",
    "Reservoir_Sample(stream_1)"
   ]
  },
  {
   "cell_type": "code",
   "execution_count": 303,
   "metadata": {},
   "outputs": [
    {
     "data": {
      "text/plain": [
       "81852082"
      ]
     },
     "execution_count": 303,
     "metadata": {},
     "output_type": "execute_result"
    }
   ],
   "source": [
    "stream_2 = [i for i in range(100_000_000)]\n",
    "Reservoir_Sample(stream_2)"
   ]
  },
  {
   "cell_type": "code",
   "execution_count": 304,
   "metadata": {},
   "outputs": [
    {
     "data": {
      "text/plain": [
       "'Stream is empty.'"
      ]
     },
     "execution_count": 304,
     "metadata": {},
     "output_type": "execute_result"
    }
   ],
   "source": [
    "stream_3 = []\n",
    "Reservoir_Sample(stream_3)"
   ]
  },
  {
   "cell_type": "code",
   "execution_count": 305,
   "metadata": {},
   "outputs": [
    {
     "data": {
      "text/plain": [
       "'Stream is not a list.'"
      ]
     },
     "execution_count": 305,
     "metadata": {},
     "output_type": "execute_result"
    }
   ],
   "source": [
    "stream_4 = \"1, 2, 3\"\n",
    "Reservoir_Sample(stream_4)"
   ]
  },
  {
   "attachments": {},
   "cell_type": "markdown",
   "metadata": {},
   "source": [
    "---\n",
    "## Solution Explained"
   ]
  },
  {
   "attachments": {},
   "cell_type": "markdown",
   "metadata": {},
   "source": [
    "### Reservoir_Sample(stream) solution\n",
    "The code is a implementation of the reservoir sampling algorithm, a random sampling technique used to select a random element from a large stream of items with a uniform distribution. The algorithm is based on the concept of Algorithm R created by Jeffery Vitter.\n",
    "\n",
    "The function `Reservoir_Sample` takes a single argument `stream` with a uniform distribution, which is the stream of items from which a random element is to be selected.\n",
    "\n",
    "The first step in the function is to check if the stream is empty or if the type of the input is not a list. If either of these conditions are met, an error message is returned indicating that the stream is empty or that the input is not a list.\n",
    "\n",
    "The function then iterates over each element in the stream using the `enumerate` function, which returns a tuple containing the index of the current element and the element itself. The index of the current element is stored in the variable i, and the current element is stored in the variable `element`.\n",
    "\n",
    "If `i` is equal to 0, it means that this is the first element of the stream, and the first element is assigned to the variable `reservoir`. For all other elements, a random integer `j` is generated between `0` and `i` inclusive using the `random.randint` function. If `j` is equal to `0`, the current element is assigned to the `reservoir` variable.\n",
    "\n",
    "Finally, the function returns the `reservoir` variable, which holds the random element selected from the stream.\n",
    "\n",
    "The algorithm works by using a basic probability concept - at each step, the algorithm assigns a probability to each element in the stream proportional to its position in the stream. The proof of the algorithm's correctness is based on the idea of mathematical induction. The proof shows that, after the sampling process has been completed, each item in the stream has been assigned a probability of being selected that is equal to the size of the sample divided by the total number of items in the stream. This means that the sample selected by the algorithm is a random and representative subset of the entire stream."
   ]
  }
 ],
 "metadata": {
  "kernelspec": {
   "display_name": "base",
   "language": "python",
   "name": "python3"
  },
  "language_info": {
   "codemirror_mode": {
    "name": "ipython",
    "version": 3
   },
   "file_extension": ".py",
   "mimetype": "text/x-python",
   "name": "python",
   "nbconvert_exporter": "python",
   "pygments_lexer": "ipython3",
   "version": "3.9.12"
  },
  "orig_nbformat": 4,
  "vscode": {
   "interpreter": {
    "hash": "909ca5f560bbebec5e281e7237658d79e6328c8c97dd9d57b9f7776842486ec7"
   }
  }
 },
 "nbformat": 4,
 "nbformat_minor": 2
}
