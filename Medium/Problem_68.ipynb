{
 "cells": [
  {
   "attachments": {},
   "cell_type": "markdown",
   "metadata": {},
   "source": [
    "# Problem 68\n",
    "Given `k` sorted singly linked lists, write a function to merge all the lists into one sorted singly linked list."
   ]
  },
  {
   "attachments": {},
   "cell_type": "markdown",
   "metadata": {},
   "source": [
    "---\n",
    "## Solution"
   ]
  },
  {
   "cell_type": "code",
   "execution_count": 34,
   "metadata": {},
   "outputs": [],
   "source": [
    "# solution code\n",
    "\n",
    "class Node:\n",
    "    def __init__(self, data):\n",
    "        self.data = data\n",
    "        self.next = None\n",
    "\n",
    "\n",
    "class Singly_Linked_List():\n",
    "    def __init__(self):\n",
    "        self.head = None\n",
    "\n",
    "    def display(self):\n",
    "        data = []\n",
    "        temp = self.head\n",
    "        while(temp != None):\n",
    "            data.append(temp.data)\n",
    "            temp = temp.next\n",
    "        return data\n",
    "\n",
    "\n",
    "def list_to_sorted_SSL(list_):\n",
    "    SSL = Singly_Linked_List()\n",
    "    if(list_ == []): return SSL\n",
    "    list_.sort()\n",
    "    temp = Node(list_[0])\n",
    "    SSL.head = temp\n",
    "    for i in range(1, len(list_)):\n",
    "        temp_ = Node(list_[i])\n",
    "        temp.next = temp_\n",
    "        temp = temp_\n",
    "    return SSL\n",
    "\n",
    "\n",
    "def merge_sort_k_SSLs(list_of_SSLs):\n",
    "    collection = []\n",
    "    for SSL in list_of_SSLs:\n",
    "        temp = SSL.head\n",
    "        for j in range(len(SSL.display())):\n",
    "            collection.append([temp, temp.data])\n",
    "            temp = temp.next\n",
    "    collection.sort(key = lambda x: x[1])\n",
    "    SSL_k_sorted = Singly_Linked_List()\n",
    "    if(collection == []): return SSL_k_sorted\n",
    "    temp = collection[0][0]\n",
    "    SSL_k_sorted.head = temp\n",
    "    for i in range(1, len(collection)):\n",
    "        temp_ = collection[i][0]\n",
    "        temp.next = temp_\n",
    "        temp = temp_\n",
    "    return SSL_k_sorted\n"
   ]
  },
  {
   "attachments": {},
   "cell_type": "markdown",
   "metadata": {},
   "source": [
    "---\n",
    "## Test Cases"
   ]
  },
  {
   "cell_type": "code",
   "execution_count": 35,
   "metadata": {},
   "outputs": [
    {
     "data": {
      "text/plain": [
       "[1, 1, 2, 2, 3, 3, 4, 5, 5, 6, 7, 8, 20, 100]"
      ]
     },
     "execution_count": 35,
     "metadata": {},
     "output_type": "execute_result"
    }
   ],
   "source": [
    "# solution testing test cases\n",
    "SSL_1 = list_to_sorted_SSL([2,3,5,1,4])\n",
    "SSL_2 = list_to_sorted_SSL([6,5,7,8,2])\n",
    "SSL_3 = list_to_sorted_SSL([1,100,20,3])\n",
    "SSL_list = [SSL_1, SSL_2, SSL_3]\n",
    "merged_sorted_SSL = merge_sort_k_SSLs(SSL_list)\n",
    "merged_sorted_SSL.display()"
   ]
  },
  {
   "cell_type": "code",
   "execution_count": 36,
   "metadata": {},
   "outputs": [
    {
     "data": {
      "text/plain": [
       "[-2, -1, 1, 2, 3, 4, 5, 10, 30, 40, 100]"
      ]
     },
     "execution_count": 36,
     "metadata": {},
     "output_type": "execute_result"
    }
   ],
   "source": [
    "SSL_1 = list_to_sorted_SSL([10,100,2,30,40])\n",
    "SSL_2 = list_to_sorted_SSL([-2,-1,3,4,5])\n",
    "SSL_3 = list_to_sorted_SSL([1])\n",
    "SSL_list = [SSL_1, SSL_2, SSL_3]\n",
    "merged_sorted_SSL = merge_sort_k_SSLs(SSL_list)\n",
    "merged_sorted_SSL.display()"
   ]
  },
  {
   "cell_type": "code",
   "execution_count": 37,
   "metadata": {},
   "outputs": [
    {
     "data": {
      "text/plain": [
       "[]"
      ]
     },
     "execution_count": 37,
     "metadata": {},
     "output_type": "execute_result"
    }
   ],
   "source": [
    "SSL_1 = list_to_sorted_SSL([])\n",
    "SSL_2 = list_to_sorted_SSL([])\n",
    "SSL_3 = list_to_sorted_SSL([])\n",
    "SSL_list = [SSL_1, SSL_2, SSL_3]\n",
    "merged_sorted_SSL = merge_sort_k_SSLs(SSL_list)\n",
    "merged_sorted_SSL.display()"
   ]
  },
  {
   "cell_type": "code",
   "execution_count": 38,
   "metadata": {},
   "outputs": [
    {
     "data": {
      "text/plain": [
       "[-2, -1, 2, 3, 4, 5, 10, 30, 40, 100]"
      ]
     },
     "execution_count": 38,
     "metadata": {},
     "output_type": "execute_result"
    }
   ],
   "source": [
    "SSL_1 = list_to_sorted_SSL([10,100,2,30,40])\n",
    "SSL_2 = list_to_sorted_SSL([-2,-1,3,4,5])\n",
    "SSL_3 = list_to_sorted_SSL([])\n",
    "SSL_list = [SSL_1, SSL_2, SSL_3]\n",
    "merged_sorted_SSL = merge_sort_k_SSLs(SSL_list)\n",
    "merged_sorted_SSL.display()"
   ]
  },
  {
   "attachments": {},
   "cell_type": "markdown",
   "metadata": {},
   "source": [
    "---\n",
    "## Solution Explained"
   ]
  },
  {
   "attachments": {},
   "cell_type": "markdown",
   "metadata": {},
   "source": [
    "### `merge_sort_k_SSLs(list_of_SSLs)` solution\n",
    "The given code presents a solution to a common problem of merging k sorted singly linked lists into one sorted singly linked list. The code contains two main functions, which is `list_to_sorted_SSL` and `merge_sort_k_SSLs`.\n",
    "\n",
    "The `Node` class is defined to create a node object with two attributes: `data` and `next`. The `data` attribute stores the value of the node, while the next attribute stores the reference to the `next` node in the linked list.\n",
    "\n",
    "The `Singly_Linked_List` class is defined to create an empty singly linked list object with only one attribute `head`, which is initially set to `None`. The `display` method of this class is used to print all the elements of the singly linked list.\n",
    "\n",
    "The `list_to_sorted_SSL` function takes a list of values and converts it into a singly linked list with the values in sorted order. First, it checks if the input list is empty. If it is empty, it returns an empty singly linked list. Otherwise, it sorts the list, creates a singly linked list object, and assigns the first value of the sorted list to the `head` of the linked list. It then iterates over the rest of the sorted list, creates a new node for each value, and links the nodes to form a singly linked list.\n",
    "\n",
    "The `merge_sort_k_SSLs` function takes a list of `k` singly linked lists as input and merges them into one sorted singly linked list. It first initializes an empty list called `collection` to store the nodes of all the singly linked lists. It then iterates over each singly linked list in the input list and adds its nodes and values to the `collection` list. The `collection` list is then sorted based on the values of the nodes using the `lambda` function. Finally, a new singly linked list object is created, the first node of the collection list is assigned as the `head` of the linked list, and the remaining nodes are linked to form the singly linked list in sorted order.\n",
    "\n",
    "Overall, the given code provides a functional solution to the problem of merging `k` sorted singly linked lists into one sorted singly linked list."
   ]
  }
 ],
 "metadata": {
  "kernelspec": {
   "display_name": "Python 3",
   "language": "python",
   "name": "python3"
  },
  "language_info": {
   "codemirror_mode": {
    "name": "ipython",
    "version": 3
   },
   "file_extension": ".py",
   "mimetype": "text/x-python",
   "name": "python",
   "nbconvert_exporter": "python",
   "pygments_lexer": "ipython3",
   "version": "3.9.7"
  },
  "orig_nbformat": 4,
  "vscode": {
   "interpreter": {
    "hash": "1616faeca1eb2b6217e80a7d062cec32587d2e1ba3999185fe005a5f436d1f1f"
   }
  }
 },
 "nbformat": 4,
 "nbformat_minor": 2
}
