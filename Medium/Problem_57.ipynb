{
 "cells": [
  {
   "attachments": {},
   "cell_type": "markdown",
   "metadata": {},
   "source": [
    "# Problem 57\n",
    "Assume you have access to a function `toss_biased()` which returns 0 or 1 with a probability that's not 50-50 (but also not 0-100 or 100-0). You do not know the bias of the coin.\n",
    "\n",
    "Write a function to simulate an unbiased coin toss."
   ]
  },
  {
   "attachments": {},
   "cell_type": "markdown",
   "metadata": {},
   "source": [
    "---\n",
    "## Solution"
   ]
  },
  {
   "cell_type": "code",
   "execution_count": 56,
   "metadata": {},
   "outputs": [],
   "source": [
    "# solution code\n",
    "import random\n",
    "\n",
    "def toss_biased():\n",
    "    biased_probability = random.randint(0,100) * 0.01\n",
    "    if(random.random() < biased_probability):\n",
    "        return 1\n",
    "    return 0\n",
    "\n",
    "def nonbiased_coin_filp():\n",
    "    collection = set()\n",
    "    while(True):\n",
    "        collection.add(toss_biased())\n",
    "        if(len(collection)):\n",
    "            break\n",
    "    return list(collection)[random.randint(0, len(collection)-1)]\n"
   ]
  },
  {
   "attachments": {},
   "cell_type": "markdown",
   "metadata": {},
   "source": [
    "---\n",
    "## Test Cases"
   ]
  },
  {
   "cell_type": "code",
   "execution_count": 57,
   "metadata": {},
   "outputs": [
    {
     "data": {
      "text/plain": [
       "0"
      ]
     },
     "execution_count": 57,
     "metadata": {},
     "output_type": "execute_result"
    }
   ],
   "source": [
    "# solution testing test cases\n",
    "nonbiased_coin_filp()"
   ]
  },
  {
   "attachments": {},
   "cell_type": "markdown",
   "metadata": {},
   "source": [
    "#### Test bias of nonbiased_coin_filp() over n iterations"
   ]
  },
  {
   "cell_type": "code",
   "execution_count": 59,
   "metadata": {},
   "outputs": [
    {
     "name": "stdout",
     "output_type": "stream",
     "text": [
      "After calling nonbiased_coin_filp() 10000000 times, we found that\n",
      "0 has a probability of 50.00407%\n",
      "1 has a probability of 49.99593%\n"
     ]
    }
   ],
   "source": [
    "# test if function is unbiased over many itrations\n",
    "filp_counts = {0:0, 1:0}\n",
    "n = 10000000\n",
    "for i in range(n):\n",
    "    filp_counts[nonbiased_coin_filp()] += 1\n",
    "print(f\"After calling nonbiased_coin_filp() {n} times, we found that\\n0 has a probability of {round(filp_counts[0]/n * 100, 5)}%\\n1 has a probability of {round(filp_counts[1]/n * 100, 5)}%\")"
   ]
  },
  {
   "attachments": {},
   "cell_type": "markdown",
   "metadata": {},
   "source": [
    "---\n",
    "## Solution Explained"
   ]
  },
  {
   "attachments": {},
   "cell_type": "markdown",
   "metadata": {},
   "source": [
    "### `nonbiased_coin_filp()` solution\n",
    "This code contains two functions that simulate coin tosses. The first function `toss_biased()` generates a random number between `0` and `100`, multiplies it by `0.01` to get a decimal value between `0` and `1`, and uses this as the biased probability of the coin landing on heads. It then generates another random number between `0` and `1` and compares it to the biased probability. If the random number is less than the biased probability, the function returns `1` (heads). Otherwise, it returns `0` (tails).\n",
    "\n",
    "The second `function nonbiased_coin_filp()` uses the `toss_biased()` function to generate a set of tosses until it contains both `0` and `1`. Then, it randomly selects one of the tosses in the set to return, effectively simulating an unbiased coin toss.\n",
    "\n",
    "Overall, the second function creates a set of biased coin tosses until both possible outcomes have occurred, at which point it randomly selects one of the tosses to return. This results in an unbiased coin toss, since both possible outcomes have an equal chance of being selected."
   ]
  }
 ],
 "metadata": {
  "kernelspec": {
   "display_name": "base",
   "language": "python",
   "name": "python3"
  },
  "language_info": {
   "codemirror_mode": {
    "name": "ipython",
    "version": 3
   },
   "file_extension": ".py",
   "mimetype": "text/x-python",
   "name": "python",
   "nbconvert_exporter": "python",
   "pygments_lexer": "ipython3",
   "version": "3.9.7 (default, Sep 16 2021, 08:50:36) \n[Clang 10.0.0 ]"
  },
  "orig_nbformat": 4,
  "vscode": {
   "interpreter": {
    "hash": "40d3a090f54c6569ab1632332b64b2c03c39dcf918b08424e98f38b5ae0af88f"
   }
  }
 },
 "nbformat": 4,
 "nbformat_minor": 2
}
