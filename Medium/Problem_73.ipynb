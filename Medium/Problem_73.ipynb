{
 "cells": [
  {
   "attachments": {},
   "cell_type": "markdown",
   "metadata": {},
   "source": [
    "# Problem 73\n",
    "Given a matrix of 1s and 0s, return the number of \"islands\" in the matrix. A 1 represents land and 0 represents water, so an island is a group of 1s that are neighboring whose perimeter is surrounded by water.\n",
    "\n",
    "For example, this matrix has 4 islands.\n",
    "\n",
    "```\n",
    "1 0 0 0 0\n",
    "0 0 1 1 0\n",
    "0 1 1 0 0\n",
    "0 0 0 0 0\n",
    "1 1 0 0 1\n",
    "1 1 0 0 1\n",
    "```"
   ]
  },
  {
   "attachments": {},
   "cell_type": "markdown",
   "metadata": {},
   "source": [
    "---\n",
    "## Solution"
   ]
  },
  {
   "cell_type": "code",
   "execution_count": 182,
   "metadata": {},
   "outputs": [],
   "source": [
    "# solution code\n",
    "\n",
    "# Returns a list of neighboring positions given a position\n",
    "def neighbors(position):\n",
    "    neighborhood = []\n",
    "    surroundings = [(1,1), (1,0), (0,1), (-1,-1), (-1,0), (0,-1), (1, -1), (-1, 1)]\n",
    "    for i in surroundings:\n",
    "        neighborhood.append([position[0] + i[0], position[1] + i[1]])\n",
    "    return neighborhood\n",
    "\n",
    "\n",
    "# Given a list of islands, merges overlapping islands together\n",
    "def merge_islands(islands):\n",
    "    islands_checker = []\n",
    "    for i in islands:\n",
    "        merge_with = []\n",
    "        for j in range(len(islands_checker)):\n",
    "            # Check if the current island i overlaps with any of the islands in islands_checker\n",
    "            if any(x in i for x in islands_checker[j]):\n",
    "                merge_with.append(j)\n",
    "        if not merge_with:\n",
    "            # No overlaps, append current island to islands_checker\n",
    "            islands_checker.append(i)\n",
    "        else:\n",
    "            # Merge current island i with overlapping islands in islands_checker\n",
    "            merge = i + [x for j in merge_with for x in islands_checker[j]]\n",
    "            # Delete the overlapping islands from islands_checker\n",
    "            for j in sorted(merge_with, reverse=True):\n",
    "                del islands_checker[j]\n",
    "            # Append merged island to islands_checker\n",
    "            if(type(merge) == list):\n",
    "                islands_checker.append(merge)\n",
    "            else:\n",
    "                islands_checker.append(list(set(merge)))\n",
    "    return islands_checker\n",
    "\n",
    "\n",
    "# Given a matrix, returns the number of islands\n",
    "def islands(matrix):\n",
    "    islands = None\n",
    "    for i in range(len(matrix)):\n",
    "        for j in range(len(matrix[i])):\n",
    "            if(matrix[i][j] == 1):\n",
    "                if(islands is None):\n",
    "                    # If there are no islands yet, create one with the current position\n",
    "                    islands = [[[i,j]]]\n",
    "                else:\n",
    "                    neighborhood = neighbors([i,j])\n",
    "                    found = False\n",
    "                    for island in range(len(islands)):\n",
    "                        # Check if the current position is in any existing islands\n",
    "                        for n in neighborhood:\n",
    "                            if(n in islands[island]):\n",
    "                                islands[island].append([i,j])\n",
    "                                found = True\n",
    "                    if(found == False):\n",
    "                        # If the position is not in any existing island, create a new island\n",
    "                        islands.append([[i,j]])\n",
    "    \n",
    "    if(islands is None):\n",
    "        # If there are no islands, return 0\n",
    "        return 0\n",
    "    islands = merge_islands(islands)\n",
    "    return len(islands)"
   ]
  },
  {
   "attachments": {},
   "cell_type": "markdown",
   "metadata": {},
   "source": [
    "---\n",
    "## Test Cases"
   ]
  },
  {
   "cell_type": "code",
   "execution_count": 183,
   "metadata": {},
   "outputs": [
    {
     "data": {
      "text/plain": [
       "4"
      ]
     },
     "execution_count": 183,
     "metadata": {},
     "output_type": "execute_result"
    }
   ],
   "source": [
    "# solution testing test cases\n",
    "\n",
    "islands_1 = [[1, 0, 0, 0, 0],\n",
    "            [0, 0, 1, 1, 0],\n",
    "            [0, 1, 1, 0, 0],\n",
    "            [0, 0, 0, 0, 0],\n",
    "            [1, 1, 0, 0, 1],\n",
    "            [1, 1, 0, 0, 1]]\n",
    "\n",
    "islands(islands_1)"
   ]
  },
  {
   "cell_type": "code",
   "execution_count": 184,
   "metadata": {},
   "outputs": [
    {
     "data": {
      "text/plain": [
       "1"
      ]
     },
     "execution_count": 184,
     "metadata": {},
     "output_type": "execute_result"
    }
   ],
   "source": [
    "islands_2 = [[1, 1, 1, 1, 1],\n",
    "            [1, 0, 0, 0, 1],\n",
    "            [1, 0, 0, 0, 1],\n",
    "            [1, 0, 0, 0, 1],\n",
    "            [1, 0, 0, 0, 1],\n",
    "            [1, 1, 1, 1, 1]]\n",
    "\n",
    "islands(islands_2)"
   ]
  },
  {
   "cell_type": "code",
   "execution_count": 185,
   "metadata": {},
   "outputs": [
    {
     "data": {
      "text/plain": [
       "0"
      ]
     },
     "execution_count": 185,
     "metadata": {},
     "output_type": "execute_result"
    }
   ],
   "source": [
    "islands_3 = [[0, 0, 0, 0, 0],\n",
    "            [0, 0, 0, 0, 0],\n",
    "            [0, 0, 0, 0, 0],\n",
    "            [0, 0, 0, 0, 0],\n",
    "            [0, 0, 0, 0, 0],\n",
    "            [0, 0, 0, 0, 0]]\n",
    "\n",
    "islands(islands_3)"
   ]
  },
  {
   "cell_type": "code",
   "execution_count": 186,
   "metadata": {},
   "outputs": [
    {
     "data": {
      "text/plain": [
       "8"
      ]
     },
     "execution_count": 186,
     "metadata": {},
     "output_type": "execute_result"
    }
   ],
   "source": [
    "islands_4 = [[1, 0, 1, 0, 1],\n",
    "            [0, 0, 0, 0, 0],\n",
    "            [0, 1, 0, 1, 0],\n",
    "            [0, 0, 0, 0, 0],\n",
    "            [1, 0, 1, 0, 1],\n",
    "            [0, 0, 0, 0, 0]]\n",
    "\n",
    "islands(islands_4)"
   ]
  },
  {
   "cell_type": "code",
   "execution_count": 187,
   "metadata": {},
   "outputs": [
    {
     "data": {
      "text/plain": [
       "1"
      ]
     },
     "execution_count": 187,
     "metadata": {},
     "output_type": "execute_result"
    }
   ],
   "source": [
    "islands_5 = [[1, 0, 1, 0, 1],\n",
    "            [0, 1, 0, 1, 0],\n",
    "            [1, 0, 1, 0, 1],\n",
    "            [0, 1, 0, 1, 0],\n",
    "            [1, 0, 1, 0, 1],\n",
    "            [0, 1, 0, 1, 0]]\n",
    "\n",
    "islands(islands_5)"
   ]
  },
  {
   "attachments": {},
   "cell_type": "markdown",
   "metadata": {},
   "source": [
    "---\n",
    "## Solution Explained"
   ]
  },
  {
   "attachments": {},
   "cell_type": "markdown",
   "metadata": {},
   "source": [
    "### `islands(matrix)` solution\n",
    "The given code contains three functions, `neighbors`, `merge_islands`, and `islands`, that are used to determine the number of islands in a given matrix of 1s and 0s.\n",
    "\n",
    "The `neighbors` function takes a position in the matrix and returns a list of all neighboring positions. It uses a list of surrounding positions to compute the neighbors of the given position.\n",
    "\n",
    "The `merge_islands` function takes a list of islands, where an island is a list of positions, and merges overlapping islands together. It uses a list of islands (`islands_checker`) to keep track of non-overlapping islands, and a list of indices (`merge_with`) to store the indices of overlapping islands. It then merges the overlapping islands together and removes them from `islands_checker`.\n",
    "\n",
    "The `islands` function takes a matrix and returns the number of `islands` in the matrix. It first initializes the islands variable to None. It then iterates through each position in the matrix and checks if it is land (represented by a 1). If the current position is land, it first checks if there are any existing islands. If there are no existing islands, it creates a new island with the current position. If there are existing islands, it checks if the current position is in any of them. If it is, it adds the position to the existing island. If it is not, it creates a new island with the current position. Finally, it merges any overlapping islands using the `merge_islands` function and returns the number of non-overlapping islands.\n",
    "\n",
    "The time complexity of the `neighbors` function is O(1), since the list of surrounding positions is fixed at 8. The time complexity of the `merge_islands` function is O(n^2), where n is the number of islands, since it loops through all pairs of islands. The time complexity of the `islands` function is O(mn^2), where m is the number of rows and n is the number of columns in the matrix. This is because it iterates through each position in the matrix (O(mn)), and for each land position, it checks if it is in any of the existing islands (O(n)) and merges any overlapping islands (O(n^2)).\n",
    "\n",
    "The memory space of the code is O(mn) because it uses a list of islands to store the positions of each island in the matrix, which can contain up to mn elements."
   ]
  }
 ],
 "metadata": {
  "kernelspec": {
   "display_name": "Python 3",
   "language": "python",
   "name": "python3"
  },
  "language_info": {
   "codemirror_mode": {
    "name": "ipython",
    "version": 3
   },
   "file_extension": ".py",
   "mimetype": "text/x-python",
   "name": "python",
   "nbconvert_exporter": "python",
   "pygments_lexer": "ipython3",
   "version": "3.9.12"
  },
  "orig_nbformat": 4,
  "vscode": {
   "interpreter": {
    "hash": "1616faeca1eb2b6217e80a7d062cec32587d2e1ba3999185fe005a5f436d1f1f"
   }
  }
 },
 "nbformat": 4,
 "nbformat_minor": 2
}
