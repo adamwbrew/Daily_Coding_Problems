{
 "cells": [
  {
   "attachments": {},
   "cell_type": "markdown",
   "metadata": {},
   "source": [
    "# Problem 53\n",
    "Given a multiset of integers, return whether it can be partitioned into two subsets whose sums are the same.\n",
    "\n",
    "For example, given the multiset `{15, 5, 20, 10, 35, 15, 10}`, it would return `True`, since we can split it up into `{15, 5, 10, 15, 10}` and `{20, 35}`, which both add up to `55`.\n",
    "\n",
    "Given the multiset `{15, 5, 20, 10, 35}`, it would return `False`, since we can't split it up into two subsets that add up to the same sum."
   ]
  },
  {
   "attachments": {},
   "cell_type": "markdown",
   "metadata": {},
   "source": [
    "---\n",
    "## Solution"
   ]
  },
  {
   "cell_type": "code",
   "execution_count": 1,
   "metadata": {},
   "outputs": [],
   "source": [
    "# solution code\n",
    "def multiset_spliter(multiset):\n",
    "    multiset = list(multiset)\n",
    "    multiset.sort()\n",
    "    for j in range(len(multiset)-1):\n",
    "        if(j != 0):\n",
    "            multiset_mixed = multiset[-j:] + multiset[:len(multiset)-j]\n",
    "        else: \n",
    "            multiset_mixed = multiset\n",
    "        for i in range(1, len(multiset_mixed)):\n",
    "            array_1 = multiset_mixed[:i]\n",
    "            array_2 = multiset_mixed[i:]\n",
    "            sum_1 = sum(array_1)\n",
    "            sum_2 = sum(array_2)\n",
    "            if(sum_1 == sum_2):\n",
    "                # uncomment line below to view two equal subsets\n",
    "                # print(array_1, array_2, sum_1, sum_2)\n",
    "                return True\n",
    "    return False"
   ]
  },
  {
   "attachments": {},
   "cell_type": "markdown",
   "metadata": {},
   "source": [
    "---\n",
    "## Test Cases"
   ]
  },
  {
   "cell_type": "code",
   "execution_count": 2,
   "metadata": {},
   "outputs": [
    {
     "data": {
      "text/plain": [
       "True"
      ]
     },
     "execution_count": 2,
     "metadata": {},
     "output_type": "execute_result"
    }
   ],
   "source": [
    "# solution testing test cases\n",
    "test_1 = [15, 5, 20, 10, 35, 15, 10]\n",
    "multiset_spliter(test_1)"
   ]
  },
  {
   "cell_type": "code",
   "execution_count": 3,
   "metadata": {},
   "outputs": [
    {
     "data": {
      "text/plain": [
       "False"
      ]
     },
     "execution_count": 3,
     "metadata": {},
     "output_type": "execute_result"
    }
   ],
   "source": [
    "test_2 = [1,2,3,4,5,6,7,8,9,10]\n",
    "multiset_spliter(test_2)"
   ]
  },
  {
   "cell_type": "code",
   "execution_count": 4,
   "metadata": {},
   "outputs": [
    {
     "data": {
      "text/plain": [
       "True"
      ]
     },
     "execution_count": 4,
     "metadata": {},
     "output_type": "execute_result"
    }
   ],
   "source": [
    "test_3 = [1,2,3,4,5,6,7,8]\n",
    "multiset_spliter(test_3)"
   ]
  },
  {
   "cell_type": "code",
   "execution_count": 5,
   "metadata": {},
   "outputs": [
    {
     "data": {
      "text/plain": [
       "True"
      ]
     },
     "execution_count": 5,
     "metadata": {},
     "output_type": "execute_result"
    }
   ],
   "source": [
    "test_4 = [i for i in range(1001)]\n",
    "multiset_spliter(test_4)"
   ]
  },
  {
   "attachments": {},
   "cell_type": "markdown",
   "metadata": {},
   "source": [
    "---\n",
    "## Solution Explained"
   ]
  },
  {
   "attachments": {},
   "cell_type": "markdown",
   "metadata": {},
   "source": [
    "### `multiset_spliter(multiset)` solution\n",
    "This code solves the problem of determining whether a given `multiset` of integers can be partitioned into two subsets whose sums are the same.\n",
    "\n",
    "The function `multiset_spliter` first converts the `multiset` to a list and sorts it in ascending order. It then loops through the `multiset` with an offset of `1` and rearranges it each time, to consider different starting points for the subset partitions.\n",
    "\n",
    "For each rearranged `multiset`, the function iterates through each possible partition and calculates the sum of each subset. If the two subsets have the same sum, the function returns `True`. Otherwise, it continues until all possible partitions have been checked. If no partition can be found that satisfies the condition, the function returns `False`.\n",
    "\n",
    "This algorithm has a time complexity of O(n^2) because of the nested loops, where n is the length of the multiset. The space complexity is O(n) because of the sorted list that is created from the multiset."
   ]
  }
 ],
 "metadata": {
  "kernelspec": {
   "display_name": "base",
   "language": "python",
   "name": "python3"
  },
  "language_info": {
   "codemirror_mode": {
    "name": "ipython",
    "version": 3
   },
   "file_extension": ".py",
   "mimetype": "text/x-python",
   "name": "python",
   "nbconvert_exporter": "python",
   "pygments_lexer": "ipython3",
   "version": "3.9.7"
  },
  "orig_nbformat": 4,
  "vscode": {
   "interpreter": {
    "hash": "40d3a090f54c6569ab1632332b64b2c03c39dcf918b08424e98f38b5ae0af88f"
   }
  }
 },
 "nbformat": 4,
 "nbformat_minor": 2
}
