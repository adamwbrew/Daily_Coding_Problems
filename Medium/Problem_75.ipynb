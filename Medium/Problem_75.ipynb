{
 "cells": [
  {
   "attachments": {},
   "cell_type": "markdown",
   "metadata": {},
   "source": [
    "# Problem 75\n",
    "Given a string of parentheses, write a function to compute the minimum number of parentheses to be removed to make the string valid (i.e. each open parenthesis is eventually closed).\n",
    "\n",
    "For example, given the string `\"()())()\"`, you should return 1. Given the string `\")(\"`, you should return 2, since we must remove all of them."
   ]
  },
  {
   "attachments": {},
   "cell_type": "markdown",
   "metadata": {},
   "source": [
    "---\n",
    "## Solution"
   ]
  },
  {
   "cell_type": "code",
   "execution_count": 26,
   "metadata": {},
   "outputs": [],
   "source": [
    "# solution code\n",
    "\n",
    "def edit_distance_to_valid_string(string):\n",
    "    while(True):\n",
    "\n",
    "        removal = []\n",
    "        for i in range(len(string)):\n",
    "            if string[i:i+2] == '()':\n",
    "                removal += [i,i+1]\n",
    "\n",
    "        if(removal == []):\n",
    "            break\n",
    "\n",
    "        new_string = ''\n",
    "        for i in range(len(string)):\n",
    "            if i not in removal:\n",
    "                new_string += string[i]\n",
    "        string = new_string\n",
    "        \n",
    "    return len(string)"
   ]
  },
  {
   "attachments": {},
   "cell_type": "markdown",
   "metadata": {},
   "source": [
    "---\n",
    "## Test Cases"
   ]
  },
  {
   "cell_type": "code",
   "execution_count": 27,
   "metadata": {},
   "outputs": [
    {
     "data": {
      "text/plain": [
       "1"
      ]
     },
     "execution_count": 27,
     "metadata": {},
     "output_type": "execute_result"
    }
   ],
   "source": [
    "# solution testing test cases\n",
    "\n",
    "edit_distance_to_valid_string('()(')"
   ]
  },
  {
   "cell_type": "code",
   "execution_count": 28,
   "metadata": {},
   "outputs": [
    {
     "data": {
      "text/plain": [
       "0"
      ]
     },
     "execution_count": 28,
     "metadata": {},
     "output_type": "execute_result"
    }
   ],
   "source": [
    "edit_distance_to_valid_string('()')"
   ]
  },
  {
   "cell_type": "code",
   "execution_count": 32,
   "metadata": {},
   "outputs": [
    {
     "data": {
      "text/plain": [
       "3"
      ]
     },
     "execution_count": 32,
     "metadata": {},
     "output_type": "execute_result"
    }
   ],
   "source": [
    "edit_distance_to_valid_string('()()((()())((')"
   ]
  },
  {
   "cell_type": "code",
   "execution_count": 34,
   "metadata": {},
   "outputs": [
    {
     "data": {
      "text/plain": [
       "13"
      ]
     },
     "execution_count": 34,
     "metadata": {},
     "output_type": "execute_result"
    }
   ],
   "source": [
    "edit_distance_to_valid_string('))))))(((((((')"
   ]
  },
  {
   "attachments": {},
   "cell_type": "markdown",
   "metadata": {},
   "source": [
    "---\n",
    "## Solution Explained"
   ]
  },
  {
   "attachments": {},
   "cell_type": "markdown",
   "metadata": {},
   "source": [
    "### `edit_distance_to_valid_string(string)` solution\n",
    "The function `edit_distance_to_valid_string` that takes a single `string` argument. The function implements an algorithm to compute the edit distance of the input string to a valid string with matching parentheses. The edit distance is defined as the minimum number of operations required to transform the input string to a valid string. The algorithm uses a while loop that executes until the input string is transformed to a valid string.\n",
    "\n",
    "Within the while loop, the function checks the input string for the presence of the `()` substring. If found, the indices of the `()` substring are added to a list named `removal`. If the `()` substring is not present, the loop is exited.\n",
    "\n",
    "After completing the first for loop, a new string is created using a second for loop that iterates over the indices of the input string. This second loop builds a new string by omitting characters at the indices present in the `removal` list. The new string is then assigned to the input `string` variable.\n",
    "\n",
    "Finally, when the input `string` is transformed into a valid string, the function returns the length of the valid string, which is the edit distance of the original `string` to the valid string."
   ]
  }
 ],
 "metadata": {
  "kernelspec": {
   "display_name": "Python 3",
   "language": "python",
   "name": "python3"
  },
  "language_info": {
   "codemirror_mode": {
    "name": "ipython",
    "version": 3
   },
   "file_extension": ".py",
   "mimetype": "text/x-python",
   "name": "python",
   "nbconvert_exporter": "python",
   "pygments_lexer": "ipython3",
   "version": "3.9.12"
  },
  "orig_nbformat": 4,
  "vscode": {
   "interpreter": {
    "hash": "1616faeca1eb2b6217e80a7d062cec32587d2e1ba3999185fe005a5f436d1f1f"
   }
  }
 },
 "nbformat": 4,
 "nbformat_minor": 2
}
