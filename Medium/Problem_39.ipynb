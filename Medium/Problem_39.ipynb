{
 "cells": [
  {
   "attachments": {},
   "cell_type": "markdown",
   "metadata": {},
   "source": [
    "# Problem 39\n",
    "We can determine how \"out of order\" an array `A` is by counting the number of inversions it has. Two elements` A[i]` and `A[j]` form an inversion if `A[i] > A[j]` but `i < j`. That is, a smaller element appears after a larger element.\n",
    "\n",
    "Given an array, count the number of inversions it has. Do this faster than O(N^2) time.\n",
    "\n",
    "You may assume each element in the array is distinct.\n",
    "\n",
    "For example, a sorted list has zero inversions. The array `[2, 4, 1, 3, 5]` has three inversions: `(2, 1)`, `(4, 1)`, and `(4, 3)`. The array `[5, 4, 3, 2, 1]` has ten inversions: every distinct pair forms an inversion."
   ]
  },
  {
   "attachments": {},
   "cell_type": "markdown",
   "metadata": {},
   "source": [
    "---\n",
    "## Solution"
   ]
  },
  {
   "cell_type": "code",
   "execution_count": 142,
   "metadata": {},
   "outputs": [],
   "source": [
    "# solution code\n",
    "\n",
    "# O(n) time complexity\n",
    "def counting_inversions(A):\n",
    "    # find inversions\n",
    "    inversions = []\n",
    "    left, right = 0, (len(A) - 1)\n",
    "    while(left != right):\n",
    "        if(A[left] > A[right]):\n",
    "            inversions.append((A[left], A[right]))\n",
    "        right -= 1\n",
    "        if(left == right):\n",
    "            left += 1\n",
    "            right = len(A) - 1\n",
    "    if(inversions == []):\n",
    "        return print(f\"{len(inversions)} inversions found in the list.\")\n",
    "    else:\n",
    "        return print(f\"{len(inversions)} inversions found in the list.\\n{inversions}\")"
   ]
  },
  {
   "attachments": {},
   "cell_type": "markdown",
   "metadata": {},
   "source": [
    "---\n",
    "## Test Cases"
   ]
  },
  {
   "cell_type": "code",
   "execution_count": 143,
   "metadata": {},
   "outputs": [
    {
     "name": "stdout",
     "output_type": "stream",
     "text": [
      "3 inversions found in the list.\n",
      "[(2, 1), (4, 3), (4, 1)]\n"
     ]
    }
   ],
   "source": [
    "# solution testing test cases\n",
    "test_1 = [2, 4, 1, 3, 5]\n",
    "counting_inversions(test_1)"
   ]
  },
  {
   "cell_type": "code",
   "execution_count": 144,
   "metadata": {},
   "outputs": [
    {
     "name": "stdout",
     "output_type": "stream",
     "text": [
      "0 inversions found in the list.\n"
     ]
    }
   ],
   "source": [
    "test_2 = [1, 2, 3, 4, 5]\n",
    "counting_inversions(test_2)"
   ]
  },
  {
   "cell_type": "code",
   "execution_count": 145,
   "metadata": {},
   "outputs": [
    {
     "name": "stdout",
     "output_type": "stream",
     "text": [
      "3 inversions found in the list.\n",
      "[(3, 2), (5, 4), (8, 7)]\n"
     ]
    }
   ],
   "source": [
    "import random\n",
    "test_3 = [1, 3, 2, 5, 4, 6, 8, 7]\n",
    "counting_inversions(test_3)"
   ]
  },
  {
   "attachments": {},
   "cell_type": "markdown",
   "metadata": {},
   "source": [
    "---\n",
    "## Solution Explained"
   ]
  },
  {
   "attachments": {},
   "cell_type": "markdown",
   "metadata": {},
   "source": [
    "### counting_inversions(A) solution\n",
    "The function `counting_inversions` takes an array `A` as input and returns the number of inversions in the list and prints them to the console. An inversion in a list is defined as a pair of indices `(i, j)` such that `i < j` and `A[i] > A[j]`.\n",
    "\n",
    "The function uses a two-pointer approach to iterate through the array and find the inversions. The `left` pointer starts at the beginning of the array, and the `right` pointer starts at the end of the array. The function checks if `A[left]` is greater than `A[right]`, and if so, appends the pair `(A[left], A[right])` to the `inversions` list. Then, the function decrements right by 1 and checks if `left` is equal to `right`. If `left` is equal to `right`, it increments left by 1 and sets `right` to the end of the array. This process continues until `left` equals `right`.\n",
    "\n",
    "The function then checks if the `inversions` list is empty. If it is, it prints a message saying that no `inversions` were found. If inversions is not empty, the function prints a message saying how many inversions were found, followed by a list of the inversion pairs.\n",
    "\n",
    "The time complexity of this function is **O(n)**, where n is the length of the input array `A`. This is because the function iterates through the array once using a two-pointer approach, and the time taken to append to the `inversions` list and print the results is O(1). The space complexity of this function is O(k), where k is the number of inversions in the array. This is because the function stores the inversion pairs in the `inversions` list, which can have a maximum size of k."
   ]
  }
 ],
 "metadata": {
  "kernelspec": {
   "display_name": "Python 3",
   "language": "python",
   "name": "python3"
  },
  "language_info": {
   "codemirror_mode": {
    "name": "ipython",
    "version": 3
   },
   "file_extension": ".py",
   "mimetype": "text/x-python",
   "name": "python",
   "nbconvert_exporter": "python",
   "pygments_lexer": "ipython3",
   "version": "3.9.12"
  },
  "orig_nbformat": 4,
  "vscode": {
   "interpreter": {
    "hash": "1616faeca1eb2b6217e80a7d062cec32587d2e1ba3999185fe005a5f436d1f1f"
   }
  }
 },
 "nbformat": 4,
 "nbformat_minor": 2
}
