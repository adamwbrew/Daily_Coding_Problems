{
 "cells": [
  {
   "attachments": {},
   "cell_type": "markdown",
   "metadata": {},
   "source": [
    "# Problem 69\n",
    "Given an array of integers, write a function to determine whether the array could become non-decreasing by modifying at most 1 element.\n",
    "\n",
    "For example, given the array `[10, 5, 7]`, you should return `True`, since we can modify the `10` into a `1` to make the array non-decreasing.\n",
    "\n",
    "Given the array `[10, 5, 1]`, you should return `False`, since we can't modify any one element to get a non-decreasing array."
   ]
  },
  {
   "attachments": {},
   "cell_type": "markdown",
   "metadata": {},
   "source": [
    "---\n",
    "## Solution"
   ]
  },
  {
   "cell_type": "code",
   "execution_count": 46,
   "metadata": {},
   "outputs": [],
   "source": [
    "# solution code\n",
    "\n",
    "def modified_nonincreasing_list_finder(numbers):\n",
    "    collection = []\n",
    "    for i in range(1, len(numbers)):\n",
    "        if numbers[i-1] >= numbers[i]:\n",
    "            collection.append(i-1)\n",
    "    if len(collection) == 1:\n",
    "        next_ = numbers[collection[0]+1]\n",
    "        current = numbers[collection[0]]\n",
    "        for i in range(len(str(current))):\n",
    "            change = int(str(current)[:i] + str(current)[:i+1])\n",
    "            if change <= next_:\n",
    "                numbers[collection[0]] = change\n",
    "                break\n",
    "    return sorted(numbers) == numbers"
   ]
  },
  {
   "attachments": {},
   "cell_type": "markdown",
   "metadata": {},
   "source": [
    "---\n",
    "## Test Cases"
   ]
  },
  {
   "cell_type": "code",
   "execution_count": 47,
   "metadata": {},
   "outputs": [
    {
     "data": {
      "text/plain": [
       "True"
      ]
     },
     "execution_count": 47,
     "metadata": {},
     "output_type": "execute_result"
    }
   ],
   "source": [
    "# solution testing test cases\n",
    "test_1 = [10,5,7]\n",
    "modified_nonincreasing_list_finder(test_1)"
   ]
  },
  {
   "cell_type": "code",
   "execution_count": 48,
   "metadata": {},
   "outputs": [
    {
     "data": {
      "text/plain": [
       "False"
      ]
     },
     "execution_count": 48,
     "metadata": {},
     "output_type": "execute_result"
    }
   ],
   "source": [
    "test_2 = [10,10,5,7]\n",
    "modified_nonincreasing_list_finder(test_2)"
   ]
  },
  {
   "cell_type": "code",
   "execution_count": 49,
   "metadata": {},
   "outputs": [
    {
     "data": {
      "text/plain": [
       "False"
      ]
     },
     "execution_count": 49,
     "metadata": {},
     "output_type": "execute_result"
    }
   ],
   "source": [
    "test_3 = [10,0,5,7,6]\n",
    "modified_nonincreasing_list_finder(test_3)"
   ]
  },
  {
   "cell_type": "code",
   "execution_count": 50,
   "metadata": {},
   "outputs": [
    {
     "data": {
      "text/plain": [
       "True"
      ]
     },
     "execution_count": 50,
     "metadata": {},
     "output_type": "execute_result"
    }
   ],
   "source": [
    "test_4 = [1]\n",
    "modified_nonincreasing_list_finder(test_4)"
   ]
  },
  {
   "cell_type": "code",
   "execution_count": 51,
   "metadata": {},
   "outputs": [
    {
     "data": {
      "text/plain": [
       "True"
      ]
     },
     "execution_count": 51,
     "metadata": {},
     "output_type": "execute_result"
    }
   ],
   "source": [
    "test_5 = []\n",
    "modified_nonincreasing_list_finder(test_5)"
   ]
  },
  {
   "cell_type": "code",
   "execution_count": 52,
   "metadata": {},
   "outputs": [
    {
     "data": {
      "text/plain": [
       "False"
      ]
     },
     "execution_count": 52,
     "metadata": {},
     "output_type": "execute_result"
    }
   ],
   "source": [
    "test_6 = [1,2,3,3,5,4,6,7,8,9]\n",
    "modified_nonincreasing_list_finder(test_6)"
   ]
  },
  {
   "attachments": {},
   "cell_type": "markdown",
   "metadata": {},
   "source": [
    "---\n",
    "## Solution Explained"
   ]
  },
  {
   "attachments": {},
   "cell_type": "markdown",
   "metadata": {},
   "source": [
    "### `modified_nonincreasing_list_finder(numbers)` solution\n",
    "The function `modified_nonincreasing_list_finder` that takes an array of integers as an argument. The function aims to determine if the given array could be converted into a non-decreasing sequence by modifying at most one element.\n",
    "\n",
    "To achieve this, the function first initializes an empty list named `collection`. It then loops over the given array using a for loop, checking each pair of adjacent elements in the array. If the previous element is greater than or equal to the current element, the index of the previous element is appended to the `collection` list.\n",
    "\n",
    "Next, the function checks if the length of `collection` is equal to `1`. If it is, the function retrieves the element at the index represented by `collection[0]+1` and the element at the index represented by `collection[0]` and stores them in the variables `next_` and `current`, respectively.\n",
    "\n",
    "The function then loops over the digits in the string representation of the `current` variable using a for loop and the range function. For each iteration, it constructs a new integer `change` by replacing the digit at the current index with the next digit. The function then checks if `change` is less than or equal to `next_`. If it is, it replaces the element at the index represented by `collection[0]` in the `numbers` array with the change value and exits the loop.\n",
    "\n",
    "Finally, the function checks if the sorted `numbers` array is equal to the original `numbers` array. If it is, the function returns `True`, indicating that the array can be converted into a non-decreasing sequence by modifying at most one element. Otherwise, the function returns `False`, indicating that the array cannot be converted into a non-decreasing sequence by modifying at most one element."
   ]
  }
 ],
 "metadata": {
  "kernelspec": {
   "display_name": "Python 3",
   "language": "python",
   "name": "python3"
  },
  "language_info": {
   "codemirror_mode": {
    "name": "ipython",
    "version": 3
   },
   "file_extension": ".py",
   "mimetype": "text/x-python",
   "name": "python",
   "nbconvert_exporter": "python",
   "pygments_lexer": "ipython3",
   "version": "3.9.7"
  },
  "orig_nbformat": 4,
  "vscode": {
   "interpreter": {
    "hash": "1616faeca1eb2b6217e80a7d062cec32587d2e1ba3999185fe005a5f436d1f1f"
   }
  }
 },
 "nbformat": 4,
 "nbformat_minor": 2
}
