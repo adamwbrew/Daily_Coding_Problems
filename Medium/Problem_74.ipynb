{
 "cells": [
  {
   "attachments": {},
   "cell_type": "markdown",
   "metadata": {},
   "source": [
    "# Problem 74\n",
    "Given three 32-bit integers `x`, `y`, and `b`, return `x` if `b` is `1` and `y` if `b` is `0`, using only mathematical or bit operations. You can assume `b` can only be `1` or `0`."
   ]
  },
  {
   "attachments": {},
   "cell_type": "markdown",
   "metadata": {},
   "source": [
    "---\n",
    "## Solution"
   ]
  },
  {
   "cell_type": "code",
   "execution_count": 89,
   "metadata": {},
   "outputs": [],
   "source": [
    "# solution code\n",
    "def digit_finder(x,y,b):\n",
    "    return x*b + y*(1-b)"
   ]
  },
  {
   "attachments": {},
   "cell_type": "markdown",
   "metadata": {},
   "source": [
    "---\n",
    "## Test Cases"
   ]
  },
  {
   "cell_type": "code",
   "execution_count": 88,
   "metadata": {},
   "outputs": [],
   "source": [
    "# solution testing test cases\n",
    "assert digit_finder(5, 10, 1) == 5\n",
    "assert digit_finder(5, 10, 0) == 10\n",
    "assert digit_finder(0, 1, 1) == 0\n",
    "assert digit_finder(0, 1, 0) == 1\n",
    "assert digit_finder(2147483647, 0, 1) == 2147483647\n",
    "assert digit_finder(2147483647, 0, 0) == 0\n",
    "assert digit_finder(123456789, 987654321, 1) == 123456789\n",
    "assert digit_finder(123456789, 987654321, 0) == 987654321"
   ]
  },
  {
   "attachments": {},
   "cell_type": "markdown",
   "metadata": {},
   "source": [
    "---\n",
    "## Solution Explained"
   ]
  },
  {
   "attachments": {},
   "cell_type": "markdown",
   "metadata": {},
   "source": [
    "### `digit_finder(x, y, b)` solution\n",
    "The `digit_finder` function takes three 32-bit integers `x`, `y`, and `b` as inputs, and returns `x` if `b` is `1` and `y` if `b` is `0`. The function uses only mathematical or bit operations to perform this operation, which are bitwise operators such as`&` (bitwise AND),`|` (bitwise OR), `~` (bitwise NOT), `^` (bitwise XOR), and `<<` (left shift) and `>>` (right shift) operators.\n",
    "\n",
    "The function accomplishes this by computing `x*b` and `y*(1-b)` separately, and adding the two results together using the `+` operator. Since `b` can only be `0` or `1`, multiplying `x` by `b` gives `x` if `b` is `1`, and `0` if `b` is `0`. Similarly, multiplying `y` by `(1-b)` gives `y` if `b` is `0`, and `0` if `b` is `1`.\n",
    "\n",
    "The function returns the result of `x*b + y*(1-b)`, which is `x` if `b` is `1` and `y` if `b` is `0`. The function executes in constant time, regardless of the input size, since the operation only requires bitwise and arithmetic operations, which are fast constant time operations. Additionally, the memory space required for this function is minimal since there is no data structure being used."
   ]
  }
 ],
 "metadata": {
  "kernelspec": {
   "display_name": "Python 3",
   "language": "python",
   "name": "python3"
  },
  "language_info": {
   "codemirror_mode": {
    "name": "ipython",
    "version": 3
   },
   "file_extension": ".py",
   "mimetype": "text/x-python",
   "name": "python",
   "nbconvert_exporter": "python",
   "pygments_lexer": "ipython3",
   "version": "3.9.12"
  },
  "orig_nbformat": 4,
  "vscode": {
   "interpreter": {
    "hash": "1616faeca1eb2b6217e80a7d062cec32587d2e1ba3999185fe005a5f436d1f1f"
   }
  }
 },
 "nbformat": 4,
 "nbformat_minor": 2
}
