{
 "cells": [
  {
   "attachments": {},
   "cell_type": "markdown",
   "metadata": {},
   "source": [
    "# Problem 31\n",
    "Given the root to a binary search tree, find the second largest node in the tree."
   ]
  },
  {
   "attachments": {},
   "cell_type": "markdown",
   "metadata": {},
   "source": [
    "---\n",
    "## Solution"
   ]
  },
  {
   "cell_type": "code",
   "execution_count": 14,
   "metadata": {},
   "outputs": [],
   "source": [
    "# solution code\n",
    "import pandas as pd\n",
    "\n",
    "class Node:\n",
    "    def __init__(self, val, left = None, right = None):\n",
    "        self.val = val\n",
    "        self.left = left\n",
    "        self.right = right\n",
    "\n",
    "def search(Node):\n",
    "    tree_structure = []\n",
    "    tree_structure.append(Node.val)\n",
    "    if(Node.left != None):\n",
    "        if(Node.right == None):\n",
    "            tree_structure.append(search(Node.left))\n",
    "        else:\n",
    "            tree_structure.append(search(Node.left))\n",
    "    if(Node.right != None):\n",
    "        tree_structure.append(search(Node.right))\n",
    "    return tree_structure\n",
    "\n",
    "def second_largest_node(binary_tree):\n",
    "    tree_structure = search(binary_tree)\n",
    "    nodes_vals = list(set(pd.core.common.flatten(tree_structure)))\n",
    "    nodes_vals.sort()\n",
    "    return nodes_vals[-2]\n"
   ]
  },
  {
   "attachments": {},
   "cell_type": "markdown",
   "metadata": {},
   "source": [
    "---\n",
    "## Test Cases"
   ]
  },
  {
   "cell_type": "code",
   "execution_count": 15,
   "metadata": {},
   "outputs": [
    {
     "data": {
      "text/plain": [
       "7"
      ]
     },
     "execution_count": 15,
     "metadata": {},
     "output_type": "execute_result"
    }
   ],
   "source": [
    "# solution testing test cases\n",
    "node_4 = Node(4)\n",
    "node_2 = Node(2, node_4)\n",
    "node_5 = Node(5)\n",
    "node_7 = Node(7)\n",
    "node_8 = Node(8)\n",
    "node_6 = Node(6, node_7, node_8)\n",
    "node_3 = Node(3, node_5, node_6)\n",
    "node_1 = Node(1, node_2, node_3)\n",
    "\n",
    "second_largest_node(node_1)"
   ]
  },
  {
   "cell_type": "code",
   "execution_count": 16,
   "metadata": {},
   "outputs": [
    {
     "data": {
      "text/plain": [
       "4"
      ]
     },
     "execution_count": 16,
     "metadata": {},
     "output_type": "execute_result"
    }
   ],
   "source": [
    "node_5 = Node(5)\n",
    "node_4 = Node(4, right=node_5)\n",
    "node_3 = Node(3, right=node_4)\n",
    "node_2 = Node(2, right=node_3)\n",
    "node_1 = Node(1, right=node_2)\n",
    "\n",
    "second_largest_node(node_1)"
   ]
  },
  {
   "cell_type": "code",
   "execution_count": 17,
   "metadata": {},
   "outputs": [
    {
     "data": {
      "text/plain": [
       "8"
      ]
     },
     "execution_count": 17,
     "metadata": {},
     "output_type": "execute_result"
    }
   ],
   "source": [
    "node_6 = Node(6)\n",
    "node_7 = Node(7)\n",
    "node_4 = Node(4, node_6, node_7)\n",
    "node_8 = Node(8)\n",
    "node_9 = Node(9)\n",
    "node_5 = Node(5, node_8, node_9)\n",
    "node_2 = Node(2, node_4)\n",
    "node_3 = Node(3, right=node_5)\n",
    "node_1 = Node(1, node_2, node_3)\n",
    "\n",
    "second_largest_node(node_1)"
   ]
  },
  {
   "attachments": {},
   "cell_type": "markdown",
   "metadata": {},
   "source": [
    "---\n",
    "## Solution Explained"
   ]
  },
  {
   "attachments": {},
   "cell_type": "markdown",
   "metadata": {},
   "source": [
    "### second_largest_node(root) solution\n",
    "The goal of this code is to find the second largest node in a binary tree.\n",
    "\n",
    "The code defines a `Node` class to represent each node in the binary tree. The `search` function is used to traverse the binary tree recursively and create a list `tree_structure` containing the values of all the nodes in the tree.\n",
    "\n",
    "The `second_largest_node` function takes a binary tree as an argument and calls the `search` function on the binary tree to get a list of all the node values. The` pd.core.common.flatten` method from the `pandas` library is used to flatten the nested list returned by `search`. The `list` function is then used to convert the flattened list into a flat list of values. The `set` function is used to remove duplicate values from the list, and then the `sort` method is used to sort the list in ascending order. Finally, the second to last value in the sorted list is returned as the second largest node in the binary tree.\n",
    "\n",
    "The time complexity of the `search` function is O(n), where n is the number of nodes in the binary tree. The time complexity of the `second_largest_node` function is O(n log n), where n is the number of nodes in the binary tree, due to the time complexity of sorting the list of node values.\n",
    "\n",
    "The memory space required by this code is O(n), where n is the number of nodes in the binary tree, because the `tree_structure` list created by the `search` function can potentially store all the node values in the binary tree."
   ]
  }
 ],
 "metadata": {
  "kernelspec": {
   "display_name": "Python 3",
   "language": "python",
   "name": "python3"
  },
  "language_info": {
   "codemirror_mode": {
    "name": "ipython",
    "version": 3
   },
   "file_extension": ".py",
   "mimetype": "text/x-python",
   "name": "python",
   "nbconvert_exporter": "python",
   "pygments_lexer": "ipython3",
   "version": "3.9.12"
  },
  "orig_nbformat": 4,
  "vscode": {
   "interpreter": {
    "hash": "1616faeca1eb2b6217e80a7d062cec32587d2e1ba3999185fe005a5f436d1f1f"
   }
  }
 },
 "nbformat": 4,
 "nbformat_minor": 2
}
