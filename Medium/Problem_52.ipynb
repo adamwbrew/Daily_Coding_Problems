{
 "cells": [
  {
   "attachments": {},
   "cell_type": "markdown",
   "metadata": {},
   "source": [
    "# Problem 52\n",
    "A sorted array of integers was rotated an unknown number of times.\n",
    "\n",
    "Given such an array, find the index of the element in the array in faster than linear time. If the element doesn't exist in the array, return `null`.\n",
    "\n",
    "For example, given the array `[13, 18, 25, 2, 8, 10]` and the element `8`, return `4` (the index of `8` in the array).\n",
    "\n",
    "You can assume all the integers in the array are unique."
   ]
  },
  {
   "attachments": {},
   "cell_type": "markdown",
   "metadata": {},
   "source": [
    "---\n",
    "## Solution"
   ]
  },
  {
   "cell_type": "code",
   "execution_count": 8,
   "metadata": {},
   "outputs": [],
   "source": [
    "# solution code\n",
    "\n",
    "def index_finder(array, element):\n",
    "    left = 0\n",
    "    right = len(array) - 1\n",
    "\n",
    "    while(left <= right):\n",
    "        mid = (left + right) // 2\n",
    "\n",
    "        if(array[mid] == element):\n",
    "            return mid\n",
    "\n",
    "        # If the left half is sorted\n",
    "        if(array[left] <= array[mid]):\n",
    "            if(array[left] <= element < array[mid]):\n",
    "                right = mid - 1\n",
    "            else:\n",
    "                left = mid + 1\n",
    "\n",
    "        # If the right half is sorted\n",
    "        else:\n",
    "            if(array[mid] < element <= array[right]):\n",
    "                left = mid + 1\n",
    "            else:\n",
    "                right = mid - 1\n",
    "\n",
    "    # If the element is not found\n",
    "    return None"
   ]
  },
  {
   "attachments": {},
   "cell_type": "markdown",
   "metadata": {},
   "source": [
    "---\n",
    "## Test Cases"
   ]
  },
  {
   "cell_type": "code",
   "execution_count": 9,
   "metadata": {},
   "outputs": [
    {
     "data": {
      "text/plain": [
       "4"
      ]
     },
     "execution_count": 9,
     "metadata": {},
     "output_type": "execute_result"
    }
   ],
   "source": [
    "# solution testing test cases\n",
    "test_1 = [13, 18, 25, 2, 8, 10]\n",
    "element_1 = 8\n",
    "index_finder(test_1, element_1)"
   ]
  },
  {
   "cell_type": "code",
   "execution_count": 10,
   "metadata": {},
   "outputs": [
    {
     "data": {
      "text/plain": [
       "3"
      ]
     },
     "execution_count": 10,
     "metadata": {},
     "output_type": "execute_result"
    }
   ],
   "source": [
    "test_2 = [5,6,7,1,2,3,4]\n",
    "element_2 = 1\n",
    "index_finder(test_2, element_2)"
   ]
  },
  {
   "cell_type": "code",
   "execution_count": 11,
   "metadata": {},
   "outputs": [
    {
     "data": {
      "text/plain": [
       "8"
      ]
     },
     "execution_count": 11,
     "metadata": {},
     "output_type": "execute_result"
    }
   ],
   "source": [
    "test_3 = [3,4,5,6,7,8,9,10,11,12,13,14,15,1,2,]\n",
    "element_3 = 11\n",
    "index_finder(test_3, element_3)"
   ]
  },
  {
   "attachments": {},
   "cell_type": "markdown",
   "metadata": {},
   "source": [
    "---\n",
    "## Solution Explained"
   ]
  },
  {
   "attachments": {},
   "cell_type": "markdown",
   "metadata": {},
   "source": [
    "### `index_finder(array, element)` solution\n",
    "This code implements an algorithm to find the index of an element in a rotated sorted array in a faster than linear time complexity.\n",
    "\n",
    "The algorithm first initializes the `left` and `right` pointers to the first and last indices of the array, respectively. Then, it enters a while loop that continues until the `left` pointer is greater than the `right` pointer.\n",
    "\n",
    "Within the while loop, the algorithm finds the middle index of the current subarray and checks if the middle element is equal to the target element. If it is, the index of the middle element is returned as the solution.\n",
    "\n",
    "If the `left` half of the subarray is sorted, the algorithm checks if the target element is within the range of the `left` half. If it is, the `right` pointer is moved to the middle index minus one. Otherwise, the `left` pointer is moved to the middle index plus one.\n",
    "\n",
    "If the `right` half of the subarray is sorted, the algorithm checks if the target element is within the range of the `right` half. If it is, the `left` pointer is moved to the middle index plus one. Otherwise, the `right` pointer is moved to the middle index minus one.\n",
    "\n",
    "Finally, if the target element is not found in the subarray, the algorithm returns None.\n",
    "\n",
    "The time complexity of this algorithm is O(log n), where n is the length of the input array, since the algorithm halves the size of the search space in each iteration of the while loop. The space complexity of this algorithm is O(1), since the algorithm only uses a constant amount of extra space for the pointers and the middle index variable."
   ]
  }
 ],
 "metadata": {
  "kernelspec": {
   "display_name": "base",
   "language": "python",
   "name": "python3"
  },
  "language_info": {
   "codemirror_mode": {
    "name": "ipython",
    "version": 3
   },
   "file_extension": ".py",
   "mimetype": "text/x-python",
   "name": "python",
   "nbconvert_exporter": "python",
   "pygments_lexer": "ipython3",
   "version": "3.9.7"
  },
  "orig_nbformat": 4,
  "vscode": {
   "interpreter": {
    "hash": "40d3a090f54c6569ab1632332b64b2c03c39dcf918b08424e98f38b5ae0af88f"
   }
  }
 },
 "nbformat": 4,
 "nbformat_minor": 2
}
