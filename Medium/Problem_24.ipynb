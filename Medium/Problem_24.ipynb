{
 "cells": [
  {
   "attachments": {},
   "cell_type": "markdown",
   "metadata": {},
   "source": [
    "# Problem 24\n",
    "Write an algorithm to justify text. Given a sequence of words and an integer line length k, return a list of strings which represents each line, fully justified.\n",
    "\n",
    "More specifically, you should have as many words as possible in each line. There should be at least one space between each word. Pad extra spaces when necessary so that each line has exactly length k. Spaces should be distributed as equally as possible, with the extra spaces, if any, distributed starting from the left.\n",
    "\n",
    "If you can only fit one word on a line, then you should pad the right-hand side with spaces.\n",
    "\n",
    "Each word is guaranteed not to be longer than k.\n",
    "\n",
    "For example, given the list of words `[\"the\", \"quick\", \"brown\", \"fox\", \"jumps\", \"over\", \"the\", \"lazy\", \"dog\"]` and `k = 16`, you should return the following:\n",
    "\n",
    "```\n",
    "[\"the  quick brown\", # 1 extra space on the left\n",
    "\"fox  jumps  over\", # 2 extra spaces distributed evenly\n",
    "\"the   lazy   dog\"] # 4 extra spaces distributed evenly\n",
    "```"
   ]
  },
  {
   "attachments": {},
   "cell_type": "markdown",
   "metadata": {},
   "source": [
    "---\n",
    "## Solution"
   ]
  },
  {
   "cell_type": "code",
   "execution_count": 101,
   "metadata": {},
   "outputs": [],
   "source": [
    "def justify_text(words, k):\n",
    "    lines = []\n",
    "    current_line = []\n",
    "    current_length = 0\n",
    "    for word in words:\n",
    "        if(current_length + len(word) + len(current_line) <= k):\n",
    "            current_line.append(word)\n",
    "            current_length += len(word)\n",
    "        else:\n",
    "            lines.append(current_line)\n",
    "            current_line = [word]\n",
    "            current_length = len(word)\n",
    "    lines.append(current_line)\n",
    "    \n",
    "    justified_lines = []\n",
    "    for line in lines:\n",
    "        num_spaces = k - sum(len(word) for word in line)\n",
    "        num_gaps = len(line) - 1\n",
    "        if num_gaps == 0:\n",
    "            justified_line = line[0] + ' ' * num_spaces\n",
    "        else:\n",
    "            spaces_per_gap = num_spaces // num_gaps\n",
    "            extra_spaces = num_spaces % num_gaps\n",
    "            justified_line = ''\n",
    "            for i, word in enumerate(line[:-1]):\n",
    "                justified_line += word + ' ' * spaces_per_gap\n",
    "                if i < extra_spaces:\n",
    "                    justified_line += ' '\n",
    "            justified_line += line[-1]\n",
    "        justified_lines.append([justified_line])\n",
    "    \n",
    "    return justified_lines"
   ]
  },
  {
   "attachments": {},
   "cell_type": "markdown",
   "metadata": {},
   "source": [
    "---\n",
    "## Test Cases"
   ]
  },
  {
   "cell_type": "code",
   "execution_count": 106,
   "metadata": {},
   "outputs": [],
   "source": [
    "# solution testing test cases\n",
    "\n",
    "\n",
    "words_0 = [\"the\", \"brown\", \"bear\"]\n",
    "k_0 = 10\n",
    "\n",
    "words_1 = [\"the\", \"quick\", \"brown\", \"fox\", \"jumps\", \"over\", \"the\", \"lazy\", \"dog\"]\n",
    "k_1 = 16\n",
    "\n",
    "words_2 = [\"This\", \"is\", \"a\", \"long\", \"sentence\", \"where\", \"each\", \"word\", \"is\", \"its\", \"own\", \"element\", \"in\", \"a\", \"list\", \"for\", \"Python.\"]\n",
    "k_2 = 8\n",
    "\n",
    "justified_lines_0 = justify_text(words_0, k_0)\n",
    "justified_lines_1 = justify_text(words_1, k_1)\n",
    "justified_lines_2 = justify_text(words_2, k_2)\n",
    "justified_items = [justified_lines_0, justified_lines_1, justified_lines_2]\n"
   ]
  },
  {
   "cell_type": "code",
   "execution_count": 124,
   "metadata": {},
   "outputs": [
    {
     "name": "stdout",
     "output_type": "stream",
     "text": [
      "Test 1: \n",
      "['the  brown']\n",
      "['bear      ']\n",
      "\n",
      "-------------------- \n",
      "\n",
      "Test 2: \n",
      "['the  quick brown']\n",
      "['fox  jumps  over']\n",
      "['the   lazy   dog']\n",
      "\n",
      "-------------------- \n",
      "\n",
      "Test 3: \n",
      "['This  is']\n",
      "['a   long']\n",
      "['sentence']\n",
      "['where   ']\n",
      "['each    ']\n",
      "['word  is']\n",
      "['its  own']\n",
      "['element ']\n",
      "['in     a']\n",
      "['list for']\n",
      "['Python. ']\n"
     ]
    }
   ],
   "source": [
    "for i, justified_lines in enumerate(justified_items):\n",
    "    print(f\"Test {i+1}: \")\n",
    "    if(type(justified_lines) != list):\n",
    "        print(justified_lines)\n",
    "    else:\n",
    "        for line in justified_lines:\n",
    "            print(line)\n",
    "    if(i != (len(justified_items) -1)):\n",
    "        print(f\"\\n{'-'*20} \\n\")"
   ]
  },
  {
   "attachments": {},
   "cell_type": "markdown",
   "metadata": {},
   "source": [
    "---\n",
    "## Solution Explained"
   ]
  },
  {
   "attachments": {},
   "cell_type": "markdown",
   "metadata": {},
   "source": [
    "### justify_text(words, k) solution\n",
    "The given code is a Python implementation of a text justification algorithm. The algorithm takes in a list of words and an integer line length `k`, and returns a list of lists where each list hold one string which represents a line of the justified text.\n",
    "\n",
    "The algorithm works as follows:\n",
    "\n",
    "1. Initialize an empty list `lines` to store the lines of the justified text, and initialize an empty list `current_line` to store the words in the current line being built, along with a variable `current_length` to keep track of the current length of the line.\n",
    "\n",
    "2. Iterate through each word in the list of words. If adding the current word to the current line would not exceed the line length `k`, add the word to the current line and update `current_length` accordingly. Otherwise, add the current line to `lines`, start a new line with the current word, and update `current_length` accordingly.\n",
    "\n",
    "3. After iterating through all the words, add the final line to `lines`.\n",
    "\n",
    "4. For each line in `lines`, calculate the number of extra spaces needed to justify the line. If the line has only one word, pad the right-hand side with spaces. Otherwise, calculate the number of spaces needed per gap between words, and distribute any extra spaces evenly starting from the left.\n",
    "\n",
    "5. Append the justified line to the list `justified_lines`.\n",
    "\n",
    "6. Return `justified_lines`.\n",
    "\n",
    "Overall, the given code is a correct implementation of the text justification algorithm and should produce the correct output."
   ]
  }
 ],
 "metadata": {
  "kernelspec": {
   "display_name": "Python 3",
   "language": "python",
   "name": "python3"
  },
  "language_info": {
   "codemirror_mode": {
    "name": "ipython",
    "version": 3
   },
   "file_extension": ".py",
   "mimetype": "text/x-python",
   "name": "python",
   "nbconvert_exporter": "python",
   "pygments_lexer": "ipython3",
   "version": "3.9.12"
  },
  "orig_nbformat": 4,
  "vscode": {
   "interpreter": {
    "hash": "1616faeca1eb2b6217e80a7d062cec32587d2e1ba3999185fe005a5f436d1f1f"
   }
  }
 },
 "nbformat": 4,
 "nbformat_minor": 2
}
