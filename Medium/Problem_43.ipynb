{
 "cells": [
  {
   "attachments": {},
   "cell_type": "markdown",
   "metadata": {},
   "source": [
    "# Problem 43\n",
    "Given pre-order and in-order traversals of a binary tree, write a function to reconstruct the tree.\n",
    "\n",
    "For example, given the following preorder traversal:\n",
    "\n",
    "`[a, b, d, e, c, f, g]`\n",
    "\n",
    "And the following inorder traversal:\n",
    "\n",
    "`[d, b, e, a, f, c, g]`\n",
    "\n",
    "You should return the following tree:\n",
    "\n",
    "```\n",
    "    a\n",
    "   / \\\n",
    "  b   c\n",
    " / \\ / \\\n",
    "d  e f  g\n",
    "```"
   ]
  },
  {
   "attachments": {},
   "cell_type": "markdown",
   "metadata": {},
   "source": [
    "---\n",
    "## Solution"
   ]
  },
  {
   "cell_type": "code",
   "execution_count": 109,
   "metadata": {},
   "outputs": [],
   "source": [
    "# solution code\n",
    "\n",
    "def print_tree(root):\n",
    "    def height(root):\n",
    "        return 1 + max(height(root.left), height(root.right)) if root else -1  \n",
    "    nlevels = height(root)\n",
    "    width =  pow(2,nlevels+1)\n",
    "    q=[(root,0,width,'c')]\n",
    "    levels=[]\n",
    "    while(q):\n",
    "        node,level,x,align= q.pop(0)\n",
    "        if node:            \n",
    "            if len(levels)<=level:\n",
    "                levels.append([])\n",
    "        \n",
    "            levels[level].append([node,level,x,align])\n",
    "            seg= width//(pow(2,level+1))\n",
    "            q.append((node.left,level+1,x-seg,'l'))\n",
    "            q.append((node.right,level+1,x+seg,'r'))\n",
    "\n",
    "    for i,l in enumerate(levels):\n",
    "        pre=0\n",
    "        preline=0\n",
    "        linestr=''\n",
    "        pstr=''\n",
    "        seg= width//(pow(2,i+1))\n",
    "        for n in l:\n",
    "            valstr= str(n[0].data)\n",
    "            if n[3]=='r':\n",
    "                linestr+=' '*(n[2]-preline-1-seg-seg//2)+ '¯'*(seg +seg//2)+'\\\\'\n",
    "                preline = n[2] \n",
    "            if n[3]=='l':\n",
    "               linestr+=' '*(n[2]-preline-1)+'/' + '¯'*(seg+seg//2)  \n",
    "               preline = n[2] + seg + seg//2\n",
    "            pstr+=' '*(n[2]-pre-len(valstr))+valstr #correct the potition acording to the number size\n",
    "            pre = n[2]\n",
    "        print(linestr)\n",
    "        print(pstr)   \n",
    "\n",
    "\n",
    "class Node():\n",
    "    def __init__(self, data, left = None, right = None):\n",
    "        self.data = data\n",
    "        self.left = left\n",
    "        self.right = right\n",
    "\n",
    "\n",
    "def reconstruct_binary_tree(preorder, inorder):\n",
    "    if inorder == []:\n",
    "        return None\n",
    "\n",
    "    # The first node in preorder traversal is the root\n",
    "    root_val = preorder.pop(0)\n",
    "    root = Node(root_val)\n",
    "\n",
    "    # Find the index of the root in inorder traversal\n",
    "    inorder_index = inorder.index(root_val)\n",
    "\n",
    "    # Recursively build left and right subtrees\n",
    "    root.left = reconstruct_binary_tree(preorder, inorder[:inorder_index])\n",
    "    root.right = reconstruct_binary_tree(preorder, inorder[inorder_index+1:])\n",
    "    \n",
    "    return root"
   ]
  },
  {
   "attachments": {},
   "cell_type": "markdown",
   "metadata": {},
   "source": [
    "---\n",
    "## Test Cases"
   ]
  },
  {
   "cell_type": "code",
   "execution_count": 110,
   "metadata": {},
   "outputs": [
    {
     "name": "stdout",
     "output_type": "stream",
     "text": [
      "\n",
      "       a\n",
      "   /¯¯¯ ¯¯¯\\\n",
      "   b       c\n",
      " /¯ ¯\\   /¯ ¯\\\n",
      " d   e   f   g\n"
     ]
    }
   ],
   "source": [
    "# solution testing test cases\n",
    "preorder_1 = ['a', 'b', 'd', 'e', 'c', 'f', 'g']\n",
    "inorder_1 = ['d', 'b', 'e', 'a', 'f', 'c', 'g']\n",
    "print_tree(reconstruct_binary_tree(preorder_1, inorder_1))"
   ]
  },
  {
   "cell_type": "code",
   "execution_count": 111,
   "metadata": {},
   "outputs": [
    {
     "name": "stdout",
     "output_type": "stream",
     "text": [
      "\n",
      " a\n"
     ]
    }
   ],
   "source": [
    "preorder_1 = ['a']\n",
    "inorder_1 = ['a']\n",
    "print_tree(reconstruct_binary_tree(preorder_1, inorder_1))"
   ]
  },
  {
   "cell_type": "code",
   "execution_count": 112,
   "metadata": {},
   "outputs": [
    {
     "name": "stdout",
     "output_type": "stream",
     "text": [
      "\n",
      "               1\n",
      "                 ¯¯¯¯¯¯\\\n",
      "                       2\n",
      "                        ¯¯¯\\\n",
      "                           3\n",
      "                            ¯\\\n",
      "                             4\n"
     ]
    }
   ],
   "source": [
    "preorder_2 = [1, 2, 3, 4]\n",
    "inorder_2 = [1, 2, 3, 4]\n",
    "print_tree(reconstruct_binary_tree(preorder_2, inorder_2))"
   ]
  },
  {
   "cell_type": "code",
   "execution_count": 113,
   "metadata": {},
   "outputs": [
    {
     "name": "stdout",
     "output_type": "stream",
     "text": [
      "\n",
      "               1\n",
      "       /¯¯¯¯¯¯\n",
      "       2\n",
      "   /¯¯¯\n",
      "   3\n",
      " /¯\n",
      " 4\n"
     ]
    }
   ],
   "source": [
    "preorder_3 = [1, 2, 3, 4]\n",
    "inorder_3 = [4, 3, 2, 1]\n",
    "print_tree(reconstruct_binary_tree(preorder_3, inorder_3))"
   ]
  },
  {
   "cell_type": "code",
   "execution_count": 114,
   "metadata": {},
   "outputs": [
    {
     "name": "stdout",
     "output_type": "stream",
     "text": [
      "\n",
      "                              10\n",
      "               /¯¯¯¯¯¯¯¯¯¯¯¯       ¯¯¯¯¯¯¯¯¯¯¯¯\\\n",
      "               5                              20\n",
      "       /¯¯¯¯¯¯   ¯¯¯¯¯¯\\               /¯¯¯¯¯¯   ¯¯¯¯¯¯\\\n",
      "       3               6              15              30\n",
      "   /¯¯¯ ¯¯¯\\            ¯¯¯\\       /¯¯¯ ¯¯¯\\       /¯¯¯\n",
      "   2       4               8      12      18      25\n",
      " /¯                      /¯ ¯\\   /¯ ¯\\   /¯ ¯\\\n",
      " 1                       7   9  11  13  17  19\n"
     ]
    }
   ],
   "source": [
    "preorder_4 = [10, 5, 3, 2, 1, 4, 6, 8, 7, 9, 20, 15, 12, 11, 13, 18, 17, 19, 30, 25]\n",
    "inorder_4 = [1, 2, 3, 4, 5, 6, 7, 8, 9, 10, 11, 12, 13, 15, 17, 18, 19, 20, 25, 30]\n",
    "\n",
    "root = reconstruct_binary_tree(preorder_4, inorder_4)\n",
    "\n",
    "# Verify that the reconstructed tree has the correct structure\n",
    "assert root.data == 10\n",
    "assert root.left.data == 5\n",
    "assert root.left.left.data == 3\n",
    "assert root.left.left.left.data == 2\n",
    "assert root.left.left.left.left.data == 1\n",
    "assert root.left.left.right.data == 4\n",
    "assert root.left.right.data == 6\n",
    "assert root.left.right.right.data == 8\n",
    "assert root.left.right.right.left.data == 7\n",
    "assert root.left.right.right.right.data == 9\n",
    "assert root.right.data == 20\n",
    "assert root.right.left.data == 15\n",
    "assert root.right.left.left.data == 12\n",
    "assert root.right.left.left.left.data == 11\n",
    "assert root.right.left.left.right.data == 13\n",
    "assert root.right.left.right.data == 18\n",
    "assert root.right.left.right.left.data == 17\n",
    "assert root.right.left.right.right.data == 19\n",
    "assert root.right.right.data == 30\n",
    "assert root.right.right.left.data == 25\n",
    "\n",
    "print_tree(root)"
   ]
  },
  {
   "attachments": {},
   "cell_type": "markdown",
   "metadata": {},
   "source": [
    "---\n",
    "## Solution Explained"
   ]
  },
  {
   "attachments": {},
   "cell_type": "markdown",
   "metadata": {},
   "source": [
    "### reconstruct_binary_tree(preorder, inorder) solution\n",
    "The function `reconstruct_binary_tree` takes two lists as inputs: a `preorder` traversal list and an `inorder` traversal list. It returns the `root` node of a binary tree that matches the given traversals.\n",
    "\n",
    "The algorithm starts by checking if the `inorder` list is empty, in which case it returns `None`. Otherwise, it pops the first value from the `preorder` list, which should be the `root` value. It creates a new `Node` object with this value, and stores it in the `root` variable.\n",
    "\n",
    "Next, it finds the index of the `root_val` in the `inorder` list. This index determines the left and right subtrees of the current node. The left subtree is constructed recursively by passing the `preorder` list and a slice of the `inorder` list from the beginning up to the index of the `root` value. The right subtree is constructed recursively by passing the `preorder` list and a slice of the `inorder` list from the index of the `root` value plus one to the end of the list.\n",
    "\n",
    "The final result of the recursion is the `root` node that is returned by the function.\n",
    "\n",
    "The time complexity of this algorithm is O(n^2) in the worst case, where n is the number of nodes in the binary tree. This happens when the binary tree is heavily unbalanced, and the `inorder` list is sorted. In this case, finding the index of the `root` value in the `inorder` list takes O(n) time, and this operation is performed for every node in the tree. On average, however, the algorithm has a time complexity of O(n log n).\n",
    "\n",
    "The space complexity of the algorithm is also O(n^2) in the worst case, due to the recursion stack. However, in practice, the space complexity is usually much smaller, as the recursion depth is limited by the height of the binary tree.\n",
    "\n",
    "The `print_tree` function is a helper function that takes the `root` node of a binary tree and prints a visualization of the tree in the console."
   ]
  }
 ],
 "metadata": {
  "kernelspec": {
   "display_name": "Python 3",
   "language": "python",
   "name": "python3"
  },
  "language_info": {
   "codemirror_mode": {
    "name": "ipython",
    "version": 3
   },
   "file_extension": ".py",
   "mimetype": "text/x-python",
   "name": "python",
   "nbconvert_exporter": "python",
   "pygments_lexer": "ipython3",
   "version": "3.9.12"
  },
  "orig_nbformat": 4,
  "vscode": {
   "interpreter": {
    "hash": "1616faeca1eb2b6217e80a7d062cec32587d2e1ba3999185fe005a5f436d1f1f"
   }
  }
 },
 "nbformat": 4,
 "nbformat_minor": 2
}
