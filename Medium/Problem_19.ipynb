{
 "cells": [
  {
   "attachments": {},
   "cell_type": "markdown",
   "metadata": {},
   "source": [
    "# Problem 19\n",
    "Given a dictionary of words and a string made up of those words (no spaces), return the original sentence in a list. If there is more than one possible reconstruction, return any of them. If there is no possible reconstruction, then return null.\n",
    "\n",
    "For example, given the set of words 'quick', 'brown', 'the', 'fox', and the string `\"thequickbrownfox\"`, you should return `['the', 'quick', 'brown', 'fox']`.\n",
    "\n",
    "Given the set of words 'bed', 'bath', 'bedbath', 'and', 'beyond', and the string `\"bedbathandbeyond\"`, return either `['bed', 'bath', 'and', 'beyond]` or `['bedbath', 'and', 'beyond']`."
   ]
  },
  {
   "attachments": {},
   "cell_type": "markdown",
   "metadata": {},
   "source": [
    "---\n",
    "## Test Cases"
   ]
  },
  {
   "cell_type": "code",
   "execution_count": 1,
   "metadata": {},
   "outputs": [],
   "source": [
    "# test cases\n",
    "test_1 = \"thequickbrownfox\"\n",
    "\n",
    "test_2 = \"bedbathandbeyond\"\n",
    "\n",
    "test_3 = \"jumpon\""
   ]
  },
  {
   "attachments": {},
   "cell_type": "markdown",
   "metadata": {},
   "source": [
    "---\n",
    "## Solution"
   ]
  },
  {
   "cell_type": "code",
   "execution_count": 2,
   "metadata": {},
   "outputs": [],
   "source": [
    "# solution code\n",
    "\n",
    "# python library 'english_words' as a gives a dictionary\n",
    "from english_words import get_english_words_set\n",
    "from itertools import product\n",
    "\n",
    "def String_Reconstruction(string):\n",
    "    # Convert the input string to lowercase\n",
    "    string = string.lower()\n",
    "\n",
    "    # Create a set of English words to check input against\n",
    "    english_words = get_english_words_set(['web2'], lower=True)\n",
    "\n",
    "    # Remove single-letter words from the set\n",
    "    english_words = set(word for word in english_words if len(word) > 1 or word == \"a\")\n",
    "\n",
    "    # Find all substrings of the input string that are in the English word set\n",
    "    capture_substrings = set()\n",
    "    for start in range(len(string)):\n",
    "        for end in range(start+1, len(string)+1):\n",
    "            substring = string[start:end]\n",
    "            if substring in english_words:\n",
    "                capture_substrings.add(substring)\n",
    "    capture_substrings.add('')\n",
    "\n",
    "    # Generate all possible combinations of the captured substrings\n",
    "    word_combos = set()\n",
    "    for combo in product(capture_substrings, repeat = len(string)):\n",
    "        if(combo[0] == string[:len(combo[0])] and combo[0] != ''):\n",
    "            if ''.join(combo) == string:\n",
    "                combo = tuple(s for s in combo if s != '')\n",
    "                word_combos.add(combo)\n",
    "\n",
    "    if len(word_combos) == 1:\n",
    "        return list(word_combos)[0]\n",
    "    else:\n",
    "        return list(word_combos)\n"
   ]
  },
  {
   "attachments": {},
   "cell_type": "markdown",
   "metadata": {},
   "source": [
    "---\n",
    "## Test Solution"
   ]
  },
  {
   "cell_type": "code",
   "execution_count": 7,
   "metadata": {},
   "outputs": [
    {
     "name": "stdout",
     "output_type": "stream",
     "text": [
      "('the', 'quick', 'brown', 'fox')\n"
     ]
    }
   ],
   "source": [
    "# solution testing test cases\n",
    "String_Reconstruction(test_1)"
   ]
  },
  {
   "cell_type": "code",
   "execution_count": 6,
   "metadata": {},
   "outputs": [
    {
     "name": "stdout",
     "output_type": "stream",
     "text": [
      "('bed', 'bath', 'and', 'beyond')\n"
     ]
    }
   ],
   "source": [
    "String_Reconstruction(test_2)"
   ]
  },
  {
   "cell_type": "code",
   "execution_count": 5,
   "metadata": {},
   "outputs": [
    {
     "data": {
      "text/plain": [
       "('jump', 'on')"
      ]
     },
     "execution_count": 5,
     "metadata": {},
     "output_type": "execute_result"
    }
   ],
   "source": [
    "String_Reconstruction(test_3)"
   ]
  },
  {
   "attachments": {},
   "cell_type": "markdown",
   "metadata": {},
   "source": [
    "---\n",
    "## Solution Explained"
   ]
  },
  {
   "attachments": {},
   "cell_type": "markdown",
   "metadata": {},
   "source": [
    "### String_Reconstruction(string) solution\n",
    "The solution `String_Reconstruction` that takes a string as its input and attempts to reconstruct the original string from a set of English words.\n",
    "\n",
    "The first step is to convert the input string to lowercase, which makes it easier to compare against the set of English words.\n",
    "\n",
    "The next step is to create a set of English words to check the input against using the `get_english_words_set` function from the `english_words` library. The lower=True parameter specifies that all words should be converted to lowercase, which matches the format of the input string.\n",
    "\n",
    "The function then removes single-letter words from the set, as these are unlikely to be useful for reconstructing the original string.\n",
    "\n",
    "The next step is to find all substrings of the input string that are in the English word set. This is done by iterating over all possible substrings of the input string and checking if they are in the English word set. The substrings that are found are stored in the `capture_substrings` set.\n",
    "\n",
    "The function then generates all possible combinations of the captured substrings using the `product` function from the `itertools` library. Each combination is checked to see if it matches the input string by comparing the joined substring elements to the original input string.\n",
    "\n",
    "Finally, if there is only one combination of captured substrings that matches the input string, it is returned as a list. If there is more than one combination, all possible combinations are returned as a list.\n",
    "\n",
    "One potential issue with this function is that it uses the `product` function to generate all possible combinations of the captured substrings. This can lead to a large amount of memory being used if the input string has many substrings in the English word set. In particular, if the input string contains a large number of short words, the number of possible combinations can be very large. Depending on the available memory of the user's system, this could cause the function to fail or take a long time to run."
   ]
  }
 ],
 "metadata": {
  "kernelspec": {
   "display_name": "base",
   "language": "python",
   "name": "python3"
  },
  "language_info": {
   "codemirror_mode": {
    "name": "ipython",
    "version": 3
   },
   "file_extension": ".py",
   "mimetype": "text/x-python",
   "name": "python",
   "nbconvert_exporter": "python",
   "pygments_lexer": "ipython3",
   "version": "3.9.12"
  },
  "orig_nbformat": 4,
  "vscode": {
   "interpreter": {
    "hash": "909ca5f560bbebec5e281e7237658d79e6328c8c97dd9d57b9f7776842486ec7"
   }
  }
 },
 "nbformat": 4,
 "nbformat_minor": 2
}
