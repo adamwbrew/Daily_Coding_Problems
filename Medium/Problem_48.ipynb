{
 "cells": [
  {
   "attachments": {},
   "cell_type": "markdown",
   "metadata": {},
   "source": [
    "# Problem 48\n",
    "Implement a queue using two stacks. Recall that a queue is a FIFO (first-in, first-out) data structure with the following methods: `enqueue`, which inserts an element into the queue, and `dequeue`, which removes it."
   ]
  },
  {
   "attachments": {},
   "cell_type": "markdown",
   "metadata": {},
   "source": [
    "---\n",
    "## Solution"
   ]
  },
  {
   "cell_type": "code",
   "execution_count": 82,
   "metadata": {},
   "outputs": [],
   "source": [
    "# solution code\n",
    "class Node:\n",
    "    def __init__(self, data):\n",
    "        self.data = data\n",
    "\n",
    "\n",
    "class Stack:\n",
    "    def __init__(self, stack_=None):\n",
    "        self.stack_ = stack_ if stack_ else []\n",
    "\n",
    "    def push(self, element):\n",
    "        self.stack_.append(element)\n",
    "\n",
    "    def pop(self):\n",
    "        return self.stack_.pop(-1)\n",
    "\n",
    "    def display(self):\n",
    "        stack_collect = []\n",
    "        for s in self.stack_:\n",
    "            stack_collect.append(s.data)\n",
    "        print(stack_collect)\n",
    "\n",
    "    def len(self):\n",
    "        return len(self.stack_)\n",
    "\n",
    "\n",
    "class Queue():\n",
    "    def __init__(self):\n",
    "         self.stack_full = Stack()\n",
    "         self.n = 0\n",
    "\n",
    "    def Enqueue(self, element): \n",
    "        self.stack_full.push(element)\n",
    "        self.n += 1\n",
    "\n",
    "    def Dequeue(self):\n",
    "        if self.n == 0:\n",
    "            return None\n",
    "        stack_n_reversed = Stack()\n",
    "        while stack_n_reversed.len() != self.n-1:\n",
    "            stack_n_reversed.push(self.stack_full.stack_[-1])\n",
    "        self.n -= 1\n",
    "        self.stack_full.display()\n",
    "        self.stack_full.stack_ = self.stack_full.stack_[:self.n]\n",
    "        self.stack_full.display()\n",
    "\n",
    "    \n",
    "    def display(self):\n",
    "        self.stack_full.display()"
   ]
  },
  {
   "attachments": {},
   "cell_type": "markdown",
   "metadata": {},
   "source": [
    "---\n",
    "## Test Cases"
   ]
  },
  {
   "cell_type": "code",
   "execution_count": 81,
   "metadata": {},
   "outputs": [
    {
     "name": "stdout",
     "output_type": "stream",
     "text": [
      "[1]\n",
      "[1]\n",
      "[1, 3]\n"
     ]
    }
   ],
   "source": [
    "# solution testing test cases\n",
    "node_1 = Node(1)\n",
    "node_2 = Node(2)\n",
    "node_3 = Node(3)\n",
    "\n",
    "Q1 = Queue()\n",
    "Q1.Enqueue(node_1)\n",
    "Q1.Enqueue(node_2)\n",
    "Q1.Dequeue()\n",
    "Q1.Enqueue(node_3)\n",
    "Q1.display()"
   ]
  },
  {
   "cell_type": "code",
   "execution_count": 74,
   "metadata": {},
   "outputs": [
    {
     "name": "stdout",
     "output_type": "stream",
     "text": [
      "[2]\n"
     ]
    }
   ],
   "source": [
    "node_1 = Node(1)\n",
    "node_2 = Node(2)\n",
    "node_3 = Node(3)\n",
    "\n",
    "Q2 = Queue()\n",
    "Q2.Enqueue(node_1)\n",
    "Q2.Dequeue()\n",
    "Q2.Enqueue(node_2)\n",
    "Q2.Enqueue(node_3)\n",
    "Q2.Dequeue()\n",
    "Q2.display()"
   ]
  },
  {
   "cell_type": "code",
   "execution_count": 75,
   "metadata": {},
   "outputs": [
    {
     "name": "stdout",
     "output_type": "stream",
     "text": [
      "[1, 2]\n",
      "[1]\n",
      "[1, 3, 4]\n",
      "[1]\n",
      "[]\n"
     ]
    }
   ],
   "source": [
    "node_1 = Node(1)\n",
    "node_2 = Node(2)\n",
    "node_3 = Node(3)\n",
    "node_4 = Node(4)\n",
    "node_5 = Node(5)\n",
    "\n",
    "Q3 = Queue()\n",
    "Q3.Enqueue(node_1)\n",
    "Q3.Enqueue(node_2)\n",
    "Q3.display()\n",
    "Q3.Dequeue()\n",
    "Q3.display()\n",
    "Q3.Enqueue(node_3)\n",
    "Q3.Enqueue(node_4)\n",
    "Q3.display()\n",
    "Q3.Dequeue()\n",
    "Q3.display()\n",
    "Q3.Enqueue(node_5)\n",
    "Q3.Dequeue()\n",
    "Q3.display()"
   ]
  },
  {
   "attachments": {},
   "cell_type": "markdown",
   "metadata": {},
   "source": [
    "---\n",
    "## Solution Explained"
   ]
  },
  {
   "attachments": {},
   "cell_type": "markdown",
   "metadata": {},
   "source": [
    "### function solution\n",
    "function solution explained"
   ]
  }
 ],
 "metadata": {
  "kernelspec": {
   "display_name": "Python 3",
   "language": "python",
   "name": "python3"
  },
  "language_info": {
   "codemirror_mode": {
    "name": "ipython",
    "version": 3
   },
   "file_extension": ".py",
   "mimetype": "text/x-python",
   "name": "python",
   "nbconvert_exporter": "python",
   "pygments_lexer": "ipython3",
   "version": "3.9.12"
  },
  "orig_nbformat": 4,
  "vscode": {
   "interpreter": {
    "hash": "1616faeca1eb2b6217e80a7d062cec32587d2e1ba3999185fe005a5f436d1f1f"
   }
  }
 },
 "nbformat": 4,
 "nbformat_minor": 2
}
