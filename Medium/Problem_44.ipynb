{
 "cells": [
  {
   "attachments": {},
   "cell_type": "markdown",
   "metadata": {},
   "source": [
    "# Problem 44\n",
    "Given an array of numbers, find the maximum sum of any contiguous subarray of the array.\n",
    "\n",
    "For example, given the array `[34, -50, 42, 14, -5, 86]`, the maximum sum would be `137`, since we would take elements `42`, `14`, `-5`, and `86`.\n",
    "\n",
    "Given the array `[-5, -1, -8, -9]`, the maximum sum would be `0`, since we would not take any elements.\n",
    "\n",
    "Do this in O(N) time."
   ]
  },
  {
   "attachments": {},
   "cell_type": "markdown",
   "metadata": {},
   "source": [
    "---\n",
    "## Solution"
   ]
  },
  {
   "cell_type": "code",
   "execution_count": 28,
   "metadata": {},
   "outputs": [],
   "source": [
    "# solution code\n",
    "\n",
    "def max_subarray_sum(numbers):\n",
    "    max_so_far = max_ending_here = 0\n",
    "    for num in numbers:\n",
    "        max_ending_here = max(num, max_ending_here + num)\n",
    "        max_so_far = max(max_so_far, max_ending_here)\n",
    "    return max_so_far"
   ]
  },
  {
   "attachments": {},
   "cell_type": "markdown",
   "metadata": {},
   "source": [
    "---\n",
    "## Test Cases"
   ]
  },
  {
   "cell_type": "code",
   "execution_count": 29,
   "metadata": {},
   "outputs": [
    {
     "data": {
      "text/plain": [
       "137"
      ]
     },
     "execution_count": 29,
     "metadata": {},
     "output_type": "execute_result"
    }
   ],
   "source": [
    "# solution testing test cases\n",
    "test_1 = [34, -50, 42, 14, -5, 86]\n",
    "max_subarray_sum(test_1)"
   ]
  },
  {
   "cell_type": "code",
   "execution_count": 30,
   "metadata": {},
   "outputs": [
    {
     "data": {
      "text/plain": [
       "0"
      ]
     },
     "execution_count": 30,
     "metadata": {},
     "output_type": "execute_result"
    }
   ],
   "source": [
    "test_2 = [-5, -1, -8, -9]\n",
    "max_subarray_sum(test_2)"
   ]
  },
  {
   "cell_type": "code",
   "execution_count": 31,
   "metadata": {},
   "outputs": [
    {
     "data": {
      "text/plain": [
       "0"
      ]
     },
     "execution_count": 31,
     "metadata": {},
     "output_type": "execute_result"
    }
   ],
   "source": [
    "test_3 = []\n",
    "max_subarray_sum(test_3)"
   ]
  },
  {
   "cell_type": "code",
   "execution_count": 32,
   "metadata": {},
   "outputs": [
    {
     "data": {
      "text/plain": [
       "100"
      ]
     },
     "execution_count": 32,
     "metadata": {},
     "output_type": "execute_result"
    }
   ],
   "source": [
    "test_3 = [-10, 32, -100, 100, -54, 53, -52, 53]\n",
    "max_subarray_sum(test_3)"
   ]
  },
  {
   "attachments": {},
   "cell_type": "markdown",
   "metadata": {},
   "source": [
    "---\n",
    "## Solution Explained"
   ]
  },
  {
   "attachments": {},
   "cell_type": "markdown",
   "metadata": {},
   "source": [
    "### max_subarray_sum(numbers) solution\n",
    "This code implements the Kadane's algorithm for finding the maximum sum subarray in an array of integers. The basic idea is to maintain two variables, `max_ending_here` and `max_so_far`, which represent the maximum subarray sum ending at the current index and the maximum subarray sum seen so far, respectively.\n",
    "\n",
    "The algorithm iterates through each element in the input array, updating `max_ending_here` as the maximum of the current element and the sum of the current element and the previous `max_ending_here`. If `max_ending_here` becomes negative, it is reset to 0. The `max_so_far` variable is updated with the maximum of its previous value and the current `max_ending_here` value.\n",
    "\n",
    "At the end of the iteration, `max_so_far` will contain the maximum sum of any subarray in the input array.\n",
    "\n",
    "The time complexity of this algorithm is O(n), where n is the length of the input array. The space complexity is O(1), as the algorithm only requires constant space to maintain the two variables `max_ending_here` and `max_so_far`."
   ]
  }
 ],
 "metadata": {
  "kernelspec": {
   "display_name": "Python 3",
   "language": "python",
   "name": "python3"
  },
  "language_info": {
   "codemirror_mode": {
    "name": "ipython",
    "version": 3
   },
   "file_extension": ".py",
   "mimetype": "text/x-python",
   "name": "python",
   "nbconvert_exporter": "python",
   "pygments_lexer": "ipython3",
   "version": "3.9.12"
  },
  "orig_nbformat": 4,
  "vscode": {
   "interpreter": {
    "hash": "1616faeca1eb2b6217e80a7d062cec32587d2e1ba3999185fe005a5f436d1f1f"
   }
  }
 },
 "nbformat": 4,
 "nbformat_minor": 2
}
