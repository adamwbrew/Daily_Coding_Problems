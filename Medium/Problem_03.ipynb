{
 "cells": [
  {
   "attachments": {},
   "cell_type": "markdown",
   "metadata": {},
   "source": [
    "# Problem 3\n",
    "Given the root to a binary tree, implement serialize(root), which serializes the tree into a string, and deserialize(s), which deserializes the string back into the tree.\n",
    "\n",
    "For example, given the following Node class\n",
    "```\n",
    "class Node:\n",
    "    def __init__(self, val, left=None, right=None):\n",
    "        self.val = val\n",
    "        self.left = left\n",
    "        self.right = right\n",
    "```\n",
    "\n",
    "The following test should pass:\n",
    "```\n",
    "node = Node('root', Node('left', Node('left.left')), Node('right'))\n",
    "assert deserialize(serialize(node)).left.left.val == 'left.left'\n",
    "```"
   ]
  },
  {
   "attachments": {},
   "cell_type": "markdown",
   "metadata": {},
   "source": [
    "---\n",
    "## Test Cases"
   ]
  },
  {
   "cell_type": "code",
   "execution_count": 119,
   "metadata": {},
   "outputs": [],
   "source": [
    "# test cases\n",
    "# These test cases are for viewing purposes only. They are used again later on to show how the solution works.\n",
    "\n",
    "node_0 = Node(\"root\", None, Node(\"right\"))\n",
    "\n",
    "node_1 = Node('root', Node('left', Node('left.left')), Node('right'))  # test from above problem\n",
    "\n",
    "node_2 = Node('root', Node('left', Node('left.left'),  Node('left.right')), Node('right')) \n",
    "\n",
    "node_3 = Node('root', Node('left', Node('left.left')), Node('right', None , Node('right.right')))"
   ]
  },
  {
   "attachments": {},
   "cell_type": "markdown",
   "metadata": {},
   "source": [
    "---\n",
    "## Solution"
   ]
  },
  {
   "cell_type": "code",
   "execution_count": 115,
   "metadata": {},
   "outputs": [],
   "source": [
    "# solution code\n",
    "\n",
    "class Node:\n",
    "    def __init__(self, val, left = None, right = None):\n",
    "        self.val = val\n",
    "        self.left = left\n",
    "        self.right = right\n",
    "\n",
    "def serialize(Node):\n",
    "    tree_structure = []\n",
    "    tree_structure.append(Node.val)\n",
    "    if(Node.left != None):\n",
    "        if(Node.right == None):\n",
    "            tree_structure.append(serialize(Node.left))\n",
    "            tree_structure.append([\"None\"])\n",
    "        else:\n",
    "            tree_structure.append(serialize(Node.left))\n",
    "    if(Node.right != None):\n",
    "        if(Node.left == None):\n",
    "            tree_structure.append([\"None\"])\n",
    "        tree_structure.append(serialize(Node.right))\n",
    "    return tree_structure\n",
    "\n",
    "def deserialize(serialize_structure):\n",
    "    if(len(serialize_structure) > 1):\n",
    "        node = Node(serialize_structure[0])\n",
    "        node.left = deserialize(serialize_structure[1])\n",
    "        node.right = deserialize(serialize_structure[2])\n",
    "    else:\n",
    "        node = Node(serialize_structure[0])\n",
    "    return node"
   ]
  },
  {
   "cell_type": "code",
   "execution_count": 121,
   "metadata": {},
   "outputs": [
    {
     "name": "stdout",
     "output_type": "stream",
     "text": [
      "Node 0: ['root', ['None'], ['right']]\n",
      "Test 0: root \n",
      "\n",
      "Node 1: ['root', ['left', ['left.left'], ['None']], ['right']]\n",
      "Test 1: None \n",
      "\n",
      "Node 2: ['root', ['left', ['left.left'], ['left.right']], ['right']]\n",
      "Test 2: left.right \n",
      "\n",
      "Node 3: ['root', ['left', ['left.left'], ['None']], ['right', ['None'], ['right.right', ['right.right.left'], ['None']]]]\n",
      "Test 3: right.right.left\n"
     ]
    }
   ],
   "source": [
    "# solution testing test cases\n",
    "node_0 = Node(\"root\", None, Node(\"right\"))\n",
    "node_1 = Node('root', Node('left', Node('left.left')), Node('right'))\n",
    "node_2 = Node('root', Node('left', Node('left.left'),  Node('left.right')), Node('right'))\n",
    "node_3 = Node('root', Node('left', Node('left.left')), Node('right', None ,Node('right.right', Node(\"right.right.left\",None))))\n",
    "\n",
    "print(\"Node 0:\", serialize(node_0))\n",
    "print(\"Test 0:\", deserialize(serialize(node_0)).val, \"\\n\")\n",
    "\n",
    "print(\"Node 1:\", serialize(node_1))\n",
    "print(\"Test 1:\", deserialize(serialize(node_1)).left.right.val, \"\\n\")\n",
    "\n",
    "print(\"Node 2:\", serialize(node_2))\n",
    "print(\"Test 2:\", deserialize(serialize(node_2)).left.right.val, \"\\n\")\n",
    "\n",
    "print(\"Node 3:\", serialize(node_3))\n",
    "print(\"Test 3:\", deserialize(serialize(node_3)).right.right.left.val)"
   ]
  },
  {
   "attachments": {},
   "cell_type": "markdown",
   "metadata": {},
   "source": [
    "---\n",
    "## Solution Explained"
   ]
  },
  {
   "attachments": {},
   "cell_type": "markdown",
   "metadata": {},
   "source": [
    "### serialize(Node) solution\n",
    "This solution of serialize is based off the Node class provided that uses recursion as it's main source of functionality. Serialize input is based on created node as seen in *Test Cases* based on a binary tree structure. The function begins by creating a empty list called *tree_structure* used to store the values on the binary tree. The *tree_structure* first captured the root node value. Then the function looks to see if the left node is populated. If populated, the function checks if the right node is also populated. Depending on the right node being populated, the function then uses recursion to serialize the left node and append it to the *tree_structure*, which is followed by the either *[\"None\"]* added to the *tree_structure* if the right node is not populated or nothing is it is poulated. This is so the the serialized *tree_structure* ouput can show where branches on the binary tree end, *[\"None\"]* in this case is a representitive leaf to show no node was found and to keep the synax of the tree intact. After processing the left side of the binary tree, the same methodology is preformed on the right side of the tree with one difference. If the right node is populated and the left node is not the left node will have the leaf of *[\"None\"]* followed by the right node being serialized. This recursive process works in grand by going through a binary tree starting the root, then to the far left of the tree, and then working its way back over from the left and going to the right until the function ends by going to the farthest right node in the tree. This infomation is captured in *tree_structure* shown in a list format.\n",
    "\n",
    "### deserialize(serialize_structure) solution\n",
    "This solution of deserialized has an input of any serialized Node according to the output of the serialized function called *serialize_structure*. The function first checks if the *serialize_structure* has a length greater than 1. If not, a node is created based on the zero index in the *serialize_structure*. Otherwise, the function creates a node based on the zero index of *serialize_structure* and uses *deserialize* recursivly on the first index in the *serialize_structure* setting it equal to the created node's left leaf then recursivly sets the second index in the *serialize_structure* equal to the created node's right leaf. Due to the *serialize_structure*, all nodes have at least two children due to setting the *serialize* function's Null handling equal to *[\"None\"]*. \n",
    "\n",
    "#### Notes for practical use\n",
    "The function *serialize* is based off of only inputs of the are binary tree inputs using the Node class. No error handling has been included for different types of trees being inputed into the function. "
   ]
  }
 ],
 "metadata": {
  "kernelspec": {
   "display_name": "Python 3",
   "language": "python",
   "name": "python3"
  },
  "language_info": {
   "codemirror_mode": {
    "name": "ipython",
    "version": 3
   },
   "file_extension": ".py",
   "mimetype": "text/x-python",
   "name": "python",
   "nbconvert_exporter": "python",
   "pygments_lexer": "ipython3",
   "version": "3.9.12"
  },
  "orig_nbformat": 4,
  "vscode": {
   "interpreter": {
    "hash": "1616faeca1eb2b6217e80a7d062cec32587d2e1ba3999185fe005a5f436d1f1f"
   }
  }
 },
 "nbformat": 4,
 "nbformat_minor": 2
}
