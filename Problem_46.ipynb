{
 "cells": [
  {
   "attachments": {},
   "cell_type": "markdown",
   "metadata": {},
   "source": [
    "# Problem 46\n",
    "Given a function that generates perfectly random numbers between `1` and `k` (inclusive), where `k` is an input, write a function that shuffles a deck of cards represented as an array using only swaps.\n",
    "\n",
    "It should run in O(N) time.\n",
    "\n",
    "Hint: Make sure each one of the 52! permutations of the deck is equally likely."
   ]
  },
  {
   "attachments": {},
   "cell_type": "markdown",
   "metadata": {},
   "source": [
    "---\n",
    "## Solution"
   ]
  },
  {
   "cell_type": "code",
   "execution_count": 101,
   "metadata": {},
   "outputs": [],
   "source": [
    "# solution code\n",
    "import random\n",
    "\n",
    "def random_shuffle(deck_of_cards):\n",
    "    for i in range(len(deck_of_cards)-1, 0, -1):\n",
    "        j = random.randint(0, i)\n",
    "        deck_of_cards[j] , deck_of_cards[i] = deck_of_cards[i] , deck_of_cards[j]\n",
    "    return deck_of_cards"
   ]
  },
  {
   "attachments": {},
   "cell_type": "markdown",
   "metadata": {},
   "source": [
    "---\n",
    "## Test Cases"
   ]
  },
  {
   "cell_type": "code",
   "execution_count": 102,
   "metadata": {},
   "outputs": [],
   "source": [
    "# deck of cards setup\n",
    "suites = \"S,D,H,C\".split(\",\")\n",
    "cards = \"A,2,3,4,5,6,7,8,9,J,Q,K\".split(\",\")\n",
    "deck = [str(c) + str(s) for s in suites for c in cards]"
   ]
  },
  {
   "cell_type": "code",
   "execution_count": 103,
   "metadata": {},
   "outputs": [
    {
     "name": "stdout",
     "output_type": "stream",
     "text": [
      "JH 7C JC 9H 6S 9D KH 6C 8C 7S 5H 3H \n",
      "4D 9S 6D 2H AS QS KC 5C 3D 8D 8S AC \n",
      "KD QC JD 7D 5D 4C 5S 8H KS 2C QD 3C \n",
      "7H JS 3S 2S 2D 9C 4S AD 6H AH QH 4H \n"
     ]
    }
   ],
   "source": [
    "# solution testing test cases\n",
    "deck_shuffled_1 = random_shuffle(deck)\n",
    "for c in range(len(deck_shuffled_1)):\n",
    "    print(deck_shuffled_1[c], end = ' ')\n",
    "    if((c+1) % 12 == 0 and c != 0): print()"
   ]
  },
  {
   "cell_type": "code",
   "execution_count": 104,
   "metadata": {},
   "outputs": [
    {
     "name": "stdout",
     "output_type": "stream",
     "text": [
      "6C 2C 9S AH AD QH 3D 3C 6H 2D 4C 8C \n",
      "7C KH 4S 3S 7S 5S 4H 6S JH QD 5H 4D \n",
      "7D 8S JC 5D 5C AS 2H QC 6D 2S 8D 3H \n",
      "AC 9D 9C JD KD KS KC JS 7H 9H 8H QS \n"
     ]
    }
   ],
   "source": [
    "deck_shuffled_2 = random_shuffle(deck)\n",
    "for c in range(len(deck_shuffled_1)):\n",
    "    print(deck_shuffled_1[c], end = ' ')\n",
    "    if((c+1) % 12 == 0 and c != 0): print()"
   ]
  },
  {
   "cell_type": "code",
   "execution_count": 105,
   "metadata": {},
   "outputs": [
    {
     "name": "stdout",
     "output_type": "stream",
     "text": [
      "6H AD JD QH 2H 4H 5D 8D 6C KH KC 4C \n",
      "2C KD 7H 9S 5C 9C 3D 4D KS 3H 6D JS \n",
      "4S 8H 9H 3S 2D JC AC 8C 7D AH 3C 7S \n",
      "5S QS 6S 7C JH AS 8S 2S QC QD 9D 5H \n"
     ]
    }
   ],
   "source": [
    "deck_shuffled_3 = random_shuffle(deck)\n",
    "for c in range(len(deck_shuffled_1)):\n",
    "    print(deck_shuffled_1[c], end = ' ')\n",
    "    if((c+1) % 12 == 0 and c != 0): print()"
   ]
  },
  {
   "attachments": {},
   "cell_type": "markdown",
   "metadata": {},
   "source": [
    "---\n",
    "## Solution Explained"
   ]
  },
  {
   "attachments": {},
   "cell_type": "markdown",
   "metadata": {},
   "source": [
    "### random_shuffle(deck) solution\n",
    "The following code implements the Fisher-Yates shuffle algorithm to shuffle a deck of cards represented as an array using only swaps. The algorithm works by iterating through the array and selecting a random index between the current index and the end of the array, then swapping the values at the current index and the randomly selected index. This process is repeated for each index in the array.\n",
    "\n",
    "The time complexity of the `random_shuffle` function is O(N), where N is the length of the input array (i.e., the number of cards in the deck). This is because the function iterates through the array once and performs a constant number of operations (two swaps and one random number generation) for each index.\n",
    "\n",
    "The memory space required by the `random_shuffle` function is O(1), because it operates on the input array in place and does not create any additional data structures.\n",
    "\n",
    "Additionally, the algorithm satisfies the hint in the problem statement by ensuring that each one of the 52! permutations of the deck is equally likely. This is because each card in the deck has an equal chance of being selected for any given index during the shuffle process, and the shuffle process does not depend on the initial order of the cards in the deck."
   ]
  }
 ],
 "metadata": {
  "kernelspec": {
   "display_name": "Python 3",
   "language": "python",
   "name": "python3"
  },
  "language_info": {
   "codemirror_mode": {
    "name": "ipython",
    "version": 3
   },
   "file_extension": ".py",
   "mimetype": "text/x-python",
   "name": "python",
   "nbconvert_exporter": "python",
   "pygments_lexer": "ipython3",
   "version": "3.9.12"
  },
  "orig_nbformat": 4,
  "vscode": {
   "interpreter": {
    "hash": "1616faeca1eb2b6217e80a7d062cec32587d2e1ba3999185fe005a5f436d1f1f"
   }
  }
 },
 "nbformat": 4,
 "nbformat_minor": 2
}
