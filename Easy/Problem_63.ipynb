{
 "cells": [
  {
   "attachments": {},
   "cell_type": "markdown",
   "metadata": {},
   "source": [
    "# Problem 63\n",
    "Given the head of a singly linked list, reverse it in-place."
   ]
  },
  {
   "attachments": {},
   "cell_type": "markdown",
   "metadata": {},
   "source": [
    "---\n",
    "## Solution"
   ]
  },
  {
   "cell_type": "code",
   "execution_count": 30,
   "metadata": {},
   "outputs": [],
   "source": [
    "# solution code\n",
    "class Node:\n",
    "    def __init__(self, data = None):\n",
    "        self.data = data\n",
    "        self.next = None\n",
    "\n",
    "\n",
    "class Singly_Linked_List():\n",
    "    def __init__(self):\n",
    "        self.head = None\n",
    "    \n",
    "    def display(self):\n",
    "        data = []\n",
    "        temp = self.head\n",
    "        while(temp != None):\n",
    "            data.append(temp.data)\n",
    "            temp = temp.next\n",
    "        return data\n",
    "\n",
    "\n",
    "def reverse(head):\n",
    "    reversed_SLL = Singly_Linked_List()\n",
    "    storage = [head]\n",
    "    temp = head\n",
    "    while(temp != None):\n",
    "        storage.append(temp.next)\n",
    "        temp = temp.next\n",
    "    storage = storage[::-1][1:]\n",
    "    for i in range(len(storage)):\n",
    "        if(i == 0):\n",
    "            reversed_SLL.head = storage[i]\n",
    "        else:\n",
    "            storage[i-1].next = storage[i]\n",
    "    storage[len(storage)-1].next = None\n",
    "    return reversed_SLL\n"
   ]
  },
  {
   "attachments": {},
   "cell_type": "markdown",
   "metadata": {},
   "source": [
    "---\n",
    "## Test Cases"
   ]
  },
  {
   "cell_type": "code",
   "execution_count": 31,
   "metadata": {},
   "outputs": [
    {
     "name": "stdout",
     "output_type": "stream",
     "text": [
      "Non Reversed SLL: [1, 2, 3]\n",
      "Reversed SLL: [3, 2, 1]\n"
     ]
    }
   ],
   "source": [
    "# solution testing test cases\n",
    "\n",
    "SLL_1 = Singly_Linked_List()\n",
    "node_1 = Node(1)\n",
    "node_2 = Node(2)\n",
    "node_3 = Node(3)\n",
    "SLL_1.head = node_1\n",
    "node_1.next = node_2\n",
    "node_2.next = node_3\n",
    "print(\"Non Reversed SLL:\", SLL_1.display())\n",
    "R_SLL_1 = reverse(SLL_1.head)\n",
    "print(\"Reversed SLL:\", R_SLL_1.display())"
   ]
  },
  {
   "cell_type": "code",
   "execution_count": 34,
   "metadata": {},
   "outputs": [
    {
     "name": "stdout",
     "output_type": "stream",
     "text": [
      "Non Reversed SLL: [1, 2, 3, 4, 5, 6]\n",
      "Reversed SLL: [6, 5, 4, 3, 2, 1]\n",
      "Reversed twice over SLL: [1, 2, 3, 4, 5, 6]\n"
     ]
    }
   ],
   "source": [
    "SLL_2 = Singly_Linked_List()\n",
    "node_1 = Node(1)\n",
    "node_2 = Node(2)\n",
    "node_3 = Node(3)\n",
    "node_4 = Node(4)\n",
    "node_5 = Node(5)\n",
    "node_6 = Node(6)\n",
    "SLL_2.head = node_1\n",
    "node_1.next = node_2\n",
    "node_2.next = node_3\n",
    "node_3.next = node_4\n",
    "node_4.next = node_5\n",
    "node_5.next = node_6\n",
    "\n",
    "print(\"Non Reversed SLL:\", SLL_2.display())\n",
    "R_SLL_2 = reverse(SLL_2.head)\n",
    "print(\"Reversed SLL:\", R_SLL_2.display())\n",
    "RR_SLL_2 = reverse(R_SLL_2.head)\n",
    "print(\"Reversed twice over SLL:\", RR_SLL_2.display())"
   ]
  },
  {
   "attachments": {},
   "cell_type": "markdown",
   "metadata": {},
   "source": [
    "---\n",
    "## Solution Explained"
   ]
  },
  {
   "attachments": {},
   "cell_type": "markdown",
   "metadata": {},
   "source": [
    "### `reverse(head)` solution\n",
    "This code first defines a class `Node` with two instance variables: `data` and `next`. `data` represents the value stored in the node and `next` is a reference to the next node in the linked list.\n",
    "\n",
    "The code next defines the `Singly_Linked_List` class. It has a `head` instance variable, which stores a reference to the first node of the linked list. The `display` method returns a list of all the values in the linked list in the order they appear.\n",
    "\n",
    "Then we come to the `reverse` function which takes the `head` of a linked list as an argument and returns a new linked list with the same nodes in reverse order. The function creates a new instance of the `Singly_Linked_List` class called `reversed_SLL`. The function then iterates over the original linked list and appends each node to a list called storage. The `[::-1]` notation reverses the list, and `[1:]` excludes the ending `None` node found at the end of the list. The reversed storage list is then iterated over to construct a new linked list in reverse order. The `head` of the new linked list is set to the first element of storage. The remaining nodes are added to the linked list using the next reference. Finally, the next reference of the last node in the linked list is set to `None` to terminate the list. The reversed linked list is returned."
   ]
  }
 ],
 "metadata": {
  "kernelspec": {
   "display_name": "Python 3",
   "language": "python",
   "name": "python3"
  },
  "language_info": {
   "codemirror_mode": {
    "name": "ipython",
    "version": 3
   },
   "file_extension": ".py",
   "mimetype": "text/x-python",
   "name": "python",
   "nbconvert_exporter": "python",
   "pygments_lexer": "ipython3",
   "version": "3.9.7"
  },
  "orig_nbformat": 4,
  "vscode": {
   "interpreter": {
    "hash": "1616faeca1eb2b6217e80a7d062cec32587d2e1ba3999185fe005a5f436d1f1f"
   }
  }
 },
 "nbformat": 4,
 "nbformat_minor": 2
}
