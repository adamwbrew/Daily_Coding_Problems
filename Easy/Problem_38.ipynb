{
 "cells": [
  {
   "attachments": {},
   "cell_type": "markdown",
   "metadata": {},
   "source": [
    "# Problem 38\n",
    "Implement a stack that has the following methods:\n",
    "\n",
    "- `push(val)`, which pushes an element onto the stack\n",
    "- `pop()`, which pops off and returns the topmost element of the stack. If there are no elements in the stack, then it should throw an error or return `null`.\n",
    "- `max()`, which returns the maximum value in the stack currently. If there are no elements in the stack, then it should throw an error or return `null`.\n",
    "\n",
    "Each method should run in constant time."
   ]
  },
  {
   "attachments": {},
   "cell_type": "markdown",
   "metadata": {},
   "source": [
    "---\n",
    "## Solution"
   ]
  },
  {
   "cell_type": "code",
   "execution_count": 72,
   "metadata": {},
   "outputs": [],
   "source": [
    "# solution code\n",
    "\n",
    "def find_index_less_than(l, e):\n",
    "    # binary search method to find wanted index\n",
    "    left, right = 0, len(l) - 1\n",
    "    while left <= right:\n",
    "        mid = (left + right) // 2\n",
    "        if l[mid] < e:\n",
    "            left = mid + 1\n",
    "        else:\n",
    "            right = mid - 1\n",
    "    return right\n",
    "\n",
    "\n",
    "class Stack():\n",
    "\n",
    "    # implement stack\n",
    "    def __init__(self, data = None):\n",
    "        self.data = data\n",
    "        self.max_ = None\n",
    "\n",
    "    # remove top value in stack\n",
    "    def pop(self):\n",
    "        if(self.data == None):\n",
    "            top = None\n",
    "        else:\n",
    "            top = self.data[-1]\n",
    "            self.data = self.data[:-1]\n",
    "            if(top == self.max_[-1]):\n",
    "                self.max_.pop()\n",
    "        return top\n",
    "\n",
    "    # push value to top of stack\n",
    "    def push(self, val):\n",
    "        if(self.data == None):\n",
    "            self.max_ = [val]\n",
    "            self.data = [val]\n",
    "        else:\n",
    "            current_max = self.max_[-1]\n",
    "            if(current_max < val):\n",
    "                self.max_.append(val)\n",
    "            else:\n",
    "                if(val < self.max_[0]):\n",
    "                    self.max_ = [val] + self.max_\n",
    "                else:\n",
    "                    # find proper index to add new value\n",
    "                    lower_bound = find_index_less_than(self.max_, val)\n",
    "                    self.max_ = self.max_[:lower_bound] + [val] + self.max_[lower_bound+1:]\n",
    "\n",
    "        self.data.append(val)\n",
    "\n",
    "    # return max value in stack\n",
    "    def max(self):\n",
    "        if(self.max_ == []):\n",
    "            return None\n",
    "        return self.max_[-1]\n"
   ]
  },
  {
   "attachments": {},
   "cell_type": "markdown",
   "metadata": {},
   "source": [
    "---\n",
    "## Test Cases"
   ]
  },
  {
   "cell_type": "code",
   "execution_count": 73,
   "metadata": {},
   "outputs": [
    {
     "data": {
      "text/plain": [
       "5"
      ]
     },
     "execution_count": 73,
     "metadata": {},
     "output_type": "execute_result"
    }
   ],
   "source": [
    "# solution testing test cases\n",
    "\n",
    "stack_1 = Stack()\n",
    "\n",
    "stack_1.push(5)\n",
    "stack_1.push(4)\n",
    "stack_1.push(3)\n",
    "stack_1.push(2)\n",
    "stack_1.push(1)\n",
    "\n",
    "stack_1.max()"
   ]
  },
  {
   "cell_type": "code",
   "execution_count": 74,
   "metadata": {},
   "outputs": [
    {
     "data": {
      "text/plain": [
       "4"
      ]
     },
     "execution_count": 74,
     "metadata": {},
     "output_type": "execute_result"
    }
   ],
   "source": [
    "stack_2 = Stack()\n",
    "\n",
    "stack_2.push(1)\n",
    "stack_2.push(2)\n",
    "stack_2.push(3)\n",
    "stack_2.push(4)\n",
    "stack_2.push(5)\n",
    "stack_2.push(4)\n",
    "\n",
    "stack_2.pop()\n",
    "stack_2.pop()\n",
    "\n",
    "stack_2.max()"
   ]
  },
  {
   "cell_type": "code",
   "execution_count": 75,
   "metadata": {},
   "outputs": [],
   "source": [
    "stack_3 = Stack()\n",
    "\n",
    "stack_3.push(1)\n",
    "stack_3.push(2)\n",
    "stack_3.push(3)\n",
    "stack_3.push(4)\n",
    "\n",
    "stack_3.pop()\n",
    "stack_3.pop()\n",
    "stack_3.pop()\n",
    "stack_3.pop()\n",
    "\n",
    "stack_3.max()"
   ]
  },
  {
   "cell_type": "code",
   "execution_count": 76,
   "metadata": {},
   "outputs": [
    {
     "name": "stdout",
     "output_type": "stream",
     "text": [
      "Current max: 1\n",
      "Current max: 2\n",
      "Current max: 3\n"
     ]
    }
   ],
   "source": [
    "stack_4 = Stack()\n",
    "\n",
    "stack_4.push(1)\n",
    "print(\"Current max:\",stack_4.max())\n",
    "stack_4.push(2)\n",
    "stack_4.push(1)\n",
    "print(\"Current max:\",stack_4.max())\n",
    "stack_4.push(10)\n",
    "stack_4.pop()\n",
    "stack_4.push(3)\n",
    "print(\"Current max:\",stack_4.max())"
   ]
  },
  {
   "attachments": {},
   "cell_type": "markdown",
   "metadata": {},
   "source": [
    "---\n",
    "## Solution Explained"
   ]
  },
  {
   "attachments": {},
   "cell_type": "markdown",
   "metadata": {},
   "source": [
    "### Stack solution\n",
    "The given code defines a stack data structure class that supports three basic operations - push, pop, and max. The push operation inserts an element at the top of the stack, the pop operation removes and returns the top element of the stack, and the max operation returns the maximum element currently present in the stack.\n",
    "\n",
    "The stack class has three methods:\n",
    "\n",
    "1. `__init__(self, data = None)` - This is the constructor method that initializes the stack with an optional initial data value. It creates two instance variables - `data` and `max_`. `data` is a list that holds the stack elements, and `max_` is also a list that holds the maximum value in the stack at each position.<br><br>Time Complexity: O(1)<br>Memory Space: O(1)<br><br>\n",
    "\n",
    "2. `pop(self)` - This method removes the top element from the stack and returns it. If the stack is empty, it returns `None`. If the removed element is the maximum element of the stack, it updates the `max_` list accordingly.<br><br>Time Complexity: O(1)<br>Memory Space: O(1)<br><br>\n",
    "\n",
    "3. `push(self, val)` - This method inserts an element at the top of the stack. If the stack is empty, it initializes the `max_` list with the new value. If the new value is greater than the current maximum value, it appends the new value to the `max_` list. If the new value is less than the minimum value in the `max_` list, it inserts the new value at the beginning of the `max_` list. Otherwise, it uses the `find_index_less_than` function to find the proper index to add the new value to the `max_` list.<br><br>Time Complexity: O(log n), where n is the length of `max_` list, because find_index_less_than method uses binary search to find the index of the element that is less than the new value.<br>Memory Space: O(1)<br><br>\n",
    "\n",
    "4. `max(self)` - This method returns the maximum element currently present in the stack. If the `max_` list is empty, it returns `None`.<br><br>Time Complexity: O(1)<br>Memory Space: O(1)<br><br>\n",
    "\n",
    "In summary, the push operation of the stack has a time complexity does not meet the desired O(1) time but instead O(log n) due to the use of the `find_index_less_than` method, and all other methods have a time complexity of O(1). All methods use constant memory space except for the `push` method, which may allocate additional memory if the `max_` list needs to be resized."
   ]
  }
 ],
 "metadata": {
  "kernelspec": {
   "display_name": "Python 3",
   "language": "python",
   "name": "python3"
  },
  "language_info": {
   "codemirror_mode": {
    "name": "ipython",
    "version": 3
   },
   "file_extension": ".py",
   "mimetype": "text/x-python",
   "name": "python",
   "nbconvert_exporter": "python",
   "pygments_lexer": "ipython3",
   "version": "3.9.12"
  },
  "orig_nbformat": 4,
  "vscode": {
   "interpreter": {
    "hash": "1616faeca1eb2b6217e80a7d062cec32587d2e1ba3999185fe005a5f436d1f1f"
   }
  }
 },
 "nbformat": 4,
 "nbformat_minor": 2
}
