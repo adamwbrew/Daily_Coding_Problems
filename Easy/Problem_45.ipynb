{
 "cells": [
  {
   "attachments": {},
   "cell_type": "markdown",
   "metadata": {},
   "source": [
    "# Problem 45\n",
    "Suppose an arithmetic expression is given as a binary tree. Each leaf is an integer and each internal node is one of `'+'`, `'−'`, `'∗'`, or `'/'`.\n",
    "\n",
    "Given the root to such a tree, write a function to evaluate it.\n",
    "\n",
    "For example, given the following tree:\n",
    "\n",
    "```\n",
    "    *\n",
    "   / \\\n",
    "  +    +\n",
    " / \\  / \\\n",
    "3  2  4  5\n",
    "```\n",
    "You should return `45`, as it is `(3 + 2) * (4 + 5)`."
   ]
  },
  {
   "attachments": {},
   "cell_type": "markdown",
   "metadata": {},
   "source": [
    "---\n",
    "## Solution"
   ]
  },
  {
   "cell_type": "code",
   "execution_count": 81,
   "metadata": {},
   "outputs": [],
   "source": [
    "# solution code\n",
    "\n",
    "class Node():\n",
    "    def __init__(self, val, left = None, right = None):\n",
    "        self.val = val\n",
    "        self.left = left\n",
    "        self.right = right\n",
    "\n",
    "\n",
    "def polish_equation_calulator(string):\n",
    "    collector = []\n",
    "    equation = string.split(\",\")[::-1][1:]\n",
    "    for s in equation:\n",
    "        if(s.isdigit()):\n",
    "            collector.append(s)\n",
    "        else:\n",
    "            number_1 = float(collector.pop())\n",
    "            number_2 = float(collector.pop())\n",
    "            if s == '+':\n",
    "                collector.append(number_1 + number_2)\n",
    "            elif s == '-':\n",
    "                collector.append(number_1 - number_2)\n",
    "            elif s == '*':\n",
    "                collector.append(number_1 * number_2)\n",
    "            elif s == '/':\n",
    "                collector.append(number_1 / number_2)\n",
    "    solution = float(collector.pop())\n",
    "    if(str(solution)[-2:] == \".0\"):\n",
    "        solution = int(solution)\n",
    "    return solution\n",
    "\n",
    "    \n",
    "def serialize_tree(root):\n",
    "    equation = ''\n",
    "    equation += str(root.val) + \",\"\n",
    "    if(root.left != None):\n",
    "        if(root.right == None):\n",
    "            equation += serialize_tree(root.left)\n",
    "        else:\n",
    "            equation += serialize_tree(root.left)\n",
    "    if(root.right != None):\n",
    "        equation += serialize_tree(root.right)\n",
    "    return equation \n",
    "\n",
    "\n",
    "def tree_solver(root):\n",
    "    return polish_equation_calulator(serialize_tree(root))"
   ]
  },
  {
   "attachments": {},
   "cell_type": "markdown",
   "metadata": {},
   "source": [
    "---\n",
    "## Test Cases"
   ]
  },
  {
   "cell_type": "code",
   "execution_count": 82,
   "metadata": {},
   "outputs": [],
   "source": [
    "# solution testing test cases\n",
    "root1 = Node('*', Node('+', Node(3), Node(2)), Node('+', Node(4), Node(5)))\n",
    "assert tree_solver(root1) == 45"
   ]
  },
  {
   "cell_type": "code",
   "execution_count": 83,
   "metadata": {},
   "outputs": [],
   "source": [
    "root2 = Node('-', Node('*', Node(10), Node(5)), Node('/', Node(50), Node(2)))\n",
    "assert tree_solver(root2) == 25"
   ]
  },
  {
   "cell_type": "code",
   "execution_count": 84,
   "metadata": {},
   "outputs": [],
   "source": [
    "root3 = Node('*', Node('+', Node(1), Node(2)), Node('*', Node(3), Node('-', Node(4), Node(5))))\n",
    "assert tree_solver(root3) == -9"
   ]
  },
  {
   "cell_type": "code",
   "execution_count": 85,
   "metadata": {},
   "outputs": [],
   "source": [
    "root4 = Node('/', Node('*', Node('+', Node(4), Node(6)), Node(2)), Node('-', Node(10), Node(5)))\n",
    "assert tree_solver(root4) == 4"
   ]
  },
  {
   "cell_type": "code",
   "execution_count": 86,
   "metadata": {},
   "outputs": [],
   "source": [
    "root5 = Node('+', Node('*', Node('/', Node(20), Node(5)), Node(2)), Node('-', Node(10), Node(5)))\n",
    "assert tree_solver(root5) == 13"
   ]
  },
  {
   "attachments": {},
   "cell_type": "markdown",
   "metadata": {},
   "source": [
    "---\n",
    "## Solution Explained"
   ]
  },
  {
   "attachments": {},
   "cell_type": "markdown",
   "metadata": {},
   "source": [
    "### tree_solver(root) solution\n",
    "The `tree_solver` function takes the root of a binary tree representing an arithmetic expression as input and returns its result by evaluating the expression using `polish_equation_calculator` function.\n",
    "\n",
    "The `serialize_tree` function is used to convert the given binary tree into a string in a way that represents the arithmetic expression in the polish notation. Then, the `polish_equation_calculator` function evaluates the given polish notation expression and returns the result.\n",
    "\n",
    "The time complexity of `serialize_tree` and `polish_equation_calculator` functions depends on the number of nodes in the given binary tree, and their time complexity is O(n), where n is the number of nodes in the tree. Therefore, the time complexity of the `tree_solver` function is also O(n).\n",
    "\n",
    "The space complexity of the `tree_solver` function is determined by the space required for the `collector` list in `polish_equation_calculator` function and the space required for the `equation` string in the `serialize_tree` function. The size of the `collector` list and the `equation` string is proportional to the number of nodes in the given binary tree, therefore the space complexity of the `tree_solver` function is O(n)."
   ]
  }
 ],
 "metadata": {
  "kernelspec": {
   "display_name": "Python 3",
   "language": "python",
   "name": "python3"
  },
  "language_info": {
   "codemirror_mode": {
    "name": "ipython",
    "version": 3
   },
   "file_extension": ".py",
   "mimetype": "text/x-python",
   "name": "python",
   "nbconvert_exporter": "python",
   "pygments_lexer": "ipython3",
   "version": "3.9.12"
  },
  "orig_nbformat": 4,
  "vscode": {
   "interpreter": {
    "hash": "1616faeca1eb2b6217e80a7d062cec32587d2e1ba3999185fe005a5f436d1f1f"
   }
  }
 },
 "nbformat": 4,
 "nbformat_minor": 2
}
