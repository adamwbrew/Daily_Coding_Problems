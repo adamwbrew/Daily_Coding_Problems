{
 "cells": [
  {
   "attachments": {},
   "cell_type": "markdown",
   "metadata": {},
   "source": [
    "# Problem 40\n",
    "Using a function `rand5()` that returns an integer from `1` to `5` (inclusive) with uniform probability, implement a function `rand7()` that returns an integer from `1` to `7` (inclusive)."
   ]
  },
  {
   "attachments": {},
   "cell_type": "markdown",
   "metadata": {},
   "source": [
    "---\n",
    "## Solution"
   ]
  },
  {
   "cell_type": "code",
   "execution_count": 36,
   "metadata": {},
   "outputs": [],
   "source": [
    "# solution code\n",
    "\n",
    "import numpy as np\n",
    "\n",
    "def rand5():\n",
    "    return np.random.randint(low = 1,high = 5+1)\n",
    "\n",
    "def rand7():\n",
    "    num = (rand5() - 1) * 5 + rand5() - 1\n",
    "    while num >= 21:\n",
    "        num = (rand5() - 1) * 5 + rand5() - 1\n",
    "    return num % 7 + 1"
   ]
  },
  {
   "attachments": {},
   "cell_type": "markdown",
   "metadata": {},
   "source": [
    "---\n",
    "## Test Cases"
   ]
  },
  {
   "cell_type": "code",
   "execution_count": 37,
   "metadata": {},
   "outputs": [
    {
     "data": {
      "text/plain": [
       "3"
      ]
     },
     "execution_count": 37,
     "metadata": {},
     "output_type": "execute_result"
    }
   ],
   "source": [
    "rand7()"
   ]
  },
  {
   "cell_type": "code",
   "execution_count": 38,
   "metadata": {},
   "outputs": [
    {
     "name": "stdout",
     "output_type": "stream",
     "text": [
      "7\n",
      "5\n",
      "1\n",
      "7\n",
      "4\n",
      "2\n",
      "3\n",
      "3\n",
      "6\n",
      "5\n"
     ]
    }
   ],
   "source": [
    "# shows rand7() being called multiple times over\n",
    "for i in range(10):\n",
    "    print(rand7())"
   ]
  },
  {
   "attachments": {},
   "cell_type": "markdown",
   "metadata": {},
   "source": [
    "---\n",
    "## Solution Explained"
   ]
  },
  {
   "attachments": {},
   "cell_type": "markdown",
   "metadata": {},
   "source": [
    "### rand7() solution\n",
    "This code implements the `rand7()` function in Python, which generates a random integer between 1 and 7 inclusive, using the `rand5()` function that generates a random integer between 1 and 5 inclusive.\n",
    "\n",
    "The `rand7()` function first generates two random integers between 1 and 5 inclusive using `rand5()`. It then uses these two integers to generate a random integer between 0 and 24 inclusive by multiplying the first integer by 5 and adding the second integer. This generates a uniform distribution of integers between 0 and 24.\n",
    "\n",
    "Next, the function discards any generated integers that are greater than or equal to 21, since these integers cannot be mapped uniformly to integers between 1 and 7 inclusive. This step ensures that the remaining integers (0 to 20) are uniformly distributed between 1 and 7 inclusive.\n",
    "\n",
    "Finally, the function uses modular arithmetic to map the remaining integers (0 to 20) to integers between 1 and 7 inclusive. Specifically, it takes the remainder after dividing the integer by 7, and then adds 1 to ensure that the resulting integer is between 1 and 7 inclusive.\n",
    "\n",
    "Overall, this implementation should generate random integers between 1 and 7 inclusive with a relatively uniform probability distribution, although it is worth noting that there is a small chance of the function getting stuck in the `while` loop if `rand5()` generates values that repeatedly exceed the limit of 21."
   ]
  }
 ],
 "metadata": {
  "kernelspec": {
   "display_name": "Python 3",
   "language": "python",
   "name": "python3"
  },
  "language_info": {
   "codemirror_mode": {
    "name": "ipython",
    "version": 3
   },
   "file_extension": ".py",
   "mimetype": "text/x-python",
   "name": "python",
   "nbconvert_exporter": "python",
   "pygments_lexer": "ipython3",
   "version": "3.9.12"
  },
  "orig_nbformat": 4,
  "vscode": {
   "interpreter": {
    "hash": "1616faeca1eb2b6217e80a7d062cec32587d2e1ba3999185fe005a5f436d1f1f"
   }
  }
 },
 "nbformat": 4,
 "nbformat_minor": 2
}
