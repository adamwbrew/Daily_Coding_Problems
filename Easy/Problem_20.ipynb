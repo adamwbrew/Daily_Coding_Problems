{
 "cells": [
  {
   "attachments": {},
   "cell_type": "markdown",
   "metadata": {},
   "source": [
    "# Problem 20\n",
    "You are given an M by N matrix consisting of booleans that represents a board. Each True boolean represents a wall. Each False boolean represents a tile you can walk on.\n",
    "\n",
    "Given this matrix, a start coordinate, and an end coordinate, return the minimum number of steps required to reach the end coordinate from the start. If there is no possible path, then return null. You can move up, left, down, and right. You cannot move through walls. You cannot wrap around the edges of the board.\n",
    "\n",
    "For example, given the following board:\n",
    "\n",
    "```\n",
    "[[f, f, f, f],\n",
    "[t, t, f, t],\n",
    "[f, f, f, f],\n",
    "[f, f, f, f]]\n",
    "```\n",
    "and `start = (3, 0)` (bottom left) and `end = (0, 0)` (top left), the minimum number of steps required to reach the end is 7, since we would need to go through `(1, 2)` because there is a wall everywhere else on the second row."
   ]
  },
  {
   "attachments": {},
   "cell_type": "markdown",
   "metadata": {},
   "source": [
    "---\n",
    "## Test Cases"
   ]
  },
  {
   "cell_type": "code",
   "execution_count": 290,
   "metadata": {},
   "outputs": [],
   "source": [
    "# test cases\n",
    "test_1 = [['f', 'f', 'f', 'f'],\n",
    "          ['t', 't', 'f', 't'],\n",
    "          ['f', 'f', 'f', 'f'],\n",
    "          ['f', 'f', 'f', 'f']]\n",
    "\n",
    "test_2 = [['f', 'f', 'f', 'f'],\n",
    "          ['t', 't', 't', 't'],\n",
    "          ['f', 'f', 'f', 'f'],\n",
    "          ['f', 'f', 'f', 'f']]\n",
    "\n",
    "test_3 = [['f', 'f', 'f', 'f'],\n",
    "          ['t', 'f', 'f', 't'],\n",
    "          ['t', 't', 'f', 'f'],\n",
    "          ['f', 't', 'f', 'f']]\n",
    "\n",
    "test_4 = [['f', 'f', 'f', 'f'],\n",
    "          ['t', 't', 'f', 't'],\n",
    "          ['f', 'f', 'f', 'f'],\n",
    "          ['f', 'f', 'f', 'f'],\n",
    "          ['f', 'f', 'f', 'f'],\n",
    "          ['t', 't', 'f', 't'],\n",
    "          ['f', 'f', 'f', 'f'],\n",
    "          ['f', 'f', 'f', 'f']]\n",
    "\n",
    "test_5 = [['f', 'f', 'f', 'f', 'f', 'f', 't'],\n",
    "          ['t', 't', 't', 'f', 'f', 't', 'f'],\n",
    "          ['t', 'f', 'f', 'f', 't', 'f', 'f'],\n",
    "          ['f', 'f', 't', 't', 'f', 't', 'f'],\n",
    "          ['f', 't', 'f', 't', 'f', 'f', 'f'],\n",
    "          ['f', 't', 'f', 'f', 't', 'f', 't'],\n",
    "          ['f', 't', 't', 'f', 't', 'f', 'f'],\n",
    "          ['f', 'f', 'f', 'f', 'f', 'f', 'f']]\n",
    "\n",
    "def test_to_matrix(test):\n",
    "    matrix = []\n",
    "    for l in test:\n",
    "        mini = []\n",
    "        for e in l:\n",
    "            if(e == \"f\"): mini.append(False)\n",
    "            else: mini.append(True)\n",
    "        matrix.append(mini)\n",
    "    return matrix\n",
    "\n",
    "test_1 = test_to_matrix(test_1)\n",
    "test_2 = test_to_matrix(test_2)\n",
    "test_3 = test_to_matrix(test_3)\n",
    "test_4 = test_to_matrix(test_4)\n",
    "test_5 = test_to_matrix(test_5)"
   ]
  },
  {
   "attachments": {},
   "cell_type": "markdown",
   "metadata": {},
   "source": [
    "---\n",
    "## Solution"
   ]
  },
  {
   "cell_type": "code",
   "execution_count": 291,
   "metadata": {},
   "outputs": [],
   "source": [
    "# solution code\n",
    "import math\n",
    "\n",
    "def wall_check(matrix):\n",
    "    horizantal_walls = []\n",
    "    vertical_walls = []\n",
    "    # Check rows\n",
    "    for row in matrix:\n",
    "        if all(x == True for x in row):\n",
    "            horizantal_walls.append(matrix.index(row))\n",
    "    # Check columns\n",
    "    for i in range(len(matrix[0])):\n",
    "        if all(matrix[j][i] == True for j in range(len(matrix))):\n",
    "            vertical_walls.append(i)\n",
    "    return [horizantal_walls, vertical_walls]\n",
    "\n",
    "\n",
    "def movement_check(matrix, position):\n",
    "    # surroundings = above, below, left, right\n",
    "    surroundings = {(position[0]-1, position[1]), (position[0]+1, position[1]), (position[0], position[1]-1), (position[0], position[1]+1)}\n",
    "    remove_set = set()\n",
    "    for tile in surroundings:\n",
    "        if tile[0] < 0 or tile[1] < 0 or tile[0] >= len(matrix) or tile[1] >= len(matrix[0]) or matrix[tile[0]][tile[1]]:\n",
    "            remove_set.add(tile)\n",
    "    surroundings -= remove_set\n",
    "    return list(surroundings)\n",
    "\n",
    "\n",
    "def closest_to_endpoint(surroundings, endpoint, previous_points, matrix, exile_points = []):\n",
    "    distances = []\n",
    "    for tile in surroundings:\n",
    "        if(tile not in exile_points):\n",
    "            edist = math.dist([tile[0], tile[1]],[endpoint[0], endpoint[1]])\n",
    "            distances.append([tile, edist])\n",
    "    distances.sort(key = lambda x : x[1])\n",
    "    result = None\n",
    "    for tile in distances:\n",
    "        if(tile[0] not in previous_points):\n",
    "            result = tile[0]\n",
    "            break\n",
    "    if(result == None):\n",
    "        exile_points = [previous_points[-1]]\n",
    "        previous_points = previous_points[:-1]\n",
    "        result, previous_points, exile_points = closest_to_endpoint(movement_check(matrix, previous_points[-1]), endpoint, previous_points, matrix, exile_points = exile_points)\n",
    "    return result, previous_points, exile_points    \n",
    "\n",
    "\n",
    "def min_steps(matrix, start, end):\n",
    "    null_output = \"No path found.\"\n",
    "    if(matrix[end[0]][end[1]] == True or matrix[start[0]][start[1]] == True): return null_output\n",
    "    movement_positions = movement_check(matrix, start)\n",
    "    # edge case where no movement for starting position is possible\n",
    "    if(movement_positions == []): return null_output\n",
    "\n",
    "    # edge cases where start and end position blocked by wall\n",
    "    walls = wall_check(matrix)\n",
    "    for h in walls[0]:\n",
    "        if(start[0] < h <end[0] or start[0] > h > end[0]):\n",
    "            return null_output\n",
    "    for v in walls[1]:\n",
    "        if(start[1] < v < end[1] or start[1] > v > end[1]):\n",
    "            return null_output\n",
    "\n",
    "    # find path from start to end\n",
    "    position = start\n",
    "    previously_visited = [position]\n",
    "    exiles =[]\n",
    "    while(position != end):\n",
    "        if(previously_visited[-1] == None):\n",
    "            return null_output\n",
    "        movement_positions = movement_check(matrix, position)\n",
    "        \n",
    "        # find next position based on surroundings closest euclidean distance to end point\n",
    "        position, previously_visited, exiles  = closest_to_endpoint(movement_positions, end, previously_visited, matrix, exile_points = exiles)\n",
    "        previously_visited.append(position)\n",
    "\n",
    "    # uncomment to veiw path\n",
    "    # print(previously_visited)\n",
    "    \n",
    "    return len(previously_visited) - 1\n"
   ]
  },
  {
   "attachments": {},
   "cell_type": "markdown",
   "metadata": {},
   "source": [
    "---\n",
    "## Test Solution"
   ]
  },
  {
   "cell_type": "code",
   "execution_count": 292,
   "metadata": {},
   "outputs": [
    {
     "data": {
      "text/plain": [
       "7"
      ]
     },
     "execution_count": 292,
     "metadata": {},
     "output_type": "execute_result"
    }
   ],
   "source": [
    "# solution testing test cases\n",
    "start = (3, 0)\n",
    "end = (0, 0)\n",
    "min_steps(test_1, start, end)"
   ]
  },
  {
   "cell_type": "code",
   "execution_count": 293,
   "metadata": {},
   "outputs": [
    {
     "data": {
      "text/plain": [
       "'No path found.'"
      ]
     },
     "execution_count": 293,
     "metadata": {},
     "output_type": "execute_result"
    }
   ],
   "source": [
    "start = (3, 0)\n",
    "end = (0, 0)\n",
    "min_steps(test_2, start, end)"
   ]
  },
  {
   "cell_type": "code",
   "execution_count": 294,
   "metadata": {},
   "outputs": [
    {
     "data": {
      "text/plain": [
       "'No path found.'"
      ]
     },
     "execution_count": 294,
     "metadata": {},
     "output_type": "execute_result"
    }
   ],
   "source": [
    "start = (3, 0)\n",
    "end = (0, 0)\n",
    "min_steps(test_3, start, end)"
   ]
  },
  {
   "cell_type": "code",
   "execution_count": 295,
   "metadata": {},
   "outputs": [
    {
     "data": {
      "text/plain": [
       "10"
      ]
     },
     "execution_count": 295,
     "metadata": {},
     "output_type": "execute_result"
    }
   ],
   "source": [
    "start = (6, 0)\n",
    "end = (0, 0)\n",
    "min_steps(test_4, start, end)"
   ]
  },
  {
   "cell_type": "code",
   "execution_count": 296,
   "metadata": {},
   "outputs": [
    {
     "data": {
      "text/plain": [
       "24"
      ]
     },
     "execution_count": 296,
     "metadata": {},
     "output_type": "execute_result"
    }
   ],
   "source": [
    "start = (0, 5)\n",
    "end = (1, 6)\n",
    "min_steps(test_5, start, end)"
   ]
  },
  {
   "attachments": {},
   "cell_type": "markdown",
   "metadata": {},
   "source": [
    "---\n",
    "## Solution Explained"
   ]
  },
  {
   "attachments": {},
   "cell_type": "markdown",
   "metadata": {},
   "source": [
    "### Solution\n",
    "This code provides a solution to a problem where you are given a boolean matrix (2D list) representing a board with walls and empty spaces. Given a start and an end coordinate, the function returns the minimum number of steps required to reach the end from the start, while avoiding the walls.\n",
    "\n",
    "#### **wall_check(matrix)** <br>\n",
    "This function takes in the board matrix and returns two lists: `horizantal_walls` and `vertical_walls` representing the indexes of all rows and columns that have all `True` values (walls). The function starts by iterating over each row of the matrix, using the `all()` function to check if all the values in the row are `True`. If this is the case, the function appends the index of the row to `horizantal_walls`. The same process is then repeated for each column to generate `vertical_walls`. The two lists are returned in a list.\n",
    "\n",
    "The time complexity of this function is O(nm), where n is the number of rows and m is the number of columns in the matrix. The space complexity is O(n + m), as two lists are returned of length n and m.\n",
    "\n",
    "\n",
    "#### **movement_check(matrix, position)**\n",
    "This function takes in the board matrix and a coordinate `position` and returns a list of surrounding empty spaces (tiles) that can be reached from the current position. The function creates a set of all surrounding coordinates, then iterates over each coordinate to determine if it falls outside the bounds of the board or if it is a wall (True value in the matrix). Any coordinates outside the board or on a wall are removed from the set of surroundings. The function then returns the remaining surrounding tiles in list format.\n",
    "\n",
    "The time complexity of this function is O(1), since it only checks the surrounding coordinates (four maximum) of the given position, and the loop that checks for walls or boundaries has a constant number of iterations. The space complexity is O(1), since the function only creates and modifies a set and a list.\n",
    "\n",
    "\n",
    "#### **closest_to_endpoint(surroundings, endpoint, previous_points, matrix, exile_points = [])**\n",
    "This function takes in the list of surrounding empty spaces, an endpoint coordinate, a list of previously visited coordinates `previous_points`, the board matrix, and an optional list of `exile_points` representing previously visited coordinates to avoid. The function calculates the Euclidean distance from each surrounding tile to the endpoint and stores these distances and their corresponding tiles in a list, which is sorted in ascending order based on the distances. The function then iterates over the sorted list, selecting the first tile that has not been previously visited. If such a tile exists, it is returned along with the updated `previous_points` and `exile_points`. If no such tile exists, the last tile in `previous_points` is added to `exile_points`, and the function is recursively called with the list of empty tiles from the current position, the endpoint, the list of previous points, and the updated `exile_points`. If this recursive call also returns no valid next tile, the function returns `None` along with the `previous_points` and `exile_points`.\n",
    "\n",
    "The time complexity of this function is O(n log n), where n is the number of surrounding empty spaces. The math.dist() function used to calculate the Euclidean distances has a time complexity of O(n), where n is the length of the input iterable (2 in this case). The sort() function has a time complexity of O(n log n), where n is the length of the input list. The space complexity is O(n), as the function creates a list of length n to store the Euclidean distances and tile coordinates.\n",
    "\n",
    "#### **min_steps(matrix, start, end)**\n",
    "This function takes a matrix as input, which represents a grid, as well as the starting position and the end position in the grid, and returns the minimum number of steps required to move from the starting position to the end position, if a path exists.\n",
    "\n",
    "The function starts by performing checks to ensure that the end position and starting position are not blocked by a wall. If either of these positions is blocked by a wall, then the function returns \"No path found.\".\n",
    "\n",
    "If there is no wall blocking the start and end position, the function checks if there is a possible movement from the starting position by calling the `movement_check()` function, which returns the available movements that can be made from a given position. If there is no possible movement, the function returns \"No path found.\".\n",
    "\n",
    "If there is at least one possible movement, the function proceeds to find the path from the start position to the end position. The `closest_to_endpoint()` function is called to find the next position to move to. The `closest_to_endpoint()` function takes the available movements and returns the next position to move to that is closest to the endpoint. If the next position returned is already in the `previously_visited` list, it will find the next closest position. If there is no other position that can be visited, the function removes the last visited position from the `previously_visited` list, and adds it to the `exile_points` list, and then calls `closest_to_endpoint()` again with the new parameters.\n",
    "\n",
    "The while loop continues until the current position is the endpoint. Once the loop ends, the function returns the length of the `previously_visited` list minus one, as the length of the `previously_visited` list is equal to the number of steps taken to reach the endpoint.\n",
    "\n",
    "The time complexity of the `wall_check()` function is O(nm), where n is the number of rows and m is the number of columns of the matrix, as it needs to iterate over each row and each column to check if there are any walls in those locations.\n",
    "\n",
    "The time complexity of the `movement_check()` function is O(1), as it only needs to check the surrounding tiles.\n",
    "\n",
    "The time complexity of the `closest_to_endpoint()` function is O(n^2), where n is the number of available movements, as it needs to calculate the distance between each movement and the endpoint.\n",
    "\n",
    "The time complexity of the `min_steps()` function is O(n^3), as it calls `closest_to_endpoint()` in a while loop, and each call to `closest_to_endpoint()` has a time complexity of O(n^2). The space complexity of the function is O(n), where n is the length of the `previously_visited` list. This is because the function only stores the previously visited positions and the `exile_points` list, which can grow up to the size of the `previously_visited` list, depending on how many times the function needs to remove the last visited position from the `previously_visited` list."
   ]
  }
 ],
 "metadata": {
  "kernelspec": {
   "display_name": "Python 3",
   "language": "python",
   "name": "python3"
  },
  "language_info": {
   "codemirror_mode": {
    "name": "ipython",
    "version": 3
   },
   "file_extension": ".py",
   "mimetype": "text/x-python",
   "name": "python",
   "nbconvert_exporter": "python",
   "pygments_lexer": "ipython3",
   "version": "3.9.12"
  },
  "orig_nbformat": 4,
  "vscode": {
   "interpreter": {
    "hash": "1616faeca1eb2b6217e80a7d062cec32587d2e1ba3999185fe005a5f436d1f1f"
   }
  }
 },
 "nbformat": 4,
 "nbformat_minor": 2
}
