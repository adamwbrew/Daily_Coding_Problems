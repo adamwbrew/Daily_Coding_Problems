{
 "cells": [
  {
   "attachments": {},
   "cell_type": "markdown",
   "metadata": {},
   "source": [
    "# Problem 67\n",
    "Given a list of possibly overlapping intervals, return a new list of intervals where all overlapping intervals have been merged.\n",
    "\n",
    "The input list is not necessarily ordered in any way.\n",
    "\n",
    "For example, given `[(1, 3), (5, 8), (4, 10), (20, 25)]`, you should return `[(1, 3), (4, 10), (20, 25)]`."
   ]
  },
  {
   "attachments": {},
   "cell_type": "markdown",
   "metadata": {},
   "source": [
    "---\n",
    "## Solution"
   ]
  },
  {
   "cell_type": "code",
   "execution_count": 120,
   "metadata": {},
   "outputs": [],
   "source": [
    "# solution code\n",
    "\n",
    "def nonoverlapping_intervals_maker(intervals):\n",
    "\n",
    "    # error removal\n",
    "    if(intervals == []): return None\n",
    "    \n",
    "    # sort intervals by starting time\n",
    "    intervals.sort(key = lambda x : x[0])\n",
    "\n",
    "    # set first interval based on previous sort\n",
    "    new_intervals = [list(intervals[0])]\n",
    "    for i in range(0, len(intervals)):\n",
    "\n",
    "        # check for intervals captured inside other intervals\n",
    "        if(new_intervals[-1][1] > intervals[i][0] and new_intervals[-1][1] > intervals[i][1]): \n",
    "            continue\n",
    "\n",
    "        # check if current interval needs to merge - intervals must be at least 1 unit apart\n",
    "        if(new_intervals[-1][1] >= intervals[i][0]):\n",
    "            new_intervals[-1][1] = intervals[i][1]\n",
    "\n",
    "        # create new interval\n",
    "        else:\n",
    "            new_intervals.append(list(intervals[i]))\n",
    "\n",
    "        # format new intervals based on desired output\n",
    "    new_intervals = [tuple(i) for i in new_intervals]\n",
    "    \n",
    "    return new_intervals"
   ]
  },
  {
   "attachments": {},
   "cell_type": "markdown",
   "metadata": {},
   "source": [
    "---\n",
    "## Test Cases"
   ]
  },
  {
   "cell_type": "code",
   "execution_count": 116,
   "metadata": {},
   "outputs": [
    {
     "data": {
      "text/plain": [
       "[(1, 3), (4, 10), (20, 25)]"
      ]
     },
     "execution_count": 116,
     "metadata": {},
     "output_type": "execute_result"
    }
   ],
   "source": [
    "# solution testing test cases\n",
    "\n",
    "test_1 = [(1, 3), (5, 8), (4, 10), (20, 25)]\n",
    "nonoverlapping_intervals_maker(test_1)"
   ]
  },
  {
   "cell_type": "code",
   "execution_count": 117,
   "metadata": {},
   "outputs": [
    {
     "data": {
      "text/plain": [
       "[(1, 12)]"
      ]
     },
     "execution_count": 117,
     "metadata": {},
     "output_type": "execute_result"
    }
   ],
   "source": [
    "test_2 = [(1, 3), (1,2),(3,6), (6, 12)]\n",
    "nonoverlapping_intervals_maker(test_2)"
   ]
  },
  {
   "cell_type": "code",
   "execution_count": 118,
   "metadata": {},
   "outputs": [],
   "source": [
    "test_3 = []\n",
    "nonoverlapping_intervals_maker(test_3)"
   ]
  },
  {
   "cell_type": "code",
   "execution_count": 119,
   "metadata": {},
   "outputs": [
    {
     "data": {
      "text/plain": [
       "[(1, 3), (4, 6), (7, 14), (15, 30)]"
      ]
     },
     "execution_count": 119,
     "metadata": {},
     "output_type": "execute_result"
    }
   ],
   "source": [
    "test_4 = [(1, 3), (1,2),(4,6), (7, 12), (11, 14), (9, 10), (15, 20), (20, 30)]\n",
    "nonoverlapping_intervals_maker(test_4)"
   ]
  },
  {
   "attachments": {},
   "cell_type": "markdown",
   "metadata": {},
   "source": [
    "---\n",
    "## Solution Explained"
   ]
  },
  {
   "attachments": {},
   "cell_type": "markdown",
   "metadata": {},
   "source": [
    "### nonoverlapping_intervals_maker(intervals) solution\n",
    "This function `nonoverlapping_intervals_maker` that takes a list of intervals and returns a new list of intervals where all overlapping intervals have been merged.\n",
    "\n",
    "The first step in the function is to handle the case where the input list is empty by returning `None`.\n",
    "\n",
    "Next, the input list is sorted by the starting time of each interval using a lambda function as the key. This allows for intervals to be processed in order from left to right.\n",
    "\n",
    "A new list called `new_intervals` is created with the first interval from the sorted input list. The loop then iterates over each interval in the sorted list.\n",
    "\n",
    "If an interval is captured inside another interval (i.e., its starting and ending times are both less than the corresponding times for the current interval in `new_intervals`), the loop skips the current interval and moves on to the next one.\n",
    "\n",
    "If the current interval overlaps with the last interval in `new_intervals`, but is not contained within it, the two intervals are merged by updating the ending time of the last interval in `new_intervals` to be the ending time of the current interval.\n",
    "\n",
    "If the current interval does not overlap with the last interval in `new_intervals`, a new interval is created and added to `new_intervals`.\n",
    "\n",
    "Finally, the resulting list of intervals is converted to tuples for compatibility with the desired output format, and the new list is returned.\n",
    "\n",
    "Overall, this code effectively merges overlapping intervals and returns the desired output format for a given list of intervals."
   ]
  }
 ],
 "metadata": {
  "kernelspec": {
   "display_name": "Python 3",
   "language": "python",
   "name": "python3"
  },
  "language_info": {
   "codemirror_mode": {
    "name": "ipython",
    "version": 3
   },
   "file_extension": ".py",
   "mimetype": "text/x-python",
   "name": "python",
   "nbconvert_exporter": "python",
   "pygments_lexer": "ipython3",
   "version": "3.9.7"
  },
  "orig_nbformat": 4,
  "vscode": {
   "interpreter": {
    "hash": "1616faeca1eb2b6217e80a7d062cec32587d2e1ba3999185fe005a5f436d1f1f"
   }
  }
 },
 "nbformat": 4,
 "nbformat_minor": 2
}
