{
 "cells": [
  {
   "attachments": {},
   "cell_type": "markdown",
   "metadata": {},
   "source": [
    "# Problem 25\n",
    "Run-length encoding is a fast and simple method of encoding strings. The basic idea is to represent repeated successive characters as a single count and character. For example, the string `\"AAAABBBCCDAA\"` would be encoded as `\"4A3B2C1D2A\"`.\n",
    "\n",
    "Implement run-length encoding and decoding. You can assume the string to be encoded have no digits and consists solely of alphabetic characters. You can assume the string to be decoded is valid."
   ]
  },
  {
   "attachments": {},
   "cell_type": "markdown",
   "metadata": {},
   "source": [
    "---\n",
    "## Solution"
   ]
  },
  {
   "cell_type": "code",
   "execution_count": 25,
   "metadata": {},
   "outputs": [],
   "source": [
    "# solution code\n",
    "\n",
    "def encode(string):\n",
    "    # set up list of list to track and capture value changes\n",
    "    temp = ''; collection = []\n",
    "    for s in string:\n",
    "        if(temp != s):\n",
    "            temp = s\n",
    "            collection.append([1, s])\n",
    "        else:\n",
    "            collection[-1][0] += 1\n",
    "    # Create encoded string\n",
    "    result_string = ''.join([str(l[0]) + l[1] for l in collection])\n",
    "    return result_string "
   ]
  },
  {
   "attachments": {},
   "cell_type": "markdown",
   "metadata": {},
   "source": [
    "---\n",
    "## Test Cases"
   ]
  },
  {
   "cell_type": "code",
   "execution_count": 26,
   "metadata": {},
   "outputs": [
    {
     "name": "stdout",
     "output_type": "stream",
     "text": [
      "Code: AAAABBBCCDAA | Encoding: 4A3B2C1D2A\n",
      "\n",
      "Code: AAADDDEERFGTHHHGGGBBGGNGNHFDDDDDDDDDDDDDDHHHDDDDDDDDDDD | Encoding: 3A3D2E1R1F1G1T3H3G2B2G1N1G1N1H1F14D3H11D\n",
      "\n",
      "Code: A | Encoding: 1A\n"
     ]
    }
   ],
   "source": [
    "# solution testing test cases\n",
    "test_1 = \"AAAABBBCCDAA\"\n",
    "print(f\"Code: {test_1} | Encoding: {encode(test_1)}\")\n",
    "\n",
    "print()\n",
    "\n",
    "test_2 = \"AAADDDEERFGTHHHGGGBBGGNGNHFDDDDDDDDDDDDDDHHHDDDDDDDDDDD\"\n",
    "print(f\"Code: {test_2} | Encoding: {encode(test_2)}\")\n",
    "\n",
    "print()\n",
    "\n",
    "test_3 = \"A\"\n",
    "print(f\"Code: {test_3} | Encoding: {encode(test_3)}\")"
   ]
  },
  {
   "attachments": {},
   "cell_type": "markdown",
   "metadata": {},
   "source": [
    "---\n",
    "## Solution Explained"
   ]
  },
  {
   "attachments": {},
   "cell_type": "markdown",
   "metadata": {},
   "source": [
    "### function solution\n",
    "The code is implementing a run-length encoding algorithm, which takes an input string and returns a compressed version of it by replacing repeated characters with a count of the number of consecutive occurrences and the character itself.\n",
    "\n",
    "The function starts by initializing a temporary variable `temp` to an empty string and an empty list `collection`. It then loops through the characters in the input string. For each character, it checks if it is different from the previous character `(temp != s)`. If it is, it adds a new sublist to `collection` containing the count of the number of consecutive occurrences of the current character (which is initially set to 1) and the current character itself. If it is not, it increments the count in the last sublist in `collection`.\n",
    "\n",
    "After the loop completes, the function uses a list comprehension to create the encoded string. It loops through the sublists in `collection`, converts the count to a string, concatenates it with the character, and appends the resulting string to a new list. This list is then joined into a single string using the `join()` method, and returned as the output of the function.\n",
    "\n",
    "The time complexity of the algorithm is also O(n), where n is the length of the input string, since the function loops through the string once to build the list of lists and then again to build the encoded string. The space complexity of the algorithm is O(k), where k is the number of character separated substrings in the input string, which could be less than n in some cases."
   ]
  }
 ],
 "metadata": {
  "kernelspec": {
   "display_name": "Python 3",
   "language": "python",
   "name": "python3"
  },
  "language_info": {
   "codemirror_mode": {
    "name": "ipython",
    "version": 3
   },
   "file_extension": ".py",
   "mimetype": "text/x-python",
   "name": "python",
   "nbconvert_exporter": "python",
   "pygments_lexer": "ipython3",
   "version": "3.9.12"
  },
  "orig_nbformat": 4,
  "vscode": {
   "interpreter": {
    "hash": "1616faeca1eb2b6217e80a7d062cec32587d2e1ba3999185fe005a5f436d1f1f"
   }
  }
 },
 "nbformat": 4,
 "nbformat_minor": 2
}
