{
 "cells": [
  {
   "attachments": {},
   "cell_type": "markdown",
   "metadata": {},
   "source": [
    "# Problem 42\n",
    "Given a array of numbers representing the stock prices of a company in chronological order, write a function that calculates the maximum profit you could have made from buying and selling that stock once. You must buy before you can sell it.\n",
    "\n",
    "For example, given `[9, 11, 8, 5, 7, 10]`, you should return `5`, since you could buy the stock at 5 dollars and sell it at 10 dollars."
   ]
  },
  {
   "attachments": {},
   "cell_type": "markdown",
   "metadata": {},
   "source": [
    "---\n",
    "## Solution"
   ]
  },
  {
   "cell_type": "code",
   "execution_count": 21,
   "metadata": {},
   "outputs": [],
   "source": [
    "# solution code\n",
    "def max_sell_out(stock):\n",
    "    if(stock == []): return None\n",
    "    buy_to_sell = None\n",
    "    for i in range(len(stock)-1):\n",
    "        max_sell = max(stock[i+1:])\n",
    "        buy = stock[i]\n",
    "        if(buy_to_sell == None):\n",
    "            buy_to_sell = [buy, max_sell]\n",
    "        elif((buy_to_sell[1] - buy_to_sell[0]) < (max_sell - buy)):\n",
    "            buy_to_sell = [buy, max_sell]\n",
    "    return buy_to_sell[1] - buy_to_sell[0]"
   ]
  },
  {
   "attachments": {},
   "cell_type": "markdown",
   "metadata": {},
   "source": [
    "---\n",
    "## Test Cases"
   ]
  },
  {
   "cell_type": "code",
   "execution_count": 22,
   "metadata": {},
   "outputs": [
    {
     "data": {
      "text/plain": [
       "5"
      ]
     },
     "execution_count": 22,
     "metadata": {},
     "output_type": "execute_result"
    }
   ],
   "source": [
    "# solution testing test cases\n",
    "test_1 = [9, 11, 8, 5, 7, 10]\n",
    "max_sell_out(test_1)"
   ]
  },
  {
   "cell_type": "code",
   "execution_count": 23,
   "metadata": {},
   "outputs": [],
   "source": [
    "test_2 = []\n",
    "max_sell_out(test_2)"
   ]
  },
  {
   "cell_type": "code",
   "execution_count": 24,
   "metadata": {},
   "outputs": [
    {
     "data": {
      "text/plain": [
       "12"
      ]
     },
     "execution_count": 24,
     "metadata": {},
     "output_type": "execute_result"
    }
   ],
   "source": [
    "test_3 = [6, 9, 3, 5, 10, 4, 0, 5, 3, 9, 12, 10, 7, 6, 8]\n",
    "max_sell_out(test_3)"
   ]
  },
  {
   "attachments": {},
   "cell_type": "markdown",
   "metadata": {},
   "source": [
    "---\n",
    "## Solution Explained"
   ]
  },
  {
   "attachments": {},
   "cell_type": "markdown",
   "metadata": {},
   "source": [
    "### max_sell_out(stock) solution\n",
    "This code takes an array of `stock` prices as input and returns the maximum profit that can be made by buying and selling the `stock` once. It iterates through the array and for each day, it calculates the maximum sell price for the rest of the days and compares it with the current buy price. If the difference between the maximum sell price and the current buy price is greater than the current maximum profit, it updates the buy-to-sell pair.\n",
    "\n",
    "The time complexity of this code is O(n^2), where n is the length of the input array. The nested loop iterates through the array and calculates the maximum sell price for the rest of the days, which takes O(n) time. Therefore, the overall time complexity is O(n^2).\n",
    "\n",
    "The space complexity of this code is O(1) because it only stores a few variables to keep track of the buy-to-sell pair and the maximum profit. Therefore, the space usage is constant regardless of the input size."
   ]
  }
 ],
 "metadata": {
  "kernelspec": {
   "display_name": "Python 3",
   "language": "python",
   "name": "python3"
  },
  "language_info": {
   "codemirror_mode": {
    "name": "ipython",
    "version": 3
   },
   "file_extension": ".py",
   "mimetype": "text/x-python",
   "name": "python",
   "nbconvert_exporter": "python",
   "pygments_lexer": "ipython3",
   "version": "3.9.12"
  },
  "orig_nbformat": 4,
  "vscode": {
   "interpreter": {
    "hash": "1616faeca1eb2b6217e80a7d062cec32587d2e1ba3999185fe005a5f436d1f1f"
   }
  }
 },
 "nbformat": 4,
 "nbformat_minor": 2
}
