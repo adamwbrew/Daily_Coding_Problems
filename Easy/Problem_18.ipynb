{
 "cells": [
  {
   "attachments": {},
   "cell_type": "markdown",
   "metadata": {},
   "source": [
    "# Problem 18\n",
    "Given an array of time intervals (start, end) for classroom lectures (possibly overlapping), find the minimum number of rooms required.\n",
    "\n",
    "For example, given `[(30, 75), (0, 50), (60, 150)]`, you should return `2`."
   ]
  },
  {
   "attachments": {},
   "cell_type": "markdown",
   "metadata": {},
   "source": [
    "---\n",
    "## Test Cases"
   ]
  },
  {
   "cell_type": "code",
   "execution_count": 1,
   "metadata": {},
   "outputs": [],
   "source": [
    "# test cases\n",
    "\n",
    "test_1 = [(30, 75), (0, 50), (60, 150)]\n",
    "# answer = 2\n",
    "\n",
    "test_2 = [(30, 75), (1, 50), (45, 150), (1,0), (2,46), (1,4)]\n",
    "# answer = 4\n",
    "\n",
    "test_3 = []\n",
    "# answer = 0\n",
    "\n",
    "test_4 = [(1,60), (1,60), (30, 60), (61, 90), (61, 90), (91, 120), (91, 210), (60, 210), (80, 180), (100, 300)]\n",
    "# answer = 5\n",
    "\n",
    "test_5 = [(1,60), (-1,60)]\n",
    "# answer = 'Negative time found for one of the classes.'"
   ]
  },
  {
   "attachments": {},
   "cell_type": "markdown",
   "metadata": {},
   "source": [
    "---\n",
    "## Solution"
   ]
  },
  {
   "cell_type": "code",
   "execution_count": 2,
   "metadata": {},
   "outputs": [],
   "source": [
    "# solution code\n",
    "\n",
    "def Needed_Classrooms(class_times):\n",
    "    if(len(class_times) == 0 or class_times == None): return 0\n",
    "    if(min([min(time[0], time[1]) for time in class_times]) < 0): return \"Negative time found for one of the classes.\"\n",
    "    if(len(class_times) == 1): return 1\n",
    "    # make sure class times are inputed in proper order: sorts class time such that (150, 60) -> (60, 150)\n",
    "    class_times = list(map(sorted, class_times))\n",
    "    # sort the classes by starting time\n",
    "    class_times = sorted(class_times, key=lambda x: x[0])\n",
    "    classrooms = [class_times[0]]\n",
    "    # loop through classes\n",
    "    for time in range(1, len(class_times)):\n",
    "        add_class = 0\n",
    "        # loop through classrooms previously used\n",
    "        for class_ in range(len(classrooms)):\n",
    "            \n",
    "            # one class has ended and another class can use the classroom\n",
    "            if(class_times[time][0] > classrooms[class_][1]):\n",
    "                classrooms[class_] = class_times[time]\n",
    "                break\n",
    "            \n",
    "            # check if most recent class is available         \n",
    "            if(class_times[time][0] <= classrooms[class_][1]):\n",
    "                add_class += 1\n",
    "\n",
    "        # if no classes available, add classroom\n",
    "        if(add_class == len(classrooms)):\n",
    "            classrooms.append(class_times[time])\n",
    "\n",
    "    return len(classrooms)"
   ]
  },
  {
   "attachments": {},
   "cell_type": "markdown",
   "metadata": {},
   "source": [
    "---\n",
    "## Test Solution"
   ]
  },
  {
   "cell_type": "code",
   "execution_count": 3,
   "metadata": {},
   "outputs": [
    {
     "data": {
      "text/plain": [
       "2"
      ]
     },
     "execution_count": 3,
     "metadata": {},
     "output_type": "execute_result"
    }
   ],
   "source": [
    "# solution testing test cases\n",
    "test_1 = [(30, 75), (0, 50), (60, 150)]\n",
    "Needed_Classrooms(test_1)"
   ]
  },
  {
   "cell_type": "code",
   "execution_count": 4,
   "metadata": {},
   "outputs": [
    {
     "data": {
      "text/plain": [
       "4"
      ]
     },
     "execution_count": 4,
     "metadata": {},
     "output_type": "execute_result"
    }
   ],
   "source": [
    "test_2 = [(30, 75), (1, 50), (45, 150), (1,0), (2,46), (1,4)]\n",
    "Needed_Classrooms(test_2)"
   ]
  },
  {
   "cell_type": "code",
   "execution_count": 5,
   "metadata": {},
   "outputs": [
    {
     "data": {
      "text/plain": [
       "0"
      ]
     },
     "execution_count": 5,
     "metadata": {},
     "output_type": "execute_result"
    }
   ],
   "source": [
    "test_3 = []\n",
    "Needed_Classrooms(test_3)"
   ]
  },
  {
   "cell_type": "code",
   "execution_count": 6,
   "metadata": {},
   "outputs": [
    {
     "data": {
      "text/plain": [
       "5"
      ]
     },
     "execution_count": 6,
     "metadata": {},
     "output_type": "execute_result"
    }
   ],
   "source": [
    "test_4 = [(1,60), (1,60), (30, 60), (61, 90), (61, 90), (91, 120), (91, 210), (60, 210), (80, 180), (100, 300)]\n",
    "Needed_Classrooms(test_4)"
   ]
  },
  {
   "cell_type": "code",
   "execution_count": 7,
   "metadata": {},
   "outputs": [
    {
     "data": {
      "text/plain": [
       "'Negative time found for one of the classes.'"
      ]
     },
     "execution_count": 7,
     "metadata": {},
     "output_type": "execute_result"
    }
   ],
   "source": [
    "test_5 = [(1,60), (-1,60)]\n",
    "Needed_Classrooms(test_5)"
   ]
  },
  {
   "attachments": {},
   "cell_type": "markdown",
   "metadata": {},
   "source": [
    "---\n",
    "## Solution Explained"
   ]
  },
  {
   "attachments": {},
   "cell_type": "markdown",
   "metadata": {},
   "source": [
    "### Needed_Classrooms(class_times) solution\n",
    "The `Needed_Classrooms` function takes in a list `class_times` that contains tuples representing the start and end times of each class. The function calculates the minimum number of classrooms needed to schedule all the classes without any overlaps.\n",
    "\n",
    "First, the function checks for any edge cases. If `class_times` is empty or `None`, the function returns 0. If any of the start or end times of the classes are negative, the function returns an error message \"Negative time found for one of the classes.\"\n",
    "\n",
    "Next, the function sorts the list of class times in ascending order by their start times, and then by their end times if there are any start time ties. The `sorted` function is used in combination with `map` and `lambda` to sort each tuple within the list.\n",
    "\n",
    "Then, the function initializes a list `classrooms` with the first class in `class_times`. It loops through the remaining classes, checking if each class can be scheduled in one of the previously used classrooms without overlapping with other classes. If a classroom is found to be available, the start and end times of the classroom are updated with the current class time. Otherwise, a new classroom is added to the list of `classrooms`.\n",
    "\n",
    "Finally, the function returns the length of the list `classrooms`, which represents the minimum number of classrooms needed to schedule all the classes without overlaps.\n",
    "\n",
    "The time complexity of this function is O(n^2) in the worst case, where `n` is the length of `class_times`. This is due to the nested for loop that iterates through all previous classrooms for each new class. However, in the best case where there are no overlaps, the time complexity is O(nlogn) due to the sorting of the `class_times` list.\n",
    "\n",
    "The space complexity of the function is O(n), as the list of `classrooms` can contain up to `n` elements."
   ]
  }
 ],
 "metadata": {
  "kernelspec": {
   "display_name": "Python 3",
   "language": "python",
   "name": "python3"
  },
  "language_info": {
   "codemirror_mode": {
    "name": "ipython",
    "version": 3
   },
   "file_extension": ".py",
   "mimetype": "text/x-python",
   "name": "python",
   "nbconvert_exporter": "python",
   "pygments_lexer": "ipython3",
   "version": "3.9.12"
  },
  "orig_nbformat": 4,
  "vscode": {
   "interpreter": {
    "hash": "1616faeca1eb2b6217e80a7d062cec32587d2e1ba3999185fe005a5f436d1f1f"
   }
  }
 },
 "nbformat": 4,
 "nbformat_minor": 2
}
