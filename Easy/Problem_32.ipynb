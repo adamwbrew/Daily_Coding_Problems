{
 "cells": [
  {
   "attachments": {},
   "cell_type": "markdown",
   "metadata": {},
   "source": [
    "# Problem 32\n",
    "The power set of a set is the set of all its subsets. Write a function that, given a set, generates its power set.\n",
    "\n",
    "For example, given the set `{1, 2, 3}`, it should return `{{}, {1}, {2}, {3}, {1, 2}, {1, 3}, {2, 3}, {1, 2, 3}}`.\n",
    "\n",
    "You may also use a list or array to represent a set."
   ]
  },
  {
   "attachments": {},
   "cell_type": "markdown",
   "metadata": {},
   "source": [
    "---\n",
    "## Solution"
   ]
  },
  {
   "cell_type": "code",
   "execution_count": 116,
   "metadata": {},
   "outputs": [],
   "source": [
    "# solution code\n",
    "from itertools import combinations\n",
    "\n",
    "def power_set(initial_set):\n",
    "    reduced_set = str(initial_set).replace(\",\", \"\").replace(\" \", \"\").replace(\"{\", \"\").replace(\"}\", \"\")\n",
    "    power_set = [[]]\n",
    "    for level in range(1, len(reduced_set) + 1):\n",
    "        power_set += [list(l) for l in combinations(reduced_set, level)]\n",
    "    power_set = set(map(frozenset, power_set))\n",
    "    return power_set"
   ]
  },
  {
   "attachments": {},
   "cell_type": "markdown",
   "metadata": {},
   "source": [
    "---\n",
    "## Test Cases"
   ]
  },
  {
   "cell_type": "code",
   "execution_count": 117,
   "metadata": {},
   "outputs": [
    {
     "data": {
      "text/plain": [
       "{frozenset(),\n",
       " frozenset({'1'}),\n",
       " frozenset({'3'}),\n",
       " frozenset({'2'}),\n",
       " frozenset({'1', '2'}),\n",
       " frozenset({'2', '3'}),\n",
       " frozenset({'1', '3'}),\n",
       " frozenset({'1', '2', '3'})}"
      ]
     },
     "execution_count": 117,
     "metadata": {},
     "output_type": "execute_result"
    }
   ],
   "source": [
    "# solution testing test cases\n",
    "test_1 = {1,2,3}\n",
    "power_set(test_1)"
   ]
  },
  {
   "cell_type": "code",
   "execution_count": 118,
   "metadata": {},
   "outputs": [
    {
     "data": {
      "text/plain": [
       "{frozenset()}"
      ]
     },
     "execution_count": 118,
     "metadata": {},
     "output_type": "execute_result"
    }
   ],
   "source": [
    "test_2 = {}\n",
    "power_set(test_2)"
   ]
  },
  {
   "cell_type": "code",
   "execution_count": 119,
   "metadata": {},
   "outputs": [
    {
     "data": {
      "text/plain": [
       "{frozenset(),\n",
       " frozenset({'1'}),\n",
       " frozenset({'3'}),\n",
       " frozenset({'4'}),\n",
       " frozenset({'3', '4'}),\n",
       " frozenset({'1', '3'}),\n",
       " frozenset({'1', '3', '4'}),\n",
       " frozenset({'2'}),\n",
       " frozenset({'1', '2'}),\n",
       " frozenset({'2', '3'}),\n",
       " frozenset({'1', '2', '3'}),\n",
       " frozenset({'2', '4'}),\n",
       " frozenset({'1', '4'}),\n",
       " frozenset({'1', '2', '4'}),\n",
       " frozenset({'2', '3', '4'}),\n",
       " frozenset({'1', '2', '3', '4'})}"
      ]
     },
     "execution_count": 119,
     "metadata": {},
     "output_type": "execute_result"
    }
   ],
   "source": [
    "test_3 = {1,2,3,4}\n",
    "power_set(test_3)"
   ]
  },
  {
   "attachments": {},
   "cell_type": "markdown",
   "metadata": {},
   "source": [
    "---\n",
    "## Solution Explained"
   ]
  },
  {
   "attachments": {},
   "cell_type": "markdown",
   "metadata": {},
   "source": [
    "### power_set(initial_set) solution\n",
    "function solution explained"
   ]
  }
 ],
 "metadata": {
  "kernelspec": {
   "display_name": "Python 3",
   "language": "python",
   "name": "python3"
  },
  "language_info": {
   "codemirror_mode": {
    "name": "ipython",
    "version": 3
   },
   "file_extension": ".py",
   "mimetype": "text/x-python",
   "name": "python",
   "nbconvert_exporter": "python",
   "pygments_lexer": "ipython3",
   "version": "3.9.12"
  },
  "orig_nbformat": 4,
  "vscode": {
   "interpreter": {
    "hash": "1616faeca1eb2b6217e80a7d062cec32587d2e1ba3999185fe005a5f436d1f1f"
   }
  }
 },
 "nbformat": 4,
 "nbformat_minor": 2
}
