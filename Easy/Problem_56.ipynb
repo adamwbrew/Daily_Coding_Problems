{
 "cells": [
  {
   "attachments": {},
   "cell_type": "markdown",
   "metadata": {},
   "source": [
    "# Problem 56\n",
    "Given a `N` by `M` matrix of numbers, print out the matrix in a clockwise spiral.\n",
    "\n",
    "For example, given the following matrix:\n",
    "```\n",
    "[[1,  2,  3,  4,  5],\n",
    " [6,  7,  8,  9,  10],\n",
    " [11, 12, 13, 14, 15],\n",
    " [16, 17, 18, 19, 20]]\n",
    " ```\n",
    "You should print out the following:\n",
    "```\n",
    "1\n",
    "2\n",
    "3\n",
    "4\n",
    "5\n",
    "10\n",
    "15\n",
    "20\n",
    "19\n",
    "18\n",
    "17\n",
    "16\n",
    "11\n",
    "6\n",
    "7\n",
    "8\n",
    "9\n",
    "14\n",
    "13\n",
    "12\n",
    "```"
   ]
  },
  {
   "attachments": {},
   "cell_type": "markdown",
   "metadata": {},
   "source": [
    "---\n",
    "## Solution"
   ]
  },
  {
   "cell_type": "code",
   "execution_count": 119,
   "metadata": {},
   "outputs": [],
   "source": [
    "# solution code\n",
    "import numpy as np\n",
    "\n",
    "def NxM_Matrix(N, M):\n",
    "    matrix = []\n",
    "    count = 1\n",
    "    for j in range(M):\n",
    "        row = []\n",
    "        for i in range(N):\n",
    "            row.append(count)\n",
    "            count+=1\n",
    "        matrix.append(row)\n",
    "    return matrix\n",
    "\n",
    "def spriral_print(matrix):\n",
    "    spiraling = True\n",
    "    left = 0\n",
    "    right = len(matrix[0])-1\n",
    "    top = 0\n",
    "    bottom = len(matrix)-1\n",
    "\n",
    "    while(spiraling):\n",
    "    \n",
    "        # print top row\n",
    "        for i in range(left, right+1):\n",
    "            print(matrix[top][i])\n",
    "        top += 1\n",
    "        \n",
    "        # print right column\n",
    "        for i in range(top, bottom+1):\n",
    "            print(matrix[i][right])\n",
    "        right -= 1\n",
    "        \n",
    "        # print bottom row\n",
    "        for i in range(right, left-1, -1):\n",
    "            print(matrix[bottom][i])\n",
    "        bottom -= 1\n",
    "        \n",
    "        # print left column\n",
    "        for i in range(bottom, top-1, -1):\n",
    "            print(matrix[i][left])\n",
    "        left += 1\n",
    "        \n",
    "        # check if all elements have been printed\n",
    "        if left > right or top > bottom:\n",
    "            spiraling = False\n",
    "\n"
   ]
  },
  {
   "attachments": {},
   "cell_type": "markdown",
   "metadata": {},
   "source": [
    "---\n",
    "## Test Cases"
   ]
  },
  {
   "cell_type": "code",
   "execution_count": 120,
   "metadata": {},
   "outputs": [
    {
     "name": "stdout",
     "output_type": "stream",
     "text": [
      "[[ 1  2  3  4  5]\n",
      " [ 6  7  8  9 10]\n",
      " [11 12 13 14 15]\n",
      " [16 17 18 19 20]] \n",
      "\n",
      "1\n",
      "2\n",
      "3\n",
      "4\n",
      "5\n",
      "10\n",
      "15\n",
      "20\n",
      "19\n",
      "18\n",
      "17\n",
      "16\n",
      "11\n",
      "6\n",
      "7\n",
      "8\n",
      "9\n",
      "14\n",
      "13\n",
      "12\n"
     ]
    }
   ],
   "source": [
    "# solution testing test cases\n",
    "matrix = NxM_Matrix(5, 4)\n",
    "print(np.matrix(matrix), \"\\n\")\n",
    "spriral_print(matrix)"
   ]
  },
  {
   "cell_type": "code",
   "execution_count": 121,
   "metadata": {},
   "outputs": [
    {
     "name": "stdout",
     "output_type": "stream",
     "text": [
      "[[ 1  2  3  4]\n",
      " [ 5  6  7  8]\n",
      " [ 9 10 11 12]\n",
      " [13 14 15 16]\n",
      " [17 18 19 20]] \n",
      "\n",
      "1\n",
      "2\n",
      "3\n",
      "4\n",
      "8\n",
      "12\n",
      "16\n",
      "20\n",
      "19\n",
      "18\n",
      "17\n",
      "13\n",
      "9\n",
      "5\n",
      "6\n",
      "7\n",
      "11\n",
      "15\n",
      "14\n",
      "10\n"
     ]
    }
   ],
   "source": [
    "matrix = NxM_Matrix(4, 5)\n",
    "print(np.matrix(matrix), \"\\n\")\n",
    "spriral_print(matrix)"
   ]
  },
  {
   "cell_type": "code",
   "execution_count": 122,
   "metadata": {},
   "outputs": [
    {
     "name": "stdout",
     "output_type": "stream",
     "text": [
      "[[ 1  2  3  4  5  6]\n",
      " [ 7  8  9 10 11 12]\n",
      " [13 14 15 16 17 18]\n",
      " [19 20 21 22 23 24]\n",
      " [25 26 27 28 29 30]\n",
      " [31 32 33 34 35 36]] \n",
      "\n",
      "1\n",
      "2\n",
      "3\n",
      "4\n",
      "5\n",
      "6\n",
      "12\n",
      "18\n",
      "24\n",
      "30\n",
      "36\n",
      "35\n",
      "34\n",
      "33\n",
      "32\n",
      "31\n",
      "25\n",
      "19\n",
      "13\n",
      "7\n",
      "8\n",
      "9\n",
      "10\n",
      "11\n",
      "17\n",
      "23\n",
      "29\n",
      "28\n",
      "27\n",
      "26\n",
      "20\n",
      "14\n",
      "15\n",
      "16\n",
      "22\n",
      "21\n"
     ]
    }
   ],
   "source": [
    "matrix = NxM_Matrix(6, 6)\n",
    "print(np.matrix(matrix), \"\\n\")\n",
    "spriral_print(matrix)"
   ]
  },
  {
   "attachments": {},
   "cell_type": "markdown",
   "metadata": {},
   "source": [
    "---\n",
    "## Solution Explained"
   ]
  },
  {
   "attachments": {},
   "cell_type": "markdown",
   "metadata": {},
   "source": [
    "### `spriral_print(matrix)` solution\n",
    "This code implements a solution to the problem of printing out a given `N` by `M` matrix in a clockwise spiral order.\n",
    "\n",
    "The first function `NxM_Matrix` creates an `N` by `M` matrix with sequential numbers starting from 1. The function uses nested loops to create the `matrix` and returns it.\n",
    "\n",
    "The second function `spriral_print` implements the spiral printing algorithm. The function initializes variables `left`, `right`, `top`, and `bottom` to represent the boundaries of the `matrix`. The while loop executes until all elements have been printed. In each iteration of the loop, the function prints the top row, right column, bottom row, and left column of the `matrix` in that order, using for loops. The variables `left`, `right`, `top`, and `bottom` are updated after each iteration to exclude the printed rows and columns. The loop continues until `left` becomes greater than `right` or `top` becomes greater than `bottom`.\n",
    "\n",
    "The time complexity of this algorithm is O(NM), where `N` and `M` are the dimensions of the matrix. This is because the algorithm has to visit every element in the matrix once to print them. The space complexity of the algorithm is O(1), since it only uses a constant amount of extra memory to store the variables."
   ]
  }
 ],
 "metadata": {
  "kernelspec": {
   "display_name": "base",
   "language": "python",
   "name": "python3"
  },
  "language_info": {
   "codemirror_mode": {
    "name": "ipython",
    "version": 3
   },
   "file_extension": ".py",
   "mimetype": "text/x-python",
   "name": "python",
   "nbconvert_exporter": "python",
   "pygments_lexer": "ipython3",
   "version": "3.9.7 (default, Sep 16 2021, 08:50:36) \n[Clang 10.0.0 ]"
  },
  "orig_nbformat": 4,
  "vscode": {
   "interpreter": {
    "hash": "40d3a090f54c6569ab1632332b64b2c03c39dcf918b08424e98f38b5ae0af88f"
   }
  }
 },
 "nbformat": 4,
 "nbformat_minor": 2
}
