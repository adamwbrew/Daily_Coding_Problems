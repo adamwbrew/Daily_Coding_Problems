{
 "cells": [
  {
   "attachments": {},
   "cell_type": "markdown",
   "metadata": {},
   "source": [
    "# Problem 70\n",
    "Given the root of a binary tree, return a deepest node. For example, in the following tree, return `d`.\n",
    "\n",
    "```\n",
    "    a\n",
    "   / \\\n",
    "  b   c\n",
    " /\n",
    "d\n",
    "```"
   ]
  },
  {
   "attachments": {},
   "cell_type": "markdown",
   "metadata": {},
   "source": [
    "---\n",
    "## Solution"
   ]
  },
  {
   "cell_type": "code",
   "execution_count": 28,
   "metadata": {},
   "outputs": [],
   "source": [
    "class Node:\n",
    "    def __init__(self, data, left=None, right=None):\n",
    "        self.data = data\n",
    "        self.left = left\n",
    "        self.right = right\n",
    "\n",
    "def deepest_node_helper(node, depth, deepest_node_so_far):\n",
    "    if node is None:\n",
    "        return depth, deepest_node_so_far\n",
    "    if depth > deepest_node_so_far[0]:\n",
    "        deepest_node_so_far = (depth, node)\n",
    "    depth_left, deepest_node_left = deepest_node_helper(node.left, depth + 1, deepest_node_so_far)\n",
    "    depth_right, deepest_node_right = deepest_node_helper(node.right, depth + 1, deepest_node_so_far)\n",
    "    if depth_left > depth_right:\n",
    "        return depth_left, deepest_node_left\n",
    "    else:\n",
    "        return depth_right, list(deepest_node_right)\n",
    "\n",
    "def deepest_node(binary_tree):\n",
    "    if binary_tree is None:\n",
    "        return None\n",
    "    return list(deepest_node_helper(binary_tree, 1, (1, binary_tree)))[1][1].data"
   ]
  },
  {
   "attachments": {},
   "cell_type": "markdown",
   "metadata": {},
   "source": [
    "---\n",
    "## Test Cases"
   ]
  },
  {
   "cell_type": "code",
   "execution_count": 29,
   "metadata": {},
   "outputs": [
    {
     "data": {
      "text/plain": [
       "7"
      ]
     },
     "execution_count": 29,
     "metadata": {},
     "output_type": "execute_result"
    }
   ],
   "source": [
    "# solution testing test cases\n",
    "node_1 = Node(1)\n",
    "node_2 = Node(2)\n",
    "node_3 = Node(3)\n",
    "node_4 = Node(4)\n",
    "node_5 = Node(5)\n",
    "node_6 = Node(6)\n",
    "node_7 = Node(7)\n",
    "node_8 = Node(8)\n",
    "\n",
    "node_1.left = node_2\n",
    "node_1.right = node_3\n",
    "\n",
    "node_2.left = node_4\n",
    "node_2.right = node_5\n",
    "\n",
    "node_3.left = node_6\n",
    "node_3.right = node_7\n",
    "\n",
    "deepest_node(node_1)"
   ]
  },
  {
   "cell_type": "code",
   "execution_count": 30,
   "metadata": {},
   "outputs": [
    {
     "data": {
      "text/plain": [
       "6"
      ]
     },
     "execution_count": 30,
     "metadata": {},
     "output_type": "execute_result"
    }
   ],
   "source": [
    "node_1 = Node(1)\n",
    "node_2 = Node(2)\n",
    "node_3 = Node(3)\n",
    "node_4 = Node(4)\n",
    "node_5 = Node(5)\n",
    "node_6 = Node(6)\n",
    "node_7 = Node(7)\n",
    "node_8 = Node(8)\n",
    "\n",
    "node_1.left = node_2\n",
    "node_1.right = node_3\n",
    "\n",
    "node_2.left = node_4\n",
    "node_4.left = node_5\n",
    "node_5.left = node_6\n",
    "\n",
    "node_3.right = node_7\n",
    "\n",
    "deepest_node(node_1)"
   ]
  },
  {
   "cell_type": "code",
   "execution_count": 31,
   "metadata": {},
   "outputs": [
    {
     "data": {
      "text/plain": [
       "7"
      ]
     },
     "execution_count": 31,
     "metadata": {},
     "output_type": "execute_result"
    }
   ],
   "source": [
    "node_1 = Node(1)\n",
    "node_2 = Node(2)\n",
    "node_3 = Node(3)\n",
    "node_4 = Node(4)\n",
    "node_5 = Node(5)\n",
    "node_6 = Node(6)\n",
    "node_7 = Node(7)\n",
    "node_8 = Node(8)\n",
    "\n",
    "node_1.left = node_2\n",
    "node_1.right = node_3\n",
    "\n",
    "node_3.right = node_4\n",
    "\n",
    "node_4.left = node_5\n",
    "node_4.right = node_6\n",
    "\n",
    "node_6.right = node_7\n",
    "\n",
    "deepest_node(node_1)"
   ]
  },
  {
   "attachments": {},
   "cell_type": "markdown",
   "metadata": {},
   "source": [
    "---\n",
    "## Solution Explained"
   ]
  },
  {
   "attachments": {},
   "cell_type": "markdown",
   "metadata": {},
   "source": [
    "### `deepest_node(binary_tree)` solution\n",
    "This code defines a binary tree data structure using the Node class. Each `node` of the tree has a data attribute and two child attributes, `left` and `right`, which represent the left and right subtrees of the node.\n",
    "\n",
    "The `deepest_node_helper` function is a recursive function that takes a node, a depth, and a tuple representing the deepest node found so far. The function returns a tuple of the depth and the deepest node found so far. The function first checks if the node is `None`, in which case it returns the current depth and the deepest node found so far. Then, it checks if the current depth is greater than the depth of the deepest node found so far. If it is, then it updates the tuple to reflect the current node as the deepest node found so far. It then recursively calls itself with the left and right children of the current node, updating the depth and deepest node found so far accordingly. Finally, it returns the tuple of the deepest node found in the left and right subtrees.\n",
    "\n",
    "The `deepest_node` function is a wrapper function that takes a binary tree and calls the `deepest_node_helper` function with the root node of the tree, an initial depth of 1, and a tuple representing the deepest node found so far. It then returns the data attribute of the deepest node found.\n",
    "\n",
    "Overall, the code implements a recursive algorithm to traverse the binary tree and find the deepest node, returning its data attribute."
   ]
  }
 ],
 "metadata": {
  "kernelspec": {
   "display_name": "Python 3",
   "language": "python",
   "name": "python3"
  },
  "language_info": {
   "codemirror_mode": {
    "name": "ipython",
    "version": 3
   },
   "file_extension": ".py",
   "mimetype": "text/x-python",
   "name": "python",
   "nbconvert_exporter": "python",
   "pygments_lexer": "ipython3",
   "version": "3.9.7"
  },
  "orig_nbformat": 4,
  "vscode": {
   "interpreter": {
    "hash": "1616faeca1eb2b6217e80a7d062cec32587d2e1ba3999185fe005a5f436d1f1f"
   }
  }
 },
 "nbformat": 4,
 "nbformat_minor": 2
}
