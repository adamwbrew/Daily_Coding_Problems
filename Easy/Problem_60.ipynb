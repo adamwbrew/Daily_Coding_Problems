{
 "cells": [
  {
   "attachments": {},
   "cell_type": "markdown",
   "metadata": {},
   "source": [
    "# Problem 60\n",
    "Given a list of integers, return the largest product that can be made by multiplying any three integers.\n",
    "\n",
    "For example, if the list is `[-10, -10, 5, 2]`, we should return `500`, since that's `-10 * -10 * 5`.\n",
    "\n",
    "You can assume the list has at least three integers."
   ]
  },
  {
   "attachments": {},
   "cell_type": "markdown",
   "metadata": {},
   "source": [
    "---\n",
    "## Solution"
   ]
  },
  {
   "cell_type": "code",
   "execution_count": 13,
   "metadata": {},
   "outputs": [],
   "source": [
    "# solution code\n",
    "from itertools import combinations\n",
    "import math\n",
    "\n",
    "def max_trio_product(numbers):\n",
    "    trios = list(map(list,combinations(numbers, 3)))\n",
    "    product_trios = []\n",
    "    for trio in range(len(trios)):\n",
    "        product_trios.append([trio, math.prod(trios[trio])])\n",
    "    product_trios.sort(key = lambda x:x[1])\n",
    "    return product_trios[-1][1]\n"
   ]
  },
  {
   "attachments": {},
   "cell_type": "markdown",
   "metadata": {},
   "source": [
    "---\n",
    "## Test Cases"
   ]
  },
  {
   "cell_type": "code",
   "execution_count": 14,
   "metadata": {},
   "outputs": [
    {
     "data": {
      "text/plain": [
       "500"
      ]
     },
     "execution_count": 14,
     "metadata": {},
     "output_type": "execute_result"
    }
   ],
   "source": [
    "# solution testing test cases\n",
    "test_1 = [-10, -10, 5, 2]\n",
    "max_trio_product(test_1)"
   ]
  },
  {
   "cell_type": "code",
   "execution_count": 15,
   "metadata": {},
   "outputs": [
    {
     "data": {
      "text/plain": [
       "504"
      ]
     },
     "execution_count": 15,
     "metadata": {},
     "output_type": "execute_result"
    }
   ],
   "source": [
    "test_2 = [-1, 2, -3, 4, -5, 6, -7, 8, -9]\n",
    "max_trio_product(test_2)"
   ]
  },
  {
   "cell_type": "code",
   "execution_count": 20,
   "metadata": {},
   "outputs": [
    {
     "data": {
      "text/plain": [
       "100"
      ]
     },
     "execution_count": 20,
     "metadata": {},
     "output_type": "execute_result"
    }
   ],
   "source": [
    "test_2 = [-1, -2, -3, -4, -5, 1 , 2, 3, 4, 5]\n",
    "max_trio_product(test_2)"
   ]
  },
  {
   "attachments": {},
   "cell_type": "markdown",
   "metadata": {},
   "source": [
    "---\n",
    "## Solution Explained"
   ]
  },
  {
   "attachments": {},
   "cell_type": "markdown",
   "metadata": {},
   "source": [
    "### `max_trio_product(numbers)` solution\n",
    "This code defines a function called `max_trio_product` that takes a list of numbers as input and returns the product of the largest triplet of numbers that can be formed from the list.\n",
    "\n",
    "The `itertools` library is used to create all possible `combinations` of triplets from the input list. Then, the math library is used to calculate the product of each triplet.\n",
    "\n",
    "A list is created to store each triplet and its corresponding product as a sublist. The `sort` function is used to sort the list of products by ascending order based on the second item of each sublist (i.e., the product value). The largest product value is then returned by selecting the last element of the sorted list."
   ]
  }
 ],
 "metadata": {
  "kernelspec": {
   "display_name": "Python 3",
   "language": "python",
   "name": "python3"
  },
  "language_info": {
   "codemirror_mode": {
    "name": "ipython",
    "version": 3
   },
   "file_extension": ".py",
   "mimetype": "text/x-python",
   "name": "python",
   "nbconvert_exporter": "python",
   "pygments_lexer": "ipython3",
   "version": "3.9.7"
  },
  "orig_nbformat": 4,
  "vscode": {
   "interpreter": {
    "hash": "1616faeca1eb2b6217e80a7d062cec32587d2e1ba3999185fe005a5f436d1f1f"
   }
  }
 },
 "nbformat": 4,
 "nbformat_minor": 2
}
