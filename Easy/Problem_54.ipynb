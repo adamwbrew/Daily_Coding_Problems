{
 "cells": [
  {
   "attachments": {},
   "cell_type": "markdown",
   "metadata": {},
   "source": [
    "# Problem 54\n",
    "Given a 2D matrix of characters and a target word, write a function that returns whether the word can be found in the matrix by going left-to-right, or up-to-down.\n",
    "\n",
    "For example, given the following matrix:\n",
    "```\n",
    "[['F', 'A', 'C', 'I'],\n",
    " ['O', 'B', 'Q', 'P'],\n",
    " ['A', 'N', 'O', 'B'],\n",
    " ['M', 'A', 'S', 'S']]\n",
    " ```\n",
    "and the target word `'FOAM'`, you should return true, since it's the leftmost column. Similarly, given the target word `'MASS'`, you should return true, since it's the last row."
   ]
  },
  {
   "attachments": {},
   "cell_type": "markdown",
   "metadata": {},
   "source": [
    "---\n",
    "## Solution"
   ]
  },
  {
   "cell_type": "code",
   "execution_count": 22,
   "metadata": {},
   "outputs": [],
   "source": [
    "# solution code\n",
    "import numpy as np\n",
    "\n",
    "def word_finder(matrix, word):\n",
    "    words = []\n",
    "    for i in range(len(matrix)):\n",
    "        word_h = ''.join(matrix[i])\n",
    "        words.append(word_h)\n",
    "    if(word in words):\n",
    "        return True\n",
    "    transposed_matrix = np.matrix(matrix).transpose().tolist()\n",
    "    for i in range(len(transposed_matrix)):\n",
    "        word_h = ''.join(transposed_matrix[i])\n",
    "        words.append(word_h)\n",
    "    if(word in words):\n",
    "        return True\n",
    "    for w in words:\n",
    "        if(word in w):\n",
    "            return True\n",
    "    return False"
   ]
  },
  {
   "attachments": {},
   "cell_type": "markdown",
   "metadata": {},
   "source": [
    "---\n",
    "## Test Cases"
   ]
  },
  {
   "cell_type": "code",
   "execution_count": 23,
   "metadata": {},
   "outputs": [
    {
     "data": {
      "text/plain": [
       "True"
      ]
     },
     "execution_count": 23,
     "metadata": {},
     "output_type": "execute_result"
    }
   ],
   "source": [
    "# solution testing test cases\n",
    "matrix = [['F', 'A', 'C', 'I'],\n",
    "          ['O', 'B', 'Q', 'P'],\n",
    "          ['A', 'N', 'O', 'B'],\n",
    "          ['M', 'A', 'S', 'S']]\n",
    "\n",
    "word_finder(matrix, \"FOAM\")"
   ]
  },
  {
   "cell_type": "code",
   "execution_count": 24,
   "metadata": {},
   "outputs": [
    {
     "data": {
      "text/plain": [
       "True"
      ]
     },
     "execution_count": 24,
     "metadata": {},
     "output_type": "execute_result"
    }
   ],
   "source": [
    "matrix = [['F', 'A', 'C', 'I'],\n",
    "          ['O', 'B', 'Q', 'P'],\n",
    "          ['A', 'N', 'O', 'B'],\n",
    "          ['M', 'A', 'S', 'S']]\n",
    "\n",
    "word_finder(matrix, \"MASS\")"
   ]
  },
  {
   "cell_type": "code",
   "execution_count": 25,
   "metadata": {},
   "outputs": [
    {
     "data": {
      "text/plain": [
       "True"
      ]
     },
     "execution_count": 25,
     "metadata": {},
     "output_type": "execute_result"
    }
   ],
   "source": [
    "matrix = [['F', 'A', 'C', 'I'],\n",
    "          ['O', 'B', 'Q', 'P'],\n",
    "          ['A', 'N', 'O', 'B'],\n",
    "          ['M', 'A', 'S', 'S']]\n",
    "\n",
    "word_finder(matrix, \"NOB\")"
   ]
  },
  {
   "cell_type": "code",
   "execution_count": 26,
   "metadata": {},
   "outputs": [
    {
     "data": {
      "text/plain": [
       "False"
      ]
     },
     "execution_count": 26,
     "metadata": {},
     "output_type": "execute_result"
    }
   ],
   "source": [
    "matrix = [['F', 'A', 'C', 'I'],\n",
    "          ['O', 'B', 'Q', 'P'],\n",
    "          ['A', 'N', 'O', 'B'],\n",
    "          ['M', 'A', 'S', 'S']]\n",
    "\n",
    "word_finder(matrix, \"SAM\")"
   ]
  },
  {
   "attachments": {},
   "cell_type": "markdown",
   "metadata": {},
   "source": [
    "---\n",
    "## Solution Explained"
   ]
  },
  {
   "attachments": {},
   "cell_type": "markdown",
   "metadata": {},
   "source": [
    "### `word_finder(matrix, word)` solution\n",
    "The `word_finder` function takes a 2D matrix of characters and a target word, and returns whether the word can be found in the matrix by going left-to-right or up-to-down. The function first creates a list of all possible horizontal words by joining each row of the matrix. Then, it creates a transposed matrix using NumPy's `transpose` function and repeats the same process to get all possible vertical words. It then appends all these words to a list called `words`.\n",
    "\n",
    "The function then checks if the target word is in the `words` list. If so, it returns True, as the word can be found in the matrix. Otherwise, the function checks if the target word is a substring of any of the `words` in the words list. If so, it returns True, as the word can still be found in the matrix by going diagonally. If the target word is not found in any of the words, the function returns False.\n",
    "\n",
    "The function has a time complexity of O(n^2), where n is the length of the matrix, since it iterates through the matrix and transposed matrix twice to generate all possible words. The space complexity of the function is also O(n^2), since it creates a list of all possible words.\n",
    "\n",
    "Overall, the `word_finder` function provides a simple and efficient solution to the given problem by generating all possible words and checking if the target word is present in the list."
   ]
  }
 ],
 "metadata": {
  "kernelspec": {
   "display_name": "base",
   "language": "python",
   "name": "python3"
  },
  "language_info": {
   "codemirror_mode": {
    "name": "ipython",
    "version": 3
   },
   "file_extension": ".py",
   "mimetype": "text/x-python",
   "name": "python",
   "nbconvert_exporter": "python",
   "pygments_lexer": "ipython3",
   "version": "3.9.7"
  },
  "orig_nbformat": 4,
  "vscode": {
   "interpreter": {
    "hash": "40d3a090f54c6569ab1632332b64b2c03c39dcf918b08424e98f38b5ae0af88f"
   }
  }
 },
 "nbformat": 4,
 "nbformat_minor": 2
}
