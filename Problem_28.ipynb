{
 "cells": [
  {
   "attachments": {},
   "cell_type": "markdown",
   "metadata": {},
   "source": [
    "# Problem 28\n",
    "Compute the running median of a sequence of numbers. That is, given a stream of numbers, print out the median of the list so far on each new element.\n",
    "\n",
    "Recall that the median of an even-numbered list is the average of the two middle numbers.\n",
    "\n",
    "For example, given the sequence `[2, 1, 5, 7, 2, 0, 5]`, your algorithm should print out:\n",
    "\n",
    "```\n",
    "2\n",
    "1.5\n",
    "2\n",
    "3.5\n",
    "2\n",
    "2\n",
    "2\n",
    "```"
   ]
  },
  {
   "attachments": {},
   "cell_type": "markdown",
   "metadata": {},
   "source": [
    "---\n",
    "## Solution"
   ]
  },
  {
   "cell_type": "code",
   "execution_count": 45,
   "metadata": {},
   "outputs": [],
   "source": [
    "# solution code\n",
    "\n",
    "from statistics import median\n",
    "\n",
    "def running_median(numbers):\n",
    "    for i in range(0, len(numbers)+1):\n",
    "        if(i == 0): continue\n",
    "        median_ = float(median(numbers[:i]))\n",
    "        if(\".\" in str(median_) and str(median_)[-2:] == \".0\"):\n",
    "            print(int(median(numbers[:i])))\n",
    "        else:\n",
    "            print(median(numbers[:i]))"
   ]
  },
  {
   "attachments": {},
   "cell_type": "markdown",
   "metadata": {},
   "source": [
    "---\n",
    "## Test Cases"
   ]
  },
  {
   "cell_type": "code",
   "execution_count": 46,
   "metadata": {},
   "outputs": [
    {
     "name": "stdout",
     "output_type": "stream",
     "text": [
      "Test Case:  [2, 1, 5, 7, 2, 0, 5] \n",
      "\n",
      "2\n",
      "1.5\n",
      "2\n",
      "3.5\n",
      "2\n",
      "2\n",
      "2\n"
     ]
    }
   ],
   "source": [
    "# solution testing test cases\n",
    "\n",
    "test_1 = [2, 1, 5, 7, 2, 0, 5]\n",
    "print(\"Test Case: \", test_1, \"\\n\")\n",
    "running_median(test_1)"
   ]
  },
  {
   "cell_type": "code",
   "execution_count": 47,
   "metadata": {},
   "outputs": [
    {
     "name": "stdout",
     "output_type": "stream",
     "text": [
      "Test Case:  [359, -981, -423, 338, 376, -352, 447, -911, -674, -613] \n",
      "\n",
      "359\n",
      "-311\n",
      "-423\n",
      "-42.5\n",
      "338\n",
      "-7\n",
      "338\n",
      "-7\n",
      "-352\n",
      "-387.5\n"
     ]
    }
   ],
   "source": [
    "import random\n",
    "test_2 = [random.randrange(-1000,1000) for i in range(10)]\n",
    "print(\"Test Case: \", test_2, \"\\n\")\n",
    "running_median(test_2)"
   ]
  },
  {
   "cell_type": "code",
   "execution_count": 48,
   "metadata": {},
   "outputs": [
    {
     "name": "stdout",
     "output_type": "stream",
     "text": [
      "Test Case:  [0.887, 0.464, 0.309, 0.1, 0.096, 0.709, 0.118, 0.66, 0.137, 0.586] \n",
      "\n",
      "0.887\n",
      "0.6755\n",
      "0.464\n",
      "0.3865\n",
      "0.309\n",
      "0.3865\n",
      "0.309\n",
      "0.3865\n",
      "0.309\n",
      "0.3865\n"
     ]
    }
   ],
   "source": [
    "import random\n",
    "test_3 = [round(random.random(), 3) for i in range(10)]\n",
    "print(\"Test Case: \", test_3, \"\\n\")\n",
    "running_median(test_3)"
   ]
  },
  {
   "attachments": {},
   "cell_type": "markdown",
   "metadata": {},
   "source": [
    "---\n",
    "## Solution Explained"
   ]
  },
  {
   "attachments": {},
   "cell_type": "markdown",
   "metadata": {},
   "source": [
    "### running_median(numbers) solution\n",
    "The `running_median` function takes a list of numbers as input and computes the median of the list after each element is added to the list.\n",
    "\n",
    "The function uses a loop to iterate through the indices of the list from 1 to n, where n is the length of the list. For each index i, the function computes the median of the sub-list consisting of the first i elements using the `median` function from the `statistics` module.\n",
    "\n",
    "If the median is an integer, it is cast to an integer and printed using `int()`, otherwise it is printed as a float. The function continues to compute and print the medians of the sub-lists until the entire list has been processed.\n",
    "\n",
    "The time complexity of this implementation is O(n^2), where n is the length of the input list, due to the use of the `median` function inside the loop. This is because the `median` function has a time complexity of O(n log n) for sorting the list and finding the median. The `in` and `str` operations used to check if the median is an integer add additional O(n) time complexity, but these operations are negligible compared to the time complexity of the `median` function.\n",
    "\n",
    "The space complexity of this implementation is O(n), since it creates a new sub-list of up to n elements at each iteration of the loop, and the `median_` variable also stores a copy of the sub-list. The `range` and `i` variables used in the loop have a constant space complexity."
   ]
  }
 ],
 "metadata": {
  "kernelspec": {
   "display_name": "Python 3",
   "language": "python",
   "name": "python3"
  },
  "language_info": {
   "codemirror_mode": {
    "name": "ipython",
    "version": 3
   },
   "file_extension": ".py",
   "mimetype": "text/x-python",
   "name": "python",
   "nbconvert_exporter": "python",
   "pygments_lexer": "ipython3",
   "version": "3.9.12"
  },
  "orig_nbformat": 4,
  "vscode": {
   "interpreter": {
    "hash": "1616faeca1eb2b6217e80a7d062cec32587d2e1ba3999185fe005a5f436d1f1f"
   }
  }
 },
 "nbformat": 4,
 "nbformat_minor": 2
}
