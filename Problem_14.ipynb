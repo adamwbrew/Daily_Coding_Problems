{
 "cells": [
  {
   "attachments": {},
   "cell_type": "markdown",
   "metadata": {},
   "source": [
    "# Problem 14\n",
    "You run an e-commerce website and want to record the last `N` `order` ids in a log. Implement a data structure to accomplish this, with the following API:\n",
    "\n",
    "- `record(order_id)`: adds the order_id to the log\n",
    "- `get_last(i)`: gets the ith last element from the log. `i` is guaranteed to be smaller than or equal to `N`.\n",
    "\n",
    "You should be as efficient with time and space as possible."
   ]
  },
  {
   "attachments": {},
   "cell_type": "markdown",
   "metadata": {},
   "source": [
    "---\n",
    "## Test Cases"
   ]
  },
  {
   "cell_type": "code",
   "execution_count": 83,
   "metadata": {},
   "outputs": [],
   "source": [
    "# test cases\n",
    "\n",
    "# test 1\n",
    "# test_q_1 = Queue(3)\n",
    "# test_q_1.record(500)\n",
    "# test_q_1.record(1)\n",
    "# test_q_1.get_last(1)\n",
    "# should return ~ 1\n",
    "\n",
    "# test 2\n",
    "# test_q_2 = Queue(10)\n",
    "# for i in range(1, 20):\n",
    "#     test_q_2.record(i)\n",
    "# test_q_2.get_last(10)\n",
    "# should return ~ 10\n",
    "\n",
    "# test 3\n",
    "# test_q_3 = Queue(3)\n",
    "# test_q_3.record(1)\n",
    "# test_q_3.record(2)\n",
    "# test_q_3.record(3)\n",
    "# test_q_3.record(4)\n",
    "# test_q_3.get_last(4)\n",
    "# should return ~ '4 larger than the capacity of the data structure which is equal to 3.'"
   ]
  },
  {
   "attachments": {},
   "cell_type": "markdown",
   "metadata": {},
   "source": [
    "---\n",
    "## Solution"
   ]
  },
  {
   "cell_type": "code",
   "execution_count": 84,
   "metadata": {},
   "outputs": [],
   "source": [
    "# solution code\n",
    "\n",
    "class Queue:\n",
    "    def __init__(self, N):\n",
    "        self.log = [None] * N\n",
    "        self.N = N\n",
    "        self.head = 0\n",
    "        self.tail = 0\n",
    "        self.size = 0\n",
    "    \n",
    "    def record(self, order_id):\n",
    "        if(self.size < self.N):\n",
    "            self.size += 1\n",
    "        else:\n",
    "            self.head = (self.head + 1) % self.N\n",
    "        self.log[self.tail] = order_id\n",
    "        self.tail = (self.tail + 1) % self.N\n",
    "\n",
    "    def get_last(self, i):\n",
    "        if(i > self.N): \n",
    "            return f\"{i} larger than the capacity of the data structure which is equal to {self.N}.\"\n",
    "        else:\n",
    "            return self.log[(self.tail - i + self.N) % self.N]"
   ]
  },
  {
   "attachments": {},
   "cell_type": "markdown",
   "metadata": {},
   "source": [
    "---\n",
    "## Test Solution"
   ]
  },
  {
   "cell_type": "code",
   "execution_count": 85,
   "metadata": {},
   "outputs": [
    {
     "data": {
      "text/plain": [
       "1"
      ]
     },
     "execution_count": 85,
     "metadata": {},
     "output_type": "execute_result"
    }
   ],
   "source": [
    "# solution testing test cases\n",
    "\n",
    "# test 1\n",
    "test_q_1 = Queue(3)\n",
    "test_q_1.record(500)\n",
    "test_q_1.record(1)\n",
    "test_q_1.get_last(1)"
   ]
  },
  {
   "cell_type": "code",
   "execution_count": 86,
   "metadata": {},
   "outputs": [
    {
     "data": {
      "text/plain": [
       "10"
      ]
     },
     "execution_count": 86,
     "metadata": {},
     "output_type": "execute_result"
    }
   ],
   "source": [
    "# test 2\n",
    "test_q_2 = Queue(10)\n",
    "for i in range(1, 20):\n",
    "    test_q_2.record(i)\n",
    "test_q_2.get_last(10)"
   ]
  },
  {
   "cell_type": "code",
   "execution_count": 87,
   "metadata": {},
   "outputs": [
    {
     "data": {
      "text/plain": [
       "'4 larger than the capacity of the data structure which is equal to 3.'"
      ]
     },
     "execution_count": 87,
     "metadata": {},
     "output_type": "execute_result"
    }
   ],
   "source": [
    "# test 3\n",
    "test_q_3 = Queue(3)\n",
    "test_q_3.record(1)\n",
    "test_q_3.record(2)\n",
    "test_q_3.record(3)\n",
    "test_q_3.record(4)\n",
    "test_q_3.get_last(4)"
   ]
  },
  {
   "attachments": {},
   "cell_type": "markdown",
   "metadata": {},
   "source": [
    "---\n",
    "## Solution Explained"
   ]
  },
  {
   "attachments": {},
   "cell_type": "markdown",
   "metadata": {},
   "source": [
    "### Queue solution\n",
    "This solution implements a circular buffer or ring buffer data structure to store the last `N` order ids in a log for an e-commerce website. The class \"Queue\" is defined with the following methods:\n",
    "\n",
    "- `__init__(self, N)`: This is the constructor method for the class, which takes a single parameter `N`, which is the capacity of the log. The constructor initializes an array `log` of size `N` to store the order ids, two indices `head` and `tail` to keep track of the head and tail of the buffer, a variable `size` to keep track of the current size of the buffer and N as the capacity of the buffer.\n",
    "\n",
    "- `record(self, order_id)`: This method adds a new order id to the log. The method checks if the current size of the buffer is less than `N`, if it is, it increases the size of the buffer. If the size of the buffer is equal to `N`, the method increments the `head` index by 1 and sets the current order id at the `tail` of the buffer. It then increments the `tail` index by 1, using the modulo operator to keep the index within the bounds of the `log` array.\n",
    "\n",
    "- `get_last(self, i)`: This method returns the ith last element from the `log`. The method takes an integer `i` as a parameter and checks if it is greater than the capacity of the buffer. If it is, it returns a string with an error message saying that the requested item is larger than the capacity of the data structure. If it's not, the method returns the `log` element at the index `(tail - i + N) % N`. This is to ensure that even when the `head` and `tail` are pointing to the same index, it's possible to access the previous elements stored in the buffer.\n",
    "\n",
    "In conclusion, the code is an efficient solution for recording the last `N` order ids in a log with the API to add new order ids and retrieve the ith last element from the log, with efficient time and space usage."
   ]
  }
 ],
 "metadata": {
  "kernelspec": {
   "display_name": "Python 3",
   "language": "python",
   "name": "python3"
  },
  "language_info": {
   "codemirror_mode": {
    "name": "ipython",
    "version": 3
   },
   "file_extension": ".py",
   "mimetype": "text/x-python",
   "name": "python",
   "nbconvert_exporter": "python",
   "pygments_lexer": "ipython3",
   "version": "3.9.12"
  },
  "orig_nbformat": 4,
  "vscode": {
   "interpreter": {
    "hash": "1616faeca1eb2b6217e80a7d062cec32587d2e1ba3999185fe005a5f436d1f1f"
   }
  }
 },
 "nbformat": 4,
 "nbformat_minor": 2
}
