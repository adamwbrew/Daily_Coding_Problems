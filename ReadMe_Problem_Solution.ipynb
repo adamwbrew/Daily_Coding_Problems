{
 "cells": [
  {
   "attachments": {},
   "cell_type": "markdown",
   "metadata": {},
   "source": [
    "# Problem Example\n",
    "There's a staircase with N steps, and you can climb 1 or 2 steps at a time. Given N, write a function that returns the number of unique ways you can climb the staircase. The order of the steps matters.\n",
    "\n",
    "For example, if N is 4, then there are 5 unique ways:\n",
    "\n",
    "- 1, 1, 1, 1\n",
    "- 2, 1, 1\n",
    "- 1, 2, 1\n",
    "- 1, 1, 2\n",
    "- 2, 2\n",
    "\n",
    "What if, instead of being able to climb 1 or 2 steps at a time, you could climb any number from a set of positive integers X? For example, if X = {1, 3, 5}, you could climb 1, 3, or 5 steps at a time. Generalize your function to take in X."
   ]
  },
  {
   "attachments": {},
   "cell_type": "markdown",
   "metadata": {},
   "source": [
    "---\n",
    "## Test Cases"
   ]
  },
  {
   "cell_type": "code",
   "execution_count": 7,
   "metadata": {},
   "outputs": [],
   "source": [
    "# test cases\n",
    "\n",
    "Steps_1 = 4\n",
    "Climb_list_1 = [1, 2]\n",
    "\n",
    "Steps_2 = 5\n",
    "Climb_list_2 = [1, 2, 3]\n",
    "\n",
    "Steps_3 = 6\n",
    "Climb_list_3 = [1, 2, 3, 4]\n",
    "\n",
    "# edge test\n",
    "Steps_4 = 11\n",
    "Climb_list_4 = [3, 6, 7]"
   ]
  },
  {
   "attachments": {},
   "cell_type": "markdown",
   "metadata": {},
   "source": [
    "---\n",
    "## Solution"
   ]
  },
  {
   "cell_type": "code",
   "execution_count": 8,
   "metadata": {},
   "outputs": [],
   "source": [
    "# solution code\n",
    "\n",
    "import itertools\n",
    "\n",
    "def staircase_climber(N_Steps, Climb_list):\n",
    "    unique_combonations = 0\n",
    "    combonation_storage = []\n",
    "    Climb_list_reduced = [step for step in Climb_list if step <= N_Steps]\n",
    "    required_steps = [num for num in range(1, N_Steps+1)]\n",
    "\n",
    "    # checks if staircase is possible to climb with Climb_list given\n",
    "    if(set(Climb_list_reduced) <= set(required_steps)):\n",
    "        Climb_list_reduced += [0]\n",
    "\n",
    "        # find all possible combonations of Climb_list_reduced\n",
    "        combos = list(map(list, itertools.product(Climb_list_reduced, repeat = N_Steps)))\n",
    "        for combo in combos:\n",
    "\n",
    "            # remove zeros from combonations\n",
    "            combo = [number for number in combo if number != 0]\n",
    "            if(sum(combo) == N_Steps and combo not in combonation_storage):\n",
    "                combonation_storage.append(combo)\n",
    "\n",
    "        combonation_storage.sort(key=len)\n",
    "        unique_combonations = len(combonation_storage)\n",
    "    else:\n",
    "        unique_combonations = 0\n",
    "    return N_Steps, Climb_list, unique_combonations, combonation_storage\n",
    "\n",
    "\n",
    "# printing function to make results more legable for user\n",
    "def pretty_print(result_tuple):\n",
    "    steps_str = ''\n",
    "    if(len(result_tuple[1]) == 1):\n",
    "        steps_str += f\" {result_tuple[1][step]}\"\n",
    "    else:\n",
    "        for step in range(len(result_tuple[1])):\n",
    "            if(step == len(result_tuple[1]) - 1):  \n",
    "                steps_str += f\" or {result_tuple[1][step]}\"\n",
    "            else:\n",
    "                steps_str += f\" {result_tuple[1][step]},\"\n",
    "    combo_str = ''\n",
    "    for combo in range(len(result_tuple[3])):\n",
    "        if(combo == len(result_tuple[3])):\n",
    "            combo_str += f\"{combo+1}: {result_tuple[3][combo]}\"\n",
    "        else:\n",
    "            combo_str += f\"\\n{combo+1}: {result_tuple[3][combo]}\"\n",
    "    print(\"-\"*40)\n",
    "    print(f\"There are {result_tuple[0]} steps on a staircase.\")\n",
    "    print(f\"The climber can only take{steps_str} number of steps at a time.\\n\")\n",
    "    print(f\"There are {result_tuple[2]} unique step combonations.\")\n",
    "    if(combo_str != ''):\n",
    "        print(f\"The step combonations are:{combo_str} \")\n",
    "    print(\"-\"*40)\n"
   ]
  },
  {
   "cell_type": "code",
   "execution_count": 9,
   "metadata": {},
   "outputs": [
    {
     "name": "stdout",
     "output_type": "stream",
     "text": [
      "----------------------------------------\n",
      "There are 4 steps on a staircase.\n",
      "The climber can only take 1, or 2 number of steps at a time.\n",
      "\n",
      "There are 5 unique step combonations.\n",
      "The step combonations are:\n",
      "1: [2, 2]\n",
      "2: [1, 1, 2]\n",
      "3: [1, 2, 1]\n",
      "4: [2, 1, 1]\n",
      "5: [1, 1, 1, 1] \n",
      "----------------------------------------\n"
     ]
    }
   ],
   "source": [
    "# solution testing test cases\n",
    "\n",
    "pretty_print(staircase_climber(Steps_1, Climb_list_1))"
   ]
  },
  {
   "cell_type": "code",
   "execution_count": 10,
   "metadata": {},
   "outputs": [
    {
     "name": "stdout",
     "output_type": "stream",
     "text": [
      "----------------------------------------\n",
      "There are 5 steps on a staircase.\n",
      "The climber can only take 1, 2, or 3 number of steps at a time.\n",
      "\n",
      "There are 13 unique step combonations.\n",
      "The step combonations are:\n",
      "1: [2, 3]\n",
      "2: [3, 2]\n",
      "3: [1, 1, 3]\n",
      "4: [1, 2, 2]\n",
      "5: [1, 3, 1]\n",
      "6: [2, 1, 2]\n",
      "7: [2, 2, 1]\n",
      "8: [3, 1, 1]\n",
      "9: [1, 1, 1, 2]\n",
      "10: [1, 1, 2, 1]\n",
      "11: [1, 2, 1, 1]\n",
      "12: [2, 1, 1, 1]\n",
      "13: [1, 1, 1, 1, 1] \n",
      "----------------------------------------\n"
     ]
    }
   ],
   "source": [
    "pretty_print(staircase_climber(Steps_2, Climb_list_2))"
   ]
  },
  {
   "cell_type": "code",
   "execution_count": 11,
   "metadata": {},
   "outputs": [
    {
     "name": "stdout",
     "output_type": "stream",
     "text": [
      "----------------------------------------\n",
      "There are 6 steps on a staircase.\n",
      "The climber can only take 1, 2, 3, or 4 number of steps at a time.\n",
      "\n",
      "There are 29 unique step combonations.\n",
      "The step combonations are:\n",
      "1: [2, 4]\n",
      "2: [3, 3]\n",
      "3: [4, 2]\n",
      "4: [1, 1, 4]\n",
      "5: [1, 2, 3]\n",
      "6: [1, 3, 2]\n",
      "7: [1, 4, 1]\n",
      "8: [2, 1, 3]\n",
      "9: [2, 2, 2]\n",
      "10: [2, 3, 1]\n",
      "11: [3, 1, 2]\n",
      "12: [3, 2, 1]\n",
      "13: [4, 1, 1]\n",
      "14: [1, 1, 1, 3]\n",
      "15: [1, 1, 2, 2]\n",
      "16: [1, 1, 3, 1]\n",
      "17: [1, 2, 1, 2]\n",
      "18: [1, 2, 2, 1]\n",
      "19: [1, 3, 1, 1]\n",
      "20: [2, 1, 1, 2]\n",
      "21: [2, 1, 2, 1]\n",
      "22: [2, 2, 1, 1]\n",
      "23: [3, 1, 1, 1]\n",
      "24: [1, 1, 1, 1, 2]\n",
      "25: [1, 1, 1, 2, 1]\n",
      "26: [1, 1, 2, 1, 1]\n",
      "27: [1, 2, 1, 1, 1]\n",
      "28: [2, 1, 1, 1, 1]\n",
      "29: [1, 1, 1, 1, 1, 1] \n",
      "----------------------------------------\n"
     ]
    }
   ],
   "source": [
    "pretty_print(staircase_climber(Steps_3, Climb_list_3))"
   ]
  },
  {
   "cell_type": "code",
   "execution_count": 12,
   "metadata": {},
   "outputs": [
    {
     "name": "stdout",
     "output_type": "stream",
     "text": [
      "----------------------------------------\n",
      "There are 11 steps on a staircase.\n",
      "The climber can only take 3, 6, or 7 number of steps at a time.\n",
      "\n",
      "There are 0 unique step combonations.\n",
      "----------------------------------------\n"
     ]
    }
   ],
   "source": [
    "pretty_print(staircase_climber(Steps_4, Climb_list_4))"
   ]
  },
  {
   "attachments": {},
   "cell_type": "markdown",
   "metadata": {},
   "source": [
    "---\n",
    "## Solution Explained"
   ]
  },
  {
   "attachments": {},
   "cell_type": "markdown",
   "metadata": {},
   "source": [
    "### staircase_climber(N_Steps, Climb_list) solution\n",
    "This solution take the input of *N_steps* for the number of step in the staircase and *Climb_list* for the climbing options to go up the staircase. The function begins by initiating *unique combanations* to track the number of step combanations going up the staircase and *combonation_storage* to store all the found unqiue combanations. Then the function looks reduces the *Climb_list* by removing any climb increments that is bigger than the staircase as a climber should not be able to go up a 4 step staircase in one 5 step movement since the climb would step past the top step. The function also find the number of steps required to climb the stair case which is then compared to the *Climb_list_reduced* to see if all the step amount found fall into the required step list. If this consition is not true then no unqiue combonations are found (this is helpful for edge cases). If the condtion is true then the function begins to work out all possible combonations to go up the staircase. This begins by adding zero to *Climb_list_reduced* which is later removed from all combonations in order to fill in as a Null placement when creating combonations. The functions creates these combonations by using the *itertools* library and preforming *itertools.product()* on *Climb_list_reduced* on repeat based on *N_Steps* allowing all combonations of *N_Steps* in length be found and assigned to *combos*. Then the functuntion looks through each combonation, removes all zeros in the combonation, and then determines if the sum of the combo equals *N_Steps* and is not in *combonation_storage*. If so, the combonation is added to *combonation_storage*. Then the function sorts the *combonation_storage* by combonation length for output legibility, and returns *N_Steps*, *Climb_list*, *unique_combonations*, and *combonation_storage*. This is to allow the fuction *pretty_print()* to take in the needed arguments to print out a user friendly output of the probleem and solution in turn. "
   ]
  }
 ],
 "metadata": {
  "kernelspec": {
   "display_name": "Python 3",
   "language": "python",
   "name": "python3"
  },
  "language_info": {
   "codemirror_mode": {
    "name": "ipython",
    "version": 3
   },
   "file_extension": ".py",
   "mimetype": "text/x-python",
   "name": "python",
   "nbconvert_exporter": "python",
   "pygments_lexer": "ipython3",
   "version": "3.9.12"
  },
  "orig_nbformat": 4,
  "vscode": {
   "interpreter": {
    "hash": "1616faeca1eb2b6217e80a7d062cec32587d2e1ba3999185fe005a5f436d1f1f"
   }
  }
 },
 "nbformat": 4,
 "nbformat_minor": 2
}
