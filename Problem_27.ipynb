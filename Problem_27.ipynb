{
 "cells": [
  {
   "attachments": {},
   "cell_type": "markdown",
   "metadata": {},
   "source": [
    "# Problem 27\n",
    "The edit distance between two strings refers to the minimum number of character insertions, deletions, and substitutions required to change one string to the other. For example, the edit distance between `“kitten”` and `“sitting”` is three: substitute the `“k”` for `“s”`, substitute the `“e”` for `“i”`, and append a `“g”`.\n",
    "\n",
    "Given two strings, compute the edit distance between them."
   ]
  },
  {
   "attachments": {},
   "cell_type": "markdown",
   "metadata": {},
   "source": [
    "---\n",
    "## Solution"
   ]
  },
  {
   "cell_type": "code",
   "execution_count": 165,
   "metadata": {},
   "outputs": [],
   "source": [
    "# solution code\n",
    "\n",
    "def edit_distance(initial, goal):\n",
    "    # substring similarities\n",
    "    map_similarties = []\n",
    "    for s in range(len(initial)):\n",
    "        if(initial[s] in goal):\n",
    "            map_similarties.append([s, initial[s]])\n",
    "    substrings = []\n",
    "    previous = None\n",
    "    for l in map_similarties:\n",
    "        if(previous == None):\n",
    "            previous = l[0]\n",
    "            substrings.append([l[1], l[0], l[0]])\n",
    "\n",
    "        elif((previous + 1) == l[0]):\n",
    "            previous = l[0]\n",
    "            substrings[-1][0] += l[1]\n",
    "            substrings[-1][2] = l[0]\n",
    "\n",
    "        else:\n",
    "            previous = l[0]\n",
    "            substrings.append([l[1], l[0], l[0]])\n",
    "\n",
    "    # makes sure substrings have correct placement\n",
    "    for l in substrings:\n",
    "        for s in range(len(l), 0, -1):\n",
    "            if(l[0][:s] in goal):\n",
    "                break\n",
    "            else:\n",
    "                ind = substrings.index(l)\n",
    "                substrings[ind][2] -= 1\n",
    "                substrings[ind][0] = substrings[ind][0][:-1]\n",
    "\n",
    "    # looks for substrings still needed\n",
    "    current_word = '-' * len(goal)\n",
    "    for s in range(len(substrings)):\n",
    "        string = substrings[s][0]\n",
    "        ind = goal.index(string)\n",
    "        if(s == 0):\n",
    "            current_word = current_word[:ind] + string + current_word[ind + len(string):]\n",
    "        elif(substrings[s -1][1] < substrings[s][1] and substrings[s][1] > ind):\n",
    "            continue\n",
    "        else:\n",
    "            current_word = current_word[:ind] + string + current_word[ind + len(string):]\n",
    "    \n",
    "    # substitute/append letters\n",
    "    edit_distance = 0\n",
    "    for s in range(len(current_word)):\n",
    "        if(current_word[s] != '-'): continue\n",
    "        else:\n",
    "            letter_needed = goal[s]\n",
    "            current_word = current_word[:s] + letter_needed + current_word[s + 1:]\n",
    "            edit_distance += 1\n",
    "\n",
    "    return edit_distance + abs(len(initial) - len(goal))\n"
   ]
  },
  {
   "attachments": {},
   "cell_type": "markdown",
   "metadata": {},
   "source": [
    "---\n",
    "## Test Cases"
   ]
  },
  {
   "cell_type": "code",
   "execution_count": 166,
   "metadata": {},
   "outputs": [
    {
     "data": {
      "text/plain": [
       "3"
      ]
     },
     "execution_count": 166,
     "metadata": {},
     "output_type": "execute_result"
    }
   ],
   "source": [
    "# solution testing test cases\n",
    "edit_distance(\"kittens\", \"sitting\")"
   ]
  },
  {
   "cell_type": "code",
   "execution_count": 167,
   "metadata": {},
   "outputs": [
    {
     "data": {
      "text/plain": [
       "5"
      ]
     },
     "execution_count": 167,
     "metadata": {},
     "output_type": "execute_result"
    }
   ],
   "source": [
    "edit_distance(\"kittens\", \"sitg\")"
   ]
  },
  {
   "cell_type": "code",
   "execution_count": 168,
   "metadata": {},
   "outputs": [
    {
     "data": {
      "text/plain": [
       "13"
      ]
     },
     "execution_count": 168,
     "metadata": {},
     "output_type": "execute_result"
    }
   ],
   "source": [
    "edit_distance(\"kittens\", \"sittingsqual\")"
   ]
  },
  {
   "attachments": {},
   "cell_type": "markdown",
   "metadata": {},
   "source": [
    "---\n",
    "## Solution Explained"
   ]
  },
  {
   "attachments": {},
   "cell_type": "markdown",
   "metadata": {},
   "source": [
    "### function solution\n",
    "function solution explained"
   ]
  }
 ],
 "metadata": {
  "kernelspec": {
   "display_name": "Python 3",
   "language": "python",
   "name": "python3"
  },
  "language_info": {
   "codemirror_mode": {
    "name": "ipython",
    "version": 3
   },
   "file_extension": ".py",
   "mimetype": "text/x-python",
   "name": "python",
   "nbconvert_exporter": "python",
   "pygments_lexer": "ipython3",
   "version": "3.9.12"
  },
  "orig_nbformat": 4,
  "vscode": {
   "interpreter": {
    "hash": "1616faeca1eb2b6217e80a7d062cec32587d2e1ba3999185fe005a5f436d1f1f"
   }
  }
 },
 "nbformat": 4,
 "nbformat_minor": 2
}
