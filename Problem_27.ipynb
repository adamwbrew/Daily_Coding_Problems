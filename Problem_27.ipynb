{
 "cells": [
  {
   "attachments": {},
   "cell_type": "markdown",
   "metadata": {},
   "source": [
    "# Problem 27\n",
    "The edit distance between two strings refers to the minimum number of character insertions, deletions, and substitutions required to change one string to the other. For example, the edit distance between `“kitten”` and `“sitting”` is three: substitute the `“k”` for `“s”`, substitute the `“e”` for `“i”`, and append a `“g”`.\n",
    "\n",
    "Given two strings, compute the edit distance between them."
   ]
  },
  {
   "attachments": {},
   "cell_type": "markdown",
   "metadata": {},
   "source": [
    "---\n",
    "## Solution"
   ]
  },
  {
   "cell_type": "code",
   "execution_count": 97,
   "metadata": {},
   "outputs": [],
   "source": [
    "# solution code\n",
    "\n",
    "def edit_distance(initial, goal):\n",
    "    # substring similarities\n",
    "    common_chars = set(initial).intersection(set(goal))\n",
    "    map_similarities = [(i, c) for i, c in enumerate(initial) if c in common_chars]\n",
    "    substrings = []\n",
    "    previous = None\n",
    "    for l in map_similarities:\n",
    "        if(previous == None):\n",
    "            previous = l[0]\n",
    "            substrings.append([l[1], l[0], l[0]])\n",
    "\n",
    "        elif((previous + 1) == l[0]):\n",
    "            previous = l[0]\n",
    "            substrings[-1][0] += l[1]\n",
    "            substrings[-1][2] = l[0]\n",
    "\n",
    "        else:\n",
    "            previous = l[0]\n",
    "            substrings.append([l[1], l[0], l[0]])\n",
    "\n",
    "    # makes sure substrings have correct placement\n",
    "    for l in substrings:\n",
    "        for s in range(len(l)+1, 0, -1):\n",
    "            if(l[0][:s] in goal):\n",
    "                break\n",
    "            else:\n",
    "                ind = substrings.index(l)\n",
    "                substrings[ind][2] -= 1\n",
    "                substrings[ind][0] = substrings[ind][0][:-1]\n",
    "                \n",
    "    # checks if goal found in substrings\n",
    "    word_found = False\n",
    "    edit_distance = 0\n",
    "    sub_check = [l[0] for l in substrings]\n",
    "    for s in sub_check:\n",
    "        for i in range(len(s)+1,0,-1):\n",
    "            if(goal in s[:i]):\n",
    "                word_found = True\n",
    "            if(word_found):\n",
    "                break\n",
    "        if(word_found):\n",
    "                break\n",
    "        \n",
    "    # check if substrings can be joined to make goal with only deletions needed    \n",
    "    for s in range(len(sub_check)+1, 0, -1):\n",
    "        join_check = ''.join(sub_check[:s])\n",
    "        if(join_check == goal):\n",
    "            word_found =True\n",
    "            break\n",
    "\n",
    "    if(word_found == False):\n",
    "        # looks for substrings still needed\n",
    "        current_word = '-' * len(goal)\n",
    "        for s in range(len(substrings)):\n",
    "            string = substrings[s][0]\n",
    "            ind = goal.index(string)\n",
    "            if(s == 0):\n",
    "                current_word = current_word[:ind] + string + current_word[ind + len(string):]\n",
    "            elif(substrings[s -1][1] < substrings[s][1] and substrings[s][1] > ind):\n",
    "                continue\n",
    "            else:\n",
    "                current_word = current_word[:ind] + string + current_word[ind + len(string):]\n",
    "        \n",
    "        # substitute/append letters\n",
    "        for s in range(len(current_word)):\n",
    "            if(current_word[s] != '-'): continue\n",
    "            else:\n",
    "                letter_needed = goal[s]\n",
    "                current_word = current_word[:s] + letter_needed + current_word[s + 1:]\n",
    "                edit_distance += 1\n",
    "\n",
    "    # just for needed deletions\n",
    "    if(len(initial) > len(goal)):\n",
    "        edit_distance += abs(len(initial) - len(goal))\n",
    "\n",
    "    return edit_distance\n"
   ]
  },
  {
   "attachments": {},
   "cell_type": "markdown",
   "metadata": {},
   "source": [
    "---\n",
    "## Test Cases"
   ]
  },
  {
   "cell_type": "code",
   "execution_count": 98,
   "metadata": {},
   "outputs": [
    {
     "data": {
      "text/plain": [
       "3"
      ]
     },
     "execution_count": 98,
     "metadata": {},
     "output_type": "execute_result"
    }
   ],
   "source": [
    "# solution testing test cases\n",
    "edit_distance(\"kittens\", \"sitting\")"
   ]
  },
  {
   "cell_type": "code",
   "execution_count": 102,
   "metadata": {},
   "outputs": [
    {
     "data": {
      "text/plain": [
       "3"
      ]
     },
     "execution_count": 102,
     "metadata": {},
     "output_type": "execute_result"
    }
   ],
   "source": [
    "edit_distance(\"kittens\", \"kits\")"
   ]
  },
  {
   "cell_type": "code",
   "execution_count": 103,
   "metadata": {},
   "outputs": [
    {
     "data": {
      "text/plain": [
       "8"
      ]
     },
     "execution_count": 103,
     "metadata": {},
     "output_type": "execute_result"
    }
   ],
   "source": [
    "edit_distance(\"kittens\", \"sittingsqual\")"
   ]
  },
  {
   "attachments": {},
   "cell_type": "markdown",
   "metadata": {},
   "source": [
    "---\n",
    "## Solution Explained"
   ]
  },
  {
   "attachments": {},
   "cell_type": "markdown",
   "metadata": {},
   "source": [
    "### edit_distance(initial, goal) solution\n",
    "This code calculates the edit distance between two strings, `initial` and `goal`. Edit distance is the minimum number of operations required to transform one string into another, where an operation can be either inserting a character, deleting a character, or replacing a character.\n",
    "\n",
    "The first part of the code identifies the common characters between the two strings and creates substrings of the initial string that contain those common characters. The substrings are created based on the positions of the common characters in the `initial` string. The purpose of this step is to identify a portion of the `initial` string that has a chance of matching with the `goal` string, thereby reducing the search space for finding the edit distance.\n",
    "\n",
    "The second part of the code checks if the `goal` string can be formed by deleting characters from the identified substrings. If the goal string cannot be formed by deleting characters, the code proceeds to find the remaining characters in the `goal` string that are not present in the substrings. These characters are then added to the final string by either substitution or insertion.\n",
    "\n",
    "The time complexity of the code depends on the length of the strings. The first part of the code takes O(n) time, where n is the length of the initial string. The second part of the code takes O(n^2) time, where n is the length of the goal string. Therefore, the overall time complexity of the code is O(n^2).\n",
    "\n",
    "The memory space of the code is determined by the number of substrings created in the first part of the code. If there are k common characters between the two strings, the maximum number of substrings that can be created is k*(k+1)/2. Therefore, the memory space of the code is O(k^2)."
   ]
  }
 ],
 "metadata": {
  "kernelspec": {
   "display_name": "Python 3",
   "language": "python",
   "name": "python3"
  },
  "language_info": {
   "codemirror_mode": {
    "name": "ipython",
    "version": 3
   },
   "file_extension": ".py",
   "mimetype": "text/x-python",
   "name": "python",
   "nbconvert_exporter": "python",
   "pygments_lexer": "ipython3",
   "version": "3.9.12"
  },
  "orig_nbformat": 4,
  "vscode": {
   "interpreter": {
    "hash": "1616faeca1eb2b6217e80a7d062cec32587d2e1ba3999185fe005a5f436d1f1f"
   }
  }
 },
 "nbformat": 4,
 "nbformat_minor": 2
}
