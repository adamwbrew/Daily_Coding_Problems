{
 "cells": [
  {
   "attachments": {},
   "cell_type": "markdown",
   "metadata": {},
   "source": [
    "# Problem 21\n",
    "Implement locking in a binary tree. A binary tree node can be locked or unlocked only if all of its descendants or ancestors are not locked.\n",
    "\n",
    "Design a binary tree node class with the following methods:\n",
    "\n",
    "- is_locked, which returns whether the node is locked\n",
    "- lock, which attempts to lock the node. If it cannot be locked, then it should return false. Otherwise, it should lock it and return true.\n",
    "- unlock, which unlocks the node. If it cannot be unlocked, then it should return false. Otherwise, it should unlock it and return true.\n",
    "\n",
    "You may augment the node to add parent pointers or any other property you would like. You may assume the class is used in a single-threaded program, so there is no need for actual locks or mutexes. Each method should run in O(h), where h is the height of the tree."
   ]
  },
  {
   "attachments": {},
   "cell_type": "markdown",
   "metadata": {},
   "source": [
    "---\n",
    "## Test Cases"
   ]
  },
  {
   "cell_type": "code",
   "execution_count": 113,
   "metadata": {},
   "outputs": [],
   "source": [
    "# test cases\n",
    "\n",
    "# Implemented later on"
   ]
  },
  {
   "attachments": {},
   "cell_type": "markdown",
   "metadata": {},
   "source": [
    "---\n",
    "## Solution"
   ]
  },
  {
   "cell_type": "code",
   "execution_count": 114,
   "metadata": {},
   "outputs": [],
   "source": [
    "# solution code\n",
    "\n",
    "class Node:\n",
    "    def __init__(self, data, lock = False, left = None, right = None, parent = None):\n",
    "        self.data = data\n",
    "        # False - unlocked, True - locked\n",
    "        self.locked_or_unlocked = lock\n",
    "        self.left = left\n",
    "        self.right = right\n",
    "        self.parent = parent\n",
    "\n",
    "    def is_locked(self):\n",
    "        return self.locked_or_unlocked\n",
    "    \n",
    "    def ancestors(self):\n",
    "        # search through ancestors\n",
    "        if(self.parent == None and self.lock == False): return True\n",
    "        adult = self.parent\n",
    "        parents = 0\n",
    "        unlocked = 0\n",
    "        while(adult != None):\n",
    "            parents += 1\n",
    "            if(adult.locked_or_unlocked == False):\n",
    "                unlocked += 1\n",
    "            adult = adult.parent\n",
    "        if(parents == unlocked or unlocked == 0):\n",
    "            return True\n",
    "        return False\n",
    "\n",
    "    def descendants(self, count, children):\n",
    "        if(self is None):\n",
    "            return\n",
    "        else:\n",
    "            children += 1\n",
    "            if(self.locked_or_unlocked == False): \n",
    "                count += 1\n",
    "        if(self.left != None):\n",
    "            count, children = self.left.descendants(count, children)\n",
    "        if(self.right != None):\n",
    "            count, children = self.right.descendants(count, children)\n",
    "        return count, children\n",
    "        \n",
    "\n",
    "    def lock(self):\n",
    "        # search through ancestors\n",
    "        ancestor_lock = self.ancestors()\n",
    "        # search through descendants\n",
    "        descendants_unlocked, descendants = self.descendants(-1,-1)\n",
    "        if(descendants_unlocked == descendants and descendants != 0):\n",
    "            descendants_lock = True\n",
    "        else:\n",
    "            descendants_lock = False\n",
    "        if(ancestor_lock or descendants_lock):\n",
    "            self.locked_or_unlocked = True\n",
    "            return True\n",
    "        return False\n",
    "    \n",
    "    def unlock(self):\n",
    "        # search through ancestors\n",
    "        ancestor_lock = self.ancestors()\n",
    "        # search through descendants\n",
    "        descendants_unlocked, descendants = self.descendants(-1,-1)\n",
    "        if((descendants_unlocked == descendants and descendants != 0) or descendants_unlocked == -1):\n",
    "            descendants_lock = True\n",
    "        else:\n",
    "            descendants_lock = False\n",
    "        if(ancestor_lock or descendants_lock):\n",
    "            self.locked_or_unlocked = False\n",
    "            return True\n",
    "        return False"
   ]
  },
  {
   "attachments": {},
   "cell_type": "markdown",
   "metadata": {},
   "source": [
    "---\n",
    "## Test Solution"
   ]
  },
  {
   "cell_type": "code",
   "execution_count": 115,
   "metadata": {},
   "outputs": [],
   "source": [
    "# solution testing test cases\n",
    "root = Node(\"root\")\n",
    "root.lock()\n",
    "assert root.locked_or_unlocked == True\n",
    "root.unlock()\n",
    "assert root.locked_or_unlocked == False"
   ]
  },
  {
   "cell_type": "code",
   "execution_count": 116,
   "metadata": {},
   "outputs": [],
   "source": [
    "root = Node(\"root\")\n",
    "root.left = Node(\"left\", parent=root)\n",
    "root.right = Node(\"right\", parent=root)\n",
    "\n",
    "root.lock()\n",
    "assert root.locked_or_unlocked == True\n",
    "assert root.left.locked_or_unlocked == False\n",
    "assert root.right.locked_or_unlocked == False\n",
    "\n",
    "root.unlock()\n",
    "assert root.locked_or_unlocked == False\n",
    "assert root.left.locked_or_unlocked == False\n",
    "assert root.right.locked_or_unlocked == False"
   ]
  },
  {
   "cell_type": "code",
   "execution_count": 117,
   "metadata": {},
   "outputs": [],
   "source": [
    "root = Node(\"root\")\n",
    "root.left = Node(\"left\", parent=root)\n",
    "root.right = Node(\"right\", parent=root)\n",
    "root.left.left = Node(\"left_left\", parent=root.left)\n",
    "\n",
    "root.left.left.lock()\n",
    "assert root.locked_or_unlocked == False\n",
    "assert root.left.locked_or_unlocked == False\n",
    "assert root.left.left.locked_or_unlocked == True\n",
    "\n",
    "root.left.left.unlock()\n",
    "assert root.locked_or_unlocked == False\n",
    "assert root.left.locked_or_unlocked == False\n",
    "assert root.left.left.locked_or_unlocked == False"
   ]
  },
  {
   "cell_type": "code",
   "execution_count": 118,
   "metadata": {},
   "outputs": [],
   "source": [
    "root = Node(\"root\")\n",
    "root.left = Node(\"left\", parent=root)\n",
    "root.right = Node(\"right\", parent=root)\n",
    "root.left.left = Node(\"left_left\", parent=root.left)\n",
    "\n",
    "root.left.lock()\n",
    "assert root.left.locked_or_unlocked == True\n",
    "\n",
    "root.lock()\n",
    "assert root.locked_or_unlocked == True\n",
    "\n",
    "root.left.left.lock()\n",
    "assert root.left.left.locked_or_unlocked == True\n",
    "\n",
    "root.lock()\n",
    "assert root.locked_or_unlocked == True"
   ]
  },
  {
   "cell_type": "code",
   "execution_count": 119,
   "metadata": {},
   "outputs": [],
   "source": [
    "root = Node(\"root\")\n",
    "root.left = Node(\"left\", parent=root)\n",
    "root.right = Node(\"right\", parent=root)\n",
    "root.left.left = Node(\"left_left\", parent=root.left)\n",
    "\n",
    "root.left.lock()\n",
    "assert root.left.locked_or_unlocked == True\n",
    "\n",
    "root.lock()\n",
    "assert root.locked_or_unlocked == True\n",
    "\n",
    "root.left.left.lock()\n",
    "assert root.left.left.locked_or_unlocked == True\n",
    "\n",
    "root.unlock()\n",
    "assert root.locked_or_unlocked == False"
   ]
  },
  {
   "attachments": {},
   "cell_type": "markdown",
   "metadata": {},
   "source": [
    "---\n",
    "## Solution Explained"
   ]
  },
  {
   "attachments": {},
   "cell_type": "markdown",
   "metadata": {},
   "source": [
    "### Solution\n",
    "This solution implements a binary tree node class with methods to lock and unlock the node while ensuring that no ancestor or descendant of the node is locked.\n",
    "\n",
    "The `Node` class has attributes for `data`, `locked_or_unlocked` (boolean flag for locking), `left` and `right` children, and `parent`. The `lock` and `unlock` methods are responsible for setting the `locked_or_unlocked` flag to True or False, respectively, while checking if the node satisfies the locking/unlocking conditions. The `is_locked` method returns the value of the locked_or_unlocked flag.\n",
    "\n",
    "The `ancestors` method checks if all ancestors of the node are unlocked. It traverses the tree upwards from the node, incrementing counters for the total number of parents and the number of unlocked parents. If the number of parents is equal to the number of unlocked parents or there are no unlocked parents, the method returns True. Otherwise, it returns False.\n",
    "\n",
    "The `descendants` method checks if all descendants of the node are unlocked. It traverses the tree downwards from the node, incrementing counters for the total number of children and the number of unlocked children. If the number of unlocked children is equal to the total number of children and there are children, the method returns True. Otherwise, it returns False.\n",
    "\n",
    "The `lock` and `unlock` methods use the `ancestors` and `descendants` methods to determine whether it is safe to lock or unlock the node. If either `ancestors` or `descendants` return True, the node can be locked or unlocked, respectively, and the `locked_or_unlocked` flag is set to the appropriate value. If neither returns True, the method returns False.\n",
    "\n",
    "The time complexity of the `is_locked` method is O(1) since it only involves accessing an attribute of the node. The time complexity of the `ancestors` and `descendants` methods is O(h), where h is the height of the tree, since they traverse the tree upwards and downwards, respectively, from the node to the root or leaves. The time complexity of the `lock` and `unlock` methods is also O(h), as they call the ancestors and descendants methods, which have a worst-case time complexity of O(h). Since each method runs in O(h), the binary tree can be efficiently locked or unlocked, and the class can be used in a single-threaded program without requiring actual locks or mutexes."
   ]
  }
 ],
 "metadata": {
  "kernelspec": {
   "display_name": "Python 3",
   "language": "python",
   "name": "python3"
  },
  "language_info": {
   "codemirror_mode": {
    "name": "ipython",
    "version": 3
   },
   "file_extension": ".py",
   "mimetype": "text/x-python",
   "name": "python",
   "nbconvert_exporter": "python",
   "pygments_lexer": "ipython3",
   "version": "3.9.12"
  },
  "orig_nbformat": 4,
  "vscode": {
   "interpreter": {
    "hash": "1616faeca1eb2b6217e80a7d062cec32587d2e1ba3999185fe005a5f436d1f1f"
   }
  }
 },
 "nbformat": 4,
 "nbformat_minor": 2
}
