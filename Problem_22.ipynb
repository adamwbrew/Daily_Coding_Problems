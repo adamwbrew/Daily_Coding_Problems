{
 "cells": [
  {
   "attachments": {},
   "cell_type": "markdown",
   "metadata": {},
   "source": [
    "# Problem 22\n",
    "Implement regular expression matching with the following special characters:\n",
    "\n",
    "- '.' (period) which matches any single character\n",
    "- '*' (asterisk) which matches zero or more of the preceding element\n",
    "\n",
    "That is, implement a function that takes in a string and a valid regular expression and returns whether or not the string matches the regular expression.\n",
    "\n",
    "For example, given the regular expression \"ra.\" and the string \"ray\", your function should return true. The same regular expression on the string \"raymond\" should return false.\n",
    "\n",
    "Given the regular expression \".*at\" and the string \"chat\", your function should return true. The same regular expression on the string \"chats\" should return false."
   ]
  },
  {
   "attachments": {},
   "cell_type": "markdown",
   "metadata": {},
   "source": [
    "---\n",
    "## Test Cases"
   ]
  },
  {
   "cell_type": "code",
   "execution_count": 1,
   "metadata": {},
   "outputs": [],
   "source": [
    "# test cases\n",
    "\n",
    "# Test Case 1:\n",
    "# Regular expression: \"a.c\"\n",
    "# String: \"abc\"\n",
    "# Expected output: True\n",
    "\n",
    "# Test Case 2:\n",
    "# Regular expression: \"a*c\"\n",
    "# String: \"abc\"\n",
    "# Expected output: True\n",
    "\n",
    "# Test Case 3:\n",
    "# Regular expression: \"a*c\"\n",
    "# String: \"ac\"\n",
    "# Expected output: True\n",
    "\n",
    "# Test Case 4:\n",
    "# Regular expression: \"a*c\"\n",
    "# String: \"ab\"\n",
    "# Expected output: False\n",
    "\n",
    "# Test Case 5:\n",
    "# Regular expression: \"a.*c\"\n",
    "# String: \"abbbc\"\n",
    "# Expected output: True\n",
    "\n",
    "# Test Case 6:\n",
    "# Regular expression: \"a.*c\"\n",
    "# String: \"ac\"\n",
    "# Expected output: True\n",
    "\n",
    "# Test Case 7:\n",
    "# Regular expression: \"a.*c\"\n",
    "# String: \"abcde\"\n",
    "# Expected output: True\n",
    "\n",
    "# Test Case 8:\n",
    "# Regular expression: \"a.*c\"\n",
    "# String: \"abde\"\n",
    "# Expected output: False"
   ]
  },
  {
   "attachments": {},
   "cell_type": "markdown",
   "metadata": {},
   "source": [
    "---\n",
    "## Solution"
   ]
  },
  {
   "cell_type": "code",
   "execution_count": 2,
   "metadata": {},
   "outputs": [],
   "source": [
    "# solution code\n",
    "\n",
    "def regular_expression_matching(reg_ex, string):\n",
    "    if(reg_ex == string): return True\n",
    "\n",
    "    # asterick and period case\n",
    "    elif('*' in reg_ex and '.' in reg_ex): return ''\n",
    "\n",
    "    # asterick only case\n",
    "    elif('.' not in reg_ex):\n",
    "        extract_reg_ex = reg_ex.replace('*', '')\n",
    "        if(extract_reg_ex == string): return True\n",
    "        diffrence_values = [s for s in string if s not in extract_reg_ex]\n",
    "        if(diffrence_values == []): return # finish this part next\n",
    "\n",
    "    # period only case\n",
    "    else:\n",
    "        extract_reg_ex = reg_ex.replace('.', '')\n",
    "        period_count = reg_ex.count('.')\n",
    "        diffrence_values = [s for s in string if s not in extract_reg_ex]\n",
    "        string_limited = ''.join([s for s in string if s not in diffrence_values])\n",
    "        if(string_limited == extract_reg_ex and period_count >= len(diffrence_values)):\n",
    "            return True\n",
    "        return False\n",
    "            "
   ]
  },
  {
   "cell_type": "code",
   "execution_count": 3,
   "metadata": {},
   "outputs": [],
   "source": [
    "regular_expression_matching(\"a*c\", \"abc\")"
   ]
  },
  {
   "attachments": {},
   "cell_type": "markdown",
   "metadata": {},
   "source": [
    "---\n",
    "## Test Solution"
   ]
  },
  {
   "cell_type": "code",
   "execution_count": 4,
   "metadata": {},
   "outputs": [
    {
     "ename": "AssertionError",
     "evalue": "",
     "output_type": "error",
     "traceback": [
      "\u001b[1;31m---------------------------------------------------------------------------\u001b[0m",
      "\u001b[1;31mAssertionError\u001b[0m                            Traceback (most recent call last)",
      "\u001b[1;32mc:\\Users\\Adam Brewer\\Desktop\\Daily_Coding_Problems\\Problem_22.ipynb Cell 8\u001b[0m in \u001b[0;36m<cell line: 12>\u001b[1;34m()\u001b[0m\n\u001b[0;32m     <a href='vscode-notebook-cell:/c%3A/Users/Adam%20Brewer/Desktop/Daily_Coding_Problems/Problem_22.ipynb#X10sZmlsZQ%3D%3D?line=9'>10</a>\u001b[0m \u001b[39m# asterisk tests\u001b[39;00m\n\u001b[0;32m     <a href='vscode-notebook-cell:/c%3A/Users/Adam%20Brewer/Desktop/Daily_Coding_Problems/Problem_22.ipynb#X10sZmlsZQ%3D%3D?line=10'>11</a>\u001b[0m \u001b[39massert\u001b[39;00m regular_expression_matching(\u001b[39m\"\u001b[39m\u001b[39ma*c\u001b[39m\u001b[39m\"\u001b[39m, \u001b[39m\"\u001b[39m\u001b[39mac\u001b[39m\u001b[39m\"\u001b[39m) \u001b[39m==\u001b[39m \u001b[39mTrue\u001b[39;00m\n\u001b[1;32m---> <a href='vscode-notebook-cell:/c%3A/Users/Adam%20Brewer/Desktop/Daily_Coding_Problems/Problem_22.ipynb#X10sZmlsZQ%3D%3D?line=11'>12</a>\u001b[0m \u001b[39massert\u001b[39;00m regular_expression_matching(\u001b[39m\"\u001b[39m\u001b[39ma*c\u001b[39m\u001b[39m\"\u001b[39m, \u001b[39m\"\u001b[39m\u001b[39mabc\u001b[39m\u001b[39m\"\u001b[39m) \u001b[39m==\u001b[39m \u001b[39mTrue\u001b[39;00m\n\u001b[0;32m     <a href='vscode-notebook-cell:/c%3A/Users/Adam%20Brewer/Desktop/Daily_Coding_Problems/Problem_22.ipynb#X10sZmlsZQ%3D%3D?line=12'>13</a>\u001b[0m \u001b[39massert\u001b[39;00m regular_expression_matching(\u001b[39m\"\u001b[39m\u001b[39ma*c\u001b[39m\u001b[39m\"\u001b[39m, \u001b[39m\"\u001b[39m\u001b[39mab\u001b[39m\u001b[39m\"\u001b[39m) \u001b[39m==\u001b[39m \u001b[39mFalse\u001b[39;00m\n\u001b[0;32m     <a href='vscode-notebook-cell:/c%3A/Users/Adam%20Brewer/Desktop/Daily_Coding_Problems/Problem_22.ipynb#X10sZmlsZQ%3D%3D?line=14'>15</a>\u001b[0m \u001b[39m# combo tests\u001b[39;00m\n",
      "\u001b[1;31mAssertionError\u001b[0m: "
     ]
    }
   ],
   "source": [
    "# solution testing test cases\n",
    "\n",
    "# period tests\n",
    "assert regular_expression_matching(\"a.c\", \"abc\") == True\n",
    "assert regular_expression_matching(\"a..c\", \"abc\") == True\n",
    "assert regular_expression_matching(\"a.c\", \"abdc\") == False\n",
    "assert regular_expression_matching(\".a.c.\", \"abc\") == True\n",
    "\n",
    "\n",
    "# asterisk tests\n",
    "assert regular_expression_matching(\"a*c\", \"ac\") == True\n",
    "assert regular_expression_matching(\"a*c\", \"abc\") == True\n",
    "assert regular_expression_matching(\"a*c\", \"ab\") == False\n",
    "\n",
    "# combo tests\n",
    "assert regular_expression_matching(\"a.*c\", \"abbbc\") == True\n",
    "assert regular_expression_matching(\"a.*c\", \"ac\") == True\n",
    "assert regular_expression_matching(\"a.*c\", \"abcde\") == True\n",
    "assert regular_expression_matching(\"a.*c\", \"abde\") == False"
   ]
  },
  {
   "attachments": {},
   "cell_type": "markdown",
   "metadata": {},
   "source": [
    "---\n",
    "## Solution Explained"
   ]
  },
  {
   "attachments": {},
   "cell_type": "markdown",
   "metadata": {},
   "source": [
    "### function solution\n",
    "function solution explained"
   ]
  }
 ],
 "metadata": {
  "kernelspec": {
   "display_name": "Python 3",
   "language": "python",
   "name": "python3"
  },
  "language_info": {
   "codemirror_mode": {
    "name": "ipython",
    "version": 3
   },
   "file_extension": ".py",
   "mimetype": "text/x-python",
   "name": "python",
   "nbconvert_exporter": "python",
   "pygments_lexer": "ipython3",
   "version": "3.9.12"
  },
  "orig_nbformat": 4,
  "vscode": {
   "interpreter": {
    "hash": "1616faeca1eb2b6217e80a7d062cec32587d2e1ba3999185fe005a5f436d1f1f"
   }
  }
 },
 "nbformat": 4,
 "nbformat_minor": 2
}
