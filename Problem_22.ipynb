{
 "cells": [
  {
   "attachments": {},
   "cell_type": "markdown",
   "metadata": {},
   "source": [
    "# Problem 22\n",
    "Given a singly linked list and an integer k, remove the kth last element from the list. k is guaranteed to be smaller than the length of the list.\n",
    "\n",
    "The list is very long, so making more than one pass is prohibitively expensive.\n",
    "\n",
    "Do this in constant space and in one pass."
   ]
  },
  {
   "attachments": {},
   "cell_type": "markdown",
   "metadata": {},
   "source": [
    "---\n",
    "## Solution"
   ]
  },
  {
   "cell_type": "code",
   "execution_count": 64,
   "metadata": {},
   "outputs": [],
   "source": [
    "# solution code\n",
    "  \n",
    "class Node:\n",
    "    # Function to initialise the node object\n",
    "    def __init__(self, data):\n",
    "        self.data = data  \n",
    "        self.next = None  \n",
    "  \n",
    "# Linked List class contains a Node object\n",
    "class LinkedList:\n",
    "  \n",
    "    # Function to initialize head\n",
    "    def __init__(self):\n",
    "        self.head = None\n",
    "  \n",
    "    # This function is in LinkedList class. It inserts\n",
    "    # a new node at the beginning of Linked List.\n",
    "    def push(self, new_data):\n",
    "        new_node = Node(new_data)\n",
    "        new_node.next = self.head\n",
    "        self.head = new_node\n",
    "  \n",
    "    def deleteNode(self, key):\n",
    "        # Store head node\n",
    "        temp = self.head\n",
    " \n",
    "        # If head node itself holds the key to be deleted\n",
    "        if (temp is not None):\n",
    "            if (temp.data == key):\n",
    "                self.head = temp.next\n",
    "                temp = None\n",
    "                return\n",
    " \n",
    "        # Search for the key to be deleted, keep track of the\n",
    "        # previous node as we need to change 'prev.next'\n",
    "        while(temp is not None):\n",
    "            if temp.data == key:\n",
    "                break\n",
    "            prev = temp\n",
    "            temp = temp.next\n",
    " \n",
    "        # if key was not present in linked list\n",
    "        if(temp == None):\n",
    "            return\n",
    " \n",
    "        # Unlink the node from linked list\n",
    "        prev.next = temp.next\n",
    "        temp = None\n",
    "\n",
    "    def getCount(self):\n",
    "        temp = self.head  \n",
    "        count = 0\n",
    "        # Loop while end of linked list is not reached\n",
    "        while (temp):\n",
    "            count += 1\n",
    "            temp = temp.next\n",
    "        return count\n",
    "\n",
    "    def print_list(self):\n",
    "        result = f\"\"\n",
    "        temp = self.head  \n",
    "        # Loop while end of linked list is not reached\n",
    "        while (temp):\n",
    "            result += f\"{temp.data} \"\n",
    "            temp = temp.next\n",
    "        return result[:len(result)-1]\n",
    "    \n",
    "    \n",
    "def remove_kth_last(llist, k):\n",
    "    if(k == 0): return llist\n",
    "    length = llist.getCount()\n",
    "    k_th_index = length - k\n",
    "    temp_k = llist.head\n",
    "    count = 0\n",
    "    # Loop while end whne kth node found\n",
    "    while (count != k_th_index):\n",
    "        count += 1\n",
    "        temp_k = temp_k.next\n",
    "    llist.deleteNode(temp_k.data)\n",
    "    return llist\n",
    "\n"
   ]
  },
  {
   "attachments": {},
   "cell_type": "markdown",
   "metadata": {},
   "source": [
    "---\n",
    "## Test Cases"
   ]
  },
  {
   "cell_type": "code",
   "execution_count": 66,
   "metadata": {},
   "outputs": [],
   "source": [
    "# solution testing test cases\n",
    "\n",
    "# Linked List: 1 -> 2 -> 3 -> 4 -> 5 -> None\n",
    "# k = 2, expected output: Linked List: 1 -> 2 -> 3 -> 5 -> None\n",
    "llist = LinkedList()\n",
    "llist.push(5)\n",
    "llist.push(4)\n",
    "llist.push(3)\n",
    "llist.push(2)\n",
    "llist.push(1)\n",
    "remove_kth_last(llist, 2)\n",
    "assert llist.print_list() == \"1 2 3 5\"\n",
    "\n",
    "# Linked List: 1 -> 2 -> 3 -> 4 -> 5 -> None\n",
    "# k = 5, expected output: Linked List: 2 -> 3 -> 4 -> 5 -> None\n",
    "llist = LinkedList()\n",
    "llist.push(5)\n",
    "llist.push(4)\n",
    "llist.push(3)\n",
    "llist.push(2)\n",
    "llist.push(1)\n",
    "remove_kth_last(llist, 5)\n",
    "assert llist.print_list() == \"2 3 4 5\"\n",
    "\n",
    "# Linked List: 1 -> None\n",
    "# k = 1, expected output: Linked List: None\n",
    "llist = LinkedList()\n",
    "llist.push(1)\n",
    "remove_kth_last(llist, 1)\n",
    "assert llist.print_list() == \"\"\n",
    "\n",
    "# Linked List: 1 -> None\n",
    "# k = 0, expected output: Linked List: 1 -> None\n",
    "llist = LinkedList()\n",
    "llist.push(1)\n",
    "remove_kth_last(llist, 0)\n",
    "assert llist.print_list() == \"1\"\n",
    "\n",
    "# Linked List: 1 -> 2 -> None\n",
    "# k = 2, expected output: Linked List: 2 -> None\n",
    "llist = LinkedList()\n",
    "llist.push(2)\n",
    "llist.push(1)\n",
    "remove_kth_last(llist, 2)\n",
    "assert llist.print_list() == \"2\""
   ]
  },
  {
   "attachments": {},
   "cell_type": "markdown",
   "metadata": {},
   "source": [
    "---\n",
    "## Solution Explained"
   ]
  },
  {
   "attachments": {},
   "cell_type": "markdown",
   "metadata": {},
   "source": [
    "This code solves the problem of removing the kth last element from a singly linked list in constant space and in one pass.\n",
    "\n",
    "The code defines a `Node` class to represent the elements in the linked list, and a `LinkedList` class that contains a head `Node` object to represent the first element of the linked list. The `LinkedList` class also has methods to push new elements to the beginning of the linked list, delete a given `Node` from the linked list, get the count of the elements in the linked list, and print the elements of the linked list.\n",
    "\n",
    "The `remove_kth_last` function takes a linked list and an integer `k` as inputs. It first checks if `k` is `0`, in which case it simply returns the linked list. It then calls the `getCount` method of the linked list to get the length of the linked list, and calculates the index of the kth last element by subtracting `k` from the length of the linked list. It then initializes a `temp_k` variable to point to the head of the linked list, and uses a loop to iterate through the linked list until it reaches the kth last element. It does this by keeping track of a count variable and moving the `temp_k` variable to the next element in the linked list until `count` equals `k_th_index`. Once it reaches the kth last element, it calls the `deleteNode` method of the linked list to remove the `Node` object that `temp_k` points to from the linked list.\n",
    "\n",
    "The `deleteNode` method of the `LinkedList` class takes a key as input and removes the `Node` object that contains that key from the linked list. It does this by initializing a temp variable to point to the head of the linked list, and using a loop to iterate through the linked list until it finds the `Node` object that contains the key. It keeps track of the previous `Node` object in the linked list as `prev`, so that it can update `prev.next` to point to the `Node` object that comes after the `Node` object being deleted. Once it finds the `Node` object containing the key, it updates `prev.next` and sets temp to `None` to delete the `Node` object.\n",
    "\n",
    "Overall, this code solves the problem of removing the kth last element from a singly linked list in constant space and in one pass by calculating the index of the kth last element, iterating through the linked list to find that element, and deleting that element from the linked list."
   ]
  }
 ],
 "metadata": {
  "kernelspec": {
   "display_name": "Python 3",
   "language": "python",
   "name": "python3"
  },
  "language_info": {
   "codemirror_mode": {
    "name": "ipython",
    "version": 3
   },
   "file_extension": ".py",
   "mimetype": "text/x-python",
   "name": "python",
   "nbconvert_exporter": "python",
   "pygments_lexer": "ipython3",
   "version": "3.9.12"
  },
  "orig_nbformat": 4,
  "vscode": {
   "interpreter": {
    "hash": "1616faeca1eb2b6217e80a7d062cec32587d2e1ba3999185fe005a5f436d1f1f"
   }
  }
 },
 "nbformat": 4,
 "nbformat_minor": 2
}
