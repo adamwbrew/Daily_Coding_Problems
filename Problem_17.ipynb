{
 "cells": [
  {
   "attachments": {},
   "cell_type": "markdown",
   "metadata": {},
   "source": [
    "# Problem \\#\n",
    "Given two singly linked lists that intersect at some point, find the intersecting node. The lists are non-cyclical.\n",
    "\n",
    "For example, given `A = 3 -> 7 -> 8 -> 10` and `B = 99 -> 1 -> 8 -> 10`, return the node with value `8`.\n",
    "\n",
    "In this example, assume nodes with the same value are the exact same node objects.\n",
    "\n",
    "Do this in O(M + N) time (where M and N are the lengths of the lists) and constant space."
   ]
  },
  {
   "attachments": {},
   "cell_type": "markdown",
   "metadata": {},
   "source": [
    "---\n",
    "## Test Cases"
   ]
  },
  {
   "cell_type": "code",
   "execution_count": 11,
   "metadata": {},
   "outputs": [],
   "source": [
    "# test cases\n",
    "\n",
    "# # linked list 1\n",
    "# llist_1 = LinkedList()\n",
    " \n",
    "# llist_1.head = Node(3)\n",
    "# second = Node(7)\n",
    "# third = Node(8)\n",
    "# fourth = Node(10)\n",
    "\n",
    "# llist_1.head.next = second \n",
    "# second.next = third\n",
    "# third.next = fourth\n",
    "\n",
    "# # linked list 2\n",
    "# llist_2 = LinkedList()\n",
    " \n",
    "# llist_2.head = Node(99)\n",
    "# second = Node(1)\n",
    "# third = Node(8)\n",
    "# fourth = Node(10)\n",
    "\n",
    "# llist_2.head.next = second  \n",
    "# second.next = third\n",
    "# third.next = fourth\n",
    "\n",
    "# Other iterations of test cases found below. They all follow a similar layout as the test above"
   ]
  },
  {
   "attachments": {},
   "cell_type": "markdown",
   "metadata": {},
   "source": [
    "---\n",
    "## Solution"
   ]
  },
  {
   "cell_type": "code",
   "execution_count": 24,
   "metadata": {},
   "outputs": [],
   "source": [
    "# solution code\n",
    "\n",
    "# Node class\n",
    "class Node:\n",
    "     def __init__(self, data):\n",
    "        self.data = data  \n",
    "        self.next = None  \n",
    " \n",
    "# Linked List class\n",
    "class LinkedList:\n",
    "    def __init__(self):\n",
    "        self.head = None\n",
    "    \n",
    "    def __len__(self):\n",
    "        length = 0\n",
    "        temp = self.head\n",
    "        while(temp):\n",
    "            length+=1\n",
    "            temp = temp.next\n",
    "        return length\n",
    "\n",
    "\n",
    "def Intersection(llist_1, llist_2, index_intersection = False):\n",
    "    result = ''\n",
    "    if(index_intersection == True):\n",
    "        temp_1 = llist_1.head\n",
    "        temp_2 = llist_2.head\n",
    "        while(temp_1 and temp_2):\n",
    "            if(temp_1.data == temp_2.data):\n",
    "                result = temp_1.data\n",
    "                break\n",
    "            else:\n",
    "                temp_1 = temp_1.next\n",
    "                temp_2 = temp_2.next\n",
    "    else:\n",
    "        for i in range(len(llist_1)):\n",
    "            if(i == 0): \n",
    "                temp_1 = llist_1.head\n",
    "            else:\n",
    "                temp_1 = temp_1.next\n",
    "                \n",
    "            temp_2 = llist_2.head\n",
    "            while(temp_1 and temp_2):\n",
    "                if(temp_1.data == temp_2.data):\n",
    "                    result = temp_1.data\n",
    "                    break\n",
    "                else:\n",
    "                    temp_2 = temp_2.next\n",
    "            if(result != ''): break\n",
    "    if(result == ''): result = \"No intersection found.\"\n",
    "    return result\n"
   ]
  },
  {
   "attachments": {},
   "cell_type": "markdown",
   "metadata": {},
   "source": [
    "---\n",
    "## Test Solution"
   ]
  },
  {
   "cell_type": "code",
   "execution_count": 30,
   "metadata": {},
   "outputs": [
    {
     "name": "stdout",
     "output_type": "stream",
     "text": [
      "Index based intersection: 8\n",
      "Non-index based intersection: 3\n"
     ]
    }
   ],
   "source": [
    "# solution testing test cases\n",
    "\n",
    "# linked list 1\n",
    "llist_1 = LinkedList()\n",
    " \n",
    "llist_1.head = Node(3)\n",
    "second = Node(7)\n",
    "third = Node(8)\n",
    "fourth = Node(10)\n",
    "\n",
    "llist_1.head.next = second \n",
    "second.next = third\n",
    "third.next = fourth\n",
    "\n",
    "# linked list 2\n",
    "llist_2 = LinkedList()\n",
    " \n",
    "llist_2.head = Node(99)\n",
    "second = Node(3)\n",
    "third = Node(8)\n",
    "fourth = Node(10)\n",
    "\n",
    "llist_2.head.next = second  \n",
    "second.next = third\n",
    "third.next = fourth\n",
    "\n",
    "print(\"Index based intersection:\", Intersection(llist_1, llist_2, True))\n",
    "print(\"Non-index based intersection:\", Intersection(llist_1, llist_2, False))"
   ]
  },
  {
   "cell_type": "code",
   "execution_count": 29,
   "metadata": {},
   "outputs": [
    {
     "name": "stdout",
     "output_type": "stream",
     "text": [
      "Index based intersection: No intersection found.\n",
      "Non-index based intersection: 3\n"
     ]
    }
   ],
   "source": [
    "# test case 2\n",
    "# linked list 1\n",
    "llist_1 = LinkedList()\n",
    " \n",
    "llist_1.head = Node(3)\n",
    "second = Node(7)\n",
    "third = Node(6)\n",
    "fourth = Node(10)\n",
    "\n",
    "llist_1.head.next = second \n",
    "second.next = third\n",
    "third.next = fourth\n",
    "\n",
    "# linked list 2\n",
    "llist_2 = LinkedList()\n",
    " \n",
    "llist_2.head = Node(99)\n",
    "second = Node(1)\n",
    "third = Node(8)\n",
    "fourth = Node(3)\n",
    "\n",
    "llist_2.head.next = second  \n",
    "second.next = third\n",
    "third.next = fourth\n",
    "\n",
    "print(\"Index based intersection:\", Intersection(llist_1, llist_2, True))\n",
    "print(\"Non-index based intersection:\", Intersection(llist_1, llist_2, False))"
   ]
  },
  {
   "cell_type": "code",
   "execution_count": 27,
   "metadata": {},
   "outputs": [
    {
     "name": "stdout",
     "output_type": "stream",
     "text": [
      "Index based intersection: No intersection found.\n",
      "Non-index based intersection: No intersection found.\n"
     ]
    }
   ],
   "source": [
    "# test case 3\n",
    "\n",
    "# linked list 1\n",
    "llist_1 = LinkedList()\n",
    " \n",
    "llist_1.head = Node(3)\n",
    "second = Node(7)\n",
    "third = Node(6)\n",
    "fourth = Node(10)\n",
    "\n",
    "llist_1.head.next = second \n",
    "second.next = third\n",
    "third.next = fourth\n",
    "\n",
    "# linked list 2\n",
    "llist_2 = LinkedList()\n",
    " \n",
    "llist_2.head = Node(99)\n",
    "second = Node(1)\n",
    "third = Node(8)\n",
    "\n",
    "llist_2.head.next = second  \n",
    "second.next = third\n",
    "\n",
    "\n",
    "print(\"Index based intersection:\", Intersection(llist_1, llist_2, True))\n",
    "print(\"Non-index based intersection:\", Intersection(llist_1, llist_2, False))"
   ]
  },
  {
   "attachments": {},
   "cell_type": "markdown",
   "metadata": {},
   "source": [
    "---\n",
    "## Solution Explained"
   ]
  },
  {
   "attachments": {},
   "cell_type": "markdown",
   "metadata": {},
   "source": [
    "### Intersection(llist_1, llist_2, index_intersection = False) solution\n",
    "The given code defines a function named `Intersection` which takes two linked lists as input arguments (`llist_1` and `llist_2`) and an optional boolean argument `index_intersection`. The function aims to find the intersection point of the two linked lists. The `index_intersection` argument, when set to `True`, changes the behavior of the function to find the intersection point starting from the beginning of the two linked lists, rather than iterating over the nodes of the first linked list.\n",
    "\n",
    "When `index_intersection` is `True`, the function first initializes two temporary variables, `temp_1` and `temp_2`, to the head nodes of the first and second linked lists, respectively. Then, the function enters a while loop that continues until both `temp_1` and `temp_2` are not `None` (i.e., both temporary variables are still pointing to nodes in their respective linked lists). Inside the while loop, the function compares the data values of the current nodes pointed to by `temp_1` and `temp_2`. If the two data values are equal, the function sets the result variable to the data value of `temp_1` and breaks out of the loop.\n",
    "\n",
    "When `index_intersection` is `False`, the function iterates over each node in the first linked list (m iterations) and then, for each node, iterates over each node in the second linked list (n iterations). Inside the nested while loop, the function compares the data values of the current nodes pointed to by `temp_1` and `temp_2`. If the two data values are equal, the function sets the result variable to the data value of `temp_1` and breaks out of the loop.\n",
    "\n",
    "If the while loop completes without finding an intersection, the result variable remains an empty string. In this case, the function sets the result variable to the string \"No intersection found.\" before returning it.\n",
    "\n",
    "The time complexity of this function is O(mn) where m and n are the lengths of the two linked lists. When `index_intersection` is set to `True`, the time complexity is O(min(m, n)). The space complexity of the function is O(1) as it uses only a constant amount of additional space for the temporary variables and result variable.\n",
    "\n",
    "The difference between the two versions of the `Intersection` function is that the one with `index_intersection=True` finds the intersection node by comparing the nodes by the index of the linked lists, whereas the one with `index_intersection=False` finds the intersection node by iterating over each node in the first linked list and then, for each node, iterating over each node in the second linked list. As a result, the `index_intersection=True` version is more efficient in terms of time complexity, however, shouldn't be used if the intsection point the user is looking for is at different index points in the linked list. On the other hand, the `index_intersection=False` version will find the first intersection point, but may take longer to do so. Therefore, it depends on the specific use case which version of the function is more appropriate."
   ]
  }
 ],
 "metadata": {
  "kernelspec": {
   "display_name": "Python 3",
   "language": "python",
   "name": "python3"
  },
  "language_info": {
   "codemirror_mode": {
    "name": "ipython",
    "version": 3
   },
   "file_extension": ".py",
   "mimetype": "text/x-python",
   "name": "python",
   "nbconvert_exporter": "python",
   "pygments_lexer": "ipython3",
   "version": "3.9.12"
  },
  "orig_nbformat": 4,
  "vscode": {
   "interpreter": {
    "hash": "1616faeca1eb2b6217e80a7d062cec32587d2e1ba3999185fe005a5f436d1f1f"
   }
  }
 },
 "nbformat": 4,
 "nbformat_minor": 2
}
