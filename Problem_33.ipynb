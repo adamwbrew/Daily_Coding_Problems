{
 "cells": [
  {
   "attachments": {},
   "cell_type": "markdown",
   "metadata": {},
   "source": [
    "# Problem 33\n",
    "You have an `N` by `N` board. Write a function that, given `N`, returns the number of possible arrangements of the board where `N` queens can be placed on the board without threatening each other, i.e. no two queens share the same row, column, or diagonal."
   ]
  },
  {
   "attachments": {},
   "cell_type": "markdown",
   "metadata": {},
   "source": [
    "---\n",
    "## Solution"
   ]
  },
  {
   "cell_type": "code",
   "execution_count": 119,
   "metadata": {},
   "outputs": [],
   "source": [
    "# solution code\n",
    "\n",
    "def diagnols(N, tile):\n",
    "    diagnols_list = []\n",
    "    for i in range(1,N+1):\n",
    "        tile_change_1 = tile.copy()\n",
    "        tile_change_1[0] += i\n",
    "        tile_change_1[1] += i\n",
    "        tile_change_2 = tile.copy()\n",
    "        tile_change_2[0] -= i\n",
    "        tile_change_2[1] -= i\n",
    "        tile_change_3 = tile.copy()\n",
    "        tile_change_3[0] += i\n",
    "        tile_change_3[1] -= i\n",
    "        tile_change_4 = tile.copy()\n",
    "        tile_change_4[0] -= i\n",
    "        tile_change_4[1] += i\n",
    "\n",
    "        if(tile_change_1[0] > 0 and tile_change_1[0] <= N):\n",
    "            if(tile_change_1[1] > 0 and tile_change_1[1] <= N):\n",
    "                if(tile_change_1 not in diagnols_list):\n",
    "                    diagnols_list.append(tile_change_1)\n",
    "\n",
    "        if(tile_change_2[0] > 0 and tile_change_2[0] <= N):\n",
    "            if(tile_change_2[1] > 0 and tile_change_2[1] <= N):\n",
    "                if(tile_change_2 not in diagnols_list):\n",
    "                    diagnols_list.append(tile_change_2)\n",
    "\n",
    "        if(tile_change_3[0] > 0 and tile_change_3[0] <= N):\n",
    "            if(tile_change_3[1] > 0 and tile_change_3[1] <= N):\n",
    "                if(tile_change_3 not in diagnols_list):\n",
    "                    diagnols_list.append(tile_change_3)\n",
    "\n",
    "        if(tile_change_4[0] > 0 and tile_change_4[0] <= N):\n",
    "            if(tile_change_4[1] > 0 and tile_change_4[1] <= N):\n",
    "                if(tile_change_4 not in diagnols_list):\n",
    "                    diagnols_list.append(tile_change_4)\n",
    "\n",
    "    return diagnols_list\n",
    "\n",
    "\n",
    "def checkmate_tiles(N, tile_input, board):\n",
    "    checkmate_tiles_list = []\n",
    "    queen_column = tile_input[1]\n",
    "    queen_row = tile_input[0]\n",
    "    checkmate_tiles_list += diagnols(N, tile_input)\n",
    "    for tile in board:\n",
    "        if(tile[0] == queen_row or tile[1] == queen_column):\n",
    "            if(tile not in checkmate_tiles_list and tile != tile_input):\n",
    "                checkmate_tiles_list.append(tile)\n",
    "    return checkmate_tiles_list\n",
    "\n",
    "\n",
    "def board_check(N, board):\n",
    "    queens_placement = [tile for tile in board if tile[2] == \"Q\"]\n",
    "    checkmate_tile_list = []\n",
    "    for q in queens_placement:\n",
    "        checkmate_tile_list += checkmate_tiles(N, q, board)\n",
    "        if(q in checkmate_tile_list):\n",
    "            return False\n",
    "    return True\n",
    "    \n",
    "\n",
    "def board_combonations(N, board):\n",
    "    queen_board_arrangements = []\n",
    "    \n",
    "    # create all board combonations\n",
    "    \n",
    "    return queen_board_arrangements\n",
    "\n",
    "\n",
    "def queen_arrangements(N):\n",
    "    board = [[i, j, None]for i in range(1, N+1) for j in range(1, N+1)]\n",
    "    arrangements = 0\n",
    "    board_combonations_list = []\n",
    "\n",
    "    # add queens\n",
    "    test_board = board.copy()\n",
    "    board_combonations_list = board_combonations(N, test_board)\n",
    "\n",
    "    # check board combonations\n",
    "    for b in board_combonations_list:\n",
    "        check = board_check(N, b)\n",
    "        if(check):\n",
    "            board_print(N, b)\n",
    "            arrangements += 1\n",
    "    return arrangements\n",
    "\n",
    "\n",
    "def board_print(N, board):\n",
    "    index = 0\n",
    "    for i in range(N):\n",
    "        print(\"|\", end = '')\n",
    "        for j in range(N):\n",
    "            if(board[index][2] == \"Q\"):\n",
    "                print(board[index][2], end='|')\n",
    "            else:\n",
    "                print(\"0\", end = '|')\n",
    "            index += 1\n",
    "        print()\n",
    "    print()\n",
    "\n",
    "        "
   ]
  },
  {
   "cell_type": "code",
   "execution_count": 120,
   "metadata": {},
   "outputs": [
    {
     "data": {
      "text/plain": [
       "[(1, 1), (1, 2), (2, 1), (2, 2)]"
      ]
     },
     "execution_count": 120,
     "metadata": {},
     "output_type": "execute_result"
    }
   ],
   "source": [
    "board_combonations(2)"
   ]
  },
  {
   "attachments": {},
   "cell_type": "markdown",
   "metadata": {},
   "source": [
    "---\n",
    "## Test Cases"
   ]
  },
  {
   "cell_type": "code",
   "execution_count": 110,
   "metadata": {},
   "outputs": [
    {
     "ename": "TypeError",
     "evalue": "'NoneType' object is not iterable",
     "output_type": "error",
     "traceback": [
      "\u001b[1;31m---------------------------------------------------------------------------\u001b[0m",
      "\u001b[1;31mTypeError\u001b[0m                                 Traceback (most recent call last)",
      "\u001b[1;32mc:\\Users\\Adam Brewer\\Desktop\\Daily_Coding_Problems\\Problem_33.ipynb Cell 5\u001b[0m in \u001b[0;36m<cell line: 3>\u001b[1;34m()\u001b[0m\n\u001b[0;32m      <a href='vscode-notebook-cell:/c%3A/Users/Adam%20Brewer/Desktop/Daily_Coding_Problems/Problem_33.ipynb#W4sZmlsZQ%3D%3D?line=0'>1</a>\u001b[0m \u001b[39m# solution testing test cases\u001b[39;00m\n\u001b[0;32m      <a href='vscode-notebook-cell:/c%3A/Users/Adam%20Brewer/Desktop/Daily_Coding_Problems/Problem_33.ipynb#W4sZmlsZQ%3D%3D?line=1'>2</a>\u001b[0m N \u001b[39m=\u001b[39m \u001b[39m2\u001b[39m\n\u001b[1;32m----> <a href='vscode-notebook-cell:/c%3A/Users/Adam%20Brewer/Desktop/Daily_Coding_Problems/Problem_33.ipynb#W4sZmlsZQ%3D%3D?line=2'>3</a>\u001b[0m solutions \u001b[39m=\u001b[39m queen_arrangements(N)\n\u001b[0;32m      <a href='vscode-notebook-cell:/c%3A/Users/Adam%20Brewer/Desktop/Daily_Coding_Problems/Problem_33.ipynb#W4sZmlsZQ%3D%3D?line=3'>4</a>\u001b[0m \u001b[39mprint\u001b[39m(solutions)\n",
      "\u001b[1;32mc:\\Users\\Adam Brewer\\Desktop\\Daily_Coding_Problems\\Problem_33.ipynb Cell 5\u001b[0m in \u001b[0;36mqueen_arrangements\u001b[1;34m(N)\u001b[0m\n\u001b[0;32m     <a href='vscode-notebook-cell:/c%3A/Users/Adam%20Brewer/Desktop/Daily_Coding_Problems/Problem_33.ipynb#W4sZmlsZQ%3D%3D?line=74'>75</a>\u001b[0m board_combonations_list \u001b[39m=\u001b[39m board_combonations(N, test_board)\n\u001b[0;32m     <a href='vscode-notebook-cell:/c%3A/Users/Adam%20Brewer/Desktop/Daily_Coding_Problems/Problem_33.ipynb#W4sZmlsZQ%3D%3D?line=76'>77</a>\u001b[0m \u001b[39m# check board combonations\u001b[39;00m\n\u001b[1;32m---> <a href='vscode-notebook-cell:/c%3A/Users/Adam%20Brewer/Desktop/Daily_Coding_Problems/Problem_33.ipynb#W4sZmlsZQ%3D%3D?line=77'>78</a>\u001b[0m \u001b[39mfor\u001b[39;00m b \u001b[39min\u001b[39;00m board_combonations_list:\n\u001b[0;32m     <a href='vscode-notebook-cell:/c%3A/Users/Adam%20Brewer/Desktop/Daily_Coding_Problems/Problem_33.ipynb#W4sZmlsZQ%3D%3D?line=78'>79</a>\u001b[0m     check \u001b[39m=\u001b[39m board_check(N, b)\n\u001b[0;32m     <a href='vscode-notebook-cell:/c%3A/Users/Adam%20Brewer/Desktop/Daily_Coding_Problems/Problem_33.ipynb#W4sZmlsZQ%3D%3D?line=79'>80</a>\u001b[0m     \u001b[39mif\u001b[39;00m(check):\n",
      "\u001b[1;31mTypeError\u001b[0m: 'NoneType' object is not iterable"
     ]
    }
   ],
   "source": [
    "# solution testing test cases\n",
    "N = 2\n",
    "solutions = queen_arrangements(N)\n",
    "print(solutions)"
   ]
  },
  {
   "attachments": {},
   "cell_type": "markdown",
   "metadata": {},
   "source": [
    "---\n",
    "## Solution Explained"
   ]
  },
  {
   "attachments": {},
   "cell_type": "markdown",
   "metadata": {},
   "source": [
    "### function solution\n",
    "function solution explained"
   ]
  }
 ],
 "metadata": {
  "kernelspec": {
   "display_name": "Python 3",
   "language": "python",
   "name": "python3"
  },
  "language_info": {
   "codemirror_mode": {
    "name": "ipython",
    "version": 3
   },
   "file_extension": ".py",
   "mimetype": "text/x-python",
   "name": "python",
   "nbconvert_exporter": "python",
   "pygments_lexer": "ipython3",
   "version": "3.9.12"
  },
  "orig_nbformat": 4,
  "vscode": {
   "interpreter": {
    "hash": "1616faeca1eb2b6217e80a7d062cec32587d2e1ba3999185fe005a5f436d1f1f"
   }
  }
 },
 "nbformat": 4,
 "nbformat_minor": 2
}
