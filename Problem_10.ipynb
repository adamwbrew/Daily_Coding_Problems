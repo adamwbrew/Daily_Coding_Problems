{
 "cells": [
  {
   "attachments": {},
   "cell_type": "markdown",
   "metadata": {},
   "source": [
    "# Prblem 10\n",
    "There's a staircase with N steps, and you can climb 1 or 2 steps at a time. Given N, write a function that returns the number of unique ways you can climb the staircase. The order of the steps matters.\n",
    "\n",
    "For example, if N is 4, then there are 5 unique ways:\n",
    "\n",
    "- 1, 1, 1, 1\n",
    "- 2, 1, 1\n",
    "- 1, 2, 1\n",
    "- 1, 1, 2\n",
    "- 2, 2\n",
    "\n",
    "What if, instead of being able to climb 1 or 2 steps at a time, you could climb any number from a set of positive integers X? For example, if X = {1, 3, 5}, you could climb 1, 3, or 5 steps at a time. Generalize your function to take in X."
   ]
  },
  {
   "attachments": {},
   "cell_type": "markdown",
   "metadata": {},
   "source": [
    "---\n",
    "## Test Cases"
   ]
  },
  {
   "cell_type": "code",
   "execution_count": 38,
   "metadata": {},
   "outputs": [],
   "source": [
    "# test cases\n",
    "\n",
    "Steps_1 = 4\n",
    "Climb_list_1 = [1, 2]\n",
    "\n",
    "Steps_2 = 5\n",
    "Climb_list_2 = [1, 2, 3]\n",
    "\n",
    "Steps_3 = 12\n",
    "Climb_list_3 = [1, 3, 4, 5, 7, 9]\n",
    "\n",
    "# edge test\n",
    "Steps_4 = 11\n",
    "Climb_list_4 = [3, 6, 7]"
   ]
  },
  {
   "attachments": {},
   "cell_type": "markdown",
   "metadata": {},
   "source": [
    "---\n",
    "## Solution"
   ]
  },
  {
   "cell_type": "code",
   "execution_count": 39,
   "metadata": {},
   "outputs": [],
   "source": [
    "# solution code\n",
    "import pandas as pd\n",
    "\n",
    "# based on itertools.product() function but stored in pandas dataframe to improved memory storage\n",
    "def product_df(*args, repeat=1):\n",
    "    # product('ABCD', 'xy') --> Ax Ay Bx By Cx Cy Dx Dy\n",
    "    # product(range(2), repeat=3) --> 000 001 010 011 100 101 110 111\n",
    "    cols = [str(i) for i in range(repeat)]\n",
    "    df = pd.DataFrame(columns = cols)\n",
    "    pools = [tuple(pool) for pool in args] * repeat\n",
    "    result = ([], )\n",
    "    for pool in pools:\n",
    "        result = (x+[y] for x in result for y in pool)\n",
    "    for prob in result:\n",
    "        if(sum(list(prob)) == repeat):\n",
    "            df.loc[len(df.index)] = list(prob)\n",
    "    return df.values.tolist()\n",
    "\n",
    "\n",
    "def staircase_climber(N_Steps, Climb_list):\n",
    "    unique_combonations = 0\n",
    "    combonation_storage = set()\n",
    "    Climb_list_reduced = list(set([step for step in Climb_list if step <= N_Steps]))\n",
    "    required_steps = [num for num in range(1, N_Steps+1)]\n",
    "\n",
    "    # checks if staircase is possible to climb with Climb_list given\n",
    "    if(set(Climb_list_reduced) <= set(required_steps)):\n",
    "        Climb_list_reduced += [0]\n",
    "\n",
    "        # find all possible combonations of Climb_list_reduced\n",
    "        combos = product_df(Climb_list_reduced, repeat = N_Steps)\n",
    "        for combo in combos:\n",
    "\n",
    "            # remove zeros from combonations\n",
    "            combo = [number for number in combo if number != 0]\n",
    "            combonation_storage.add(tuple(combo))\n",
    "            \n",
    "        combonation_storage = list(map(list, combonation_storage))\n",
    "        combonation_storage.sort(key=len)\n",
    "        unique_combonations = len(combonation_storage)\n",
    "    else:\n",
    "        unique_combonations = 0\n",
    "    return N_Steps, Climb_list, unique_combonations, combonation_storage"
   ]
  },
  {
   "cell_type": "code",
   "execution_count": 40,
   "metadata": {},
   "outputs": [],
   "source": [
    "# printing function to make results more legable for user\n",
    "def pretty_print(result_tuple):\n",
    "    steps_str = f\" {result_tuple[1][0]}\" if len(result_tuple[1]) == 1 else \", \".join([f\" {step}\" for step in result_tuple[1][:-1]]) + f\" or {result_tuple[1][-1]}\"\n",
    "    combo_str = \"\\n\".join([f\"{i+1}: {result_tuple[3][i]}\" for i in range(min(30, len(result_tuple[3])))])\n",
    "    print(\"-\"*40)\n",
    "    print(f\"There are {result_tuple[0]} steps on a staircase.\")\n",
    "    print(f\"The climber can only take{steps_str} number of steps at a time.\\n\")\n",
    "    print(f\"There are {result_tuple[2]} unique step combinations.\")\n",
    "    if combo_str:\n",
    "        print(f\"The first {len(result_tuple[3]) if len(result_tuple[3]) < 30 else 30} step combinations are:\\n{combo_str}\")\n",
    "    print(\"-\"*40)\n"
   ]
  },
  {
   "attachments": {},
   "cell_type": "markdown",
   "metadata": {},
   "source": [
    "---\n",
    "## Test Solution"
   ]
  },
  {
   "cell_type": "code",
   "execution_count": 41,
   "metadata": {},
   "outputs": [
    {
     "name": "stdout",
     "output_type": "stream",
     "text": [
      "----------------------------------------\n",
      "There are 4 steps on a staircase.\n",
      "The climber can only take 1 or 2 number of steps at a time.\n",
      "\n",
      "There are 5 unique step combinations.\n",
      "The first 5 step combinations are:\n",
      "1: [2, 2]\n",
      "2: [1, 2, 1]\n",
      "3: [2, 1, 1]\n",
      "4: [1, 1, 2]\n",
      "5: [1, 1, 1, 1]\n",
      "----------------------------------------\n"
     ]
    }
   ],
   "source": [
    "Steps_1 = 4\n",
    "Climb_list_1 = [1, 2]\n",
    "\n",
    "pretty_print(staircase_climber(Steps_1, Climb_list_1))"
   ]
  },
  {
   "cell_type": "code",
   "execution_count": 42,
   "metadata": {},
   "outputs": [
    {
     "name": "stdout",
     "output_type": "stream",
     "text": [
      "----------------------------------------\n",
      "There are 5 steps on a staircase.\n",
      "The climber can only take 1,  2 or 3 number of steps at a time.\n",
      "\n",
      "There are 13 unique step combinations.\n",
      "The first 13 step combinations are:\n",
      "1: [3, 2]\n",
      "2: [2, 3]\n",
      "3: [1, 1, 3]\n",
      "4: [1, 3, 1]\n",
      "5: [1, 2, 2]\n",
      "6: [2, 1, 2]\n",
      "7: [2, 2, 1]\n",
      "8: [3, 1, 1]\n",
      "9: [1, 2, 1, 1]\n",
      "10: [1, 1, 1, 2]\n",
      "11: [2, 1, 1, 1]\n",
      "12: [1, 1, 2, 1]\n",
      "13: [1, 1, 1, 1, 1]\n",
      "----------------------------------------\n"
     ]
    }
   ],
   "source": [
    "Steps_2 = 5\n",
    "Climb_list_2 = [1, 2, 3]\n",
    "\n",
    "pretty_print(staircase_climber(Steps_2, Climb_list_2))"
   ]
  },
  {
   "cell_type": "code",
   "execution_count": 43,
   "metadata": {},
   "outputs": [
    {
     "name": "stdout",
     "output_type": "stream",
     "text": [
      "----------------------------------------\n",
      "There are 12 steps on a staircase.\n",
      "The climber can only take 3,  4,  5,  7 or 9 number of steps at a time.\n",
      "\n",
      "There are 12 unique step combinations.\n",
      "The first 12 step combinations are:\n",
      "1: [7, 5]\n",
      "2: [9, 3]\n",
      "3: [5, 7]\n",
      "4: [3, 9]\n",
      "5: [4, 3, 5]\n",
      "6: [4, 4, 4]\n",
      "7: [4, 5, 3]\n",
      "8: [3, 4, 5]\n",
      "9: [5, 4, 3]\n",
      "10: [5, 3, 4]\n",
      "11: [3, 5, 4]\n",
      "12: [3, 3, 3, 3]\n",
      "----------------------------------------\n"
     ]
    }
   ],
   "source": [
    "Steps_3 = 12\n",
    "Climb_list_3 = [3, 4, 5, 7, 9]\n",
    "\n",
    "pretty_print(staircase_climber(Steps_3, Climb_list_3))"
   ]
  },
  {
   "cell_type": "code",
   "execution_count": 44,
   "metadata": {},
   "outputs": [
    {
     "name": "stdout",
     "output_type": "stream",
     "text": [
      "----------------------------------------\n",
      "There are 11 steps on a staircase.\n",
      "The climber can only take 3,  6 or 7 number of steps at a time.\n",
      "\n",
      "There are 0 unique step combinations.\n",
      "----------------------------------------\n"
     ]
    }
   ],
   "source": [
    "Steps_4 = 11\n",
    "Climb_list_4 = [3, 6, 7]\n",
    "\n",
    "pretty_print(staircase_climber(Steps_4, Climb_list_4))"
   ]
  },
  {
   "attachments": {},
   "cell_type": "markdown",
   "metadata": {},
   "source": [
    "---\n",
    "## Solution Explained"
   ]
  },
  {
   "attachments": {},
   "cell_type": "markdown",
   "metadata": {},
   "source": [
    "### staircase_climber(N_Steps, Climb_list) solution\n",
    "The code is an implementation of a solution to the problem of finding the unique step combinations to climb a staircase with a given number of steps, `N_Steps`, and a list of possible step sizes, `Climb_list`. The solution uses the pandas library for improved memory storage and `itertools.product()` function to find all possible combinations.\n",
    "\n",
    "The `product_df` function takes any number of input lists, `*args`, and the number of times to repeat each combination, `repeat`, as arguments and returns a list of all possible combinations of elements from the input lists. The function creates a pandas DataFrame with columns equal to the number of repetitions specified by `repeat`. Then, it calculates all possible combinations of elements from the input lists and adds each combination as a row to the DataFrame. Finally, it returns the values of the DataFrame as a list of lists.\n",
    "\n",
    "The `staircase_climber` function takes two arguments: `N_Steps`, the number of steps on the staircase, and `Climb_list`, a list of possible step sizes. The function first reduces the `Climb_list` to only include step sizes that are less than or equal to `N_Steps`. It then checks if it is possible to climb the staircase using the reduced `Climb_list`. If it is possible, the function finds all possible combinations of steps using the `product_df` function and removes any combination that contains a zero. The remaining combinations are stored in a set to eliminate duplicates, and the number of unique combinations is returned.\n",
    "\n",
    "The `pretty_print` function takes a result tuple from the `staircase_climber` function and formats the results for better readability. It prints the number of steps on the staircase, the list of possible step sizes, the number of unique combinations, and up to the first 30 combinations. The output is separated by dashes to make it easier to distinguish between different sets of results."
   ]
  }
 ],
 "metadata": {
  "kernelspec": {
   "display_name": "base",
   "language": "python",
   "name": "python3"
  },
  "language_info": {
   "codemirror_mode": {
    "name": "ipython",
    "version": 3
   },
   "file_extension": ".py",
   "mimetype": "text/x-python",
   "name": "python",
   "nbconvert_exporter": "python",
   "pygments_lexer": "ipython3",
   "version": "3.9.12"
  },
  "orig_nbformat": 4,
  "vscode": {
   "interpreter": {
    "hash": "909ca5f560bbebec5e281e7237658d79e6328c8c97dd9d57b9f7776842486ec7"
   }
  }
 },
 "nbformat": 4,
 "nbformat_minor": 2
}
