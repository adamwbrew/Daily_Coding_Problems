{
 "cells": [
  {
   "attachments": {},
   "cell_type": "markdown",
   "metadata": {},
   "source": [
    "# Problem 1\n",
    "\n",
    "Given a list of numbers and a number *k*, return whether any two numbers from the list add up to k.\n",
    "\n",
    "For example, given *[10, 15, 3, 7]* and *k* of *17*, return *True* since *10 + 7* is *17*.\n",
    "\n",
    "Bonus: Can you do this in one pass?"
   ]
  },
  {
   "attachments": {},
   "cell_type": "markdown",
   "metadata": {},
   "source": [
    "---\n",
    "## Test Cases"
   ]
  },
  {
   "cell_type": "code",
   "execution_count": 41,
   "metadata": {},
   "outputs": [],
   "source": [
    "# Test 1\n",
    "test_1 = [1, 2, 3, 4]\n",
    "k_1 = 3\n",
    "\n",
    "# Test 2\n",
    "test_2 = [1, 3, 4]\n",
    "k_2 = 2\n",
    "\n",
    "# Test 3\n",
    "test_3 = [1, 3, 4, 20, 47, 100, 157, 80, 30, 16, 17, 32, -1]\n",
    "k_3 = 16"
   ]
  },
  {
   "attachments": {},
   "cell_type": "markdown",
   "metadata": {},
   "source": [
    "---\n",
    "## Solution\n",
    "This solution is under the assumption that no number in the list on numbers can be used more than once. For example *[1, 2]* could not be used to find *k = 2* since *1* would have to be used twice."
   ]
  },
  {
   "cell_type": "code",
   "execution_count": 73,
   "metadata": {},
   "outputs": [],
   "source": [
    "# O(n^2)\n",
    "def Problem_1(numbers_list, k):\n",
    "    result = False\n",
    "    for number in range(len(numbers_list)):\n",
    "        for number_2 in range(len(numbers_list[:number])):\n",
    "            if((numbers_list[number] + numbers_list[number_2]) == k):\n",
    "                result = True\n",
    "    return result\n",
    "\n",
    "\n",
    "# O(n)\n",
    "def Problem_1_Refactored(number_list, k):\n",
    "    result = False\n",
    "    for number in range(len(number_list)):\n",
    "        if(((k - number_list[number]) in number_list[number+1:])):\n",
    "            result = True\n",
    "            break\n",
    "    return result"
   ]
  },
  {
   "cell_type": "code",
   "execution_count": 74,
   "metadata": {},
   "outputs": [
    {
     "name": "stdout",
     "output_type": "stream",
     "text": [
      "Original Solution:\n",
      "True\n",
      "False\n",
      "True\n",
      "\n",
      "Refactored:\n",
      "True\n",
      "False\n",
      "True\n"
     ]
    }
   ],
   "source": [
    "print(\"Original Solution:\")\n",
    "print(Problem_1(test_1, k_1))\n",
    "print(Problem_1(test_2, k_2))\n",
    "print(Problem_1(test_3, k_3))\n",
    "\n",
    "print(\"\\nRefactored:\")\n",
    "print(Problem_1_Refactored(test_1, k_1))\n",
    "print(Problem_1_Refactored(test_2, k_2))\n",
    "print(Problem_1_Refactored(test_3, k_3))"
   ]
  },
  {
   "attachments": {},
   "cell_type": "markdown",
   "metadata": {},
   "source": [
    "---\n",
    "## Solutions Explained\n",
    "\n",
    "### Problem_1(number_list, k) solution\n",
    "This solution uses two for loops. The first for loop goes through the list of numbers one-by-one, the second for loop goes through the list of numbers sliced by the first loops index to isolate only needed list elements. This second for loop also helps limit the resulting if statement so only unique combanations of list elements are tested to see if they add together to equal k. When this combanation is found the result becomes true, if no combanation is found, the result is false. This solution takes O(n^2) time as there are two for loops required.\n",
    "\n",
    "### Problem_1_Refactored(number_list, k) solution\n",
    "This refactored solution uses one for loop which is the same as the first for loop found in the original solution. This is followed by an if statement the utilizes the condition to find *k* by taking each element of the list and subtracting it from *k*, then looks to see if that newlt found number is in the list exculding combanations of numbers that have already been tested. This results in a solution that takes O(n) time. "
   ]
  }
 ],
 "metadata": {
  "kernelspec": {
   "display_name": "Python 3",
   "language": "python",
   "name": "python3"
  },
  "language_info": {
   "codemirror_mode": {
    "name": "ipython",
    "version": 3
   },
   "file_extension": ".py",
   "mimetype": "text/x-python",
   "name": "python",
   "nbconvert_exporter": "python",
   "pygments_lexer": "ipython3",
   "version": "3.9.12"
  },
  "orig_nbformat": 4,
  "vscode": {
   "interpreter": {
    "hash": "1616faeca1eb2b6217e80a7d062cec32587d2e1ba3999185fe005a5f436d1f1f"
   }
  }
 },
 "nbformat": 4,
 "nbformat_minor": 2
}
