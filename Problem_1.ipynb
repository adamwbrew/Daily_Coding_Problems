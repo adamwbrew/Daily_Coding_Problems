{
 "cells": [
  {
   "attachments": {},
   "cell_type": "markdown",
   "metadata": {},
   "source": [
    "# Problem 1\n",
    "\n",
    "Given a list of numbers and a number *k*, return whether any two numbers from the list add up to k.\n",
    "\n",
    "For example, given *[10, 15, 3, 7]* and *k* of *17*, return *True* since *10 + 7* is *17*.\n",
    "\n",
    "Bonus: Can you do this in one pass?"
   ]
  },
  {
   "attachments": {},
   "cell_type": "markdown",
   "metadata": {},
   "source": [
    "---\n",
    "## Test Cases"
   ]
  },
  {
   "cell_type": "code",
   "execution_count": 41,
   "metadata": {},
   "outputs": [],
   "source": [
    "# Test 1\n",
    "test_1 = [1, 2, 3, 4]\n",
    "k_1 = 3\n",
    "\n",
    "# Test 2\n",
    "test_2 = [1, 3, 4]\n",
    "k_2 = 2\n",
    "\n",
    "# Test 3\n",
    "test_3 = [1, 3, 4, 20, 47, 100, 157, 80, 30, 16, 17, 32, -1]\n",
    "k_3 = 16"
   ]
  },
  {
   "attachments": {},
   "cell_type": "markdown",
   "metadata": {},
   "source": [
    "---\n",
    "## Solution"
   ]
  },
  {
   "cell_type": "code",
   "execution_count": 42,
   "metadata": {},
   "outputs": [],
   "source": [
    "def Problem_1(numbers_list, k):\n",
    "    result = False\n",
    "    for number in range(len(numbers_list)):\n",
    "        for number_2 in range(len(numbers_list[:number])):\n",
    "            #print(numbers_list[number], numbers_list[number_2])\n",
    "            if((numbers_list[number] + numbers_list[number_2]) == k):\n",
    "                result = True\n",
    "    return result"
   ]
  },
  {
   "cell_type": "code",
   "execution_count": 43,
   "metadata": {},
   "outputs": [
    {
     "name": "stdout",
     "output_type": "stream",
     "text": [
      "True\n",
      "False\n",
      "True\n"
     ]
    }
   ],
   "source": [
    "print(Problem_1(test_1, k_1))\n",
    "print(Problem_1(test_2, k_2))\n",
    "print(Problem_1(test_3, k_3))"
   ]
  }
 ],
 "metadata": {
  "kernelspec": {
   "display_name": "Python 3",
   "language": "python",
   "name": "python3"
  },
  "language_info": {
   "codemirror_mode": {
    "name": "ipython",
    "version": 3
   },
   "file_extension": ".py",
   "mimetype": "text/x-python",
   "name": "python",
   "nbconvert_exporter": "python",
   "pygments_lexer": "ipython3",
   "version": "3.9.12"
  },
  "orig_nbformat": 4,
  "vscode": {
   "interpreter": {
    "hash": "1616faeca1eb2b6217e80a7d062cec32587d2e1ba3999185fe005a5f436d1f1f"
   }
  }
 },
 "nbformat": 4,
 "nbformat_minor": 2
}
