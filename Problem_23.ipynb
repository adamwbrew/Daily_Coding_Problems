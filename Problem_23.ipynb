{
 "cells": [
  {
   "attachments": {},
   "cell_type": "markdown",
   "metadata": {},
   "source": [
    "# Problem 23\n",
    "Given a string of round, curly, and square open and closing brackets, return whether the brackets are balanced (well-formed).\n",
    "\n",
    "For example, given the string `\"([])[]({})\"`, you should return true.\n",
    "\n",
    "Given the string `\"([)]\"` or `\"((()\"`, you should return false."
   ]
  },
  {
   "attachments": {},
   "cell_type": "markdown",
   "metadata": {},
   "source": [
    "---\n",
    "## Solution"
   ]
  },
  {
   "cell_type": "code",
   "execution_count": 48,
   "metadata": {},
   "outputs": [],
   "source": [
    "# solution code\n",
    "\n",
    "def Balanced_Brackets(string):\n",
    "    string = string.strip()\n",
    "\n",
    "    # checks for characters that aren't allowed in input\n",
    "    if(string.strip() == \"\"): return False\n",
    "    brackets = [\"[\",\"{\",\"(\", \"]\",\"}\",\")\"]\n",
    "    for s in string:\n",
    "        if(s not in brackets): return False\n",
    "\n",
    "    # check for non-closed brackets\n",
    "    brackets_count = [0,0,0,0,0,0]\n",
    "    for s in string:\n",
    "        for b in range(len(brackets_count)):\n",
    "            if(s == brackets[b]):\n",
    "                brackets_count[b] += 1\n",
    "    for i in range(3):\n",
    "        if((brackets_count[i] - brackets_count[i+3]) != 0):\n",
    "            return False\n",
    "    \n",
    "    # check open to closed order with proper brackets\n",
    "    brackets_index = [[\"(\", \")\"], [\"[\", \"]\"], [\"{\", \"}\"]]\n",
    "    string_collector = \"\"\n",
    "    for s in string:\n",
    "        if(string_collector == \"\"):\n",
    "            if(s in \"{[(\"):\n",
    "                string_collector += s\n",
    "            else:\n",
    "                return False\n",
    "        else:\n",
    "            if(s in \"{[(\"):\n",
    "                string_collector += s\n",
    "            else:\n",
    "                if(s == \"}\"):\n",
    "                    if(string_collector[-1] == \"{\"):\n",
    "                        string_collector = string_collector[:len(string_collector)-1]\n",
    "                    else: return False\n",
    "                elif(s == \"]\"):\n",
    "                    if(string_collector[-1] == \"[\"):\n",
    "                        string_collector = string_collector[:len(string_collector)-1]\n",
    "                    else: return False\n",
    "                elif(s == \")\"):\n",
    "                    if(string_collector[-1] == \"(\"):\n",
    "                        string_collector = string_collector[:len(string_collector)-1]\n",
    "                    else: return False\n",
    "    if(string_collector == \"\"):\n",
    "        return True\n",
    "    return False"
   ]
  },
  {
   "attachments": {},
   "cell_type": "markdown",
   "metadata": {},
   "source": [
    "---\n",
    "## Test Cases"
   ]
  },
  {
   "cell_type": "code",
   "execution_count": 54,
   "metadata": {},
   "outputs": [],
   "source": [
    "# solution testing test cases\n",
    "\n",
    "# edge cases\n",
    "assert Balanced_Brackets(\"\") == False\n",
    "assert Balanced_Brackets(\"      \") == False\n",
    "assert Balanced_Brackets(\"3\") == False\n",
    "\n",
    "# base cases\n",
    "assert Balanced_Brackets(\"{\") == False\n",
    "assert Balanced_Brackets(\"[\") == False\n",
    "assert Balanced_Brackets(\"(\") == False\n",
    "assert Balanced_Brackets(\"}\") == False\n",
    "assert Balanced_Brackets(\"]\") == False\n",
    "assert Balanced_Brackets(\")\") == False\n",
    "assert Balanced_Brackets(\"{}\") == True\n",
    "assert Balanced_Brackets(\"[]\") == True\n",
    "assert Balanced_Brackets(\"()\") == True\n",
    "\n",
    "# Lengthy strings\n",
    "assert Balanced_Brackets(\"{}{[((((((()))))))]}{}\") == True\n",
    "assert Balanced_Brackets(\"{[{}[{[{[({}]}{[{}]}]}]}\") == False\n",
    "assert Balanced_Brackets(\"{[{}]{[]}}\") == True\n",
    "assert Balanced_Brackets(\"(((]}}\") == False\n"
   ]
  },
  {
   "attachments": {},
   "cell_type": "markdown",
   "metadata": {},
   "source": [
    "---\n",
    "## Solution Explained"
   ]
  },
  {
   "attachments": {},
   "cell_type": "markdown",
   "metadata": {},
   "source": [
    "### Balanced_Brackets(string) solution\n",
    "The `Balanced_Brackets` function checks whether a string of brackets is balanced or not. It follows a three-step approach to determine whether the string of brackets is well-formed.\n",
    "\n",
    "1. Check whether the input `string` is valid: The input string is first stripped of whitespace characters at the beginning and end. Then, it is checked whether the input string is empty or contains any characters other than round, curly, or square brackets. If the input string fails this check, the function returns `False`.\n",
    "\n",
    "2. Check for non-closed brackets: The function counts the number of each type of opening and closing bracket in the input string. It then compares the counts of each opening and closing bracket to ensure that they match. If the counts do not match, the function returns `False`.\n",
    "\n",
    "3. Check for proper ordering of brackets: The function checks the ordering of opening and closing brackets to ensure that they are well-formed. It uses a stack-like data structure to keep track of the opening brackets seen so far. If an opening bracket is encountered, it is pushed onto the stack. If a closing bracket is encountered, the stack's top element is checked to ensure that it is the corresponding opening bracket for the closing bracket. If the brackets do not match or the stack is empty, the function returns `False`. If all checks pass, the function returns `True`.\n",
    "\n",
    "Overall, the Balanced_Brackets function uses a combination of character checks, counting, and stack-like data structures to determine whether a string of brackets is well-formed."
   ]
  }
 ],
 "metadata": {
  "kernelspec": {
   "display_name": "Python 3",
   "language": "python",
   "name": "python3"
  },
  "language_info": {
   "codemirror_mode": {
    "name": "ipython",
    "version": 3
   },
   "file_extension": ".py",
   "mimetype": "text/x-python",
   "name": "python",
   "nbconvert_exporter": "python",
   "pygments_lexer": "ipython3",
   "version": "3.9.12"
  },
  "orig_nbformat": 4,
  "vscode": {
   "interpreter": {
    "hash": "1616faeca1eb2b6217e80a7d062cec32587d2e1ba3999185fe005a5f436d1f1f"
   }
  }
 },
 "nbformat": 4,
 "nbformat_minor": 2
}
